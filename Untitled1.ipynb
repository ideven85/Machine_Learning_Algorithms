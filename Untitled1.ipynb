{
 "cells": [
  {
   "cell_type": "code",
   "execution_count": 1,
   "id": "ef9b9cc0-cf38-486b-99b9-bcc9b2adc40e",
   "metadata": {
    "execution": {
     "iopub.execute_input": "2025-01-25T18:11:05.832454Z",
     "iopub.status.busy": "2025-01-25T18:11:05.831947Z",
     "iopub.status.idle": "2025-01-25T18:11:05.837459Z",
     "shell.execute_reply": "2025-01-25T18:11:05.836573Z",
     "shell.execute_reply.started": "2025-01-25T18:11:05.832417Z"
    }
   },
   "outputs": [
    {
     "name": "stderr",
     "output_type": "stream",
     "text": [
      "UsageError: Cell magic `%%chat` not found.\n"
     ]
    }
   ],
   "source": [
    "%%chat -m gpt-4-0613 "
   ]
  },
  {
   "cell_type": "code",
   "execution_count": null,
   "id": "9b9e9e78-c8f9-4744-a708-ed22644f3485",
   "metadata": {},
   "outputs": [],
   "source": []
  }
 ],
 "metadata": {
  "kernelspec": {
   "display_name": "Python 3 (ipykernel)",
   "language": "python",
   "name": "python3"
  },
  "language_info": {
   "codemirror_mode": {
    "name": "ipython",
    "version": 3
   },
   "file_extension": ".py",
   "mimetype": "text/x-python",
   "name": "python",
   "nbconvert_exporter": "python",
   "pygments_lexer": "ipython3",
   "version": "3.12.8"
  }
 },
 "nbformat": 4,
 "nbformat_minor": 5
}
