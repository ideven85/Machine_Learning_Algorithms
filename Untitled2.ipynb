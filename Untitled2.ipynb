{
 "cells": [
  {
   "cell_type": "code",
   "execution_count": null,
   "id": "d2c5a336-55da-49d4-8a02-a011417fd74e",
   "metadata": {
    "execution": {
     "execution_failed": "2025-01-25T18:31:19.575Z"
    }
   },
   "outputs": [],
   "source": [
    "%load_ext chapyter"
   ]
  },
  {
   "cell_type": "code",
   "execution_count": 3,
   "id": "f63b4b0d-a895-4874-bfac-88608e09dc6e",
   "metadata": {
    "execution": {
     "iopub.execute_input": "2025-01-25T18:18:03.597210Z",
     "iopub.status.busy": "2025-01-25T18:18:03.596610Z",
     "iopub.status.idle": "2025-01-25T18:18:03.734003Z",
     "shell.execute_reply": "2025-01-25T18:18:03.732734Z",
     "shell.execute_reply.started": "2025-01-25T18:18:03.597171Z"
    }
   },
   "outputs": [],
   "source": [
    "!cd ~/.virtualenvs/Machine_Learning_Algorithms/lib/python3.12/site-packages/chapyter/"
   ]
  },
  {
   "cell_type": "code",
   "execution_count": 4,
   "id": "2ddeed96-38ed-4035-b115-27e67e17709b",
   "metadata": {
    "execution": {
     "iopub.execute_input": "2025-01-25T18:18:15.939588Z",
     "iopub.status.busy": "2025-01-25T18:18:15.939096Z",
     "iopub.status.idle": "2025-01-25T18:18:15.950409Z",
     "shell.execute_reply": "2025-01-25T18:18:15.949606Z",
     "shell.execute_reply.started": "2025-01-25T18:18:15.939559Z"
    }
   },
   "outputs": [
    {
     "data": {
      "text/plain": [
       "'/Users/deven/Developer/Machine_Learning_Algorithms'"
      ]
     },
     "execution_count": 4,
     "metadata": {},
     "output_type": "execute_result"
    }
   ],
   "source": [
    "import os\n",
    "os.getcwd()"
   ]
  },
  {
   "cell_type": "code",
   "execution_count": 5,
   "id": "db6452c2-7bae-4ca0-ada8-cdd6e8b576fb",
   "metadata": {
    "execution": {
     "iopub.execute_input": "2025-01-25T18:18:47.007867Z",
     "iopub.status.busy": "2025-01-25T18:18:47.007360Z",
     "iopub.status.idle": "2025-01-25T18:18:47.285667Z",
     "shell.execute_reply": "2025-01-25T18:18:47.284969Z",
     "shell.execute_reply.started": "2025-01-25T18:18:47.007839Z"
    }
   },
   "outputs": [],
   "source": [
    "!open ~/.virtualenvs/Machine_Learning_Algorithms/lib/python3.12/site-packages/chapyter/programs.py"
   ]
  },
  {
   "cell_type": "code",
   "execution_count": null,
   "id": "046ddaa8-995f-47df-aa77-10b48330080f",
   "metadata": {},
   "outputs": [],
   "source": [
    "!python3 -m pip uninstall guidance"
   ]
  },
  {
   "cell_type": "code",
   "execution_count": null,
   "id": "add2d8f4-c2cb-4776-ac73-c00e53441a69",
   "metadata": {},
   "outputs": [],
   "source": [
    "!python3 -m pip install guidance==0.0.64"
   ]
  },
  {
   "cell_type": "code",
   "execution_count": null,
   "id": "22e22d40-19a1-4969-8ce9-d7f85c6127af",
   "metadata": {},
   "outputs": [],
   "source": []
  }
 ],
 "metadata": {
  "kernelspec": {
   "display_name": "Python 3 (ipykernel)",
   "language": "python",
   "name": "python3"
  },
  "language_info": {
   "codemirror_mode": {
    "name": "ipython",
    "version": 3
   },
   "file_extension": ".py",
   "mimetype": "text/x-python",
   "name": "python",
   "nbconvert_exporter": "python",
   "pygments_lexer": "ipython3",
   "version": "3.12.8"
  }
 },
 "nbformat": 4,
 "nbformat_minor": 5
}
