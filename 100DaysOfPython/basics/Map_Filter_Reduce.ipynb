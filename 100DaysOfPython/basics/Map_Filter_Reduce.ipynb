{
 "cells": [
  {
   "cell_type": "code",
   "execution_count": 1,
   "id": "initial_id",
   "metadata": {
    "collapsed": true,
    "ExecuteTime": {
     "end_time": "2024-01-19T03:24:19.305925Z",
     "start_time": "2024-01-19T03:24:19.298682Z"
    }
   },
   "outputs": [],
   "source": [
    "import functools\n",
    "\n",
    "from ClockDeco import clock,clock_parametrised\n"
   ]
  },
  {
   "cell_type": "code",
   "outputs": [],
   "source": [
    "@functools.cache\n",
    "@clock\n",
    "def fib(n):\n",
    "    return n if n <= 1 else fib(n-1)+fib(n-2)\n",
    "\n",
    "    "
   ],
   "metadata": {
    "collapsed": false,
    "ExecuteTime": {
     "end_time": "2024-01-19T03:24:23.948357Z",
     "start_time": "2024-01-19T03:24:23.945429Z"
    }
   },
   "id": "921ba92ab221afb4",
   "execution_count": 2
  },
  {
   "cell_type": "code",
   "outputs": [
    {
     "name": "stdout",
     "output_type": "stream",
     "text": [
      "[0.03330001s] fib(1) -> 1\n",
      "[0.03750001s] fib(0) -> 0\n",
      "[6.42919999s] fib(2) -> 1\n",
      "[7.06249998s] fib(3) -> 2\n",
      "[7.55410001s] fib(4) -> 3\n",
      "[7.99169998s] fib(5) -> 5\n",
      "[8.44160004s] fib(6) -> 8\n",
      "[8.84169999s] fib(7) -> 13\n",
      "[9.27500000s] fib(8) -> 21\n",
      "[9.79590000s] fib(9) -> 34\n",
      "[10.34160000s] fib(10) -> 55\n",
      "55\n"
     ]
    }
   ],
   "source": [
    "print(fib(10))"
   ],
   "metadata": {
    "collapsed": false,
    "ExecuteTime": {
     "end_time": "2024-01-19T03:24:25.334107Z",
     "start_time": "2024-01-19T03:24:25.328863Z"
    }
   },
   "id": "3794ee5069b7d8de",
   "execution_count": 3
  },
  {
   "cell_type": "code",
   "outputs": [
    {
     "name": "stdout",
     "output_type": "stream",
     "text": [
      "[0.07079998s] fib(11) -> 89\n",
      "[3.74169999s] fib(12) -> 144\n",
      "[4.45840001s] fib(13) -> 233\n",
      "[4.94579999s] fib(14) -> 377\n",
      "[5.40410001s] fib(15) -> 610\n",
      "[5.85829998s] fib(16) -> 987\n",
      "[6.27089998s] fib(17) -> 1597\n",
      "[6.72500000s] fib(18) -> 2584\n",
      "[7.13750001s] fib(19) -> 4181\n",
      "[7.74589998s] fib(20) -> 6765\n",
      "6765\n"
     ]
    }
   ],
   "source": [
    "print(fib(20))"
   ],
   "metadata": {
    "collapsed": false,
    "ExecuteTime": {
     "end_time": "2024-01-19T03:25:07.127514Z",
     "start_time": "2024-01-19T03:25:07.122234Z"
    }
   },
   "id": "a13f2275cb5adadb",
   "execution_count": 4
  },
  {
   "cell_type": "code",
   "outputs": [
    {
     "name": "stdout",
     "output_type": "stream",
     "text": [
      "[0.08329998s] fib(21) -> 10946\n",
      "[3.42080002s] fib(22) -> 17711\n",
      "[4.14159999s] fib(23) -> 28657\n",
      "[4.60420001s] fib(24) -> 46368\n",
      "[5.16250002s] fib(25) -> 75025\n",
      "75025\n"
     ]
    }
   ],
   "source": [
    "print(fib(25))"
   ],
   "metadata": {
    "collapsed": false,
    "ExecuteTime": {
     "end_time": "2024-01-19T03:25:26.278034Z",
     "start_time": "2024-01-19T03:25:26.273359Z"
    }
   },
   "id": "62b4e8ff7e5e94e9",
   "execution_count": 5
  },
  {
   "cell_type": "code",
   "outputs": [
    {
     "data": {
      "text/plain": "10946"
     },
     "execution_count": 6,
     "metadata": {},
     "output_type": "execute_result"
    }
   ],
   "source": [
    "fib(21)"
   ],
   "metadata": {
    "collapsed": false,
    "ExecuteTime": {
     "end_time": "2024-01-19T03:27:29.588831Z",
     "start_time": "2024-01-19T03:27:29.585152Z"
    }
   },
   "id": "1d6d0902deeb0ef1",
   "execution_count": 6
  },
  {
   "cell_type": "code",
   "outputs": [],
   "source": [],
   "metadata": {
    "collapsed": false
   },
   "id": "9cc324731cbe3203"
  }
 ],
 "metadata": {
  "kernelspec": {
   "display_name": "Python 3",
   "language": "python",
   "name": "python3"
  },
  "language_info": {
   "codemirror_mode": {
    "name": "ipython",
    "version": 2
   },
   "file_extension": ".py",
   "mimetype": "text/x-python",
   "name": "python",
   "nbconvert_exporter": "python",
   "pygments_lexer": "ipython2",
   "version": "2.7.6"
  }
 },
 "nbformat": 4,
 "nbformat_minor": 5
}
