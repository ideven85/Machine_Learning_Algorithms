{
 "cells": [
  {
   "cell_type": "code",
   "execution_count": 1,
   "id": "initial_id",
   "metadata": {
    "collapsed": true,
    "ExecuteTime": {
     "end_time": "2024-02-01T12:07:09.382054Z",
     "start_time": "2024-02-01T12:07:09.222957Z"
    }
   },
   "outputs": [
    {
     "ename": "AttributeError",
     "evalue": "module 'zmq.eventloop' has no attribute 'ioloop'",
     "output_type": "error",
     "traceback": [
      "\u001B[0;31m---------------------------------------------------------------------------\u001B[0m",
      "\u001B[0;31mAttributeError\u001B[0m                            Traceback (most recent call last)",
      "Cell \u001B[0;32mIn[1], line 10\u001B[0m\n\u001B[1;32m      8\u001B[0m     \u001B[38;5;28;01mif\u001B[39;00m ipython \u001B[38;5;129;01mand\u001B[39;00m \u001B[38;5;28mhasattr\u001B[39m(ipython, \u001B[38;5;124m'\u001B[39m\u001B[38;5;124mkernel\u001B[39m\u001B[38;5;124m'\u001B[39m):\n\u001B[1;32m      9\u001B[0m         \u001B[38;5;28;01mreturn\u001B[39;00m zmq\u001B[38;5;241m.\u001B[39meventloop\u001B[38;5;241m.\u001B[39mioloop\u001B[38;5;241m.\u001B[39mIOLoop\u001B[38;5;241m.\u001B[39minstance()\n\u001B[0;32m---> 10\u001B[0m ioloop \u001B[38;5;241m=\u001B[39m \u001B[43mget_ioloop\u001B[49m\u001B[43m(\u001B[49m\u001B[43m)\u001B[49m\n\u001B[1;32m     11\u001B[0m thread_safe \u001B[38;5;241m=\u001B[39m \u001B[38;5;28;01mTrue\u001B[39;00m\n\u001B[1;32m     12\u001B[0m \u001B[38;5;28;01mdef\u001B[39;00m \u001B[38;5;21mwork\u001B[39m():\n",
      "Cell \u001B[0;32mIn[1], line 9\u001B[0m, in \u001B[0;36mget_ioloop\u001B[0;34m()\u001B[0m\n\u001B[1;32m      7\u001B[0m ipython \u001B[38;5;241m=\u001B[39m IPython\u001B[38;5;241m.\u001B[39mget_ipython()\n\u001B[1;32m      8\u001B[0m \u001B[38;5;28;01mif\u001B[39;00m ipython \u001B[38;5;129;01mand\u001B[39;00m \u001B[38;5;28mhasattr\u001B[39m(ipython, \u001B[38;5;124m'\u001B[39m\u001B[38;5;124mkernel\u001B[39m\u001B[38;5;124m'\u001B[39m):\n\u001B[0;32m----> 9\u001B[0m     \u001B[38;5;28;01mreturn\u001B[39;00m \u001B[43mzmq\u001B[49m\u001B[38;5;241;43m.\u001B[39;49m\u001B[43meventloop\u001B[49m\u001B[38;5;241;43m.\u001B[39;49m\u001B[43mioloop\u001B[49m\u001B[38;5;241m.\u001B[39mIOLoop\u001B[38;5;241m.\u001B[39minstance()\n",
      "\u001B[0;31mAttributeError\u001B[0m: module 'zmq.eventloop' has no attribute 'ioloop'"
     ]
    }
   ],
   "source": [
    "import threading\n",
    "from IPython.display import display\n",
    "import ipywidgets as widgets\n",
    "import time\n",
    "def get_ioloop():\n",
    "    import IPython, zmq\n",
    "    ipython = IPython.get_ipython()\n",
    "    if ipython and hasattr(ipython, 'kernel'):\n",
    "        return zmq.eventloop.ioloop.IOLoop.instance()\n",
    "ioloop = get_ioloop()\n",
    "thread_safe = True\n",
    "def work():\n",
    "    for i in range(10):\n",
    "        def update_progress(i=i):\n",
    "            print(\"calling from thread\", threading.currentThread())\n",
    "            progress.value = (i+1)/10.\n",
    "        print(i)\n",
    "        time.sleep(0.5)\n",
    "        if thread_safe:\n",
    "            get_ioloop().add_callback(update_progress)\n",
    "        else:\n",
    "            update_progress()\n",
    "print(\"we are in thread\", threading.currentThread()\n",
    "\n",
    "thread = threading.Thread(target=work)\n",
    "progress = widgets.FloatProgress(value=0.0, min=0.0, max=1.0, step=0.01)\n",
    "display(progress)\n",
    "thread.start()"
   ]
  }
 ],
 "metadata": {
  "kernelspec": {
   "display_name": "Python 3",
   "language": "python",
   "name": "python3"
  },
  "language_info": {
   "codemirror_mode": {
    "name": "ipython",
    "version": 2
   },
   "file_extension": ".py",
   "mimetype": "text/x-python",
   "name": "python",
   "nbconvert_exporter": "python",
   "pygments_lexer": "ipython2",
   "version": "2.7.6"
  }
 },
 "nbformat": 4,
 "nbformat_minor": 5
}
