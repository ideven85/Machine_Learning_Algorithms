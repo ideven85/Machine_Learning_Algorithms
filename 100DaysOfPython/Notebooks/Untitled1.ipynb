{
 "cells": [
  {
   "cell_type": "code",
   "execution_count": 1,
   "id": "ba4ae205",
   "metadata": {
    "ExecuteTime": {
     "end_time": "2024-01-16T03:01:38.786832Z",
     "start_time": "2024-01-16T03:01:38.782893Z"
    }
   },
   "outputs": [],
   "source": [
    "def factorial(n):\n",
    "    return 1 if n<2 else n*factorial(n-1)"
   ]
  },
  {
   "cell_type": "code",
   "execution_count": 2,
   "id": "2d3630f4",
   "metadata": {
    "ExecuteTime": {
     "end_time": "2024-01-16T03:01:57.327689Z",
     "start_time": "2024-01-16T03:01:55.581695Z"
    }
   },
   "outputs": [
    {
     "name": "stdout",
     "output_type": "stream",
     "text": [
      "21 µs ± 51.8 ns per loop (mean ± std. dev. of 7 runs, 10,000 loops each)\n"
     ]
    }
   ],
   "source": [
    "%timeit [factorial(i) for i in range(25)]"
   ]
  },
  {
   "cell_type": "code",
   "execution_count": 3,
   "id": "4550fe9f",
   "metadata": {
    "ExecuteTime": {
     "end_time": "2024-01-16T03:02:06.786160Z",
     "start_time": "2024-01-16T03:02:06.783121Z"
    }
   },
   "outputs": [],
   "source": [
    "import numpy as np"
   ]
  },
  {
   "cell_type": "code",
   "execution_count": 4,
   "id": "e863644f",
   "metadata": {
    "ExecuteTime": {
     "end_time": "2024-01-16T03:02:27.031915Z",
     "start_time": "2024-01-16T03:02:27.028360Z"
    }
   },
   "outputs": [],
   "source": [
    "a=np.arange(1,5)"
   ]
  },
  {
   "cell_type": "code",
   "execution_count": 5,
   "id": "a5147acb",
   "metadata": {
    "ExecuteTime": {
     "end_time": "2024-01-16T03:02:30.019844Z",
     "start_time": "2024-01-16T03:02:30.009313Z"
    }
   },
   "outputs": [
    {
     "data": {
      "text/plain": [
       "array([1, 2, 3, 4])"
      ]
     },
     "execution_count": 5,
     "metadata": {},
     "output_type": "execute_result"
    }
   ],
   "source": [
    "a"
   ]
  },
  {
   "cell_type": "code",
   "execution_count": 6,
   "id": "83e8c1ec",
   "metadata": {
    "ExecuteTime": {
     "end_time": "2024-01-16T03:02:50.489005Z",
     "start_time": "2024-01-16T03:02:50.484847Z"
    }
   },
   "outputs": [
    {
     "name": "stdout",
     "output_type": "stream",
     "text": [
      "1\n",
      "2\n",
      "6\n",
      "24\n"
     ]
    }
   ],
   "source": [
    "for e in a:\n",
    "    print(factorial(e))"
   ]
  },
  {
   "cell_type": "code",
   "execution_count": 12,
   "id": "2945ec62",
   "metadata": {
    "ExecuteTime": {
     "end_time": "2024-01-16T03:05:33.659558Z",
     "start_time": "2024-01-16T03:05:33.656164Z"
    }
   },
   "outputs": [],
   "source": [
    "a = np.arange(1,500)"
   ]
  },
  {
   "cell_type": "code",
   "execution_count": 10,
   "id": "89e9dd76",
   "metadata": {
    "ExecuteTime": {
     "end_time": "2024-01-16T03:04:54.691044Z",
     "start_time": "2024-01-16T03:04:52.553985Z"
    }
   },
   "outputs": [
    {
     "name": "stderr",
     "output_type": "stream",
     "text": [
      "/var/folders/zt/1scshgnj4jxfkz9kb1005c8r0000gn/T/ipykernel_81923/2654033466.py:2: RuntimeWarning: overflow encountered in scalar multiply\n",
      "  return 1 if n<2 else n*factorial(n-1)\n"
     ]
    },
    {
     "name": "stdout",
     "output_type": "stream",
     "text": [
      "258 µs ± 985 ns per loop (mean ± std. dev. of 7 runs, 1,000 loops each)\n"
     ]
    }
   ],
   "source": [
    "%timeit [factorial(e) for e in a]"
   ]
  },
  {
   "cell_type": "code",
   "execution_count": 13,
   "id": "82f29f04",
   "metadata": {
    "ExecuteTime": {
     "end_time": "2024-01-16T03:05:36.516633Z",
     "start_time": "2024-01-16T03:05:36.512086Z"
    }
   },
   "outputs": [
    {
     "name": "stdout",
     "output_type": "stream",
     "text": [
      "0\n"
     ]
    },
    {
     "name": "stderr",
     "output_type": "stream",
     "text": [
      "/var/folders/zt/1scshgnj4jxfkz9kb1005c8r0000gn/T/ipykernel_81923/2654033466.py:2: RuntimeWarning: overflow encountered in scalar multiply\n",
      "  return 1 if n<2 else n*factorial(n-1)\n"
     ]
    }
   ],
   "source": [
    "print(factorial(a[-1]))"
   ]
  },
  {
   "cell_type": "code",
   "execution_count": 15,
   "id": "1f366a7d",
   "metadata": {
    "ExecuteTime": {
     "end_time": "2024-01-16T03:07:39.009204Z",
     "start_time": "2024-01-16T03:07:38.962465Z"
    }
   },
   "outputs": [
    {
     "name": "stdout",
     "output_type": "stream",
     "text": [
      "[1, 2, 6, 24, 120, 720, 5040, 40320, 362880, 3628800, 39916800, 479001600, 6227020800, 87178291200, 1307674368000, 20922789888000, 355687428096000, 6402373705728000, 121645100408832000, 2432902008176640000, -4249290049419214848, -1250660718674968576, 8128291617894825984, -7835185981329244160, 7034535277573963776, -1569523520172457984, -5483646897237262336, -5968160532966932480, -7055958792655077376, -8764578968847253504, 4999213071378415616, -6045878379276664832, 3400198294675128320, 4926277576697053184, 6399018521010896896, 9003737871877668864, 1096907932701818880, 4789013295250014208, 2304077777655037952, -70609262346240000, -2894979756195840000, 7538058755741581312, -7904866829883932672, 2673996885588443136, -8797348664486920192, 1150331055211806720, -1274672626173739008, -5844053835210817536, 8789267254022766592, -3258495067890909184, -162551799050403840, -8452693550620999680, -5270900413883744256, -7927461244078915584, 6711489344688881664, 6908521828386340864, 6404118670120845312, 2504001392817995776, 162129586585337856, -8718968878589280256, 3098476543630901248, 7638104968020361216, 1585267068834414592, -9223372036854775808, -9223372036854775808, 0, 0, 0, 0, 0, 0, 0, 0, 0, 0, 0, 0, 0, 0, 0, 0, 0, 0, 0, 0, 0, 0, 0, 0, 0, 0, 0, 0, 0, 0, 0, 0, 0, 0, 0, 0, 0, 0, 0, 0, 0, 0, 0, 0, 0, 0, 0, 0, 0, 0, 0, 0, 0, 0, 0, 0, 0, 0, 0, 0, 0, 0, 0, 0, 0, 0, 0, 0, 0, 0, 0, 0, 0, 0, 0, 0, 0, 0, 0, 0, 0, 0, 0, 0, 0, 0, 0, 0, 0, 0, 0, 0, 0, 0, 0, 0, 0, 0, 0, 0, 0, 0, 0, 0, 0, 0, 0, 0, 0, 0, 0, 0, 0, 0, 0, 0, 0, 0, 0, 0, 0, 0, 0, 0, 0, 0, 0, 0, 0, 0, 0, 0, 0, 0, 0, 0, 0, 0, 0, 0, 0, 0, 0, 0, 0, 0, 0, 0, 0, 0, 0, 0, 0, 0, 0, 0, 0, 0, 0, 0, 0, 0, 0, 0, 0, 0, 0, 0, 0, 0, 0, 0, 0, 0, 0, 0, 0, 0, 0, 0, 0, 0, 0, 0, 0, 0, 0, 0, 0, 0, 0, 0, 0, 0, 0, 0, 0, 0, 0, 0, 0, 0, 0, 0, 0, 0, 0, 0, 0, 0, 0, 0, 0, 0, 0, 0, 0, 0, 0, 0, 0, 0, 0, 0, 0, 0, 0, 0, 0, 0, 0, 0, 0, 0, 0, 0, 0, 0, 0, 0, 0, 0, 0, 0, 0, 0, 0, 0, 0, 0, 0, 0, 0, 0, 0, 0, 0, 0, 0, 0, 0, 0, 0, 0, 0, 0, 0, 0, 0, 0, 0, 0, 0, 0, 0, 0, 0, 0, 0, 0, 0, 0, 0, 0, 0, 0, 0, 0, 0, 0, 0, 0, 0, 0, 0, 0, 0, 0, 0, 0, 0, 0, 0, 0, 0, 0, 0, 0, 0, 0, 0, 0, 0, 0, 0, 0, 0, 0, 0, 0, 0, 0, 0, 0, 0, 0, 0, 0, 0, 0, 0, 0, 0, 0, 0, 0, 0, 0, 0, 0, 0, 0, 0, 0, 0, 0, 0, 0, 0, 0, 0, 0, 0, 0, 0, 0, 0, 0, 0, 0, 0, 0, 0, 0, 0, 0, 0, 0, 0, 0, 0, 0, 0, 0, 0, 0, 0, 0, 0, 0, 0, 0, 0, 0, 0, 0, 0, 0, 0, 0, 0, 0, 0, 0, 0, 0, 0, 0, 0, 0, 0, 0, 0, 0, 0, 0, 0, 0, 0, 0, 0, 0, 0, 0, 0, 0, 0, 0, 0, 0, 0, 0, 0, 0, 0, 0, 0, 0, 0, 0, 0, 0, 0, 0]\n"
     ]
    },
    {
     "name": "stderr",
     "output_type": "stream",
     "text": [
      "/var/folders/zt/1scshgnj4jxfkz9kb1005c8r0000gn/T/ipykernel_81923/2654033466.py:2: RuntimeWarning: overflow encountered in scalar multiply\n",
      "  return 1 if n<2 else n*factorial(n-1)\n"
     ]
    }
   ],
   "source": [
    "print([factorial(e) for e in a])"
   ]
  },
  {
   "cell_type": "code",
   "execution_count": null,
   "id": "fea55f49",
   "metadata": {},
   "outputs": [],
   "source": []
  }
 ],
 "metadata": {
  "hide_input": false,
  "kernelspec": {
   "display_name": "Python 3 (ipykernel)",
   "language": "python",
   "name": "python3"
  },
  "language_info": {
   "codemirror_mode": {
    "name": "ipython",
    "version": 3
   },
   "file_extension": ".py",
   "mimetype": "text/x-python",
   "name": "python",
   "nbconvert_exporter": "python",
   "pygments_lexer": "ipython3",
   "version": "3.9.6"
  },
  "toc": {
   "base_numbering": 1,
   "nav_menu": {},
   "number_sections": true,
   "sideBar": true,
   "skip_h1_title": false,
   "title_cell": "Table of Contents",
   "title_sidebar": "Contents",
   "toc_cell": false,
   "toc_position": {},
   "toc_section_display": true,
   "toc_window_display": false
  },
  "varInspector": {
   "cols": {
    "lenName": 16,
    "lenType": 16,
    "lenVar": 40
   },
   "kernels_config": {
    "python": {
     "delete_cmd_postfix": "",
     "delete_cmd_prefix": "del ",
     "library": "var_list.py",
     "varRefreshCmd": "print(var_dic_list())"
    },
    "r": {
     "delete_cmd_postfix": ") ",
     "delete_cmd_prefix": "rm(",
     "library": "var_list.r",
     "varRefreshCmd": "cat(var_dic_list()) "
    }
   },
   "types_to_exclude": [
    "module",
    "function",
    "builtin_function_or_method",
    "instance",
    "_Feature"
   ],
   "window_display": false
  }
 },
 "nbformat": 4,
 "nbformat_minor": 5
}
