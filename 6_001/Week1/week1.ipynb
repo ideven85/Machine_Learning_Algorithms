{
 "cells": [
  {
   "cell_type": "code",
   "execution_count": null,
   "id": "initial_id",
   "metadata": {
    "collapsed": true
   },
   "outputs": [],
   "source": [
    ""
   ]
  },
  {
   "metadata": {
    "ExecuteTime": {
     "end_time": "2024-04-10T10:30:17.451185Z",
     "start_time": "2024-04-10T10:30:17.448289Z"
    }
   },
   "cell_type": "code",
   "source": [
    "a = [301, 302, 303]\n",
    "b = [a, a, a]\n",
    "\n",
    "\n",
    "b[0][0] = 342\n",
    "print(a)\n",
    "print(b)\n",
    "\n",
    "print(id(a))\n",
    "print(id(b))"
   ],
   "id": "50509fb67e541aa6",
   "outputs": [
    {
     "name": "stdout",
     "output_type": "stream",
     "text": [
      "[342, 302, 303]\n",
      "[[342, 302, 303], [342, 302, 303], [342, 302, 303]]\n",
      "4356607872\n",
      "4356607552\n"
     ]
    }
   ],
   "execution_count": 1
  },
  {
   "metadata": {
    "ExecuteTime": {
     "end_time": "2024-04-10T10:31:36.238160Z",
     "start_time": "2024-04-10T10:31:36.234957Z"
    }
   },
   "cell_type": "code",
   "source": "assert id(b[0]) == id(a)",
   "id": "7d53756a18a8af4",
   "outputs": [],
   "execution_count": 4
  },
  {
   "metadata": {
    "ExecuteTime": {
     "end_time": "2024-04-10T10:30:36.449785Z",
     "start_time": "2024-04-10T10:30:36.446821Z"
    }
   },
   "cell_type": "code",
   "source": "id(b[1])",
   "id": "7a8b6a89185ceea5",
   "outputs": [
    {
     "data": {
      "text/plain": [
       "4356607872"
      ]
     },
     "execution_count": 3,
     "metadata": {},
     "output_type": "execute_result"
    }
   ],
   "execution_count": 3
  },
  {
   "metadata": {
    "ExecuteTime": {
     "end_time": "2024-04-10T10:32:09.478667Z",
     "start_time": "2024-04-10T10:32:09.476441Z"
    }
   },
   "cell_type": "code",
   "source": "print(*b)",
   "id": "cff50cf648004fd9",
   "outputs": [
    {
     "name": "stdout",
     "output_type": "stream",
     "text": [
      "[342, 302, 303] [342, 302, 303] [342, 302, 303]\n"
     ]
    }
   ],
   "execution_count": 6
  },
  {
   "metadata": {
    "ExecuteTime": {
     "end_time": "2024-04-10T10:32:50.556061Z",
     "start_time": "2024-04-10T10:32:50.553700Z"
    }
   },
   "cell_type": "code",
   "source": "x = [9, 8, 7, 6, 5, 4, 3, 2]",
   "id": "49d10172ab0e5b64",
   "outputs": [],
   "execution_count": 8
  },
  {
   "metadata": {
    "ExecuteTime": {
     "end_time": "2024-04-10T10:32:56.265796Z",
     "start_time": "2024-04-10T10:32:56.262742Z"
    }
   },
   "cell_type": "code",
   "source": "x[1:4]",
   "id": "183e7c4f9486e2f8",
   "outputs": [
    {
     "data": {
      "text/plain": [
       "[8, 7, 6]"
      ]
     },
     "execution_count": 9,
     "metadata": {},
     "output_type": "execute_result"
    }
   ],
   "execution_count": 9
  },
  {
   "metadata": {
    "ExecuteTime": {
     "end_time": "2024-04-10T10:33:06.195785Z",
     "start_time": "2024-04-10T10:33:06.192911Z"
    }
   },
   "cell_type": "code",
   "source": "x[1::]",
   "id": "23ab3abdecdcb59f",
   "outputs": [
    {
     "data": {
      "text/plain": [
       "[8, 7, 6, 5, 4, 3, 2]"
      ]
     },
     "execution_count": 10,
     "metadata": {},
     "output_type": "execute_result"
    }
   ],
   "execution_count": 10
  },
  {
   "metadata": {
    "ExecuteTime": {
     "end_time": "2024-04-10T10:33:12.410904Z",
     "start_time": "2024-04-10T10:33:12.407523Z"
    }
   },
   "cell_type": "code",
   "source": "x[1::4]",
   "id": "66f7885752086a42",
   "outputs": [
    {
     "data": {
      "text/plain": [
       "[8, 4]"
      ]
     },
     "execution_count": 11,
     "metadata": {},
     "output_type": "execute_result"
    }
   ],
   "execution_count": 11
  },
  {
   "metadata": {
    "ExecuteTime": {
     "end_time": "2024-04-10T10:33:33.735736Z",
     "start_time": "2024-04-10T10:33:33.732403Z"
    }
   },
   "cell_type": "code",
   "source": "x[1:]",
   "id": "2abd03d854e9098d",
   "outputs": [
    {
     "data": {
      "text/plain": [
       "[8, 7, 6, 5, 4, 3, 2]"
      ]
     },
     "execution_count": 12,
     "metadata": {},
     "output_type": "execute_result"
    }
   ],
   "execution_count": 12
  },
  {
   "metadata": {
    "ExecuteTime": {
     "end_time": "2024-04-10T10:33:46.333491Z",
     "start_time": "2024-04-10T10:33:46.330650Z"
    }
   },
   "cell_type": "code",
   "source": [
    "first = x[0]\n",
    "rest = x[1:]"
   ],
   "id": "e678a0d8fbd84dd3",
   "outputs": [],
   "execution_count": 13
  },
  {
   "metadata": {
    "ExecuteTime": {
     "end_time": "2024-04-10T10:34:07.194393Z",
     "start_time": "2024-04-10T10:34:07.190340Z"
    }
   },
   "cell_type": "code",
   "source": [
    "[first] + rest"
   ],
   "id": "6526e4fe3afa9534",
   "outputs": [
    {
     "data": {
      "text/plain": [
       "[9, 8, 7, 6, 5, 4, 3, 2]"
      ]
     },
     "execution_count": 15,
     "metadata": {},
     "output_type": "execute_result"
    }
   ],
   "execution_count": 15
  },
  {
   "metadata": {
    "ExecuteTime": {
     "end_time": "2024-04-10T10:34:19.718290Z",
     "start_time": "2024-04-10T10:34:19.715426Z"
    }
   },
   "cell_type": "code",
   "source": [
    "rest + [first]"
   ],
   "id": "6ba4d3d16451b3ec",
   "outputs": [
    {
     "data": {
      "text/plain": [
       "[8, 7, 6, 5, 4, 3, 2, 9]"
      ]
     },
     "execution_count": 16,
     "metadata": {},
     "output_type": "execute_result"
    }
   ],
   "execution_count": 16
  },
  {
   "metadata": {
    "ExecuteTime": {
     "end_time": "2024-04-10T10:34:35.111043Z",
     "start_time": "2024-04-10T10:34:35.108424Z"
    }
   },
   "cell_type": "code",
   "source": [
    "set1 = {1, 2, 3, 4, 5}"
   ],
   "id": "12f546a3c2fb41dc",
   "outputs": [],
   "execution_count": 17
  },
  {
   "metadata": {
    "ExecuteTime": {
     "end_time": "2024-04-10T10:34:56.229846Z",
     "start_time": "2024-04-10T10:34:56.227886Z"
    }
   },
   "cell_type": "code",
   "source": [
    "set2 = {4, 6, 6, 10, 3}"
   ],
   "id": "2e2e4908f9b5a94b",
   "outputs": [],
   "execution_count": 18
  },
  {
   "metadata": {
    "ExecuteTime": {
     "end_time": "2024-04-10T10:35:02.448491Z",
     "start_time": "2024-04-10T10:35:02.445613Z"
    }
   },
   "cell_type": "code",
   "source": [
    "set1 | set2"
   ],
   "id": "1d7dddf3c7e993b7",
   "outputs": [
    {
     "data": {
      "text/plain": [
       "{1, 2, 3, 4, 5, 6, 10}"
      ]
     },
     "execution_count": 19,
     "metadata": {},
     "output_type": "execute_result"
    }
   ],
   "execution_count": 19
  },
  {
   "metadata": {
    "ExecuteTime": {
     "end_time": "2024-04-10T10:35:12.616761Z",
     "start_time": "2024-04-10T10:35:12.613971Z"
    }
   },
   "cell_type": "code",
   "source": [
    "set1 != set2"
   ],
   "id": "e675dc11e317b8df",
   "outputs": [
    {
     "data": {
      "text/plain": [
       "True"
      ]
     },
     "execution_count": 20,
     "metadata": {},
     "output_type": "execute_result"
    }
   ],
   "execution_count": 20
  },
  {
   "metadata": {
    "ExecuteTime": {
     "end_time": "2024-04-10T10:35:18.622681Z",
     "start_time": "2024-04-10T10:35:18.619579Z"
    }
   },
   "cell_type": "code",
   "source": "set1",
   "id": "73366092813f156e",
   "outputs": [
    {
     "data": {
      "text/plain": [
       "{1, 2, 3, 4, 5}"
      ]
     },
     "execution_count": 21,
     "metadata": {},
     "output_type": "execute_result"
    }
   ],
   "execution_count": 21
  },
  {
   "metadata": {
    "ExecuteTime": {
     "end_time": "2024-04-10T10:35:53.609532Z",
     "start_time": "2024-04-10T10:35:53.606537Z"
    }
   },
   "cell_type": "code",
   "source": [
    "set1 |= set2"
   ],
   "id": "d40ef6f0af6b1c3a",
   "outputs": [],
   "execution_count": 23
  },
  {
   "metadata": {
    "ExecuteTime": {
     "end_time": "2024-04-10T10:36:01.594258Z",
     "start_time": "2024-04-10T10:36:01.590799Z"
    }
   },
   "cell_type": "code",
   "source": "set1",
   "id": "be109289de697abd",
   "outputs": [
    {
     "data": {
      "text/plain": [
       "{1, 2, 3, 4, 5, 6, 10}"
      ]
     },
     "execution_count": 24,
     "metadata": {},
     "output_type": "execute_result"
    }
   ],
   "execution_count": 24
  },
  {
   "metadata": {
    "ExecuteTime": {
     "end_time": "2024-04-10T10:36:56.018639Z",
     "start_time": "2024-04-10T10:36:56.015559Z"
    }
   },
   "cell_type": "code",
   "source": "set1.issuperset(set2)",
   "id": "588b6628b2695a7b",
   "outputs": [
    {
     "data": {
      "text/plain": [
       "True"
      ]
     },
     "execution_count": 26,
     "metadata": {},
     "output_type": "execute_result"
    }
   ],
   "execution_count": 26
  },
  {
   "metadata": {
    "ExecuteTime": {
     "end_time": "2024-04-10T10:37:04.071996Z",
     "start_time": "2024-04-10T10:37:04.068525Z"
    }
   },
   "cell_type": "code",
   "source": [
    "set1 - set2"
   ],
   "id": "b1b350533ae72361",
   "outputs": [
    {
     "data": {
      "text/plain": [
       "{1, 2, 5}"
      ]
     },
     "execution_count": 27,
     "metadata": {},
     "output_type": "execute_result"
    }
   ],
   "execution_count": 27
  },
  {
   "metadata": {
    "ExecuteTime": {
     "end_time": "2024-04-10T10:37:20.565210Z",
     "start_time": "2024-04-10T10:37:20.561758Z"
    }
   },
   "cell_type": "code",
   "source": [
    "set2 - set1"
   ],
   "id": "c3ff0fbc05ac932e",
   "outputs": [
    {
     "data": {
      "text/plain": [
       "set()"
      ]
     },
     "execution_count": 28,
     "metadata": {},
     "output_type": "execute_result"
    }
   ],
   "execution_count": 28
  },
  {
   "metadata": {
    "ExecuteTime": {
     "end_time": "2024-04-10T10:38:15.847171Z",
     "start_time": "2024-04-10T10:38:15.844362Z"
    }
   },
   "cell_type": "code",
   "source": "set1.difference(set2)",
   "id": "4f6593fd594fae4d",
   "outputs": [
    {
     "data": {
      "text/plain": [
       "{1, 2, 5}"
      ]
     },
     "execution_count": 29,
     "metadata": {},
     "output_type": "execute_result"
    }
   ],
   "execution_count": 29
  },
  {
   "metadata": {
    "ExecuteTime": {
     "end_time": "2024-04-10T10:38:37.778966Z",
     "start_time": "2024-04-10T10:38:37.776615Z"
    }
   },
   "cell_type": "code",
   "source": "set1.isdisjoint(set2)",
   "id": "c7a9b30d586af4cb",
   "outputs": [
    {
     "data": {
      "text/plain": [
       "False"
      ]
     },
     "execution_count": 30,
     "metadata": {},
     "output_type": "execute_result"
    }
   ],
   "execution_count": 30
  },
  {
   "metadata": {
    "ExecuteTime": {
     "end_time": "2024-04-10T10:38:51.018902Z",
     "start_time": "2024-04-10T10:38:51.016685Z"
    }
   },
   "cell_type": "code",
   "source": "set1.difference_update(set2)",
   "id": "7740e4d9d1c248b0",
   "outputs": [],
   "execution_count": 31
  },
  {
   "metadata": {
    "ExecuteTime": {
     "end_time": "2024-04-10T10:38:55.171589Z",
     "start_time": "2024-04-10T10:38:55.168292Z"
    }
   },
   "cell_type": "code",
   "source": "set1",
   "id": "e116a57ffda0304e",
   "outputs": [
    {
     "data": {
      "text/plain": [
       "{1, 2, 5}"
      ]
     },
     "execution_count": 32,
     "metadata": {},
     "output_type": "execute_result"
    }
   ],
   "execution_count": 32
  },
  {
   "metadata": {
    "ExecuteTime": {
     "end_time": "2024-04-10T10:39:08.643167Z",
     "start_time": "2024-04-10T10:39:08.639657Z"
    }
   },
   "cell_type": "code",
   "source": "set1 in set2",
   "id": "7caa03148f1f334",
   "outputs": [
    {
     "data": {
      "text/plain": [
       "False"
      ]
     },
     "execution_count": 33,
     "metadata": {},
     "output_type": "execute_result"
    }
   ],
   "execution_count": 33
  },
  {
   "metadata": {
    "ExecuteTime": {
     "end_time": "2024-04-10T10:39:28.230088Z",
     "start_time": "2024-04-10T10:39:28.227449Z"
    }
   },
   "cell_type": "code",
   "source": "set1.__contains__(1)",
   "id": "437a7f20c2d3c6cd",
   "outputs": [
    {
     "data": {
      "text/plain": [
       "True"
      ]
     },
     "execution_count": 34,
     "metadata": {},
     "output_type": "execute_result"
    }
   ],
   "execution_count": 34
  },
  {
   "metadata": {
    "ExecuteTime": {
     "end_time": "2024-04-10T10:39:46.651187Z",
     "start_time": "2024-04-10T10:39:46.648452Z"
    }
   },
   "cell_type": "code",
   "source": "x[-4:]",
   "id": "ce2b56b9f1ac8de9",
   "outputs": [
    {
     "data": {
      "text/plain": [
       "[5, 4, 3, 2]"
      ]
     },
     "execution_count": 35,
     "metadata": {},
     "output_type": "execute_result"
    }
   ],
   "execution_count": 35
  },
  {
   "metadata": {
    "ExecuteTime": {
     "end_time": "2024-04-10T10:40:09.054438Z",
     "start_time": "2024-04-10T10:40:09.050983Z"
    }
   },
   "cell_type": "code",
   "source": "x[:-1]",
   "id": "dbcb1541511d0b09",
   "outputs": [
    {
     "data": {
      "text/plain": [
       "[9, 8, 7, 6, 5, 4, 3]"
      ]
     },
     "execution_count": 37,
     "metadata": {},
     "output_type": "execute_result"
    }
   ],
   "execution_count": 37
  },
  {
   "metadata": {
    "ExecuteTime": {
     "end_time": "2024-04-10T10:40:17.750984Z",
     "start_time": "2024-04-10T10:40:17.748482Z"
    }
   },
   "cell_type": "code",
   "source": "x.pop(1)",
   "id": "ec6a22f06a1d6cc6",
   "outputs": [
    {
     "data": {
      "text/plain": [
       "8"
      ]
     },
     "execution_count": 38,
     "metadata": {},
     "output_type": "execute_result"
    }
   ],
   "execution_count": 38
  },
  {
   "metadata": {
    "ExecuteTime": {
     "end_time": "2024-04-10T10:40:26.445459Z",
     "start_time": "2024-04-10T10:40:26.442608Z"
    }
   },
   "cell_type": "code",
   "source": "x.pop(0)",
   "id": "793a0304b33685c6",
   "outputs": [
    {
     "data": {
      "text/plain": [
       "9"
      ]
     },
     "execution_count": 39,
     "metadata": {},
     "output_type": "execute_result"
    }
   ],
   "execution_count": 39
  },
  {
   "metadata": {
    "ExecuteTime": {
     "end_time": "2024-04-10T10:40:29.154970Z",
     "start_time": "2024-04-10T10:40:29.152279Z"
    }
   },
   "cell_type": "code",
   "source": "x",
   "id": "607e1496a383b756",
   "outputs": [
    {
     "data": {
      "text/plain": [
       "[7, 6, 5, 4, 3, 2]"
      ]
     },
     "execution_count": 40,
     "metadata": {},
     "output_type": "execute_result"
    }
   ],
   "execution_count": 40
  },
  {
   "metadata": {
    "ExecuteTime": {
     "end_time": "2024-04-10T10:40:38.198636Z",
     "start_time": "2024-04-10T10:40:38.195942Z"
    }
   },
   "cell_type": "code",
   "source": "x[::-1]",
   "id": "55f6b287032b340b",
   "outputs": [
    {
     "data": {
      "text/plain": [
       "[2, 3, 4, 5, 6, 7]"
      ]
     },
     "execution_count": 41,
     "metadata": {},
     "output_type": "execute_result"
    }
   ],
   "execution_count": 41
  },
  {
   "metadata": {
    "ExecuteTime": {
     "end_time": "2024-04-10T10:40:57.261785Z",
     "start_time": "2024-04-10T10:40:57.258948Z"
    }
   },
   "cell_type": "code",
   "source": [
    "sorted(x, reverse=True)"
   ],
   "id": "2921a862f6966e58",
   "outputs": [
    {
     "data": {
      "text/plain": [
       "[7, 6, 5, 4, 3, 2]"
      ]
     },
     "execution_count": 42,
     "metadata": {},
     "output_type": "execute_result"
    }
   ],
   "execution_count": 42
  },
  {
   "metadata": {
    "ExecuteTime": {
     "end_time": "2024-04-10T10:41:15.056251Z",
     "start_time": "2024-04-10T10:41:15.054179Z"
    }
   },
   "cell_type": "code",
   "source": [
    "y = reversed(x)"
   ],
   "id": "6cede51a3bdf6696",
   "outputs": [],
   "execution_count": 44
  },
  {
   "metadata": {
    "ExecuteTime": {
     "end_time": "2024-04-10T10:41:21.951286Z",
     "start_time": "2024-04-10T10:41:21.947941Z"
    }
   },
   "cell_type": "code",
   "source": "list(y)",
   "id": "6404db2766fc10ed",
   "outputs": [
    {
     "data": {
      "text/plain": [
       "[2, 3, 4, 5, 6, 7]"
      ]
     },
     "execution_count": 45,
     "metadata": {},
     "output_type": "execute_result"
    }
   ],
   "execution_count": 45
  },
  {
   "metadata": {
    "ExecuteTime": {
     "end_time": "2024-04-10T10:42:20.488247Z",
     "start_time": "2024-04-10T10:42:20.486351Z"
    }
   },
   "cell_type": "code",
   "source": [
    "z = x.append(7)"
   ],
   "id": "203cfb71787d9565",
   "outputs": [],
   "execution_count": 46
  },
  {
   "metadata": {
    "ExecuteTime": {
     "end_time": "2024-04-10T10:42:22.151157Z",
     "start_time": "2024-04-10T10:42:22.149017Z"
    }
   },
   "cell_type": "code",
   "source": "z",
   "id": "504dae4c76a32408",
   "outputs": [],
   "execution_count": 47
  },
  {
   "metadata": {
    "ExecuteTime": {
     "end_time": "2024-04-10T10:42:28.517303Z",
     "start_time": "2024-04-10T10:42:28.515457Z"
    }
   },
   "cell_type": "code",
   "source": "print(z)",
   "id": "dbcaab0330f6c50b",
   "outputs": [
    {
     "name": "stdout",
     "output_type": "stream",
     "text": [
      "None\n"
     ]
    }
   ],
   "execution_count": 48
  },
  {
   "metadata": {
    "ExecuteTime": {
     "end_time": "2024-04-10T10:44:16.331069Z",
     "start_time": "2024-04-10T10:44:16.329016Z"
    }
   },
   "cell_type": "code",
   "source": [
    "g = (1, [2, 3])"
   ],
   "id": "3fd864ee9c17ae7c",
   "outputs": [],
   "execution_count": 49
  },
  {
   "metadata": {
    "ExecuteTime": {
     "end_time": "2024-04-10T10:44:18.832664Z",
     "start_time": "2024-04-10T10:44:18.829968Z"
    }
   },
   "cell_type": "code",
   "source": "g",
   "id": "ac06abd8d66319f0",
   "outputs": [
    {
     "data": {
      "text/plain": [
       "(1, [2, 3])"
      ]
     },
     "execution_count": 50,
     "metadata": {},
     "output_type": "execute_result"
    }
   ],
   "execution_count": 50
  },
  {
   "metadata": {
    "ExecuteTime": {
     "end_time": "2024-04-10T10:44:41.856248Z",
     "start_time": "2024-04-10T10:44:41.854202Z"
    }
   },
   "cell_type": "code",
   "source": "set1.add(2)",
   "id": "4adfae51423be044",
   "outputs": [],
   "execution_count": 51
  },
  {
   "metadata": {
    "ExecuteTime": {
     "end_time": "2024-04-10T10:44:53.739240Z",
     "start_time": "2024-04-10T10:44:53.731386Z"
    }
   },
   "cell_type": "code",
   "source": "set1.add(g)",
   "id": "d341728bb0f9ee2",
   "outputs": [
    {
     "ename": "TypeError",
     "evalue": "unhashable type: 'list'",
     "output_type": "error",
     "traceback": [
      "\u001b[0;31m---------------------------------------------------------------------------\u001b[0m",
      "\u001b[0;31mTypeError\u001b[0m                                 Traceback (most recent call last)",
      "Cell \u001b[0;32mIn[52], line 1\u001b[0m\n\u001b[0;32m----> 1\u001b[0m \u001b[43mset1\u001b[49m\u001b[38;5;241;43m.\u001b[39;49m\u001b[43madd\u001b[49m\u001b[43m(\u001b[49m\u001b[43mg\u001b[49m\u001b[43m)\u001b[49m\n",
      "\u001b[0;31mTypeError\u001b[0m: unhashable type: 'list'"
     ]
    }
   ],
   "execution_count": 52
  },
  {
   "metadata": {},
   "cell_type": "code",
   "outputs": [],
   "execution_count": null,
   "source": "",
   "id": "8687358fe6bfafbc"
  }
 ],
 "metadata": {
  "kernelspec": {
   "display_name": "Python 3",
   "language": "python",
   "name": "python3"
  },
  "language_info": {
   "codemirror_mode": {
    "name": "ipython",
    "version": 2
   },
   "file_extension": ".py",
   "mimetype": "text/x-python",
   "name": "python",
   "nbconvert_exporter": "python",
   "pygments_lexer": "ipython2",
   "version": "2.7.6"
  }
 },
 "nbformat": 4,
 "nbformat_minor": 5
}
