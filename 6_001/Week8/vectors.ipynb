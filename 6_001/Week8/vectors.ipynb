{
 "cells": [
  {
   "cell_type": "code",
   "execution_count": null,
   "id": "initial_id",
   "metadata": {
    "collapsed": true
   },
   "source": [
    ""
   ],
   "outputs": []
  },
  {
   "metadata": {
    "ExecuteTime": {
     "end_time": "2024-04-14T20:17:02.628700Z",
     "start_time": "2024-04-14T20:17:02.625650Z"
    }
   },
   "cell_type": "code",
   "source": [
    "class Vector2D:\n",
    "    ndims = 2\n",
    "\n",
    "    def magnitude(vec):\n",
    "        return (vec.x**2 + vec.y**2) ** 0.5\n",
    "\n",
    "\n",
    "v = Vector2D()\n",
    "v.x = 3\n",
    "v.y = 4\n",
    "\n",
    "print(Vector2D.magnitude(v))"
   ],
   "id": "72a7cd75c48d0b9",
   "execution_count": 1,
   "outputs": []
  },
  {
   "metadata": {
    "ExecuteTime": {
     "end_time": "2024-04-14T20:21:59.975308Z",
     "start_time": "2024-04-14T20:21:59.973033Z"
    }
   },
   "cell_type": "code",
   "source": [
    "class Vector2d:\n",
    "    ndims = 2\n",
    "\n",
    "    def magnitude(self):\n",
    "        return (self.x**2 + self.y**2) ** 0.5"
   ],
   "id": "22d465e478f66cb0",
   "execution_count": 8,
   "outputs": []
  },
  {
   "metadata": {
    "ExecuteTime": {
     "end_time": "2024-04-14T20:22:00.456181Z",
     "start_time": "2024-04-14T20:22:00.453561Z"
    }
   },
   "cell_type": "code",
   "source": [
    "v1 = Vector2d()\n",
    "v1.x = 3\n",
    "v1.y = 4\n",
    "print(v1.magnitude())"
   ],
   "id": "f04f830a0a2ac73a",
   "execution_count": 9,
   "outputs": []
  },
  {
   "metadata": {
    "ExecuteTime": {
     "end_time": "2024-04-14T20:22:47.082643Z",
     "start_time": "2024-04-14T20:22:47.078372Z"
    }
   },
   "cell_type": "code",
   "source": [
    "Vector2D.magnitude(v1)  # Ouch More Confusing"
   ],
   "id": "445e3902cc4b4c96",
   "execution_count": 11,
   "outputs": []
  },
  {
   "metadata": {},
   "cell_type": "markdown",
   "source": ". It's common, especially when just starting out, to try to debug issues involving classes by randomly putting \"self.\" in front of things (or deleting \"self.\" from in front of things) until the error messages go away. That's a fine place to start, of course; but one of the things we're trying to do in 6.101 is to move beyond that kind of \"guess-and-check\" style of programming and toward more principled ways of thinking about things.",
   "id": "6be6827a87fa9c46"
  },
  {
   "metadata": {},
   "cell_type": "markdown",
   "source": [
    "To look up a variable:\n",
    "\n",
    "look in the current frame first\n",
    "if not found, look in the parent frame\n",
    "if not found, look in that frame's parent frame\n",
    " (keep following that process, looking in parent frames)\n",
    "if not found, look in the global frame\n",
    "if not found, look in the builtins (where things like print, len, etc. are bound)\n",
    "if not found, raise a NameError\n"
   ],
   "id": "e5c5ba1406de7b6"
  },
  {
   "metadata": {},
   "cell_type": "markdown",
   "source": "class ",
   "id": "e03eec1e9b1716e2"
  },
  {
   "metadata": {
    "ExecuteTime": {
     "end_time": "2024-04-14T20:35:11.742461Z",
     "start_time": "2024-04-14T20:35:11.738062Z"
    }
   },
   "cell_type": "code",
   "source": [
    "class LinkedList:\n",
    "    def __init__(self, element, next_node=None):\n",
    "        self.element = element\n",
    "        self.next_node = next_node\n",
    "\n",
    "    # def get(self,index):\n",
    "    #     for _ in range(index):\n",
    "    #         self=self.next_node\n",
    "    #     return self.element\n",
    "\n",
    "    def get(self, index):\n",
    "        if index == 0:\n",
    "            return self.element\n",
    "        elif self.next_node is None:\n",
    "            raise IndexError(\"Index Out of Bounds\")\n",
    "        self.next_node.get(index - 1)\n",
    "\n",
    "    def set(self, index, value):\n",
    "        if index == 0:\n",
    "            self.element = value\n",
    "        elif self.next_node is None:\n",
    "            raise IndexError(\"asd\")\n",
    "        self.next_node.set(index - 1, value)"
   ],
   "id": "d02de9eb3b47c83b",
   "execution_count": 35,
   "outputs": []
  },
  {
   "metadata": {
    "ExecuteTime": {
     "end_time": "2024-04-14T20:33:57.315421Z",
     "start_time": "2024-04-14T20:33:57.312507Z"
    }
   },
   "cell_type": "code",
   "source": [
    "x = LinkedList(4, LinkedList(8, LinkedList(12, LinkedList(16, LinkedList(20)))))"
   ],
   "id": "4de0f7cd788de6ec",
   "execution_count": 26,
   "outputs": []
  },
  {
   "metadata": {
    "ExecuteTime": {
     "end_time": "2024-04-14T20:33:58.168732Z",
     "start_time": "2024-04-14T20:33:58.165857Z"
    }
   },
   "cell_type": "code",
   "source": "print(x.get(2))",
   "id": "f2db59b1c6697bdc",
   "execution_count": 27,
   "outputs": []
  },
  {
   "metadata": {
    "ExecuteTime": {
     "end_time": "2024-04-14T20:33:58.835094Z",
     "start_time": "2024-04-14T20:33:58.832833Z"
    }
   },
   "cell_type": "code",
   "source": "x.get(0)",
   "id": "24ff4cc91dd5d573",
   "execution_count": 28,
   "outputs": []
  },
  {
   "metadata": {
    "ExecuteTime": {
     "end_time": "2024-04-14T20:29:32.688096Z",
     "start_time": "2024-04-14T20:29:32.684435Z"
    }
   },
   "cell_type": "code",
   "source": "x.__str__()",
   "id": "908ce37b4794d5cc",
   "execution_count": 20,
   "outputs": []
  },
  {
   "metadata": {
    "ExecuteTime": {
     "end_time": "2024-04-14T20:34:15.213289Z",
     "start_time": "2024-04-14T20:34:15.189675Z"
    }
   },
   "cell_type": "code",
   "source": [
    "x.set(0, \"asd\")"
   ],
   "id": "c7c05bb170a2a35d",
   "execution_count": 29,
   "outputs": []
  },
  {
   "metadata": {
    "ExecuteTime": {
     "end_time": "2024-04-14T20:34:26.036135Z",
     "start_time": "2024-04-14T20:34:26.033476Z"
    }
   },
   "cell_type": "code",
   "source": "x.get(1)",
   "id": "4c3eca49c7c02048",
   "execution_count": 30,
   "outputs": []
  },
  {
   "metadata": {
    "ExecuteTime": {
     "end_time": "2024-04-14T20:35:15.916856Z",
     "start_time": "2024-04-14T20:35:15.914235Z"
    }
   },
   "cell_type": "code",
   "source": "y = LinkedList(4)",
   "id": "a963168955c701ca",
   "execution_count": 36,
   "outputs": []
  },
  {
   "metadata": {
    "ExecuteTime": {
     "end_time": "2024-04-14T20:35:16.864926Z",
     "start_time": "2024-04-14T20:35:16.861095Z"
    }
   },
   "cell_type": "code",
   "source": "y.get(0)",
   "id": "a4603ee93475bbca",
   "execution_count": 37,
   "outputs": []
  },
  {
   "metadata": {
    "ExecuteTime": {
     "end_time": "2024-04-14T20:35:17.603093Z",
     "start_time": "2024-04-14T20:35:17.587851Z"
    }
   },
   "cell_type": "code",
   "source": [
    "y.set(1, 8)"
   ],
   "id": "65d2d334610a0ed2",
   "execution_count": 38,
   "outputs": []
  },
  {
   "metadata": {
    "ExecuteTime": {
     "end_time": "2024-04-14T20:38:19.451364Z",
     "start_time": "2024-04-14T20:38:19.447276Z"
    }
   },
   "cell_type": "code",
   "source": [
    "class LinkedList1:\n",
    "    def __init__(self, element, next_node=None):\n",
    "        self.element = element\n",
    "        self.next_node = next_node\n",
    "\n",
    "    # def get(self,index):\n",
    "    #     for _ in range(index):\n",
    "    #         self=self.next_node\n",
    "    #     return self.element\n",
    "\n",
    "    def get(self, index):\n",
    "        if index == 0:\n",
    "            return self.element\n",
    "        elif self.next_node is None:\n",
    "            raise IndexError(\"Index Out of Bounds\")\n",
    "        self.next_node.get(index - 1)\n",
    "\n",
    "    def set(self, index, value):\n",
    "        if index == 0:\n",
    "            self.element = value\n",
    "        if self.next_node is None:\n",
    "            raise IndexError(\"asd\")\n",
    "        self.next_node.set(index - 1, value)"
   ],
   "id": "db11a499f1b0318e",
   "execution_count": 56,
   "outputs": []
  },
  {
   "metadata": {
    "ExecuteTime": {
     "end_time": "2024-04-14T20:38:21.468023Z",
     "start_time": "2024-04-14T20:38:21.465688Z"
    }
   },
   "cell_type": "code",
   "source": "z = LinkedList1(4)",
   "id": "194dda6aa32f5a8e",
   "execution_count": 57,
   "outputs": []
  },
  {
   "metadata": {
    "ExecuteTime": {
     "end_time": "2024-04-14T20:38:21.988879Z",
     "start_time": "2024-04-14T20:38:21.976133Z"
    }
   },
   "cell_type": "code",
   "source": "z.get(1)",
   "id": "76a07e9a3005d63d",
   "execution_count": 58,
   "outputs": []
  },
  {
   "metadata": {
    "ExecuteTime": {
     "end_time": "2024-04-14T20:38:24.260377Z",
     "start_time": "2024-04-14T20:38:24.256957Z"
    }
   },
   "cell_type": "code",
   "source": "z.get(0)",
   "id": "4f9f23e022f0bf45",
   "execution_count": 59,
   "outputs": []
  },
  {
   "metadata": {
    "ExecuteTime": {
     "end_time": "2024-04-14T20:38:25.595982Z",
     "start_time": "2024-04-14T20:38:25.583223Z"
    }
   },
   "cell_type": "code",
   "source": [
    "z.set(0, 8)"
   ],
   "id": "175c58821d89c023",
   "execution_count": 60,
   "outputs": []
  },
  {
   "metadata": {
    "ExecuteTime": {
     "end_time": "2024-04-14T20:38:29.041311Z",
     "start_time": "2024-04-14T20:38:29.026400Z"
    }
   },
   "cell_type": "code",
   "source": [
    "z.set(0, 8)"
   ],
   "id": "a47344a138eb2c91",
   "execution_count": 61,
   "outputs": []
  },
  {
   "metadata": {
    "ExecuteTime": {
     "end_time": "2024-04-14T20:38:31.672187Z",
     "start_time": "2024-04-14T20:38:31.669348Z"
    }
   },
   "cell_type": "code",
   "source": [
    "x = LinkedList1(\"asd\")"
   ],
   "id": "5530f6019c05fd70",
   "execution_count": 62,
   "outputs": []
  },
  {
   "metadata": {
    "ExecuteTime": {
     "end_time": "2024-04-14T20:38:32.721276Z",
     "start_time": "2024-04-14T20:38:32.718665Z"
    }
   },
   "cell_type": "code",
   "source": "x.get(0)",
   "id": "7cc4df3023ef1819",
   "execution_count": 63,
   "outputs": []
  },
  {
   "metadata": {
    "ExecuteTime": {
     "end_time": "2024-04-14T20:38:34.482903Z",
     "start_time": "2024-04-14T20:38:34.469798Z"
    }
   },
   "cell_type": "code",
   "source": [
    "x.set(0, \"cat\")"
   ],
   "id": "ba8023a094a5463d",
   "execution_count": 64,
   "outputs": []
  },
  {
   "metadata": {
    "ExecuteTime": {
     "end_time": "2024-04-14T20:38:36.818311Z",
     "start_time": "2024-04-14T20:38:36.815310Z"
    }
   },
   "cell_type": "code",
   "source": "x",
   "id": "7a607606c66d4c02",
   "execution_count": 65,
   "outputs": []
  },
  {
   "metadata": {
    "ExecuteTime": {
     "end_time": "2024-04-14T20:38:50.597861Z",
     "start_time": "2024-04-14T20:38:50.585478Z"
    }
   },
   "cell_type": "code",
   "source": [
    "x.set(1, \"me\")"
   ],
   "id": "c899f6e1ac0c7888",
   "execution_count": 66,
   "outputs": []
  },
  {
   "metadata": {
    "ExecuteTime": {
     "end_time": "2024-04-14T20:44:33.074554Z",
     "start_time": "2024-04-14T20:44:33.070749Z"
    }
   },
   "cell_type": "code",
   "source": [
    "class LinkedList2:\n",
    "    def __init__(self, element, next_node=None):\n",
    "        self.element = element\n",
    "        self.next_node = next_node\n",
    "\n",
    "    # def get(self,index):\n",
    "    #     for _ in range(index):\n",
    "    #         self=self.next_node\n",
    "    #     return self.element\n",
    "\n",
    "    def _get_node(self, index):\n",
    "        if index == 0:\n",
    "            return self\n",
    "        elif self.next_node is None:\n",
    "            raise IndexError(\"Fix me\")\n",
    "        else:\n",
    "            self.next_node._get_node(index - 1)\n",
    "\n",
    "    def get(self, index):\n",
    "        return self._get_node(index).element\n",
    "\n",
    "    def set(self, index, value):\n",
    "        self._get_node(index).element = value"
   ],
   "id": "d9ed49ccb8659b79",
   "execution_count": 78,
   "outputs": []
  },
  {
   "metadata": {
    "ExecuteTime": {
     "end_time": "2024-04-14T20:44:33.801781Z",
     "start_time": "2024-04-14T20:44:33.798940Z"
    }
   },
   "cell_type": "code",
   "source": [
    "linked = LinkedList2(4)"
   ],
   "id": "e6339539242bda57",
   "execution_count": 79,
   "outputs": []
  },
  {
   "metadata": {
    "ExecuteTime": {
     "end_time": "2024-04-14T20:44:34.345869Z",
     "start_time": "2024-04-14T20:44:34.342676Z"
    }
   },
   "cell_type": "code",
   "source": "linked.get(0)",
   "id": "4d4d2d7911e5e82f",
   "execution_count": 80,
   "outputs": []
  },
  {
   "metadata": {
    "ExecuteTime": {
     "end_time": "2024-04-14T20:44:35.043446Z",
     "start_time": "2024-04-14T20:44:35.024781Z"
    }
   },
   "cell_type": "code",
   "source": [
    "linked.set(1, 8)"
   ],
   "id": "98e00db688d34c34",
   "execution_count": 81,
   "outputs": []
  },
  {
   "metadata": {
    "ExecuteTime": {
     "end_time": "2024-04-14T20:45:32.587701Z",
     "start_time": "2024-04-14T20:45:32.585054Z"
    }
   },
   "cell_type": "code",
   "source": [
    "linked.set(0, 1)"
   ],
   "id": "df5dd2f9675b9808",
   "execution_count": 82,
   "outputs": []
  },
  {
   "metadata": {
    "ExecuteTime": {
     "end_time": "2024-04-14T20:45:38.423629Z",
     "start_time": "2024-04-14T20:45:38.390175Z"
    }
   },
   "cell_type": "code",
   "source": [
    "linked.set(1, 2)"
   ],
   "id": "a85138e66f0e5588",
   "execution_count": 83,
   "outputs": []
  },
  {
   "metadata": {
    "ExecuteTime": {
     "end_time": "2024-04-14T20:45:47.799986Z",
     "start_time": "2024-04-14T20:45:47.797101Z"
    }
   },
   "cell_type": "code",
   "source": "linked.get(0)",
   "id": "6f60cbc50cf538bb",
   "execution_count": 84,
   "outputs": []
  },
  {
   "metadata": {
    "ExecuteTime": {
     "end_time": "2024-04-14T20:45:54.013021Z",
     "start_time": "2024-04-14T20:45:53.997795Z"
    }
   },
   "cell_type": "code",
   "source": "linked.get(1)",
   "id": "888380b975bf21a",
   "execution_count": 85,
   "outputs": []
  },
  {
   "metadata": {},
   "cell_type": "code",
   "execution_count": null,
   "source": "",
   "id": "2076b653ece9acfb",
   "outputs": []
  }
 ],
 "metadata": {
  "kernelspec": {
   "display_name": "Python 3",
   "language": "python",
   "name": "python3"
  },
  "language_info": {
   "codemirror_mode": {
    "name": "ipython",
    "version": 2
   },
   "file_extension": ".py",
   "mimetype": "text/x-python",
   "name": "python",
   "nbconvert_exporter": "python",
   "pygments_lexer": "ipython2",
   "version": "2.7.6"
  }
 },
 "nbformat": 4,
 "nbformat_minor": 5
}
