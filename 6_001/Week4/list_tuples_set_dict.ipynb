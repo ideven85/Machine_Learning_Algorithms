{
 "cells": [
  {
   "cell_type": "code",
   "id": "initial_id",
   "metadata": {
    "collapsed": true,
    "ExecuteTime": {
     "end_time": "2024-04-16T16:24:16.708585Z",
     "start_time": "2024-04-16T16:24:16.706033Z"
    }
   },
   "source": "student = [10,'venu gopal','M',50,55,62,74,66]",
   "outputs": [],
   "execution_count": 1
  },
  {
   "metadata": {
    "ExecuteTime": {
     "end_time": "2024-04-16T16:24:58.131701Z",
     "start_time": "2024-04-16T16:24:58.129309Z"
    }
   },
   "cell_type": "code",
   "source": "x=[(1,3),(2,3)]",
   "id": "140a9816927b6c5f",
   "outputs": [],
   "execution_count": 2
  },
  {
   "metadata": {
    "ExecuteTime": {
     "end_time": "2024-04-16T16:25:00.680723Z",
     "start_time": "2024-04-16T16:25:00.675840Z"
    }
   },
   "cell_type": "code",
   "source": "x[0]",
   "id": "3d6fa173a5305977",
   "outputs": [
    {
     "data": {
      "text/plain": [
       "(1, 3)"
      ]
     },
     "execution_count": 3,
     "metadata": {},
     "output_type": "execute_result"
    }
   ],
   "execution_count": 3
  },
  {
   "metadata": {
    "ExecuteTime": {
     "end_time": "2024-04-16T16:25:05.827874Z",
     "start_time": "2024-04-16T16:25:05.824106Z"
    }
   },
   "cell_type": "code",
   "source": "x[-1]",
   "id": "7dc0705c898c0874",
   "outputs": [
    {
     "data": {
      "text/plain": [
       "(2, 3)"
      ]
     },
     "execution_count": 4,
     "metadata": {},
     "output_type": "execute_result"
    }
   ],
   "execution_count": 4
  },
  {
   "metadata": {
    "ExecuteTime": {
     "end_time": "2024-04-16T16:25:11.985816Z",
     "start_time": "2024-04-16T16:25:11.982054Z"
    }
   },
   "cell_type": "code",
   "source": "x.pop(0)",
   "id": "de7956c7da9236de",
   "outputs": [
    {
     "data": {
      "text/plain": [
       "(1, 3)"
      ]
     },
     "execution_count": 5,
     "metadata": {},
     "output_type": "execute_result"
    }
   ],
   "execution_count": 5
  },
  {
   "metadata": {
    "ExecuteTime": {
     "end_time": "2024-04-16T16:26:22.928968Z",
     "start_time": "2024-04-16T16:26:22.925977Z"
    }
   },
   "cell_type": "code",
   "source": "y=[(1,2)]",
   "id": "5a4ce6d47f4fd59c",
   "outputs": [],
   "execution_count": 11
  },
  {
   "metadata": {
    "ExecuteTime": {
     "end_time": "2024-04-16T16:26:23.481354Z",
     "start_time": "2024-04-16T16:26:23.478163Z"
    }
   },
   "cell_type": "code",
   "source": "z=y.pop(0)",
   "id": "ad6217360a07b490",
   "outputs": [],
   "execution_count": 12
  },
  {
   "metadata": {
    "ExecuteTime": {
     "end_time": "2024-04-16T16:26:25.926632Z",
     "start_time": "2024-04-16T16:26:25.922276Z"
    }
   },
   "cell_type": "code",
   "source": "z",
   "id": "1f5a5768035384e4",
   "outputs": [
    {
     "data": {
      "text/plain": [
       "(1, 2)"
      ]
     },
     "execution_count": 13,
     "metadata": {},
     "output_type": "execute_result"
    }
   ],
   "execution_count": 13
  },
  {
   "metadata": {
    "ExecuteTime": {
     "end_time": "2024-04-16T16:26:29.770837Z",
     "start_time": "2024-04-16T16:26:29.766872Z"
    }
   },
   "cell_type": "code",
   "source": "z[-1]",
   "id": "ae080ec7e9743a89",
   "outputs": [
    {
     "data": {
      "text/plain": [
       "2"
      ]
     },
     "execution_count": 14,
     "metadata": {},
     "output_type": "execute_result"
    }
   ],
   "execution_count": 14
  },
  {
   "metadata": {
    "ExecuteTime": {
     "end_time": "2024-04-16T16:27:26.273061Z",
     "start_time": "2024-04-16T16:27:26.270337Z"
    }
   },
   "cell_type": "code",
   "source": "y=[(1,2)]",
   "id": "8ca9c212f944154b",
   "outputs": [],
   "execution_count": 18
  },
  {
   "metadata": {
    "ExecuteTime": {
     "end_time": "2024-04-16T16:27:26.944495Z",
     "start_time": "2024-04-16T16:27:26.941511Z"
    }
   },
   "cell_type": "code",
   "source": "terminal_state=y[-1]",
   "id": "e2c3ef286c842589",
   "outputs": [],
   "execution_count": 19
  },
  {
   "metadata": {
    "ExecuteTime": {
     "end_time": "2024-04-16T16:27:27.532889Z",
     "start_time": "2024-04-16T16:27:27.529237Z"
    }
   },
   "cell_type": "code",
   "source": "terminal_state",
   "id": "a10d283e7c65494d",
   "outputs": [
    {
     "data": {
      "text/plain": [
       "(1, 2)"
      ]
     },
     "execution_count": 20,
     "metadata": {},
     "output_type": "execute_result"
    }
   ],
   "execution_count": 20
  },
  {
   "metadata": {
    "ExecuteTime": {
     "end_time": "2024-04-16T16:29:07.523972Z",
     "start_time": "2024-04-16T16:29:07.521206Z"
    }
   },
   "cell_type": "code",
   "source": "z1=(1,2)",
   "id": "33b406c7a50b39d2",
   "outputs": [],
   "execution_count": 24
  },
  {
   "metadata": {
    "ExecuteTime": {
     "end_time": "2024-04-16T16:29:08.213727Z",
     "start_time": "2024-04-16T16:29:08.211233Z"
    }
   },
   "cell_type": "code",
   "source": "z1=z1+(2,3)",
   "id": "fb1d1056506a8494",
   "outputs": [],
   "execution_count": 25
  },
  {
   "metadata": {
    "ExecuteTime": {
     "end_time": "2024-04-16T16:29:08.708312Z",
     "start_time": "2024-04-16T16:29:08.705487Z"
    }
   },
   "cell_type": "code",
   "source": "z1",
   "id": "b458cabdeaed8800",
   "outputs": [
    {
     "data": {
      "text/plain": [
       "(1, 2, 2, 3)"
      ]
     },
     "execution_count": 26,
     "metadata": {},
     "output_type": "execute_result"
    }
   ],
   "execution_count": 26
  },
  {
   "metadata": {
    "ExecuteTime": {
     "end_time": "2024-04-16T17:33:42.505188Z",
     "start_time": "2024-04-16T17:33:42.502693Z"
    }
   },
   "cell_type": "code",
   "source": "a=[(3,2)]",
   "id": "809ee1363737fd73",
   "outputs": [],
   "execution_count": 27
  },
  {
   "metadata": {
    "ExecuteTime": {
     "end_time": "2024-04-16T17:33:46.039193Z",
     "start_time": "2024-04-16T17:33:46.036459Z"
    }
   },
   "cell_type": "code",
   "source": "a[0]",
   "id": "8f4b17bc6c6677f5",
   "outputs": [
    {
     "data": {
      "text/plain": [
       "(3, 2)"
      ]
     },
     "execution_count": 28,
     "metadata": {},
     "output_type": "execute_result"
    }
   ],
   "execution_count": 28
  },
  {
   "metadata": {
    "ExecuteTime": {
     "end_time": "2024-04-16T17:33:51.838697Z",
     "start_time": "2024-04-16T17:33:51.835149Z"
    }
   },
   "cell_type": "code",
   "source": "a[0][0]",
   "id": "d0ffdf878752e35c",
   "outputs": [
    {
     "data": {
      "text/plain": [
       "3"
      ]
     },
     "execution_count": 29,
     "metadata": {},
     "output_type": "execute_result"
    }
   ],
   "execution_count": 29
  },
  {
   "metadata": {},
   "cell_type": "code",
   "outputs": [],
   "execution_count": null,
   "source": "",
   "id": "29ab3fed5e8bb7fa"
  }
 ],
 "metadata": {
  "kernelspec": {
   "display_name": "Python 3",
   "language": "python",
   "name": "python3"
  },
  "language_info": {
   "codemirror_mode": {
    "name": "ipython",
    "version": 2
   },
   "file_extension": ".py",
   "mimetype": "text/x-python",
   "name": "python",
   "nbconvert_exporter": "python",
   "pygments_lexer": "ipython2",
   "version": "2.7.6"
  }
 },
 "nbformat": 4,
 "nbformat_minor": 5
}
