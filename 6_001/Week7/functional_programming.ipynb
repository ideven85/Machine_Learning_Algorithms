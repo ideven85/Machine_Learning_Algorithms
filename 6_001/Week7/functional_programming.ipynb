{
 "cells": [
  {
   "cell_type": "code",
   "id": "initial_id",
   "metadata": {
    "collapsed": true,
    "ExecuteTime": {
     "end_time": "2024-04-09T04:30:52.522720Z",
     "start_time": "2024-04-09T04:30:52.520063Z"
    }
   },
   "source": [
    "def next_(x, n):\n",
    "    return (x + n / x) / 2"
   ],
   "outputs": [],
   "execution_count": 3
  },
  {
   "metadata": {
    "ExecuteTime": {
     "end_time": "2024-04-09T04:30:54.210025Z",
     "start_time": "2024-04-09T04:30:54.207461Z"
    }
   },
   "cell_type": "code",
   "source": [
    "n = 2\n",
    "f = lambda x: next_(n, x)"
   ],
   "id": "91246e40c5d4fdff",
   "outputs": [],
   "execution_count": 4
  },
  {
   "metadata": {
    "ExecuteTime": {
     "end_time": "2024-04-09T04:30:55.104968Z",
     "start_time": "2024-04-09T04:30:55.100059Z"
    }
   },
   "cell_type": "code",
   "source": [
    "a0 = 1.0\n",
    "[x for x in (a0, f(a0))]"
   ],
   "id": "3164cff51931d89",
   "outputs": [
    {
     "data": {
      "text/plain": [
       "[1.0, 1.25]"
      ]
     },
     "execution_count": 5,
     "metadata": {},
     "output_type": "execute_result"
    }
   ],
   "execution_count": 5
  },
  {
   "metadata": {
    "ExecuteTime": {
     "end_time": "2024-04-09T04:30:56.425399Z",
     "start_time": "2024-04-09T04:30:56.422040Z"
    }
   },
   "cell_type": "code",
   "source": [
    "[\n",
    "    round(x, 4)\n",
    "    for x in (\n",
    "        a0,\n",
    "        f(a0),\n",
    "        f(f(a0)),\n",
    "        f(f(f(a0))),\n",
    "    )\n",
    "]"
   ],
   "id": "1ddbe92041ddf369",
   "outputs": [
    {
     "data": {
      "text/plain": [
       "[1.0, 1.25, 1.3125, 1.3281]"
      ]
     },
     "execution_count": 6,
     "metadata": {},
     "output_type": "execute_result"
    }
   ],
   "execution_count": 6
  },
  {
   "metadata": {
    "ExecuteTime": {
     "end_time": "2024-04-09T04:30:59.765787Z",
     "start_time": "2024-04-09T04:30:59.762870Z"
    }
   },
   "cell_type": "code",
   "source": [
    "def repeat(f, a):\n",
    "    yield a\n",
    "    for v in repeat(f, f(a)):\n",
    "        yield v"
   ],
   "id": "1e88aaec143bac82",
   "outputs": [],
   "execution_count": 7
  },
  {
   "metadata": {
    "ExecuteTime": {
     "end_time": "2024-04-09T04:33:46.827929Z",
     "start_time": "2024-04-09T04:33:46.825435Z"
    }
   },
   "cell_type": "code",
   "source": [
    "a = repeat(f, 4)"
   ],
   "id": "dc00243d0d1ccc52",
   "outputs": [],
   "execution_count": 10
  },
  {
   "metadata": {
    "ExecuteTime": {
     "end_time": "2024-04-09T04:34:10.212889Z",
     "start_time": "2024-04-09T04:34:10.202879Z"
    }
   },
   "cell_type": "code",
   "source": "a[2]",
   "id": "c9cd3845a5d4f397",
   "outputs": [
    {
     "ename": "TypeError",
     "evalue": "'generator' object is not subscriptable",
     "output_type": "error",
     "traceback": [
      "\u001b[0;31m---------------------------------------------------------------------------\u001b[0m",
      "\u001b[0;31mTypeError\u001b[0m                                 Traceback (most recent call last)",
      "Cell \u001b[0;32mIn[13], line 1\u001b[0m\n\u001b[0;32m----> 1\u001b[0m \u001b[43ma\u001b[49m\u001b[43m[\u001b[49m\u001b[38;5;241;43m2\u001b[39;49m\u001b[43m]\u001b[49m\n",
      "\u001b[0;31mTypeError\u001b[0m: 'generator' object is not subscriptable"
     ]
    }
   ],
   "execution_count": 13
  },
  {
   "metadata": {
    "ExecuteTime": {
     "end_time": "2024-04-09T05:08:46.133043Z",
     "start_time": "2024-04-09T05:08:46.129806Z"
    }
   },
   "cell_type": "code",
   "source": [
    "year_cheese = [\n",
    "    (2000, 29.87),\n",
    "    (2001, 30.12),\n",
    "    (2002, 30.6),\n",
    "    (2003, 30.66),\n",
    "    (2004, 31.33),\n",
    "    (2005, 32.62),\n",
    "    (2006, 32.73),\n",
    "    (2007, 33.5),\n",
    "    (2008, 32.84),\n",
    "    (2009, 33.02),\n",
    "    (2010, 32.92),\n",
    "]"
   ],
   "id": "613de17df45ce58b",
   "outputs": [],
   "execution_count": 114
  },
  {
   "metadata": {},
   "cell_type": "markdown",
   "source": [
    "1) First-class and higher-order functions, which are sometimes known as pure\n",
    "functions.\n",
    "2) Immutable data.\n",
    "3) Strict and non-strict evaluation. We can also call this eager versus lazy evaluation.\n",
    "4) Recursion instead of an explicit loop state.\n",
    "5) Functional Type Systems"
   ],
   "id": "b6db3c52cace1d8c"
  },
  {
   "metadata": {
    "ExecuteTime": {
     "end_time": "2024-04-09T05:08:52.129173Z",
     "start_time": "2024-04-09T05:08:48.183800Z"
    }
   },
   "cell_type": "code",
   "source": "%timeit max(year_cheese,key=lambda x:x[1])",
   "id": "eb0c5da4bf578ce9",
   "outputs": [
    {
     "name": "stdout",
     "output_type": "stream",
     "text": [
      "484 ns ± 3.71 ns per loop (mean ± std. dev. of 7 runs, 1,000,000 loops each)\n"
     ]
    }
   ],
   "execution_count": 115
  },
  {
   "metadata": {
    "ExecuteTime": {
     "end_time": "2024-04-09T05:08:52.132377Z",
     "start_time": "2024-04-09T05:08:52.130156Z"
    }
   },
   "cell_type": "code",
   "source": [
    "max(map(lambda x: (x[1], x[0], x[1]), year_cheese))"
   ],
   "id": "d3db0396b3b9785e",
   "outputs": [
    {
     "data": {
      "text/plain": [
       "(33.5, 2007, 33.5)"
      ]
     },
     "execution_count": 116,
     "metadata": {},
     "output_type": "execute_result"
    }
   ],
   "execution_count": 116
  },
  {
   "metadata": {
    "ExecuteTime": {
     "end_time": "2024-04-09T05:08:52.134327Z",
     "start_time": "2024-04-09T05:08:52.132995Z"
    }
   },
   "cell_type": "code",
   "source": [
    "map_by_value = lambda x: x[0]"
   ],
   "id": "47e1a5d3fc9e94cd",
   "outputs": [],
   "execution_count": 117
  },
  {
   "metadata": {
    "ExecuteTime": {
     "end_time": "2024-04-09T05:10:22.924701Z",
     "start_time": "2024-04-09T05:10:22.920086Z"
    }
   },
   "cell_type": "code",
   "source": [
    "map_by_value(max(map(lambda x: (len(x), 100000), year_cheese)))"
   ],
   "id": "c5d189ac3c170636",
   "outputs": [
    {
     "data": {
      "text/plain": [
       "2"
      ]
     },
     "execution_count": 127,
     "metadata": {},
     "output_type": "execute_result"
    }
   ],
   "execution_count": 127
  },
  {
   "metadata": {
    "ExecuteTime": {
     "end_time": "2024-04-09T05:18:01.755601Z",
     "start_time": "2024-04-09T05:18:01.752646Z"
    }
   },
   "cell_type": "code",
   "source": "print(True and None)",
   "id": "f81682ee14b4db7f",
   "outputs": [
    {
     "name": "stdout",
     "output_type": "stream",
     "text": [
      "None\n"
     ]
    }
   ],
   "execution_count": 129
  },
  {
   "metadata": {
    "ExecuteTime": {
     "end_time": "2024-04-09T05:18:22.294721Z",
     "start_time": "2024-04-09T05:18:22.291708Z"
    }
   },
   "cell_type": "code",
   "source": "print(print(\"hello\"))",
   "id": "f79fe715b1c8fea3",
   "outputs": [
    {
     "name": "stdout",
     "output_type": "stream",
     "text": [
      "hello\n",
      "None\n"
     ]
    }
   ],
   "execution_count": 130
  },
  {
   "metadata": {
    "ExecuteTime": {
     "end_time": "2024-04-09T05:18:36.376417Z",
     "start_time": "2024-04-09T05:18:36.373523Z"
    }
   },
   "cell_type": "code",
   "source": "True and print(None)",
   "id": "2774f943bac6df45",
   "outputs": [
    {
     "name": "stdout",
     "output_type": "stream",
     "text": [
      "None\n"
     ]
    }
   ],
   "execution_count": 131
  },
  {
   "metadata": {
    "ExecuteTime": {
     "end_time": "2024-04-09T05:18:44.199718Z",
     "start_time": "2024-04-09T05:18:44.196930Z"
    }
   },
   "cell_type": "code",
   "source": "print(True)",
   "id": "936f7ab9e50a5a10",
   "outputs": [
    {
     "name": "stdout",
     "output_type": "stream",
     "text": [
      "True\n"
     ]
    }
   ],
   "execution_count": 132
  },
  {
   "metadata": {
    "ExecuteTime": {
     "end_time": "2024-04-09T05:19:12.438605Z",
     "start_time": "2024-04-09T05:19:12.436377Z"
    }
   },
   "cell_type": "code",
   "source": [
    "a = None and True"
   ],
   "id": "214d91d2a5f52814",
   "outputs": [],
   "execution_count": 134
  },
  {
   "metadata": {
    "ExecuteTime": {
     "end_time": "2024-04-09T05:19:14.970172Z",
     "start_time": "2024-04-09T05:19:14.968473Z"
    }
   },
   "cell_type": "code",
   "source": "a",
   "id": "3a32312ec6afdfba",
   "outputs": [],
   "execution_count": 135
  },
  {
   "metadata": {
    "ExecuteTime": {
     "end_time": "2024-04-09T05:19:20.569379Z",
     "start_time": "2024-04-09T05:19:20.567462Z"
    }
   },
   "cell_type": "code",
   "source": "print(a)",
   "id": "1d19c1195c9e27c8",
   "outputs": [
    {
     "name": "stdout",
     "output_type": "stream",
     "text": [
      "None\n"
     ]
    }
   ],
   "execution_count": 136
  },
  {
   "metadata": {
    "ExecuteTime": {
     "end_time": "2024-04-09T05:20:11.667893Z",
     "start_time": "2024-04-09T05:20:11.665035Z"
    }
   },
   "cell_type": "code",
   "source": "print(None and print(\"hello\"))",
   "id": "8fa9e93aba285e5e",
   "outputs": [
    {
     "name": "stdout",
     "output_type": "stream",
     "text": [
      "None\n"
     ]
    }
   ],
   "execution_count": 138
  },
  {
   "metadata": {
    "ExecuteTime": {
     "end_time": "2024-04-09T05:20:19.522450Z",
     "start_time": "2024-04-09T05:20:19.519953Z"
    }
   },
   "cell_type": "code",
   "source": "0 and print(\"Hello\")",
   "id": "c2fa696c07790f1a",
   "outputs": [
    {
     "data": {
      "text/plain": [
       "0"
      ]
     },
     "execution_count": 139,
     "metadata": {},
     "output_type": "execute_result"
    }
   ],
   "execution_count": 139
  },
  {
   "metadata": {
    "ExecuteTime": {
     "end_time": "2024-04-09T05:20:39.550707Z",
     "start_time": "2024-04-09T05:20:39.548049Z"
    }
   },
   "cell_type": "code",
   "source": "None and True",
   "id": "2462393ed41fcd85",
   "outputs": [],
   "execution_count": 140
  },
  {
   "metadata": {
    "ExecuteTime": {
     "end_time": "2024-04-09T05:21:39.221130Z",
     "start_time": "2024-04-09T05:21:39.217031Z"
    }
   },
   "cell_type": "code",
   "source": "0 and print(\"right\")",
   "id": "d905dda9268b2526",
   "outputs": [
    {
     "data": {
      "text/plain": [
       "0"
      ]
     },
     "execution_count": 143,
     "metadata": {},
     "output_type": "execute_result"
    }
   ],
   "execution_count": 143
  },
  {
   "metadata": {
    "ExecuteTime": {
     "end_time": "2024-04-09T05:21:41.882587Z",
     "start_time": "2024-04-09T05:21:41.880018Z"
    }
   },
   "cell_type": "code",
   "source": "True and print(\"right\")",
   "id": "1fe1864086b6c74d",
   "outputs": [
    {
     "name": "stdout",
     "output_type": "stream",
     "text": [
      "right\n"
     ]
    }
   ],
   "execution_count": 144
  },
  {
   "metadata": {
    "ExecuteTime": {
     "end_time": "2024-04-09T05:22:02.761450Z",
     "start_time": "2024-04-09T05:22:02.758590Z"
    }
   },
   "cell_type": "code",
   "source": [
    "if 0:\n",
    "    print(\"right\")"
   ],
   "id": "9428cd4b4c7ac409",
   "outputs": [],
   "execution_count": 145
  },
  {
   "metadata": {
    "ExecuteTime": {
     "end_time": "2024-04-09T05:23:01.811347Z",
     "start_time": "2024-04-09T05:23:01.808860Z"
    }
   },
   "cell_type": "code",
   "source": [
    "square = lambda x: x * x"
   ],
   "id": "14d5d6077e3788a0",
   "outputs": [],
   "execution_count": 146
  },
  {
   "metadata": {
    "ExecuteTime": {
     "end_time": "2024-04-09T05:41:44.398457Z",
     "start_time": "2024-04-09T05:41:39.748319Z"
    }
   },
   "cell_type": "code",
   "source": "%timeit list(map(square,filter(lambda x:x%2!=0,list(range(1,1000)))))",
   "id": "44eba0f899255a3f",
   "outputs": [
    {
     "name": "stdout",
     "output_type": "stream",
     "text": [
      "56.9 µs ± 370 ns per loop (mean ± std. dev. of 7 runs, 10,000 loops each)\n"
     ]
    }
   ],
   "execution_count": 161
  },
  {
   "metadata": {
    "ExecuteTime": {
     "end_time": "2024-04-09T05:35:41.384534Z",
     "start_time": "2024-04-09T05:35:41.382009Z"
    }
   },
   "cell_type": "code",
   "source": [
    "symbols = \"$¢£¥€¤\""
   ],
   "id": "a8dd9c8c9b95ceb4",
   "outputs": [],
   "execution_count": 153
  },
  {
   "metadata": {
    "ExecuteTime": {
     "end_time": "2024-04-09T05:37:28.920984Z",
     "start_time": "2024-04-09T05:37:28.917412Z"
    }
   },
   "cell_type": "code",
   "source": [
    "[ord(z) for z in symbols if ord(z) > 127]"
   ],
   "id": "a8be9e08e2b293e0",
   "outputs": [
    {
     "data": {
      "text/plain": [
       "[162, 163, 165, 8364, 164]"
      ]
     },
     "execution_count": 155,
     "metadata": {},
     "output_type": "execute_result"
    }
   ],
   "execution_count": 155
  },
  {
   "metadata": {
    "ExecuteTime": {
     "end_time": "2024-04-09T05:38:56.737427Z",
     "start_time": "2024-04-09T05:38:56.734627Z"
    }
   },
   "cell_type": "code",
   "source": [
    "list(filter(lambda c: c > 127, map(ord, symbols)))"
   ],
   "id": "cc6dc1b19fe42527",
   "outputs": [
    {
     "data": {
      "text/plain": [
       "[162, 163, 165, 8364, 164]"
      ]
     },
     "execution_count": 156,
     "metadata": {},
     "output_type": "execute_result"
    }
   ],
   "execution_count": 156
  },
  {
   "metadata": {
    "ExecuteTime": {
     "end_time": "2024-04-09T05:42:21.858512Z",
     "start_time": "2024-04-09T05:42:15.972586Z"
    }
   },
   "cell_type": "code",
   "source": "%timeit list(filter(lambda x:x%2!=0,map(square, list(range(1,1000)))))",
   "id": "3afbd95cba62f955",
   "outputs": [
    {
     "name": "stdout",
     "output_type": "stream",
     "text": [
      "72.3 µs ± 1.09 µs per loop (mean ± std. dev. of 7 runs, 10,000 loops each)\n"
     ]
    }
   ],
   "execution_count": 163
  },
  {
   "metadata": {
    "ExecuteTime": {
     "end_time": "2024-04-09T05:46:10.404029Z",
     "start_time": "2024-04-09T05:46:10.400806Z"
    }
   },
   "cell_type": "code",
   "source": [
    "from pathlib import Path\n",
    "\n",
    "BASE_DIR = Path(__name__).resolve().parent"
   ],
   "id": "c90dc41b814c4c3c",
   "outputs": [],
   "execution_count": 166
  },
  {
   "metadata": {
    "ExecuteTime": {
     "end_time": "2024-04-09T05:46:10.810660Z",
     "start_time": "2024-04-09T05:46:10.808654Z"
    }
   },
   "cell_type": "code",
   "source": "print(BASE_DIR)",
   "id": "f8aa2950bb41d186",
   "outputs": [
    {
     "name": "stdout",
     "output_type": "stream",
     "text": [
      "/Users/deven/Developer/Machine_Learning_Algorithms/6_001/Week7\n"
     ]
    }
   ],
   "execution_count": 167
  },
  {
   "metadata": {
    "ExecuteTime": {
     "end_time": "2024-04-09T05:47:55.846483Z",
     "start_time": "2024-04-09T05:47:55.844797Z"
    }
   },
   "cell_type": "code",
   "source": [
    "dirs = BASE_DIR / \"sat/test_inputs\""
   ],
   "id": "220e747c99b90d2d",
   "outputs": [],
   "execution_count": 170
  },
  {
   "metadata": {
    "ExecuteTime": {
     "end_time": "2024-04-09T05:47:56.229552Z",
     "start_time": "2024-04-09T05:47:56.226368Z"
    }
   },
   "cell_type": "code",
   "source": [
    "import os\n",
    "\n",
    "os.listdir(dirs)"
   ],
   "id": "84281346ec9de2f9",
   "outputs": [
    {
     "data": {
      "text/plain": [
       "['A.json',\n",
       " 'D_Sat.json',\n",
       " 'M.json',\n",
       " 'L.json',\n",
       " 'E_Unsat.json',\n",
       " 'sudoku2.json',\n",
       " 'K.json',\n",
       " 'R.json',\n",
       " 'G.json',\n",
       " 'F.json',\n",
       " 'J.json',\n",
       " 'B_Sat.json',\n",
       " 'sudoku3.json',\n",
       " 'I.json',\n",
       " 'E.json',\n",
       " 'P.json',\n",
       " 'Q.json',\n",
       " 'D.json',\n",
       " 'sudoku1.json',\n",
       " 'H.json',\n",
       " 'A_Sat.json',\n",
       " 'C.json',\n",
       " 'O.json',\n",
       " 'N.json',\n",
       " 'C_Unsat.json',\n",
       " 'B.json']"
      ]
     },
     "execution_count": 171,
     "metadata": {},
     "output_type": "execute_result"
    }
   ],
   "execution_count": 171
  },
  {
   "metadata": {
    "ExecuteTime": {
     "end_time": "2024-04-09T05:52:05.124932Z",
     "start_time": "2024-04-09T05:52:05.122721Z"
    }
   },
   "cell_type": "code",
   "source": [
    "import json\n",
    "\n",
    "\n",
    "def remove_suffix(fname):\n",
    "    with open(dirs / fname, \"r\") as f1:\n",
    "        return fname.removesuffix(\".json\"), json.load(f1)"
   ],
   "id": "9ab2f27ec3ceab92",
   "outputs": [],
   "execution_count": 172
  },
  {
   "metadata": {
    "ExecuteTime": {
     "end_time": "2024-04-09T06:22:09.993419Z",
     "start_time": "2024-04-09T06:22:09.991339Z"
    }
   },
   "cell_type": "code",
   "source": [
    "t = map(remove_suffix, filter(lambda x: x.endswith(\"json\"), os.listdir(dirs)))"
   ],
   "id": "b37578c85f6406f1",
   "outputs": [],
   "execution_count": 221
  },
  {
   "metadata": {
    "ExecuteTime": {
     "end_time": "2024-04-09T06:07:25.831943Z",
     "start_time": "2024-04-09T06:07:25.829786Z"
    }
   },
   "cell_type": "code",
   "source": [
    "tests = filter(lambda x: isinstance(x[1][0], dict), t)"
   ],
   "id": "934a92b2776dc660",
   "outputs": [],
   "execution_count": 208
  },
  {
   "metadata": {},
   "cell_type": "markdown",
   "source": "# Map, Filter are like streams in Java, can be consumed once",
   "id": "5685b9b0936c09cf"
  },
  {
   "metadata": {
    "ExecuteTime": {
     "end_time": "2024-04-09T06:42:33.569484Z",
     "start_time": "2024-04-09T06:42:33.568113Z"
    }
   },
   "cell_type": "code",
   "source": "",
   "id": "d6e60ff2a072453b",
   "outputs": [],
   "execution_count": 228
  },
  {
   "metadata": {
    "ExecuteTime": {
     "end_time": "2024-04-09T06:42:29.335418Z",
     "start_time": "2024-04-09T06:42:29.333855Z"
    }
   },
   "cell_type": "code",
   "source": "",
   "id": "81fa39a2e7a27475",
   "outputs": [],
   "execution_count": 228
  },
  {
   "metadata": {
    "ExecuteTime": {
     "end_time": "2024-04-09T06:17:40.782866Z",
     "start_time": "2024-04-09T06:17:40.780019Z"
    }
   },
   "cell_type": "code",
   "source": [
    "test_dictionaries = filter(lambda x: isinstance(x[1][0], dict), t)"
   ],
   "id": "db1359d1dbd76b36",
   "outputs": [],
   "execution_count": 216
  },
  {
   "metadata": {
    "ExecuteTime": {
     "end_time": "2024-04-09T06:41:55.024283Z",
     "start_time": "2024-04-09T06:41:55.022167Z"
    }
   },
   "cell_type": "code",
   "source": "",
   "id": "89459178881ebcce",
   "outputs": [],
   "execution_count": 226
  },
  {
   "metadata": {
    "ExecuteTime": {
     "end_time": "2024-04-09T06:41:59.566246Z",
     "start_time": "2024-04-09T06:41:59.563380Z"
    }
   },
   "cell_type": "code",
   "source": [
    "[x for x in t if isinstance(x[1][0], dict)]"
   ],
   "id": "fc874aa20b04d993",
   "outputs": [
    {
     "data": {
      "text/plain": [
       "[]"
      ]
     },
     "execution_count": 227,
     "metadata": {},
     "output_type": "execute_result"
    }
   ],
   "execution_count": 227
  },
  {
   "metadata": {
    "ExecuteTime": {
     "end_time": "2024-04-09T06:55:42.215832Z",
     "start_time": "2024-04-09T06:55:42.111584Z"
    }
   },
   "cell_type": "code",
   "source": [
    "l1 = dict(\n",
    "    x\n",
    "    for x in (remove_suffix(h) for h in os.listdir(dirs) if h.endswith(\"json\"))\n",
    "    if isinstance(x[1][0], dict)\n",
    ")"
   ],
   "id": "7afc1c9fc91c6ca6",
   "outputs": [],
   "execution_count": 235
  },
  {
   "metadata": {
    "ExecuteTime": {
     "end_time": "2024-04-09T06:42:22.783976Z",
     "start_time": "2024-04-09T06:42:22.781632Z"
    }
   },
   "cell_type": "code",
   "source": "",
   "id": "4b7b0a4acb0a188b",
   "outputs": [],
   "execution_count": 228
  },
  {
   "metadata": {
    "ExecuteTime": {
     "end_time": "2024-04-09T06:54:39.660301Z",
     "start_time": "2024-04-09T06:54:39.657028Z"
    }
   },
   "cell_type": "code",
   "source": [
    "test1 = filter(\n",
    "    lambda x: isinstance(x[1][0], dict),\n",
    "    map(remove_suffix, filter(lambda x: x.endswith(\"json\"), os.listdir(dirs))),\n",
    ")"
   ],
   "id": "9b278e02da2054c0",
   "outputs": [],
   "execution_count": 232
  },
  {
   "metadata": {
    "ExecuteTime": {
     "end_time": "2024-04-09T06:55:46.792368Z",
     "start_time": "2024-04-09T06:55:46.787233Z"
    }
   },
   "cell_type": "code",
   "source": "l1",
   "id": "e8067f3e93fb82ac",
   "outputs": [
    {
     "data": {
      "text/plain": [
       "{'D_Sat': [{'student13': ['session0', 'session2', 'session4'],\n",
       "   'student6': ['session0', 'session1', 'session2', 'session3', 'session4'],\n",
       "   'student10': ['session0', 'session1'],\n",
       "   'student11': ['session2', 'session3', 'session4'],\n",
       "   'student9': ['session1', 'session2', 'session3', 'session4'],\n",
       "   'student0': ['session0', 'session4'],\n",
       "   'student1': ['session1', 'session3'],\n",
       "   'student4': ['session0', 'session1'],\n",
       "   'student14': ['session2', 'session3', 'session4'],\n",
       "   'student3': ['session1', 'session2', 'session3', 'session4'],\n",
       "   'student7': ['session3', 'session4'],\n",
       "   'student12': ['session1', 'session2', 'session4'],\n",
       "   'student2': ['session0', 'session2', 'session3'],\n",
       "   'student8': ['session4'],\n",
       "   'student5': ['session0', 'session1', 'session4']},\n",
       "  {'session0': 4, 'session4': 3, 'session2': 2, 'session1': 7, 'session3': 1}],\n",
       " 'E_Unsat': [{'student13': ['session2', 'session3'],\n",
       "   'student14': ['session0', 'session3', 'session4'],\n",
       "   'student4': ['session0', 'session1', 'session3'],\n",
       "   'student11': ['session4'],\n",
       "   'student16': ['session0', 'session1', 'session2', 'session3', 'session4'],\n",
       "   'student8': ['session0', 'session1', 'session2', 'session3'],\n",
       "   'student0': ['session3', 'session4'],\n",
       "   'student12': ['session0', 'session2'],\n",
       "   'student10': ['session2'],\n",
       "   'student7': ['session2'],\n",
       "   'student6': ['session0', 'session1', 'session3'],\n",
       "   'student1': ['session0', 'session1', 'session2', 'session3'],\n",
       "   'student15': ['session0', 'session3'],\n",
       "   'student2': ['session4'],\n",
       "   'student5': ['session1', 'session2', 'session3', 'session4'],\n",
       "   'student3': ['session1', 'session2', 'session3'],\n",
       "   'student9': ['session2', 'session4']},\n",
       "  {'session0': 15,\n",
       "   'session1': 2,\n",
       "   'session4': 6,\n",
       "   'session3': 0,\n",
       "   'session2': 1}],\n",
       " 'B_Sat': [{'student0': ['session0',\n",
       "    'session3',\n",
       "    'session4',\n",
       "    'session6',\n",
       "    'session8'],\n",
       "   'student1': ['session4', 'session5', 'session6'],\n",
       "   'student7': ['session0',\n",
       "    'session2',\n",
       "    'session3',\n",
       "    'session4',\n",
       "    'session5',\n",
       "    'session6',\n",
       "    'session8'],\n",
       "   'student4': ['session2', 'session3', 'session4', 'session6', 'session7'],\n",
       "   'student3': ['session0',\n",
       "    'session1',\n",
       "    'session2',\n",
       "    'session3',\n",
       "    'session4',\n",
       "    'session8',\n",
       "    'session9'],\n",
       "   'student2': ['session1',\n",
       "    'session2',\n",
       "    'session3',\n",
       "    'session4',\n",
       "    'session5',\n",
       "    'session7',\n",
       "    'session8'],\n",
       "   'student9': ['session0', 'session1', 'session4', 'session5', 'session6'],\n",
       "   'student6': ['session2', 'session7'],\n",
       "   'student8': ['session0',\n",
       "    'session1',\n",
       "    'session2',\n",
       "    'session5',\n",
       "    'session6',\n",
       "    'session8',\n",
       "    'session9'],\n",
       "   'student5': ['session2',\n",
       "    'session3',\n",
       "    'session6',\n",
       "    'session7',\n",
       "    'session8',\n",
       "    'session9']},\n",
       "  {'session6': 6,\n",
       "   'session8': 5,\n",
       "   'session1': 8,\n",
       "   'session2': 8,\n",
       "   'session9': 5,\n",
       "   'session7': 6,\n",
       "   'session0': 1,\n",
       "   'session5': 5,\n",
       "   'session3': 6,\n",
       "   'session4': 4}],\n",
       " 'A_Sat': [{'student0': ['session0', 'session1'],\n",
       "   'student1': ['session1', 'session2'],\n",
       "   'student2': ['session2']},\n",
       "  {'session0': 2, 'session2': 2, 'session1': 1}],\n",
       " 'C_Unsat': [{'student0': ['session0',\n",
       "    'session2',\n",
       "    'session3',\n",
       "    'session4',\n",
       "    'session6',\n",
       "    'session8'],\n",
       "   'student1': ['session1', 'session3', 'session6', 'session7'],\n",
       "   'student7': ['session1',\n",
       "    'session2',\n",
       "    'session3',\n",
       "    'session4',\n",
       "    'session5',\n",
       "    'session9'],\n",
       "   'student4': ['session1',\n",
       "    'session2',\n",
       "    'session5',\n",
       "    'session6',\n",
       "    'session7',\n",
       "    'session9'],\n",
       "   'student3': ['session5'],\n",
       "   'student2': ['session2', 'session3', 'session4', 'session5', 'session7'],\n",
       "   'student9': ['session0', 'session1', 'session5', 'session6', 'session9'],\n",
       "   'student6': ['session1', 'session2', 'session5', 'session6', 'session8'],\n",
       "   'student8': ['session0',\n",
       "    'session2',\n",
       "    'session3',\n",
       "    'session7',\n",
       "    'session8',\n",
       "    'session9'],\n",
       "   'student5': ['session0', 'session7', 'session8']},\n",
       "  {'session6': 1,\n",
       "   'session8': 4,\n",
       "   'session1': 3,\n",
       "   'session2': 0,\n",
       "   'session9': 3,\n",
       "   'session7': 6,\n",
       "   'session0': 3,\n",
       "   'session5': 0,\n",
       "   'session3': 7,\n",
       "   'session4': 2}]}"
      ]
     },
     "execution_count": 236,
     "metadata": {},
     "output_type": "execute_result"
    }
   ],
   "execution_count": 236
  },
  {
   "metadata": {
    "ExecuteTime": {
     "end_time": "2024-04-09T06:54:52.003287Z",
     "start_time": "2024-04-09T06:54:51.970314Z"
    }
   },
   "cell_type": "code",
   "source": "test1 = dict(test1)",
   "id": "140fa498dcc8d612",
   "outputs": [],
   "execution_count": 233
  },
  {
   "metadata": {
    "ExecuteTime": {
     "end_time": "2024-04-09T06:54:56.381236Z",
     "start_time": "2024-04-09T06:54:56.377681Z"
    }
   },
   "cell_type": "code",
   "source": "test1",
   "id": "54247fa224524caa",
   "outputs": [
    {
     "data": {
      "text/plain": [
       "{'D_Sat': [{'student13': ['session0', 'session2', 'session4'],\n",
       "   'student6': ['session0', 'session1', 'session2', 'session3', 'session4'],\n",
       "   'student10': ['session0', 'session1'],\n",
       "   'student11': ['session2', 'session3', 'session4'],\n",
       "   'student9': ['session1', 'session2', 'session3', 'session4'],\n",
       "   'student0': ['session0', 'session4'],\n",
       "   'student1': ['session1', 'session3'],\n",
       "   'student4': ['session0', 'session1'],\n",
       "   'student14': ['session2', 'session3', 'session4'],\n",
       "   'student3': ['session1', 'session2', 'session3', 'session4'],\n",
       "   'student7': ['session3', 'session4'],\n",
       "   'student12': ['session1', 'session2', 'session4'],\n",
       "   'student2': ['session0', 'session2', 'session3'],\n",
       "   'student8': ['session4'],\n",
       "   'student5': ['session0', 'session1', 'session4']},\n",
       "  {'session0': 4, 'session4': 3, 'session2': 2, 'session1': 7, 'session3': 1}],\n",
       " 'E_Unsat': [{'student13': ['session2', 'session3'],\n",
       "   'student14': ['session0', 'session3', 'session4'],\n",
       "   'student4': ['session0', 'session1', 'session3'],\n",
       "   'student11': ['session4'],\n",
       "   'student16': ['session0', 'session1', 'session2', 'session3', 'session4'],\n",
       "   'student8': ['session0', 'session1', 'session2', 'session3'],\n",
       "   'student0': ['session3', 'session4'],\n",
       "   'student12': ['session0', 'session2'],\n",
       "   'student10': ['session2'],\n",
       "   'student7': ['session2'],\n",
       "   'student6': ['session0', 'session1', 'session3'],\n",
       "   'student1': ['session0', 'session1', 'session2', 'session3'],\n",
       "   'student15': ['session0', 'session3'],\n",
       "   'student2': ['session4'],\n",
       "   'student5': ['session1', 'session2', 'session3', 'session4'],\n",
       "   'student3': ['session1', 'session2', 'session3'],\n",
       "   'student9': ['session2', 'session4']},\n",
       "  {'session0': 15,\n",
       "   'session1': 2,\n",
       "   'session4': 6,\n",
       "   'session3': 0,\n",
       "   'session2': 1}],\n",
       " 'B_Sat': [{'student0': ['session0',\n",
       "    'session3',\n",
       "    'session4',\n",
       "    'session6',\n",
       "    'session8'],\n",
       "   'student1': ['session4', 'session5', 'session6'],\n",
       "   'student7': ['session0',\n",
       "    'session2',\n",
       "    'session3',\n",
       "    'session4',\n",
       "    'session5',\n",
       "    'session6',\n",
       "    'session8'],\n",
       "   'student4': ['session2', 'session3', 'session4', 'session6', 'session7'],\n",
       "   'student3': ['session0',\n",
       "    'session1',\n",
       "    'session2',\n",
       "    'session3',\n",
       "    'session4',\n",
       "    'session8',\n",
       "    'session9'],\n",
       "   'student2': ['session1',\n",
       "    'session2',\n",
       "    'session3',\n",
       "    'session4',\n",
       "    'session5',\n",
       "    'session7',\n",
       "    'session8'],\n",
       "   'student9': ['session0', 'session1', 'session4', 'session5', 'session6'],\n",
       "   'student6': ['session2', 'session7'],\n",
       "   'student8': ['session0',\n",
       "    'session1',\n",
       "    'session2',\n",
       "    'session5',\n",
       "    'session6',\n",
       "    'session8',\n",
       "    'session9'],\n",
       "   'student5': ['session2',\n",
       "    'session3',\n",
       "    'session6',\n",
       "    'session7',\n",
       "    'session8',\n",
       "    'session9']},\n",
       "  {'session6': 6,\n",
       "   'session8': 5,\n",
       "   'session1': 8,\n",
       "   'session2': 8,\n",
       "   'session9': 5,\n",
       "   'session7': 6,\n",
       "   'session0': 1,\n",
       "   'session5': 5,\n",
       "   'session3': 6,\n",
       "   'session4': 4}],\n",
       " 'A_Sat': [{'student0': ['session0', 'session1'],\n",
       "   'student1': ['session1', 'session2'],\n",
       "   'student2': ['session2']},\n",
       "  {'session0': 2, 'session2': 2, 'session1': 1}],\n",
       " 'C_Unsat': [{'student0': ['session0',\n",
       "    'session2',\n",
       "    'session3',\n",
       "    'session4',\n",
       "    'session6',\n",
       "    'session8'],\n",
       "   'student1': ['session1', 'session3', 'session6', 'session7'],\n",
       "   'student7': ['session1',\n",
       "    'session2',\n",
       "    'session3',\n",
       "    'session4',\n",
       "    'session5',\n",
       "    'session9'],\n",
       "   'student4': ['session1',\n",
       "    'session2',\n",
       "    'session5',\n",
       "    'session6',\n",
       "    'session7',\n",
       "    'session9'],\n",
       "   'student3': ['session5'],\n",
       "   'student2': ['session2', 'session3', 'session4', 'session5', 'session7'],\n",
       "   'student9': ['session0', 'session1', 'session5', 'session6', 'session9'],\n",
       "   'student6': ['session1', 'session2', 'session5', 'session6', 'session8'],\n",
       "   'student8': ['session0',\n",
       "    'session2',\n",
       "    'session3',\n",
       "    'session7',\n",
       "    'session8',\n",
       "    'session9'],\n",
       "   'student5': ['session0', 'session7', 'session8']},\n",
       "  {'session6': 1,\n",
       "   'session8': 4,\n",
       "   'session1': 3,\n",
       "   'session2': 0,\n",
       "   'session9': 3,\n",
       "   'session7': 6,\n",
       "   'session0': 3,\n",
       "   'session5': 0,\n",
       "   'session3': 7,\n",
       "   'session4': 2}]}"
      ]
     },
     "execution_count": 234,
     "metadata": {},
     "output_type": "execute_result"
    }
   ],
   "execution_count": 234
  },
  {
   "metadata": {
    "ExecuteTime": {
     "end_time": "2024-04-09T07:02:11.513998Z",
     "start_time": "2024-04-09T07:02:11.511120Z"
    }
   },
   "cell_type": "code",
   "source": [
    "os.environ[\"VIRTUAL_ENV\"]"
   ],
   "id": "9654a856662f9fd3",
   "outputs": [
    {
     "data": {
      "text/plain": [
       "'/Users/deven/Developer/Machine_Learning_Algorithms/.venv'"
      ]
     },
     "execution_count": 239,
     "metadata": {},
     "output_type": "execute_result"
    }
   ],
   "execution_count": 239
  },
  {
   "metadata": {
    "ExecuteTime": {
     "end_time": "2024-04-09T07:20:21.918483Z",
     "start_time": "2024-04-09T07:20:21.915351Z"
    }
   },
   "cell_type": "code",
   "source": [
    "import ast\n",
    "\n",
    "with open(\"mix_tape_graph.py\", \"r\") as file1:\n",
    "    ast_obj = ast.parse(file1.read())"
   ],
   "id": "d30378603e6238bc",
   "outputs": [],
   "execution_count": 262
  },
  {
   "metadata": {
    "ExecuteTime": {
     "end_time": "2024-04-09T07:12:38.392130Z",
     "start_time": "2024-04-09T07:12:38.389979Z"
    }
   },
   "cell_type": "code",
   "source": [
    "expr = \"\"\"\n",
    "def foo():\n",
    "   print(\"Hi\")\n",
    "\"\"\""
   ],
   "id": "2be129fda1d89250",
   "outputs": [],
   "execution_count": 255
  },
  {
   "metadata": {
    "ExecuteTime": {
     "end_time": "2024-04-09T07:27:44.445157Z",
     "start_time": "2024-04-09T07:27:44.443204Z"
    }
   },
   "cell_type": "code",
   "source": "expr = ast.parse(expr)",
   "id": "c2a0cfca633c6f96",
   "outputs": [],
   "execution_count": 278
  },
  {
   "metadata": {
    "ExecuteTime": {
     "end_time": "2024-04-09T07:26:55.367434Z",
     "start_time": "2024-04-09T07:26:55.365535Z"
    }
   },
   "cell_type": "code",
   "source": "import codegen",
   "id": "4eab8d32bb8e2f4f",
   "outputs": [],
   "execution_count": 273
  },
  {
   "metadata": {
    "ExecuteTime": {
     "end_time": "2024-04-09T07:27:50.490161Z",
     "start_time": "2024-04-09T07:27:50.487513Z"
    }
   },
   "cell_type": "code",
   "source": [
    "expr.body[0].body = [ast.parse(\"return 42\").body[0]]"
   ],
   "id": "b5b1348747a446b",
   "outputs": [],
   "execution_count": 279
  },
  {
   "metadata": {
    "ExecuteTime": {
     "end_time": "2024-04-09T07:27:56.059978Z",
     "start_time": "2024-04-09T07:27:56.057850Z"
    }
   },
   "cell_type": "code",
   "source": "codegen.to_source(expr)",
   "id": "d28b6bb60277c0b1",
   "outputs": [
    {
     "data": {
      "text/plain": [
       "'def foo():\\n    return 42'"
      ]
     },
     "execution_count": 280,
     "metadata": {},
     "output_type": "execute_result"
    }
   ],
   "execution_count": 280
  },
  {
   "metadata": {
    "ExecuteTime": {
     "end_time": "2024-04-09T07:27:18.447152Z",
     "start_time": "2024-04-09T07:27:18.444264Z"
    }
   },
   "cell_type": "code",
   "source": [
    "import astunparse\n",
    "\n",
    "print(astunparse.unparse(ast.parse(\"def foo():return 42\")))"
   ],
   "id": "7ba8e03b24fe65a7",
   "outputs": [
    {
     "name": "stdout",
     "output_type": "stream",
     "text": [
      "\n",
      "\n",
      "def foo():\n",
      "    return 42\n",
      "\n"
     ]
    }
   ],
   "execution_count": 276
  },
  {
   "metadata": {
    "ExecuteTime": {
     "end_time": "2024-04-09T07:27:25.803184Z",
     "start_time": "2024-04-09T07:27:25.800013Z"
    }
   },
   "cell_type": "code",
   "source": "expr",
   "id": "4d8b76a81135c6fd",
   "outputs": [
    {
     "data": {
      "text/plain": [
       "'\\ndef foo():\\n   print(\"Hi\")\\n'"
      ]
     },
     "execution_count": 277,
     "metadata": {},
     "output_type": "execute_result"
    }
   ],
   "execution_count": 277
  },
  {
   "metadata": {
    "ExecuteTime": {
     "end_time": "2024-04-09T07:14:32.859391Z",
     "start_time": "2024-04-09T07:14:32.780965Z"
    }
   },
   "cell_type": "code",
   "source": "codegen.to_source(p)",
   "id": "9208f5cb6a50cbd9",
   "outputs": [
    {
     "ename": "AttributeError",
     "evalue": "'str' object has no attribute '_fields'",
     "output_type": "error",
     "traceback": [
      "\u001b[0;31m---------------------------------------------------------------------------\u001b[0m",
      "\u001b[0;31mAttributeError\u001b[0m                            Traceback (most recent call last)",
      "Cell \u001b[0;32mIn[259], line 1\u001b[0m\n\u001b[0;32m----> 1\u001b[0m \u001b[43mcodegen\u001b[49m\u001b[38;5;241;43m.\u001b[39;49m\u001b[43mto_source\u001b[49m\u001b[43m(\u001b[49m\u001b[43mp\u001b[49m\u001b[43m)\u001b[49m\n",
      "File \u001b[0;32m~/Developer/Machine_Learning_Algorithms/.venv/lib/python3.12/site-packages/codegen.py:68\u001b[0m, in \u001b[0;36mto_source\u001b[0;34m(node, indent_with, add_line_information)\u001b[0m\n\u001b[1;32m     50\u001b[0m \u001b[38;5;250m\u001b[39m\u001b[38;5;124;03m\"\"\"This function can convert a node tree back into python sourcecode.\u001b[39;00m\n\u001b[1;32m     51\u001b[0m \u001b[38;5;124;03mThis is useful for debugging purposes, especially if you're dealing with\u001b[39;00m\n\u001b[1;32m     52\u001b[0m \u001b[38;5;124;03mcustom asts not generated by python itself.\u001b[39;00m\n\u001b[0;32m   (...)\u001b[0m\n\u001b[1;32m     65\u001b[0m \u001b[38;5;124;03mnumber information of statement nodes.\u001b[39;00m\n\u001b[1;32m     66\u001b[0m \u001b[38;5;124;03m\"\"\"\u001b[39;00m\n\u001b[1;32m     67\u001b[0m generator \u001b[38;5;241m=\u001b[39m SourceGenerator(indent_with, add_line_information)\n\u001b[0;32m---> 68\u001b[0m \u001b[43mgenerator\u001b[49m\u001b[38;5;241;43m.\u001b[39;49m\u001b[43mvisit\u001b[49m\u001b[43m(\u001b[49m\u001b[43mnode\u001b[49m\u001b[43m)\u001b[49m\n\u001b[1;32m     70\u001b[0m \u001b[38;5;28;01mreturn\u001b[39;00m \u001b[38;5;124m'\u001b[39m\u001b[38;5;124m'\u001b[39m\u001b[38;5;241m.\u001b[39mjoin(generator\u001b[38;5;241m.\u001b[39mresult)\n",
      "File \u001b[0;32m/Library/Frameworks/Python.framework/Versions/3.12/lib/python3.12/ast.py:407\u001b[0m, in \u001b[0;36mNodeVisitor.visit\u001b[0;34m(self, node)\u001b[0m\n\u001b[1;32m    405\u001b[0m method \u001b[38;5;241m=\u001b[39m \u001b[38;5;124m'\u001b[39m\u001b[38;5;124mvisit_\u001b[39m\u001b[38;5;124m'\u001b[39m \u001b[38;5;241m+\u001b[39m node\u001b[38;5;241m.\u001b[39m\u001b[38;5;18m__class__\u001b[39m\u001b[38;5;241m.\u001b[39m\u001b[38;5;18m__name__\u001b[39m\n\u001b[1;32m    406\u001b[0m visitor \u001b[38;5;241m=\u001b[39m \u001b[38;5;28mgetattr\u001b[39m(\u001b[38;5;28mself\u001b[39m, method, \u001b[38;5;28mself\u001b[39m\u001b[38;5;241m.\u001b[39mgeneric_visit)\n\u001b[0;32m--> 407\u001b[0m \u001b[38;5;28;01mreturn\u001b[39;00m \u001b[43mvisitor\u001b[49m\u001b[43m(\u001b[49m\u001b[43mnode\u001b[49m\u001b[43m)\u001b[49m\n",
      "File \u001b[0;32m/Library/Frameworks/Python.framework/Versions/3.12/lib/python3.12/ast.py:415\u001b[0m, in \u001b[0;36mNodeVisitor.generic_visit\u001b[0;34m(self, node)\u001b[0m\n\u001b[1;32m    413\u001b[0m     \u001b[38;5;28;01mfor\u001b[39;00m item \u001b[38;5;129;01min\u001b[39;00m value:\n\u001b[1;32m    414\u001b[0m         \u001b[38;5;28;01mif\u001b[39;00m \u001b[38;5;28misinstance\u001b[39m(item, AST):\n\u001b[0;32m--> 415\u001b[0m             \u001b[38;5;28;43mself\u001b[39;49m\u001b[38;5;241;43m.\u001b[39;49m\u001b[43mvisit\u001b[49m\u001b[43m(\u001b[49m\u001b[43mitem\u001b[49m\u001b[43m)\u001b[49m\n\u001b[1;32m    416\u001b[0m \u001b[38;5;28;01melif\u001b[39;00m \u001b[38;5;28misinstance\u001b[39m(value, AST):\n\u001b[1;32m    417\u001b[0m     \u001b[38;5;28mself\u001b[39m\u001b[38;5;241m.\u001b[39mvisit(value)\n",
      "File \u001b[0;32m/Library/Frameworks/Python.framework/Versions/3.12/lib/python3.12/ast.py:407\u001b[0m, in \u001b[0;36mNodeVisitor.visit\u001b[0;34m(self, node)\u001b[0m\n\u001b[1;32m    405\u001b[0m method \u001b[38;5;241m=\u001b[39m \u001b[38;5;124m'\u001b[39m\u001b[38;5;124mvisit_\u001b[39m\u001b[38;5;124m'\u001b[39m \u001b[38;5;241m+\u001b[39m node\u001b[38;5;241m.\u001b[39m\u001b[38;5;18m__class__\u001b[39m\u001b[38;5;241m.\u001b[39m\u001b[38;5;18m__name__\u001b[39m\n\u001b[1;32m    406\u001b[0m visitor \u001b[38;5;241m=\u001b[39m \u001b[38;5;28mgetattr\u001b[39m(\u001b[38;5;28mself\u001b[39m, method, \u001b[38;5;28mself\u001b[39m\u001b[38;5;241m.\u001b[39mgeneric_visit)\n\u001b[0;32m--> 407\u001b[0m \u001b[38;5;28;01mreturn\u001b[39;00m \u001b[43mvisitor\u001b[49m\u001b[43m(\u001b[49m\u001b[43mnode\u001b[49m\u001b[43m)\u001b[49m\n",
      "File \u001b[0;32m~/Developer/Machine_Learning_Algorithms/.venv/lib/python3.12/site-packages/codegen.py:191\u001b[0m, in \u001b[0;36mSourceGenerator.visit_FunctionDef\u001b[0;34m(self, node)\u001b[0m\n\u001b[1;32m    189\u001b[0m \u001b[38;5;28mself\u001b[39m\u001b[38;5;241m.\u001b[39mvisit(node\u001b[38;5;241m.\u001b[39margs)\n\u001b[1;32m    190\u001b[0m \u001b[38;5;28mself\u001b[39m\u001b[38;5;241m.\u001b[39mwrite(\u001b[38;5;124m'\u001b[39m\u001b[38;5;124m):\u001b[39m\u001b[38;5;124m'\u001b[39m)\n\u001b[0;32m--> 191\u001b[0m \u001b[38;5;28;43mself\u001b[39;49m\u001b[38;5;241;43m.\u001b[39;49m\u001b[43mbody\u001b[49m\u001b[43m(\u001b[49m\u001b[43mnode\u001b[49m\u001b[38;5;241;43m.\u001b[39;49m\u001b[43mbody\u001b[49m\u001b[43m)\u001b[49m\n",
      "File \u001b[0;32m~/Developer/Machine_Learning_Algorithms/.venv/lib/python3.12/site-packages/codegen.py:103\u001b[0m, in \u001b[0;36mSourceGenerator.body\u001b[0;34m(self, statements)\u001b[0m\n\u001b[1;32m    101\u001b[0m \u001b[38;5;28mself\u001b[39m\u001b[38;5;241m.\u001b[39mindentation \u001b[38;5;241m+\u001b[39m\u001b[38;5;241m=\u001b[39m \u001b[38;5;241m1\u001b[39m\n\u001b[1;32m    102\u001b[0m \u001b[38;5;28;01mfor\u001b[39;00m stmt \u001b[38;5;129;01min\u001b[39;00m statements:\n\u001b[0;32m--> 103\u001b[0m     \u001b[38;5;28;43mself\u001b[39;49m\u001b[38;5;241;43m.\u001b[39;49m\u001b[43mvisit\u001b[49m\u001b[43m(\u001b[49m\u001b[43mstmt\u001b[49m\u001b[43m)\u001b[49m\n\u001b[1;32m    104\u001b[0m \u001b[38;5;28mself\u001b[39m\u001b[38;5;241m.\u001b[39mindentation \u001b[38;5;241m-\u001b[39m\u001b[38;5;241m=\u001b[39m \u001b[38;5;241m1\u001b[39m\n",
      "File \u001b[0;32m/Library/Frameworks/Python.framework/Versions/3.12/lib/python3.12/ast.py:407\u001b[0m, in \u001b[0;36mNodeVisitor.visit\u001b[0;34m(self, node)\u001b[0m\n\u001b[1;32m    405\u001b[0m method \u001b[38;5;241m=\u001b[39m \u001b[38;5;124m'\u001b[39m\u001b[38;5;124mvisit_\u001b[39m\u001b[38;5;124m'\u001b[39m \u001b[38;5;241m+\u001b[39m node\u001b[38;5;241m.\u001b[39m\u001b[38;5;18m__class__\u001b[39m\u001b[38;5;241m.\u001b[39m\u001b[38;5;18m__name__\u001b[39m\n\u001b[1;32m    406\u001b[0m visitor \u001b[38;5;241m=\u001b[39m \u001b[38;5;28mgetattr\u001b[39m(\u001b[38;5;28mself\u001b[39m, method, \u001b[38;5;28mself\u001b[39m\u001b[38;5;241m.\u001b[39mgeneric_visit)\n\u001b[0;32m--> 407\u001b[0m \u001b[38;5;28;01mreturn\u001b[39;00m \u001b[43mvisitor\u001b[49m\u001b[43m(\u001b[49m\u001b[43mnode\u001b[49m\u001b[43m)\u001b[49m\n",
      "File \u001b[0;32m/Library/Frameworks/Python.framework/Versions/3.12/lib/python3.12/ast.py:411\u001b[0m, in \u001b[0;36mNodeVisitor.generic_visit\u001b[0;34m(self, node)\u001b[0m\n\u001b[1;32m    409\u001b[0m \u001b[38;5;28;01mdef\u001b[39;00m \u001b[38;5;21mgeneric_visit\u001b[39m(\u001b[38;5;28mself\u001b[39m, node):\n\u001b[1;32m    410\u001b[0m \u001b[38;5;250m    \u001b[39m\u001b[38;5;124;03m\"\"\"Called if no explicit visitor function exists for a node.\"\"\"\u001b[39;00m\n\u001b[0;32m--> 411\u001b[0m \u001b[43m    \u001b[49m\u001b[38;5;28;43;01mfor\u001b[39;49;00m\u001b[43m \u001b[49m\u001b[43mfield\u001b[49m\u001b[43m,\u001b[49m\u001b[43m \u001b[49m\u001b[43mvalue\u001b[49m\u001b[43m \u001b[49m\u001b[38;5;129;43;01min\u001b[39;49;00m\u001b[43m \u001b[49m\u001b[43miter_fields\u001b[49m\u001b[43m(\u001b[49m\u001b[43mnode\u001b[49m\u001b[43m)\u001b[49m\u001b[43m:\u001b[49m\n\u001b[1;32m    412\u001b[0m \u001b[43m        \u001b[49m\u001b[38;5;28;43;01mif\u001b[39;49;00m\u001b[43m \u001b[49m\u001b[38;5;28;43misinstance\u001b[39;49m\u001b[43m(\u001b[49m\u001b[43mvalue\u001b[49m\u001b[43m,\u001b[49m\u001b[43m \u001b[49m\u001b[38;5;28;43mlist\u001b[39;49m\u001b[43m)\u001b[49m\u001b[43m:\u001b[49m\n\u001b[1;32m    413\u001b[0m \u001b[43m            \u001b[49m\u001b[38;5;28;43;01mfor\u001b[39;49;00m\u001b[43m \u001b[49m\u001b[43mitem\u001b[49m\u001b[43m \u001b[49m\u001b[38;5;129;43;01min\u001b[39;49;00m\u001b[43m \u001b[49m\u001b[43mvalue\u001b[49m\u001b[43m:\u001b[49m\n",
      "File \u001b[0;32m/Library/Frameworks/Python.framework/Versions/3.12/lib/python3.12/ast.py:262\u001b[0m, in \u001b[0;36miter_fields\u001b[0;34m(node)\u001b[0m\n\u001b[1;32m    257\u001b[0m \u001b[38;5;28;01mdef\u001b[39;00m \u001b[38;5;21miter_fields\u001b[39m(node):\n\u001b[1;32m    258\u001b[0m \u001b[38;5;250m    \u001b[39m\u001b[38;5;124;03m\"\"\"\u001b[39;00m\n\u001b[1;32m    259\u001b[0m \u001b[38;5;124;03m    Yield a tuple of ``(fieldname, value)`` for each field in ``node._fields``\u001b[39;00m\n\u001b[1;32m    260\u001b[0m \u001b[38;5;124;03m    that is present on *node*.\u001b[39;00m\n\u001b[1;32m    261\u001b[0m \u001b[38;5;124;03m    \"\"\"\u001b[39;00m\n\u001b[0;32m--> 262\u001b[0m     \u001b[38;5;28;01mfor\u001b[39;00m field \u001b[38;5;129;01min\u001b[39;00m \u001b[43mnode\u001b[49m\u001b[38;5;241;43m.\u001b[39;49m\u001b[43m_fields\u001b[49m:\n\u001b[1;32m    263\u001b[0m         \u001b[38;5;28;01mtry\u001b[39;00m:\n\u001b[1;32m    264\u001b[0m             \u001b[38;5;28;01myield\u001b[39;00m field, \u001b[38;5;28mgetattr\u001b[39m(node, field)\n",
      "\u001b[0;31mAttributeError\u001b[0m: 'str' object has no attribute '_fields'"
     ]
    }
   ],
   "execution_count": 259
  },
  {
   "metadata": {
    "ExecuteTime": {
     "end_time": "2024-04-09T07:21:56.444731Z",
     "start_time": "2024-04-09T07:21:56.433434Z"
    }
   },
   "cell_type": "code",
   "source": "ast.parse(ast_obj.body[0].body)",
   "id": "40d67410f8736e90",
   "outputs": [
    {
     "ename": "TypeError",
     "evalue": "compile() arg 1 must be a string, bytes or AST object",
     "output_type": "error",
     "traceback": [
      "\u001b[0;31m---------------------------------------------------------------------------\u001b[0m",
      "\u001b[0;31mTypeError\u001b[0m                                 Traceback (most recent call last)",
      "Cell \u001b[0;32mIn[270], line 1\u001b[0m\n\u001b[0;32m----> 1\u001b[0m \u001b[43mast\u001b[49m\u001b[38;5;241;43m.\u001b[39;49m\u001b[43mparse\u001b[49m\u001b[43m(\u001b[49m\u001b[43mast_obj\u001b[49m\u001b[38;5;241;43m.\u001b[39;49m\u001b[43mbody\u001b[49m\u001b[43m[\u001b[49m\u001b[38;5;241;43m0\u001b[39;49m\u001b[43m]\u001b[49m\u001b[38;5;241;43m.\u001b[39;49m\u001b[43mbody\u001b[49m\u001b[43m)\u001b[49m\n",
      "File \u001b[0;32m/Library/Frameworks/Python.framework/Versions/3.12/lib/python3.12/ast.py:52\u001b[0m, in \u001b[0;36mparse\u001b[0;34m(source, filename, mode, type_comments, feature_version)\u001b[0m\n\u001b[1;32m     50\u001b[0m     feature_version \u001b[38;5;241m=\u001b[39m minor\n\u001b[1;32m     51\u001b[0m \u001b[38;5;66;03m# Else it should be an int giving the minor version for 3.x.\u001b[39;00m\n\u001b[0;32m---> 52\u001b[0m \u001b[38;5;28;01mreturn\u001b[39;00m \u001b[38;5;28;43mcompile\u001b[39;49m\u001b[43m(\u001b[49m\u001b[43msource\u001b[49m\u001b[43m,\u001b[49m\u001b[43m \u001b[49m\u001b[43mfilename\u001b[49m\u001b[43m,\u001b[49m\u001b[43m \u001b[49m\u001b[43mmode\u001b[49m\u001b[43m,\u001b[49m\u001b[43m \u001b[49m\u001b[43mflags\u001b[49m\u001b[43m,\u001b[49m\n\u001b[1;32m     53\u001b[0m \u001b[43m               \u001b[49m\u001b[43m_feature_version\u001b[49m\u001b[38;5;241;43m=\u001b[39;49m\u001b[43mfeature_version\u001b[49m\u001b[43m)\u001b[49m\n",
      "\u001b[0;31mTypeError\u001b[0m: compile() arg 1 must be a string, bytes or AST object"
     ]
    }
   ],
   "execution_count": 270
  },
  {
   "metadata": {
    "ExecuteTime": {
     "end_time": "2024-04-09T07:38:53.638531Z",
     "start_time": "2024-04-09T07:38:53.635778Z"
    }
   },
   "cell_type": "code",
   "source": [
    "def find_repeated_allocations(script):\n",
    "    tree = ast.parse(script)\n",
    "    variable_names = set()\n",
    "    visited = set()\n",
    "\n",
    "    for nodes in ast.walk(tree):\n",
    "        if not isinstance(nodes, ast.Assign):\n",
    "            continue\n",
    "\n",
    "        for node in nodes.targets:\n",
    "            if not isinstance(node, ast.Name):\n",
    "                continue\n",
    "\n",
    "            var_name = node.id\n",
    "            if var_name in variable_names and var_name not in visited:\n",
    "                visited.add(var_name)\n",
    "            variable_names.add(var_name)\n",
    "    return visited"
   ],
   "id": "8c5653bb195d3dee",
   "outputs": [],
   "execution_count": 281
  },
  {
   "metadata": {
    "ExecuteTime": {
     "end_time": "2024-04-09T07:43:31.544952Z",
     "start_time": "2024-04-09T07:43:31.541167Z"
    }
   },
   "cell_type": "code",
   "source": [
    "file_name = \"rules.py\"\n",
    "with open(BASE_DIR / file_name) as f:\n",
    "    script = f.read()\n",
    "repeated_variables = find_repeated_allocations(script)"
   ],
   "id": "6eeb95c2fde3ee3c",
   "outputs": [],
   "execution_count": 282
  },
  {
   "metadata": {
    "ExecuteTime": {
     "end_time": "2024-04-09T07:46:03.687224Z",
     "start_time": "2024-04-09T07:46:03.685342Z"
    }
   },
   "cell_type": "code",
   "source": [
    "if repeated_variables:\n",
    "    print(\" \".join(repeated_variables))\n",
    "else:\n",
    "    print(\"Clean Code\")"
   ],
   "id": "d4f83a73b19813f0",
   "outputs": [
    {
     "name": "stdout",
     "output_type": "stream",
     "text": [
      "tim rule3 rule5 duane vanilla rule4 rule1 rule6 jonathan adam rule2 chocolate\n"
     ]
    }
   ],
   "execution_count": 284
  },
  {
   "metadata": {
    "ExecuteTime": {
     "end_time": "2024-04-09T07:51:43.961416Z",
     "start_time": "2024-04-09T07:51:43.959632Z"
    }
   },
   "cell_type": "code",
   "source": "",
   "id": "1027d5d978eb6338",
   "outputs": [],
   "execution_count": 285
  },
  {
   "metadata": {
    "ExecuteTime": {
     "end_time": "2024-04-09T07:53:13.616177Z",
     "start_time": "2024-04-09T07:53:13.613279Z"
    }
   },
   "cell_type": "code",
   "source": [
    "import ast\n",
    "\n",
    "\n",
    "def modify_ast(node):\n",
    "    if isinstance(node, ast.FunctionDef):\n",
    "        # Modify function name\n",
    "        node.name = \"new_function_name\"\n",
    "    elif isinstance(node, ast.Call):\n",
    "        # Replace function call with another function call\n",
    "        if node.func.id == \"old_function_name\":\n",
    "            node.func.id = \"new_function_name\"\n",
    "    # Recursively modify child nodes\n",
    "    for child in ast.iter_child_nodes(node):\n",
    "        modify_ast(child)\n",
    "\n",
    "\n",
    "with open(\"example.py\", \"r\") as file:\n",
    "    code = file.read()\n",
    "tree = ast.parse(code)\n",
    "modify_ast(tree)\n",
    "# Generate modified code from the modified AST\n",
    "modified_code = ast.unparse(tree)"
   ],
   "id": "b09bad854e73f62b",
   "outputs": [],
   "execution_count": 286
  },
  {
   "metadata": {
    "ExecuteTime": {
     "end_time": "2024-04-09T07:53:19.072251Z",
     "start_time": "2024-04-09T07:53:19.070337Z"
    }
   },
   "cell_type": "code",
   "source": "print(modified_code)",
   "id": "8ab213b19d4d23cf",
   "outputs": [
    {
     "name": "stdout",
     "output_type": "stream",
     "text": [
      "def new_function_name():\n",
      "    print('Hi')\n"
     ]
    }
   ],
   "execution_count": 287
  },
  {
   "metadata": {
    "ExecuteTime": {
     "end_time": "2024-04-09T07:57:16.987826Z",
     "start_time": "2024-04-09T07:57:16.983979Z"
    }
   },
   "cell_type": "code",
   "source": [
    "def rewrite_ast(node):\n",
    "    if isinstance(node, ast.FunctionDef):\n",
    "        # Remove function from the AST\n",
    "        return None\n",
    "    # Recursively rewrite child nodes\n",
    "    new_node = node\n",
    "    for child in ast.iter_child_nodes(node):\n",
    "        new_child = rewrite_ast(child)\n",
    "        if new_child is not None:\n",
    "            if new_node is node:\n",
    "                new_node = node.__class__()\n",
    "            setattr(\n",
    "                new_node,\n",
    "                child._fields[child._fields.index(child._attributes[0])],\n",
    "                new_child,\n",
    "            )\n",
    "    return new_node\n",
    "\n",
    "\n",
    "with open(\"example.py\", \"r\") as file:\n",
    "    code = file.read()\n",
    "tree = ast.parse(code)\n",
    "rewritten_tree = rewrite_ast(tree)\n",
    "print(rewritten_tree)\n",
    "# Generate rewritten code from the modified AST\n",
    "rewritten_code = ast.unparse(rewritten_tree)"
   ],
   "id": "2596f9b829e6bc4d",
   "outputs": [
    {
     "name": "stdout",
     "output_type": "stream",
     "text": [
      "<ast.Module object at 0x10e32d710>\n"
     ]
    }
   ],
   "execution_count": 290
  },
  {
   "metadata": {
    "ExecuteTime": {
     "end_time": "2024-04-09T07:57:23.752287Z",
     "start_time": "2024-04-09T07:57:23.749945Z"
    }
   },
   "cell_type": "code",
   "source": "print(rewritten_code)",
   "id": "a12f4c0c550fd03d",
   "outputs": [
    {
     "name": "stdout",
     "output_type": "stream",
     "text": [
      "def old_function_name():\n",
      "    print('Hi')\n"
     ]
    }
   ],
   "execution_count": 291
  },
  {
   "metadata": {
    "ExecuteTime": {
     "end_time": "2024-04-09T08:00:59.838616Z",
     "start_time": "2024-04-09T08:00:59.835734Z"
    }
   },
   "cell_type": "code",
   "source": [
    "class MyVisitor(ast.NodeVisitor):\n",
    "    def visit_FunctionDef(self, node):\n",
    "        # Modify the function name\n",
    "        node.name = \"new_greet\"\n",
    "        # Add a new statement to the function body\n",
    "        new_statement = ast.parse(\"print('Modified code')\")\n",
    "        node.body.append(new_statement.body[0])\n",
    "        # Continue traversing the AST\n",
    "        self.generic_visit(node)\n",
    "\n",
    "\n",
    "code = \"\"\"\n",
    "def greet(name):\n",
    "    print(\"Hello, \" + name + \"!\")\n",
    "\"\"\"\n",
    "tree = ast.parse(code)\n",
    "visitor = MyVisitor()\n",
    "visitor.visit(tree)\n",
    "modified_code = ast.unparse(tree)\n",
    "print(modified_code)"
   ],
   "id": "4c40cda4cdb31c00",
   "outputs": [
    {
     "name": "stdout",
     "output_type": "stream",
     "text": [
      "def new_greet(name):\n",
      "    print('Hello, ' + name + '!')\n",
      "    print('Modified code')\n"
     ]
    }
   ],
   "execution_count": 292
  },
  {
   "metadata": {
    "ExecuteTime": {
     "end_time": "2024-04-09T08:10:52.638706Z",
     "start_time": "2024-04-09T08:10:52.635877Z"
    }
   },
   "cell_type": "code",
   "source": [
    "with open(\"example.py\", \"w\") as f:\n",
    "    f.write(modified_code)"
   ],
   "id": "eb8f9de916337761",
   "outputs": [],
   "execution_count": 296
  },
  {
   "metadata": {},
   "cell_type": "code",
   "outputs": [],
   "execution_count": null,
   "source": "",
   "id": "85bada6f45951c81"
  }
 ],
 "metadata": {
  "kernelspec": {
   "display_name": "Python 3",
   "language": "python",
   "name": "python3"
  },
  "language_info": {
   "codemirror_mode": {
    "name": "ipython",
    "version": 2
   },
   "file_extension": ".py",
   "mimetype": "text/x-python",
   "name": "python",
   "nbconvert_exporter": "python",
   "pygments_lexer": "ipython2",
   "version": "2.7.6"
  }
 },
 "nbformat": 4,
 "nbformat_minor": 5
}
