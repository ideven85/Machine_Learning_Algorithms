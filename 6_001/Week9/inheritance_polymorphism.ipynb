{
 "cells": [
  {
   "cell_type": "code",
   "execution_count": null,
   "id": "initial_id",
   "metadata": {
    "collapsed": true
   },
   "source": [
    ""
   ],
   "outputs": []
  },
  {
   "metadata": {},
   "cell_type": "markdown",
   "source": [
    "To look up a variable:\n",
    "\n",
    "look in the current frame first\n",
    "if not found, look in the parent frame\n",
    "if not found, look in that frame's parent frame\n",
    " (keep following that process, looking in parent frames)\n",
    "if not found, look in the global frame\n",
    "if not found, look in the builtins (where things like print, len, etc. are bound)\n",
    "if not found, raise a NameError\n",
    "To look up an attribute inside of an object:\n",
    "\n",
    "look in the object itself\n",
    "if not found, look in that object's class\n",
    "if not found, look in that class's superclass\n",
    "if not found, look in that class's superclass\n",
    " (keep following that process, looking in superclasses)\n",
    "if not found and no more superclasses, raise an AttributeError"
   ],
   "id": "f032c670a9ec5d06"
  },
  {
   "metadata": {
    "ExecuteTime": {
     "end_time": "2024-05-01T18:01:52.807398Z",
     "start_time": "2024-05-01T18:01:52.804210Z"
    }
   },
   "cell_type": "code",
   "source": [
    "# x=\"xylophone\"\n",
    "class A:\n",
    "    x = \"ale\"\n",
    "\n",
    "    def __init__(self):\n",
    "        self.x = self.x\n",
    "\n",
    "\n",
    "class B(A):\n",
    "    x = \"bear\"\n",
    "\n",
    "    def __init__(self):\n",
    "        super().__init__()\n",
    "        self.x = self.x"
   ],
   "id": "b56af8dca7935be5",
   "execution_count": 103,
   "outputs": []
  },
  {
   "metadata": {
    "ExecuteTime": {
     "end_time": "2024-05-01T18:01:53.444468Z",
     "start_time": "2024-05-01T18:01:53.441439Z"
    }
   },
   "cell_type": "code",
   "source": [
    "b = B()\n",
    "print(b.x)"
   ],
   "id": "ab978c01de232709",
   "execution_count": 104,
   "outputs": []
  },
  {
   "metadata": {
    "ExecuteTime": {
     "end_time": "2024-05-01T18:01:53.985493Z",
     "start_time": "2024-05-01T18:01:53.982785Z"
    }
   },
   "cell_type": "code",
   "source": [
    "class C(B):\n",
    "    x = \"cat\"\n",
    "\n",
    "    def __init__(self):\n",
    "        super().__init__()\n",
    "        x = \"car\""
   ],
   "id": "e687065978960cc1",
   "execution_count": 105,
   "outputs": []
  },
  {
   "metadata": {
    "ExecuteTime": {
     "end_time": "2024-05-01T18:01:54.529111Z",
     "start_time": "2024-05-01T18:01:54.526496Z"
    }
   },
   "cell_type": "code",
   "source": [
    "c = C()\n",
    "print(c.x)"
   ],
   "id": "50059a011fea8d97",
   "execution_count": 106,
   "outputs": []
  },
  {
   "metadata": {
    "ExecuteTime": {
     "end_time": "2024-05-01T18:01:55.023131Z",
     "start_time": "2024-05-01T18:01:55.020488Z"
    }
   },
   "cell_type": "code",
   "source": "C.x",
   "id": "1b37850031d9ff70",
   "execution_count": 107,
   "outputs": []
  },
  {
   "metadata": {
    "ExecuteTime": {
     "end_time": "2024-05-01T18:01:55.511030Z",
     "start_time": "2024-05-01T18:01:55.508645Z"
    }
   },
   "cell_type": "code",
   "source": [
    "class D(C):\n",
    "    x = \"dog\"\n",
    "\n",
    "    def __init__(self):\n",
    "        super().__init__()\n",
    "        self.x = x"
   ],
   "id": "315482f11c090a0d",
   "execution_count": 108,
   "outputs": []
  },
  {
   "metadata": {
    "ExecuteTime": {
     "end_time": "2024-05-01T18:01:57.045289Z",
     "start_time": "2024-05-01T18:01:57.042294Z"
    }
   },
   "cell_type": "code",
   "source": [
    "d = D()\n",
    "print(d.x)"
   ],
   "id": "9cbc40d2f88dcdca",
   "execution_count": 109,
   "outputs": []
  },
  {
   "metadata": {
    "ExecuteTime": {
     "end_time": "2024-05-01T17:57:56.946595Z",
     "start_time": "2024-05-01T17:57:56.942826Z"
    }
   },
   "cell_type": "code",
   "source": [
    "class E(D):\n",
    "    x = \"ear\"\n",
    "\n",
    "    def __init__(self):\n",
    "        super().__init__()\n",
    "        self.x = self.x\n",
    "\n",
    "\n",
    "e = E()\n",
    "print(e.x)"
   ],
   "id": "c1e37b4595c49aff",
   "execution_count": 84,
   "outputs": []
  },
  {
   "metadata": {
    "ExecuteTime": {
     "end_time": "2024-05-01T17:57:57.834870Z",
     "start_time": "2024-05-01T17:57:57.831548Z"
    }
   },
   "cell_type": "code",
   "source": [
    "class F(D):\n",
    "    x = \"fish\""
   ],
   "id": "3961bd0cf8849ee9",
   "execution_count": 85,
   "outputs": []
  },
  {
   "metadata": {
    "ExecuteTime": {
     "end_time": "2024-05-01T17:57:36.218461Z",
     "start_time": "2024-05-01T17:57:36.215337Z"
    }
   },
   "cell_type": "code",
   "source": [
    "f = F()\n",
    "print(f.x)"
   ],
   "id": "9bd96eaddc89e567",
   "execution_count": 79,
   "outputs": []
  },
  {
   "metadata": {
    "ExecuteTime": {
     "end_time": "2024-05-01T17:59:02.288021Z",
     "start_time": "2024-05-01T17:59:02.283890Z"
    }
   },
   "cell_type": "code",
   "source": "D.x",
   "id": "a3e23820f790071e",
   "execution_count": 86,
   "outputs": []
  },
  {
   "metadata": {
    "ExecuteTime": {
     "end_time": "2024-05-01T17:59:06.068235Z",
     "start_time": "2024-05-01T17:59:06.064811Z"
    }
   },
   "cell_type": "code",
   "source": "D().x",
   "id": "595cc61a15589dec",
   "execution_count": 87,
   "outputs": []
  },
  {
   "metadata": {
    "ExecuteTime": {
     "end_time": "2024-05-01T19:48:21.138082Z",
     "start_time": "2024-05-01T19:48:21.046841Z"
    }
   },
   "cell_type": "code",
   "source": [
    "a = ()\n",
    "a += 1\n",
    "a"
   ],
   "id": "9219d2d10c91fa24",
   "execution_count": 110,
   "outputs": []
  },
  {
   "metadata": {
    "ExecuteTime": {
     "end_time": "2024-05-01T19:51:11.997846Z",
     "start_time": "2024-05-01T19:51:11.993983Z"
    }
   },
   "cell_type": "code",
   "source": [
    "a = (1, 2, 3)\n",
    "len(a)"
   ],
   "id": "9fb0ad083c22d14c",
   "execution_count": 111,
   "outputs": []
  },
  {
   "metadata": {
    "ExecuteTime": {
     "end_time": "2024-05-01T19:52:11.961901Z",
     "start_time": "2024-05-01T19:52:11.959843Z"
    }
   },
   "cell_type": "code",
   "source": [
    "b = (4, 5, 6)"
   ],
   "id": "87b046b76ed78e32",
   "execution_count": 112,
   "outputs": []
  },
  {
   "metadata": {
    "ExecuteTime": {
     "end_time": "2024-05-01T19:52:15.071551Z",
     "start_time": "2024-05-01T19:52:15.068952Z"
    }
   },
   "cell_type": "code",
   "source": [
    "a + b"
   ],
   "id": "c4820395fa1fba7a",
   "execution_count": 113,
   "outputs": []
  },
  {
   "metadata": {
    "ExecuteTime": {
     "end_time": "2024-05-01T19:53:02.133442Z",
     "start_time": "2024-05-01T19:53:02.122175Z"
    }
   },
   "cell_type": "code",
   "source": [
    "for i in range(len(b)):\n",
    "    a[i] += b[i]"
   ],
   "id": "b8062d4ae1b95c7c",
   "execution_count": 115,
   "outputs": []
  },
  {
   "metadata": {
    "ExecuteTime": {
     "end_time": "2024-05-01T19:53:04.165482Z",
     "start_time": "2024-05-01T19:53:04.163131Z"
    }
   },
   "cell_type": "code",
   "source": "a",
   "id": "90bc73287999c382",
   "execution_count": 116,
   "outputs": []
  },
  {
   "metadata": {
    "ExecuteTime": {
     "end_time": "2024-05-01T19:53:29.619451Z",
     "start_time": "2024-05-01T19:53:29.616068Z"
    }
   },
   "cell_type": "code",
   "source": "a[0]",
   "id": "c8e820573ea8c00c",
   "execution_count": 117,
   "outputs": []
  },
  {
   "metadata": {
    "ExecuteTime": {
     "end_time": "2024-05-01T19:53:49.507532Z",
     "start_time": "2024-05-01T19:53:49.498163Z"
    }
   },
   "cell_type": "code",
   "source": [
    "a[0] = a[0] + 1"
   ],
   "id": "d17cb1bb3efe4095",
   "execution_count": 119,
   "outputs": []
  },
  {
   "metadata": {},
   "cell_type": "code",
   "execution_count": null,
   "source": "",
   "id": "4eb57fe445f32ee",
   "outputs": []
  },
  {
   "metadata": {},
   "cell_type": "markdown",
   "source": [
    "Hopefully this has been a useful example, demonstrating not only a little bit about how classes work but also how we can use them (and, in particular, use inheritance) to help us avoid repetitious or overly complex code. We'll leave that last example as our ending point for the day, but there are lots of things that we could still do to improve on this code! If you have the time and interest, it might be fun to tackle any of the following additions/improvements (or others of your own devising):\n",
    "* Even though we were able to move some redundant code from Union, Intersection, and Difference into the Combination class, there is still a lot of similarity in their __contains__ methods. Try finding a way to move the common behavior from their __contains__ methods into the Combination class without resorting to explicit checking of types anywhere.\n",
    "* Add support for built-in operations to create combinations. For example, s1 | s2 could result in Union(s1, s2), and we could do similar things for the other combinations. How can we accomplish this, and in which classes should the associated methods be implemented?\n",
    "* Make more kinds of primitive shapes (how could you implement a triangle? an octagon? etc?).\n",
    "* Make a new kind of shape representing an outline of a given shape, so that Outline(s, w), for example, would be a new shape that contains pixels that are within w pixels of the edge of an abitrary shape s. This can be done purely in terms of s.__contains__, without needing to store any additional information in s.\n",
    "* Implement one or more \"transformations\" of shapes, for example:\n",
    "    * Scaled(s, n) could be a version of s scaled up in size by a factor of n.\n",
    "    * Rotated(s, d) could be a version of s rotated by d degrees about its center.\n",
    "    * Translated(s, dx, dy) could be a version of s moved through space by dx pixels horizontally and dy pixels vertically.\n",
    "* Use the shapes library you've written to draw cool pictures!\n",
    "* Our draw code is inefficient because it iterates over every pixel of an image to find which pixels we should draw for a specific Shape. Typically, the shapes are much smaller than the entire image. Implement the notion of a bounding box, namely the smallest Rectangle that includes all the pixels of a Shape. With this, re-write draw to make use of the bounding box so that only the pixels within it need to be scanned to see which are actually in the shape and thus which need to be drawn onto the image.\n",
    "If you take on any of these tasks, we'd be interested to hear about them (and/or to help you get them to work if you're having trouble!)."
   ],
   "id": "66a927f54673851c"
  },
  {
   "metadata": {},
   "cell_type": "code",
   "execution_count": null,
   "source": "",
   "id": "4a5661b9f4a03d5",
   "outputs": []
  }
 ],
 "metadata": {
  "kernelspec": {
   "display_name": "Python 3",
   "language": "python",
   "name": "python3"
  },
  "language_info": {
   "codemirror_mode": {
    "name": "ipython",
    "version": 2
   },
   "file_extension": ".py",
   "mimetype": "text/x-python",
   "name": "python",
   "nbconvert_exporter": "python",
   "pygments_lexer": "ipython2",
   "version": "2.7.6"
  }
 },
 "nbformat": 4,
 "nbformat_minor": 5
}
