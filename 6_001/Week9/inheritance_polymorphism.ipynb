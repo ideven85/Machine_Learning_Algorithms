{
 "cells": [
  {
   "cell_type": "code",
   "execution_count": null,
   "id": "initial_id",
   "metadata": {
    "collapsed": true
   },
   "outputs": [],
   "source": [
    ""
   ]
  },
  {
   "metadata": {},
   "cell_type": "markdown",
   "source": [
    "To look up a variable:\n",
    "\n",
    "look in the current frame first\n",
    "if not found, look in the parent frame\n",
    "if not found, look in that frame's parent frame\n",
    " (keep following that process, looking in parent frames)\n",
    "if not found, look in the global frame\n",
    "if not found, look in the builtins (where things like print, len, etc. are bound)\n",
    "if not found, raise a NameError\n",
    "To look up an attribute inside of an object:\n",
    "\n",
    "look in the object itself\n",
    "if not found, look in that object's class\n",
    "if not found, look in that class's superclass\n",
    "if not found, look in that class's superclass\n",
    " (keep following that process, looking in superclasses)\n",
    "if not found and no more superclasses, raise an AttributeError"
   ],
   "id": "f032c670a9ec5d06"
  },
  {
   "metadata": {
    "ExecuteTime": {
     "end_time": "2024-05-01T18:01:52.807398Z",
     "start_time": "2024-05-01T18:01:52.804210Z"
    }
   },
   "cell_type": "code",
   "source": [
    "#x=\"xylophone\"\n",
    "class A:\n",
    "    x=\"ale\"\n",
    "    def __init__(self):\n",
    "        self.x=self.x\n",
    "class B(A):\n",
    "    x=\"bear\"\n",
    "    def __init__(self):\n",
    "        super().__init__()\n",
    "        self.x=self.x\n",
    "    "
   ],
   "id": "b56af8dca7935be5",
   "outputs": [],
   "execution_count": 103
  },
  {
   "metadata": {
    "ExecuteTime": {
     "end_time": "2024-05-01T18:01:53.444468Z",
     "start_time": "2024-05-01T18:01:53.441439Z"
    }
   },
   "cell_type": "code",
   "source": [
    "b = B()\n",
    "print(b.x)"
   ],
   "id": "ab978c01de232709",
   "outputs": [
    {
     "name": "stdout",
     "output_type": "stream",
     "text": [
      "bear\n"
     ]
    }
   ],
   "execution_count": 104
  },
  {
   "metadata": {
    "ExecuteTime": {
     "end_time": "2024-05-01T18:01:53.985493Z",
     "start_time": "2024-05-01T18:01:53.982785Z"
    }
   },
   "cell_type": "code",
   "source": [
    "class C(B):\n",
    "    x=\"cat\"\n",
    "    def __init__(self):\n",
    "        super().__init__()\n",
    "        x=\"car\""
   ],
   "id": "e687065978960cc1",
   "outputs": [],
   "execution_count": 105
  },
  {
   "metadata": {
    "ExecuteTime": {
     "end_time": "2024-05-01T18:01:54.529111Z",
     "start_time": "2024-05-01T18:01:54.526496Z"
    }
   },
   "cell_type": "code",
   "source": [
    "c=C()\n",
    "print(c.x)"
   ],
   "id": "50059a011fea8d97",
   "outputs": [
    {
     "name": "stdout",
     "output_type": "stream",
     "text": [
      "cat\n"
     ]
    }
   ],
   "execution_count": 106
  },
  {
   "metadata": {
    "ExecuteTime": {
     "end_time": "2024-05-01T18:01:55.023131Z",
     "start_time": "2024-05-01T18:01:55.020488Z"
    }
   },
   "cell_type": "code",
   "source": "C.x",
   "id": "1b37850031d9ff70",
   "outputs": [
    {
     "data": {
      "text/plain": [
       "'cat'"
      ]
     },
     "execution_count": 107,
     "metadata": {},
     "output_type": "execute_result"
    }
   ],
   "execution_count": 107
  },
  {
   "metadata": {
    "ExecuteTime": {
     "end_time": "2024-05-01T18:01:55.511030Z",
     "start_time": "2024-05-01T18:01:55.508645Z"
    }
   },
   "cell_type": "code",
   "source": [
    "class D(C):\n",
    "    x=\"dog\"\n",
    "    def __init__(self):\n",
    "        super().__init__()\n",
    "        self.x=x\n"
   ],
   "id": "315482f11c090a0d",
   "outputs": [],
   "execution_count": 108
  },
  {
   "metadata": {
    "ExecuteTime": {
     "end_time": "2024-05-01T18:01:57.045289Z",
     "start_time": "2024-05-01T18:01:57.042294Z"
    }
   },
   "cell_type": "code",
   "source": [
    "d=D()\n",
    "print(d.x)"
   ],
   "id": "9cbc40d2f88dcdca",
   "outputs": [
    {
     "name": "stdout",
     "output_type": "stream",
     "text": [
      "xylophone\n"
     ]
    }
   ],
   "execution_count": 109
  },
  {
   "metadata": {
    "ExecuteTime": {
     "end_time": "2024-05-01T17:57:56.946595Z",
     "start_time": "2024-05-01T17:57:56.942826Z"
    }
   },
   "cell_type": "code",
   "source": [
    "class E(D):\n",
    "    x=\"ear\"\n",
    "    def __init__(self):\n",
    "        super().__init__()\n",
    "        self.x=self.x\n",
    "e=E()\n",
    "print(e.x)"
   ],
   "id": "c1e37b4595c49aff",
   "outputs": [
    {
     "name": "stdout",
     "output_type": "stream",
     "text": [
      "xylophone\n"
     ]
    }
   ],
   "execution_count": 84
  },
  {
   "metadata": {
    "ExecuteTime": {
     "end_time": "2024-05-01T17:57:57.834870Z",
     "start_time": "2024-05-01T17:57:57.831548Z"
    }
   },
   "cell_type": "code",
   "source": [
    "class F(D):\n",
    "    x=\"fish\"\n"
   ],
   "id": "3961bd0cf8849ee9",
   "outputs": [],
   "execution_count": 85
  },
  {
   "metadata": {
    "ExecuteTime": {
     "end_time": "2024-05-01T17:57:36.218461Z",
     "start_time": "2024-05-01T17:57:36.215337Z"
    }
   },
   "cell_type": "code",
   "source": [
    "f=F()\n",
    "print(f.x)"
   ],
   "id": "9bd96eaddc89e567",
   "outputs": [
    {
     "name": "stdout",
     "output_type": "stream",
     "text": [
      "xylophone\n"
     ]
    }
   ],
   "execution_count": 79
  },
  {
   "metadata": {
    "ExecuteTime": {
     "end_time": "2024-05-01T17:59:02.288021Z",
     "start_time": "2024-05-01T17:59:02.283890Z"
    }
   },
   "cell_type": "code",
   "source": "D.x",
   "id": "a3e23820f790071e",
   "outputs": [
    {
     "data": {
      "text/plain": [
       "'dog'"
      ]
     },
     "execution_count": 86,
     "metadata": {},
     "output_type": "execute_result"
    }
   ],
   "execution_count": 86
  },
  {
   "metadata": {
    "ExecuteTime": {
     "end_time": "2024-05-01T17:59:06.068235Z",
     "start_time": "2024-05-01T17:59:06.064811Z"
    }
   },
   "cell_type": "code",
   "source": "D().x",
   "id": "595cc61a15589dec",
   "outputs": [
    {
     "data": {
      "text/plain": [
       "'xylophone'"
      ]
     },
     "execution_count": 87,
     "metadata": {},
     "output_type": "execute_result"
    }
   ],
   "execution_count": 87
  },
  {
   "metadata": {},
   "cell_type": "code",
   "outputs": [],
   "execution_count": null,
   "source": "",
   "id": "9219d2d10c91fa24"
  }
 ],
 "metadata": {
  "kernelspec": {
   "display_name": "Python 3",
   "language": "python",
   "name": "python3"
  },
  "language_info": {
   "codemirror_mode": {
    "name": "ipython",
    "version": 2
   },
   "file_extension": ".py",
   "mimetype": "text/x-python",
   "name": "python",
   "nbconvert_exporter": "python",
   "pygments_lexer": "ipython2",
   "version": "2.7.6"
  }
 },
 "nbformat": 4,
 "nbformat_minor": 5
}
