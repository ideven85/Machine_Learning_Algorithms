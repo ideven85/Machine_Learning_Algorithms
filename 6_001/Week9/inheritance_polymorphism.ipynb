{
 "cells": [
  {
   "cell_type": "code",
   "execution_count": null,
   "id": "initial_id",
   "metadata": {
    "collapsed": true
   },
   "outputs": [],
   "source": [
    ""
   ]
  },
  {
   "metadata": {},
   "cell_type": "markdown",
   "source": [
    "To look up a variable:\n",
    "\n",
    "look in the current frame first\n",
    "if not found, look in the parent frame\n",
    "if not found, look in that frame's parent frame\n",
    " (keep following that process, looking in parent frames)\n",
    "if not found, look in the global frame\n",
    "if not found, look in the builtins (where things like print, len, etc. are bound)\n",
    "if not found, raise a NameError\n",
    "To look up an attribute inside of an object:\n",
    "\n",
    "look in the object itself\n",
    "if not found, look in that object's class\n",
    "if not found, look in that class's superclass\n",
    "if not found, look in that class's superclass\n",
    " (keep following that process, looking in superclasses)\n",
    "if not found and no more superclasses, raise an AttributeError"
   ],
   "id": "f032c670a9ec5d06"
  },
  {
   "metadata": {
    "ExecuteTime": {
     "end_time": "2024-05-01T18:01:52.807398Z",
     "start_time": "2024-05-01T18:01:52.804210Z"
    }
   },
   "cell_type": "code",
   "source": [
    "# x=\"xylophone\"\n",
    "class A:\n",
    "    x = \"ale\"\n",
    "\n",
    "    def __init__(self):\n",
    "        self.x = self.x\n",
    "\n",
    "\n",
    "class B(A):\n",
    "    x = \"bear\"\n",
    "\n",
    "    def __init__(self):\n",
    "        super().__init__()\n",
    "        self.x = self.x"
   ],
   "id": "b56af8dca7935be5",
   "outputs": [],
   "execution_count": 103
  },
  {
   "metadata": {
    "ExecuteTime": {
     "end_time": "2024-05-01T18:01:53.444468Z",
     "start_time": "2024-05-01T18:01:53.441439Z"
    }
   },
   "cell_type": "code",
   "source": [
    "b = B()\n",
    "print(b.x)"
   ],
   "id": "ab978c01de232709",
   "outputs": [
    {
     "name": "stdout",
     "output_type": "stream",
     "text": [
      "bear\n"
     ]
    }
   ],
   "execution_count": 104
  },
  {
   "metadata": {
    "ExecuteTime": {
     "end_time": "2024-05-01T18:01:53.985493Z",
     "start_time": "2024-05-01T18:01:53.982785Z"
    }
   },
   "cell_type": "code",
   "source": [
    "class C(B):\n",
    "    x = \"cat\"\n",
    "\n",
    "    def __init__(self):\n",
    "        super().__init__()\n",
    "        x = \"car\""
   ],
   "id": "e687065978960cc1",
   "outputs": [],
   "execution_count": 105
  },
  {
   "metadata": {
    "ExecuteTime": {
     "end_time": "2024-05-01T18:01:54.529111Z",
     "start_time": "2024-05-01T18:01:54.526496Z"
    }
   },
   "cell_type": "code",
   "source": [
    "c = C()\n",
    "print(c.x)"
   ],
   "id": "50059a011fea8d97",
   "outputs": [
    {
     "name": "stdout",
     "output_type": "stream",
     "text": [
      "cat\n"
     ]
    }
   ],
   "execution_count": 106
  },
  {
   "metadata": {
    "ExecuteTime": {
     "end_time": "2024-05-01T18:01:55.023131Z",
     "start_time": "2024-05-01T18:01:55.020488Z"
    }
   },
   "cell_type": "code",
   "source": "C.x",
   "id": "1b37850031d9ff70",
   "outputs": [
    {
     "data": {
      "text/plain": [
       "'cat'"
      ]
     },
     "execution_count": 107,
     "metadata": {},
     "output_type": "execute_result"
    }
   ],
   "execution_count": 107
  },
  {
   "metadata": {
    "ExecuteTime": {
     "end_time": "2024-05-01T18:01:55.511030Z",
     "start_time": "2024-05-01T18:01:55.508645Z"
    }
   },
   "cell_type": "code",
   "source": [
    "class D(C):\n",
    "    x = \"dog\"\n",
    "\n",
    "    def __init__(self):\n",
    "        super().__init__()\n",
    "        self.x = x"
   ],
   "id": "315482f11c090a0d",
   "outputs": [],
   "execution_count": 108
  },
  {
   "metadata": {
    "ExecuteTime": {
     "end_time": "2024-05-01T18:01:57.045289Z",
     "start_time": "2024-05-01T18:01:57.042294Z"
    }
   },
   "cell_type": "code",
   "source": [
    "d = D()\n",
    "print(d.x)"
   ],
   "id": "9cbc40d2f88dcdca",
   "outputs": [
    {
     "name": "stdout",
     "output_type": "stream",
     "text": [
      "xylophone\n"
     ]
    }
   ],
   "execution_count": 109
  },
  {
   "metadata": {
    "ExecuteTime": {
     "end_time": "2024-05-01T17:57:56.946595Z",
     "start_time": "2024-05-01T17:57:56.942826Z"
    }
   },
   "cell_type": "code",
   "source": [
    "class E(D):\n",
    "    x = \"ear\"\n",
    "\n",
    "    def __init__(self):\n",
    "        super().__init__()\n",
    "        self.x = self.x\n",
    "\n",
    "\n",
    "e = E()\n",
    "print(e.x)"
   ],
   "id": "c1e37b4595c49aff",
   "outputs": [
    {
     "name": "stdout",
     "output_type": "stream",
     "text": [
      "xylophone\n"
     ]
    }
   ],
   "execution_count": 84
  },
  {
   "metadata": {
    "ExecuteTime": {
     "end_time": "2024-05-01T17:57:57.834870Z",
     "start_time": "2024-05-01T17:57:57.831548Z"
    }
   },
   "cell_type": "code",
   "source": [
    "class F(D):\n",
    "    x = \"fish\""
   ],
   "id": "3961bd0cf8849ee9",
   "outputs": [],
   "execution_count": 85
  },
  {
   "metadata": {
    "ExecuteTime": {
     "end_time": "2024-05-01T17:57:36.218461Z",
     "start_time": "2024-05-01T17:57:36.215337Z"
    }
   },
   "cell_type": "code",
   "source": [
    "f = F()\n",
    "print(f.x)"
   ],
   "id": "9bd96eaddc89e567",
   "outputs": [
    {
     "name": "stdout",
     "output_type": "stream",
     "text": [
      "xylophone\n"
     ]
    }
   ],
   "execution_count": 79
  },
  {
   "metadata": {
    "ExecuteTime": {
     "end_time": "2024-05-01T17:59:02.288021Z",
     "start_time": "2024-05-01T17:59:02.283890Z"
    }
   },
   "cell_type": "code",
   "source": "D.x",
   "id": "a3e23820f790071e",
   "outputs": [
    {
     "data": {
      "text/plain": [
       "'dog'"
      ]
     },
     "execution_count": 86,
     "metadata": {},
     "output_type": "execute_result"
    }
   ],
   "execution_count": 86
  },
  {
   "metadata": {
    "ExecuteTime": {
     "end_time": "2024-05-01T17:59:06.068235Z",
     "start_time": "2024-05-01T17:59:06.064811Z"
    }
   },
   "cell_type": "code",
   "source": "D().x",
   "id": "595cc61a15589dec",
   "outputs": [
    {
     "data": {
      "text/plain": [
       "'xylophone'"
      ]
     },
     "execution_count": 87,
     "metadata": {},
     "output_type": "execute_result"
    }
   ],
   "execution_count": 87
  },
  {
   "metadata": {
    "ExecuteTime": {
     "end_time": "2024-05-01T19:48:21.138082Z",
     "start_time": "2024-05-01T19:48:21.046841Z"
    }
   },
   "cell_type": "code",
   "source": [
    "a = ()\n",
    "a += 1\n",
    "a"
   ],
   "id": "9219d2d10c91fa24",
   "outputs": [
    {
     "ename": "TypeError",
     "evalue": "can only concatenate tuple (not \"int\") to tuple",
     "output_type": "error",
     "traceback": [
      "\u001b[0;31m---------------------------------------------------------------------------\u001b[0m",
      "\u001b[0;31mTypeError\u001b[0m                                 Traceback (most recent call last)",
      "Cell \u001b[0;32mIn[110], line 2\u001b[0m\n\u001b[1;32m      1\u001b[0m a\u001b[38;5;241m=\u001b[39m()\n\u001b[0;32m----> 2\u001b[0m \u001b[43ma\u001b[49m\u001b[38;5;241;43m+\u001b[39;49m\u001b[38;5;241;43m=\u001b[39;49m\u001b[38;5;241;43m1\u001b[39;49m\n\u001b[1;32m      3\u001b[0m a\n",
      "\u001b[0;31mTypeError\u001b[0m: can only concatenate tuple (not \"int\") to tuple"
     ]
    }
   ],
   "execution_count": 110
  },
  {
   "metadata": {
    "ExecuteTime": {
     "end_time": "2024-05-01T19:51:11.997846Z",
     "start_time": "2024-05-01T19:51:11.993983Z"
    }
   },
   "cell_type": "code",
   "source": [
    "a = (1, 2, 3)\n",
    "len(a)"
   ],
   "id": "9fb0ad083c22d14c",
   "outputs": [
    {
     "data": {
      "text/plain": [
       "3"
      ]
     },
     "execution_count": 111,
     "metadata": {},
     "output_type": "execute_result"
    }
   ],
   "execution_count": 111
  },
  {
   "metadata": {
    "ExecuteTime": {
     "end_time": "2024-05-01T19:52:11.961901Z",
     "start_time": "2024-05-01T19:52:11.959843Z"
    }
   },
   "cell_type": "code",
   "source": [
    "b = (4, 5, 6)"
   ],
   "id": "87b046b76ed78e32",
   "outputs": [],
   "execution_count": 112
  },
  {
   "metadata": {
    "ExecuteTime": {
     "end_time": "2024-05-01T19:52:15.071551Z",
     "start_time": "2024-05-01T19:52:15.068952Z"
    }
   },
   "cell_type": "code",
   "source": [
    "a + b"
   ],
   "id": "c4820395fa1fba7a",
   "outputs": [
    {
     "data": {
      "text/plain": [
       "(1, 2, 3, 4, 5, 6)"
      ]
     },
     "execution_count": 113,
     "metadata": {},
     "output_type": "execute_result"
    }
   ],
   "execution_count": 113
  },
  {
   "metadata": {
    "ExecuteTime": {
     "end_time": "2024-05-01T19:53:02.133442Z",
     "start_time": "2024-05-01T19:53:02.122175Z"
    }
   },
   "cell_type": "code",
   "source": [
    "for i in range(len(b)):\n",
    "    a[i] += b[i]"
   ],
   "id": "b8062d4ae1b95c7c",
   "outputs": [
    {
     "ename": "TypeError",
     "evalue": "'tuple' object does not support item assignment",
     "output_type": "error",
     "traceback": [
      "\u001b[0;31m---------------------------------------------------------------------------\u001b[0m",
      "\u001b[0;31mTypeError\u001b[0m                                 Traceback (most recent call last)",
      "Cell \u001b[0;32mIn[115], line 2\u001b[0m\n\u001b[1;32m      1\u001b[0m \u001b[38;5;28;01mfor\u001b[39;00m i \u001b[38;5;129;01min\u001b[39;00m \u001b[38;5;28mrange\u001b[39m(\u001b[38;5;28mlen\u001b[39m(b)):\n\u001b[0;32m----> 2\u001b[0m     \u001b[43ma\u001b[49m\u001b[43m[\u001b[49m\u001b[43mi\u001b[49m\u001b[43m]\u001b[49m\u001b[38;5;241m+\u001b[39m\u001b[38;5;241m=\u001b[39mb[i]\n",
      "\u001b[0;31mTypeError\u001b[0m: 'tuple' object does not support item assignment"
     ]
    }
   ],
   "execution_count": 115
  },
  {
   "metadata": {
    "ExecuteTime": {
     "end_time": "2024-05-01T19:53:04.165482Z",
     "start_time": "2024-05-01T19:53:04.163131Z"
    }
   },
   "cell_type": "code",
   "source": "a",
   "id": "90bc73287999c382",
   "outputs": [
    {
     "data": {
      "text/plain": [
       "(1, 2, 3)"
      ]
     },
     "execution_count": 116,
     "metadata": {},
     "output_type": "execute_result"
    }
   ],
   "execution_count": 116
  },
  {
   "metadata": {
    "ExecuteTime": {
     "end_time": "2024-05-01T19:53:29.619451Z",
     "start_time": "2024-05-01T19:53:29.616068Z"
    }
   },
   "cell_type": "code",
   "source": "a[0]",
   "id": "c8e820573ea8c00c",
   "outputs": [
    {
     "data": {
      "text/plain": [
       "1"
      ]
     },
     "execution_count": 117,
     "metadata": {},
     "output_type": "execute_result"
    }
   ],
   "execution_count": 117
  },
  {
   "metadata": {
    "ExecuteTime": {
     "end_time": "2024-05-01T19:53:49.507532Z",
     "start_time": "2024-05-01T19:53:49.498163Z"
    }
   },
   "cell_type": "code",
   "source": [
    "a[0] = a[0] + 1"
   ],
   "id": "d17cb1bb3efe4095",
   "outputs": [
    {
     "ename": "TypeError",
     "evalue": "'tuple' object does not support item assignment",
     "output_type": "error",
     "traceback": [
      "\u001b[0;31m---------------------------------------------------------------------------\u001b[0m",
      "\u001b[0;31mTypeError\u001b[0m                                 Traceback (most recent call last)",
      "Cell \u001b[0;32mIn[119], line 1\u001b[0m\n\u001b[0;32m----> 1\u001b[0m \u001b[43ma\u001b[49m\u001b[43m[\u001b[49m\u001b[38;5;241;43m0\u001b[39;49m\u001b[43m]\u001b[49m\u001b[38;5;241m=\u001b[39ma[\u001b[38;5;241m0\u001b[39m]\u001b[38;5;241m+\u001b[39m\u001b[38;5;241m1\u001b[39m\n",
      "\u001b[0;31mTypeError\u001b[0m: 'tuple' object does not support item assignment"
     ]
    }
   ],
   "execution_count": 119
  },
  {
   "metadata": {},
   "cell_type": "code",
   "outputs": [],
   "execution_count": null,
   "source": "",
   "id": "4eb57fe445f32ee"
  }
 ],
 "metadata": {
  "kernelspec": {
   "display_name": "Python 3",
   "language": "python",
   "name": "python3"
  },
  "language_info": {
   "codemirror_mode": {
    "name": "ipython",
    "version": 2
   },
   "file_extension": ".py",
   "mimetype": "text/x-python",
   "name": "python",
   "nbconvert_exporter": "python",
   "pygments_lexer": "ipython2",
   "version": "2.7.6"
  }
 },
 "nbformat": 4,
 "nbformat_minor": 5
}
