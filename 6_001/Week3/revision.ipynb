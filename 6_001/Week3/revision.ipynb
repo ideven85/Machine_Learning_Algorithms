{
 "cells": [
  {
   "cell_type": "code",
   "id": "initial_id",
   "metadata": {
    "collapsed": true,
    "ExecuteTime": {
     "end_time": "2024-04-26T00:03:08.322605Z",
     "start_time": "2024-04-26T00:03:08.320001Z"
    }
   },
   "source": [
    "pantry= [\n",
    "    ('a',1.2),\n",
    "    ('b',2),\n",
    "    ('c',3)\n",
    "]"
   ],
   "outputs": [],
   "execution_count": 1
  },
  {
   "metadata": {
    "ExecuteTime": {
     "end_time": "2024-04-26T00:03:34.567248Z",
     "start_time": "2024-04-26T00:03:34.564520Z"
    }
   },
   "cell_type": "code",
   "source": [
    "for item,count in pantry:\n",
    "    print(item,count)"
   ],
   "id": "8c15853634684407",
   "outputs": [
    {
     "name": "stdout",
     "output_type": "stream",
     "text": [
      "a 1.2\n",
      "b 2\n",
      "c 3\n"
     ]
    }
   ],
   "execution_count": 2
  },
  {
   "metadata": {
    "ExecuteTime": {
     "end_time": "2024-04-26T00:04:48.200174Z",
     "start_time": "2024-04-26T00:04:48.197220Z"
    }
   },
   "cell_type": "code",
   "source": [
    "for index,(item,count) in enumerate(pantry):\n",
    "    print(index,f\"Item:{item},Count is {count}\")"
   ],
   "id": "697ccfffc7b807bb",
   "outputs": [
    {
     "name": "stdout",
     "output_type": "stream",
     "text": [
      "0 Item:a,Count is 1.2\n",
      "1 Item:b,Count is 2\n",
      "2 Item:c,Count is 3\n"
     ]
    }
   ],
   "execution_count": 3
  },
  {
   "metadata": {
    "ExecuteTime": {
     "end_time": "2024-04-26T00:07:18.800280Z",
     "start_time": "2024-04-26T00:07:18.797693Z"
    }
   },
   "cell_type": "code",
   "source": [
    "template = '%s Loves Food.See %s cook'\n",
    "name = 'Max'\n",
    "print(template.format(name,name))\n"
   ],
   "id": "a5dbd90f26ea2ccb",
   "outputs": [
    {
     "name": "stdout",
     "output_type": "stream",
     "text": [
      "%s Loves Food.See %s cook\n"
     ]
    }
   ],
   "execution_count": 4
  },
  {
   "metadata": {
    "ExecuteTime": {
     "end_time": "2024-04-26T00:07:37.742677Z",
     "start_time": "2024-04-26T00:07:37.738684Z"
    }
   },
   "cell_type": "code",
   "source": "template%(name,name)",
   "id": "ccf45e4e6e8f242e",
   "outputs": [
    {
     "data": {
      "text/plain": [
       "'Max Loves Food.See Max cook'"
      ]
     },
     "execution_count": 5,
     "metadata": {},
     "output_type": "execute_result"
    }
   ],
   "execution_count": 5
  },
  {
   "metadata": {
    "ExecuteTime": {
     "end_time": "2024-04-26T00:11:24.641669Z",
     "start_time": "2024-04-26T00:11:24.639041Z"
    }
   },
   "cell_type": "code",
   "source": "template%(name.title(),name.title())",
   "id": "41113b572847bcff",
   "outputs": [
    {
     "data": {
      "text/plain": [
       "'Max Loves Food.See Max cook'"
      ]
     },
     "execution_count": 6,
     "metadata": {},
     "output_type": "execute_result"
    }
   ],
   "execution_count": 6
  },
  {
   "metadata": {
    "ExecuteTime": {
     "end_time": "2024-04-26T00:14:18.677057Z",
     "start_time": "2024-04-26T00:14:18.674603Z"
    }
   },
   "cell_type": "code",
   "source": "x=list(range(1,11))",
   "id": "3d3969ea7e1dee15",
   "outputs": [],
   "execution_count": 7
  },
  {
   "metadata": {
    "ExecuteTime": {
     "end_time": "2024-04-26T00:14:23.270641Z",
     "start_time": "2024-04-26T00:14:23.267564Z"
    }
   },
   "cell_type": "code",
   "source": "x[:2]",
   "id": "b5994dc97ec5614d",
   "outputs": [
    {
     "data": {
      "text/plain": [
       "[1, 2]"
      ]
     },
     "execution_count": 8,
     "metadata": {},
     "output_type": "execute_result"
    }
   ],
   "execution_count": 8
  },
  {
   "metadata": {
    "ExecuteTime": {
     "end_time": "2024-04-26T00:14:26.919036Z",
     "start_time": "2024-04-26T00:14:26.915894Z"
    }
   },
   "cell_type": "code",
   "source": "x[::2]",
   "id": "17f3a4ef852cd0c8",
   "outputs": [
    {
     "data": {
      "text/plain": [
       "[1, 3, 5, 7, 9]"
      ]
     },
     "execution_count": 9,
     "metadata": {},
     "output_type": "execute_result"
    }
   ],
   "execution_count": 9
  },
  {
   "metadata": {
    "ExecuteTime": {
     "end_time": "2024-04-26T00:14:40.778117Z",
     "start_time": "2024-04-26T00:14:40.774520Z"
    }
   },
   "cell_type": "code",
   "source": "x[:-1]",
   "id": "9444dfe955d49e8",
   "outputs": [
    {
     "data": {
      "text/plain": [
       "[1, 2, 3, 4, 5, 6, 7, 8, 9]"
      ]
     },
     "execution_count": 10,
     "metadata": {},
     "output_type": "execute_result"
    }
   ],
   "execution_count": 10
  },
  {
   "metadata": {
    "ExecuteTime": {
     "end_time": "2024-04-26T00:14:46.985578Z",
     "start_time": "2024-04-26T00:14:46.981898Z"
    }
   },
   "cell_type": "code",
   "source": "x[-1:]",
   "id": "88b8b0d2cfc82c48",
   "outputs": [
    {
     "data": {
      "text/plain": [
       "[10]"
      ]
     },
     "execution_count": 11,
     "metadata": {},
     "output_type": "execute_result"
    }
   ],
   "execution_count": 11
  },
  {
   "metadata": {
    "ExecuteTime": {
     "end_time": "2024-04-26T00:14:56.917061Z",
     "start_time": "2024-04-26T00:14:56.913628Z"
    }
   },
   "cell_type": "code",
   "source": "x[-1::]",
   "id": "fbd04cce3c0247fd",
   "outputs": [
    {
     "data": {
      "text/plain": [
       "[10]"
      ]
     },
     "execution_count": 12,
     "metadata": {},
     "output_type": "execute_result"
    }
   ],
   "execution_count": 12
  },
  {
   "metadata": {
    "ExecuteTime": {
     "end_time": "2024-04-26T00:15:03.768857Z",
     "start_time": "2024-04-26T00:15:03.765556Z"
    }
   },
   "cell_type": "code",
   "source": "x[::-1]",
   "id": "c9231478bcf93c9a",
   "outputs": [
    {
     "data": {
      "text/plain": [
       "[10, 9, 8, 7, 6, 5, 4, 3, 2, 1]"
      ]
     },
     "execution_count": 13,
     "metadata": {},
     "output_type": "execute_result"
    }
   ],
   "execution_count": 13
  },
  {
   "metadata": {
    "ExecuteTime": {
     "end_time": "2024-04-26T00:16:17.607034Z",
     "start_time": "2024-04-26T00:16:17.604915Z"
    }
   },
   "cell_type": "code",
   "source": "colors = ['violet','indigo','blue','green','yellow','orange','red']",
   "id": "bae04f6ab3c1d7cb",
   "outputs": [],
   "execution_count": 14
  },
  {
   "metadata": {
    "ExecuteTime": {
     "end_time": "2024-04-26T00:16:25.623074Z",
     "start_time": "2024-04-26T00:16:25.620447Z"
    }
   },
   "cell_type": "code",
   "source": "colors.sort(key=len)",
   "id": "6567b219f718f5e0",
   "outputs": [],
   "execution_count": 15
  },
  {
   "metadata": {
    "ExecuteTime": {
     "end_time": "2024-04-26T00:16:29.620947Z",
     "start_time": "2024-04-26T00:16:29.617795Z"
    }
   },
   "cell_type": "code",
   "source": "colors",
   "id": "69a8d79e02994ba6",
   "outputs": [
    {
     "data": {
      "text/plain": [
       "['red', 'blue', 'green', 'violet', 'indigo', 'yellow', 'orange']"
      ]
     },
     "execution_count": 16,
     "metadata": {},
     "output_type": "execute_result"
    }
   ],
   "execution_count": 16
  },
  {
   "metadata": {
    "ExecuteTime": {
     "end_time": "2024-04-26T01:05:54.417341Z",
     "start_time": "2024-04-26T01:05:54.414792Z"
    }
   },
   "cell_type": "code",
   "source": [
    "def comparator(o1,o2):\n",
    "    if len(o1)<len(o2):\n",
    "        return -1\n",
    "    elif len(o1)==len(o2):\n",
    "        return ord(o1[0])-ord(o2[0])\n",
    "    else:\n",
    "        return 1\n",
    "    \n"
   ],
   "id": "5e5b7033e3153669",
   "outputs": [],
   "execution_count": 35
  },
  {
   "metadata": {
    "ExecuteTime": {
     "end_time": "2024-04-26T00:59:52.397325Z",
     "start_time": "2024-04-26T00:59:52.383020Z"
    }
   },
   "cell_type": "code",
   "source": "",
   "id": "f2738a980a555370",
   "outputs": [
    {
     "ename": "TypeError",
     "evalue": "unsupported operand type(s) for -: 'str' and 'str'",
     "output_type": "error",
     "traceback": [
      "\u001B[0;31m---------------------------------------------------------------------------\u001B[0m",
      "\u001B[0;31mTypeError\u001B[0m                                 Traceback (most recent call last)",
      "Cell \u001B[0;32mIn[29], line 1\u001B[0m\n\u001B[0;32m----> 1\u001B[0m \u001B[43mcolors\u001B[49m\u001B[38;5;241;43m.\u001B[39;49m\u001B[43msort\u001B[49m\u001B[43m(\u001B[49m\u001B[43mkey\u001B[49m\u001B[38;5;241;43m=\u001B[39;49m\u001B[43mcmp_to_key\u001B[49m\u001B[43m(\u001B[49m\u001B[43mcomparator\u001B[49m\u001B[43m)\u001B[49m\u001B[43m)\u001B[49m\n",
      "Cell \u001B[0;32mIn[17], line 4\u001B[0m, in \u001B[0;36mcomparator\u001B[0;34m(o1, o2)\u001B[0m\n\u001B[1;32m      2\u001B[0m s1\u001B[38;5;241m=\u001B[39mo1\u001B[38;5;241m+\u001B[39mo2\n\u001B[1;32m      3\u001B[0m s2\u001B[38;5;241m=\u001B[39mo2\u001B[38;5;241m+\u001B[39mo1\n\u001B[0;32m----> 4\u001B[0m \u001B[38;5;28;01mreturn\u001B[39;00m \u001B[43ms1\u001B[49m\u001B[38;5;241;43m-\u001B[39;49m\u001B[43ms2\u001B[49m\n",
      "\u001B[0;31mTypeError\u001B[0m: unsupported operand type(s) for -: 'str' and 'str'"
     ]
    }
   ],
   "execution_count": 29
  },
  {
   "metadata": {
    "ExecuteTime": {
     "end_time": "2024-04-26T00:51:48.013966Z",
     "start_time": "2024-04-26T00:51:48.011448Z"
    }
   },
   "cell_type": "code",
   "source": "students = [('Alice', 85), ('Bob', 92), ('Charlie', 78)]",
   "id": "70a3454f1dab2bd6",
   "outputs": [],
   "execution_count": 19
  },
  {
   "metadata": {
    "ExecuteTime": {
     "end_time": "2024-04-26T00:54:10.006211Z",
     "start_time": "2024-04-26T00:54:10.003389Z"
    }
   },
   "cell_type": "code",
   "source": [
    "def compare_students(student1, student2):\n",
    "    return student2[1]-student1[1]\n"
   ],
   "id": "19d799e9b73db46a",
   "outputs": [],
   "execution_count": 22
  },
  {
   "metadata": {
    "ExecuteTime": {
     "end_time": "2024-04-26T00:54:10.510897Z",
     "start_time": "2024-04-26T00:54:10.503896Z"
    }
   },
   "cell_type": "code",
   "source": "students.sort(key=compare_students)",
   "id": "b16d8ca604b98917",
   "outputs": [
    {
     "ename": "TypeError",
     "evalue": "compare_students() missing 1 required positional argument: 'student2'",
     "output_type": "error",
     "traceback": [
      "\u001B[0;31m---------------------------------------------------------------------------\u001B[0m",
      "\u001B[0;31mTypeError\u001B[0m                                 Traceback (most recent call last)",
      "Cell \u001B[0;32mIn[23], line 1\u001B[0m\n\u001B[0;32m----> 1\u001B[0m \u001B[43mstudents\u001B[49m\u001B[38;5;241;43m.\u001B[39;49m\u001B[43msort\u001B[49m\u001B[43m(\u001B[49m\u001B[43mkey\u001B[49m\u001B[38;5;241;43m=\u001B[39;49m\u001B[43mcompare_students\u001B[49m\u001B[43m)\u001B[49m\n",
      "\u001B[0;31mTypeError\u001B[0m: compare_students() missing 1 required positional argument: 'student2'"
     ]
    }
   ],
   "execution_count": 23
  },
  {
   "metadata": {
    "ExecuteTime": {
     "end_time": "2024-04-26T00:55:03.012027Z",
     "start_time": "2024-04-26T00:55:03.009341Z"
    }
   },
   "cell_type": "code",
   "source": "def compare_grades(student1, student2): return student2[1] - student1[1]\n",
   "id": "b16a5989f7dc6be9",
   "outputs": [],
   "execution_count": 24
  },
  {
   "metadata": {
    "ExecuteTime": {
     "end_time": "2024-04-26T00:55:15.456910Z",
     "start_time": "2024-04-26T00:55:15.449883Z"
    }
   },
   "cell_type": "code",
   "source": "students.sort(key=compare_grades)",
   "id": "9ce12160fe9f2485",
   "outputs": [
    {
     "ename": "TypeError",
     "evalue": "compare_grades() missing 1 required positional argument: 'student2'",
     "output_type": "error",
     "traceback": [
      "\u001B[0;31m---------------------------------------------------------------------------\u001B[0m",
      "\u001B[0;31mTypeError\u001B[0m                                 Traceback (most recent call last)",
      "Cell \u001B[0;32mIn[25], line 1\u001B[0m\n\u001B[0;32m----> 1\u001B[0m \u001B[43mstudents\u001B[49m\u001B[38;5;241;43m.\u001B[39;49m\u001B[43msort\u001B[49m\u001B[43m(\u001B[49m\u001B[43mkey\u001B[49m\u001B[38;5;241;43m=\u001B[39;49m\u001B[43mcompare_grades\u001B[49m\u001B[43m)\u001B[49m\n",
      "\u001B[0;31mTypeError\u001B[0m: compare_grades() missing 1 required positional argument: 'student2'"
     ]
    }
   ],
   "execution_count": 25
  },
  {
   "metadata": {
    "ExecuteTime": {
     "end_time": "2024-04-26T00:55:47.080827Z",
     "start_time": "2024-04-26T00:55:47.078089Z"
    }
   },
   "cell_type": "code",
   "source": "students.sort(key=lambda x:x[1],reverse=True)",
   "id": "24ba1ba5d6b3ac2d",
   "outputs": [],
   "execution_count": 26
  },
  {
   "metadata": {
    "ExecuteTime": {
     "end_time": "2024-04-26T00:55:49.748159Z",
     "start_time": "2024-04-26T00:55:49.745931Z"
    }
   },
   "cell_type": "code",
   "source": "students",
   "id": "d2ffefee58433b25",
   "outputs": [
    {
     "data": {
      "text/plain": [
       "[('Bob', 92), ('Alice', 85), ('Charlie', 78)]"
      ]
     },
     "execution_count": 27,
     "metadata": {},
     "output_type": "execute_result"
    }
   ],
   "execution_count": 27
  },
  {
   "metadata": {
    "ExecuteTime": {
     "end_time": "2024-04-26T00:57:04.551149Z",
     "start_time": "2024-04-26T00:57:04.548692Z"
    }
   },
   "cell_type": "code",
   "source": "from functools import cmp_to_key",
   "id": "dce80ceaee3d868",
   "outputs": [],
   "execution_count": 28
  },
  {
   "metadata": {
    "ExecuteTime": {
     "end_time": "2024-04-26T01:06:06.241287Z",
     "start_time": "2024-04-26T01:06:06.238444Z"
    }
   },
   "cell_type": "code",
   "source": "colors.sort(key=cmp_to_key(comparator))\n",
   "id": "c61c503a3f78d3a9",
   "outputs": [],
   "execution_count": 36
  },
  {
   "metadata": {
    "ExecuteTime": {
     "end_time": "2024-04-26T01:04:41.555140Z",
     "start_time": "2024-04-26T01:04:41.552817Z"
    }
   },
   "cell_type": "code",
   "source": [
    "z='red'\n",
    "print(ord(z[0]))"
   ],
   "id": "5081fe315ab86b12",
   "outputs": [
    {
     "name": "stdout",
     "output_type": "stream",
     "text": [
      "114\n"
     ]
    }
   ],
   "execution_count": 33
  },
  {
   "metadata": {
    "ExecuteTime": {
     "end_time": "2024-04-26T01:05:06.579384Z",
     "start_time": "2024-04-26T01:05:06.570764Z"
    }
   },
   "cell_type": "code",
   "source": "int(z[0])",
   "id": "b6fd5a7e8ae91bc4",
   "outputs": [
    {
     "ename": "ValueError",
     "evalue": "invalid literal for int() with base 10: 'r'",
     "output_type": "error",
     "traceback": [
      "\u001B[0;31m---------------------------------------------------------------------------\u001B[0m",
      "\u001B[0;31mValueError\u001B[0m                                Traceback (most recent call last)",
      "Cell \u001B[0;32mIn[34], line 1\u001B[0m\n\u001B[0;32m----> 1\u001B[0m \u001B[38;5;28;43mint\u001B[39;49m\u001B[43m(\u001B[49m\u001B[43mz\u001B[49m\u001B[43m[\u001B[49m\u001B[38;5;241;43m0\u001B[39;49m\u001B[43m]\u001B[49m\u001B[43m)\u001B[49m\n",
      "\u001B[0;31mValueError\u001B[0m: invalid literal for int() with base 10: 'r'"
     ]
    }
   ],
   "execution_count": 34
  },
  {
   "metadata": {
    "ExecuteTime": {
     "end_time": "2024-04-26T01:06:12.998227Z",
     "start_time": "2024-04-26T01:06:12.996041Z"
    }
   },
   "cell_type": "code",
   "source": "colors",
   "id": "4b2d148a1d4ea54a",
   "outputs": [
    {
     "data": {
      "text/plain": [
       "['red', 'blue', 'green', 'indigo', 'orange', 'violet', 'yellow']"
      ]
     },
     "execution_count": 37,
     "metadata": {},
     "output_type": "execute_result"
    }
   ],
   "execution_count": 37
  },
  {
   "metadata": {
    "ExecuteTime": {
     "end_time": "2024-04-26T01:13:15.741130Z",
     "start_time": "2024-04-26T01:13:15.738671Z"
    }
   },
   "cell_type": "code",
   "source": [
    "shirts=['nike','neal','orange','blue','yellow']\n",
    "#shirts.sort(key=cmp_to_key(comparator))"
   ],
   "id": "248185e4dd253eae",
   "outputs": [],
   "execution_count": 45
  },
  {
   "metadata": {
    "ExecuteTime": {
     "end_time": "2024-04-26T01:13:16.408448Z",
     "start_time": "2024-04-26T01:13:16.405202Z"
    }
   },
   "cell_type": "code",
   "source": "shirts",
   "id": "7a8294645a72e34e",
   "outputs": [
    {
     "data": {
      "text/plain": [
       "['nike', 'neal', 'orange', 'blue', 'yellow']"
      ]
     },
     "execution_count": 46,
     "metadata": {},
     "output_type": "execute_result"
    }
   ],
   "execution_count": 46
  },
  {
   "metadata": {
    "ExecuteTime": {
     "end_time": "2024-04-26T01:13:21.619030Z",
     "start_time": "2024-04-26T01:13:21.615732Z"
    }
   },
   "cell_type": "code",
   "source": [
    "def comparator1(o1,o2):\n",
    "    if len(o1)==len(o2):\n",
    "        if o1[0]==o2[0]:\n",
    "            return comparator1(o1[1:],o2[1:])\n",
    "        else:\n",
    "            return ord(o1[0])-ord(o2[0])\n",
    "    else:\n",
    "        return 1 if len(o1)>len(o2) else -1"
   ],
   "id": "a2d231bc314a841",
   "outputs": [],
   "execution_count": 47
  },
  {
   "metadata": {
    "ExecuteTime": {
     "end_time": "2024-04-26T01:13:22.103786Z",
     "start_time": "2024-04-26T01:13:22.102012Z"
    }
   },
   "cell_type": "code",
   "source": "shirts.sort(key=cmp_to_key(comparator1))",
   "id": "7b31c88389325b97",
   "outputs": [],
   "execution_count": 48
  },
  {
   "metadata": {
    "ExecuteTime": {
     "end_time": "2024-04-26T01:13:22.540178Z",
     "start_time": "2024-04-26T01:13:22.538039Z"
    }
   },
   "cell_type": "code",
   "source": "shirts",
   "id": "a9ec48754c113525",
   "outputs": [
    {
     "data": {
      "text/plain": [
       "['blue', 'neal', 'nike', 'orange', 'yellow']"
      ]
     },
     "execution_count": 49,
     "metadata": {},
     "output_type": "execute_result"
    }
   ],
   "execution_count": 49
  },
  {
   "metadata": {
    "ExecuteTime": {
     "end_time": "2024-04-26T01:22:11.087525Z",
     "start_time": "2024-04-26T01:22:11.084459Z"
    }
   },
   "cell_type": "code",
   "source": "sorted(shirts,key=cmp_to_key(comparator))",
   "id": "3f9a14c09050736a",
   "outputs": [
    {
     "data": {
      "text/plain": [
       "['blue', 'neal', 'nike', 'orange', 'yellow']"
      ]
     },
     "execution_count": 50,
     "metadata": {},
     "output_type": "execute_result"
    }
   ],
   "execution_count": 50
  },
  {
   "metadata": {},
   "cell_type": "code",
   "outputs": [],
   "execution_count": null,
   "source": "",
   "id": "3b44e605d7b7f8cc"
  }
 ],
 "metadata": {
  "kernelspec": {
   "display_name": "Python 3",
   "language": "python",
   "name": "python3"
  },
  "language_info": {
   "codemirror_mode": {
    "name": "ipython",
    "version": 2
   },
   "file_extension": ".py",
   "mimetype": "text/x-python",
   "name": "python",
   "nbconvert_exporter": "python",
   "pygments_lexer": "ipython2",
   "version": "2.7.6"
  }
 },
 "nbformat": 4,
 "nbformat_minor": 5
}
