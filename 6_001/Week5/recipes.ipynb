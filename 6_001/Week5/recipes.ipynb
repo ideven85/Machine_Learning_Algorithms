{
 "cells": [
  {
   "cell_type": "code",
   "id": "initial_id",
   "metadata": {
    "collapsed": true,
    "ExecuteTime": {
     "end_time": "2024-04-14T20:15:12.717545Z",
     "start_time": "2024-04-14T20:15:12.714450Z"
    }
   },
   "source": [
    "count = 0"
   ],
   "execution_count": 29,
   "outputs": []
  },
  {
   "metadata": {
    "ExecuteTime": {
     "end_time": "2024-04-14T20:15:13.089312Z",
     "start_time": "2024-04-14T20:15:13.086754Z"
    }
   },
   "cell_type": "code",
   "source": [
    "def count_subparts(part_manifest: dict, part_num: int):\n",
    "    \"\"\"\n",
    "        Recursively determine the number of total parts that will be needed to\n",
    "        assemble the current part.\n",
    "        pen_manifest = {\n",
    "      5: [1, 2],\n",
    "      3: [6, 5, 5, 5, 5],\n",
    "      7: [1, 9],\n",
    "      10: [3, 3, 3, 6]\n",
    "    }\n",
    "    where the corresponding part numbers to part names are:\n",
    "\n",
    "        1 -> pen casing\n",
    "        2 -> blue ink\n",
    "        3 -> small pack of blue pens # Compound\n",
    "        5 -> blue pen\n",
    "        6 -> packaging\n",
    "        7 -> black pen\n",
    "        9 -> black ink\n",
    "        10 -> large pack of blue pens\n",
    "        Parameters:\n",
    "            * part_manifest (dict<int, list<int>>) : a dictionary with integer part\n",
    "                numbers mapping to a list of sub-part numbers needed to assemble the part.\n",
    "                Each sub-part may or may not themselves be a key in the dictionary.\n",
    "            * part_num (int) : the desired part to assemble.\n",
    "\n",
    "        Returns:\n",
    "            An integer representing the total number of subparts (including the\n",
    "            number of subparts of any compound subparts.\n",
    "\n",
    "        >>> x = {1: [2, 3, 2, 3], 3: [2, 4, 5], 4: [2, 7]}\n",
    "        >>> count_subparts(x, 3)\n",
    "        5\n",
    "        >>> count_subparts(x, 2)\n",
    "        0\n",
    "        >>> count_subparts(x, 1)\n",
    "        14\n",
    "        >>> y = {5: [1, 2], 3: [6,5,5,5,5], 7: [1,9], 10: [3,3,3,6]}\n",
    "        >>> count_subparts(y, 10)\n",
    "        43\n",
    "    \"\"\"\n",
    "    total = 0\n",
    "    global count\n",
    "    if part_num not in part_manifest:\n",
    "        count += 1\n",
    "        return total\n",
    "    else:\n",
    "        total += len(part_manifest[part_num])\n",
    "        for el in part_manifest[part_num]:\n",
    "            count += 1\n",
    "            if el in part_manifest:\n",
    "                total += count_subparts(part_manifest, el)\n",
    "\n",
    "        count += 1\n",
    "        return total"
   ],
   "id": "9b0c7a9d69ed4aff",
   "execution_count": 30,
   "outputs": []
  },
  {
   "metadata": {
    "ExecuteTime": {
     "end_time": "2024-04-14T20:14:55.533148Z",
     "start_time": "2024-04-14T20:14:55.529740Z"
    }
   },
   "cell_type": "code",
   "source": [
    "y = {5: [1, 2], 3: [6, 5, 5, 5, 5], 7: [1, 9], 10: [3, 3, 3, 6]}\n",
    "print(count_subparts(y, 5))"
   ],
   "id": "2d70012894923f8d",
   "execution_count": 27,
   "outputs": []
  },
  {
   "metadata": {
    "ExecuteTime": {
     "end_time": "2024-04-14T20:15:29.036694Z",
     "start_time": "2024-04-14T20:15:29.033518Z"
    }
   },
   "cell_type": "code",
   "source": [
    "print(count_subparts(y, 3))"
   ],
   "id": "4220bc5229a194b",
   "execution_count": 31,
   "outputs": []
  },
  {
   "metadata": {
    "ExecuteTime": {
     "end_time": "2024-04-14T20:15:31.082457Z",
     "start_time": "2024-04-14T20:15:31.079587Z"
    }
   },
   "cell_type": "code",
   "source": "print(count)",
   "id": "ab4cdd15fe966323",
   "execution_count": 32,
   "outputs": []
  },
  {
   "metadata": {},
   "cell_type": "code",
   "execution_count": null,
   "source": "",
   "id": "bc565451a353241",
   "outputs": []
  }
 ],
 "metadata": {
  "kernelspec": {
   "display_name": "Python 3",
   "language": "python",
   "name": "python3"
  },
  "language_info": {
   "codemirror_mode": {
    "name": "ipython",
    "version": 2
   },
   "file_extension": ".py",
   "mimetype": "text/x-python",
   "name": "python",
   "nbconvert_exporter": "python",
   "pygments_lexer": "ipython2",
   "version": "2.7.6"
  }
 },
 "nbformat": 4,
 "nbformat_minor": 5
}
