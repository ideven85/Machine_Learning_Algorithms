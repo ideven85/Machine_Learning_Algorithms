{
 "nbformat": 4,
 "nbformat_minor": 0,
 "metadata": {
  "colab": {
   "provenance": []
  },
  "kernelspec": {
   "name": "python3",
   "display_name": "Python 3"
  },
  "language_info": {
   "name": "python"
  }
 },
 "cells": [
  {
   "cell_type": "markdown",
   "source": [
    "# 6.390 Spring 2025 Homework 1\n",
    "\n",
    "**If you haven't already, please hit :**\n",
    "\n",
    "`File` -> `Save a Copy in Drive`\n",
    "\n",
    "**to copy this notebook to your Google drive, and work on a copy. If you don't do this, your changes won't be saved!**"
   ],
   "metadata": {
    "id": "USxWiWVJmnAk"
   }
  },
  {
   "cell_type": "markdown",
   "metadata": {
    "id": "T6fMHkONg6wm"
   },
   "source": [
    "## Intro to Colab\n",
    "\n",
    "Hello! Welcome to Colab! This colab notebook is intended to be a space for you to draft, debug, and test your code for Homework 1.\n",
    "\n",
    "Two things to note:\n",
    "\n",
    "* Any debugging should be done here instead of the homework page, as you'll get much more helpful output messages here.\n",
    "\n",
    "* As a reminder, you need to copy your answer to the homework page and hit `Submit` to actually claim your points.\n",
    "\n",
    "\n",
    "A Colab notebook is a Google-hosted IPython/Jupyter notebook. Think of it as a place where you can write and run Python code, and carry over variables between snippets (a.k.a. cells) of code.\n",
    "\n",
    "If you're already familiar with Colab and/or Jupyter notebooks, feel free to skip ahead to problem 1. If you're unfamiliar with Colab, you may want to take a look at: https://colab.research.google.com/notebooks/basic_features_overview.ipynb"
   ]
  },
  {
   "cell_type": "code",
   "metadata": {
    "id": "BPsFUAMxu1sq",
    "ExecuteTime": {
     "end_time": "2025-05-14T21:39:25.385510Z",
     "start_time": "2025-05-14T21:39:25.380998Z"
    }
   },
   "source": [
    "# Hi! I am a code cell! You can run me by hovering over [] to the left and hitting 'play'!\n",
    "print('Hello! You just ran a cell!')"
   ],
   "outputs": [
    {
     "name": "stdout",
     "output_type": "stream",
     "text": [
      "Hello! You just ran a cell!\n"
     ]
    }
   ],
   "execution_count": 1
  },
  {
   "cell_type": "markdown",
   "source": [
    "## Homework 1\n",
    "\n",
    "For each homework, we will provide you with test cases to use to debug your code. Note that these test cases may not be comprehensive: you may pass all the test cases but still have other bugs that cause you to fail the online checker. You can download the relevant Python file using the following cell."
   ],
   "metadata": {
    "id": "SbBvVOC_nXK3"
   }
  },
  {
   "cell_type": "code",
   "metadata": {
    "id": "FPLoqIc2eKDW",
    "ExecuteTime": {
     "end_time": "2025-05-14T21:39:26.938354Z",
     "start_time": "2025-05-14T21:39:25.397198Z"
    }
   },
   "source": [
    "# Run this cell to download the test functions for HW 1\n",
    "!rm -f hw01_tests.py\n",
    "!wget --quiet --no-check-certificate https://introml.mit.edu/_static/spring25/homework/hw01/hw01_tests.py\n",
    "from hw01_tests import *"
   ],
   "outputs": [],
   "execution_count": 2
  },
  {
   "cell_type": "markdown",
   "source": [
    "To look at the test functions more closely, click on the 📁 icon on the sidebar and double-click the `hw01_tests.py` file to open it in a new window. **We leave it to you to implement the relevant code for each problem and test it, though hopefully it will be easy to match test function to problem via the function names and comments.** Of course, if you ever have any questions, feel free to come to office hours or post on Piazza.\n",
    "\n",
    "Since this is the first homework, here are some examples as to how you might implement your code and test it, using the first few homework problems."
   ],
   "metadata": {
    "id": "WA4PdJPFowNS"
   }
  },
  {
   "cell_type": "code",
   "source": [
    "import numpy as np"
   ],
   "metadata": {
    "id": "WiqQtK07p3vT"
   },
   "execution_count": null,
   "outputs": []
  },
  {
   "cell_type": "markdown",
   "source": [
    "### 1.1.1) Creating Arrays"
   ],
   "metadata": {
    "id": "yOkpI-qzqP_s"
   }
  },
  {
   "cell_type": "code",
   "source": [
    "# Implement your code here\n",
    "A = None  # Your Code Here!"
   ],
   "metadata": {
    "id": "sjYPRlX7qLs1"
   },
   "execution_count": null,
   "outputs": []
  },
  {
   "cell_type": "code",
   "source": [
    "# Test your code\n",
    "# Please open hw01_tests.py, find this test, and read over the tests\n",
    "TestCreateArray(A)"
   ],
   "metadata": {
    "id": "Tx3GppmSqcDN"
   },
   "execution_count": null,
   "outputs": []
  },
  {
   "cell_type": "markdown",
   "source": [
    "### 1.1.2) Transpose\n"
   ],
   "metadata": {
    "id": "5vbx3c1sqtTf"
   }
  },
  {
   "cell_type": "code",
   "source": [
    "def tp(A):\n",
    "    pass"
   ],
   "metadata": {
    "id": "fyzqbA9pqfTO"
   },
   "execution_count": null,
   "outputs": []
  },
  {
   "cell_type": "code",
   "source": [
    "TestTranspose(tp)"
   ],
   "metadata": {
    "id": "YPgOhnzcq5p2"
   },
   "execution_count": null,
   "outputs": []
  },
  {
   "cell_type": "markdown",
   "source": [
    "Good luck with homework 1!"
   ],
   "metadata": {
    "id": "1Y64nNJVrKeW"
   }
  }
 ]
}
