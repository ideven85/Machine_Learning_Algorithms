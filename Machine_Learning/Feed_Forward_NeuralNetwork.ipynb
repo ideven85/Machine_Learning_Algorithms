{
 "cells": [
  {
   "metadata": {},
   "cell_type": "markdown",
   "source": [
    "# Feed Forward Neural Network using NLTK Sentiment Analyzer\n",
    "Loading and Cleaning Reviews\n",
    "The text data is already pretty clean, so not much preparation is required.\n",
    "Without getting too much into the details, we will prepare the data using the following method:\n",
    "* Split tokens on white space.\n",
    "* Remove all punctuation from words.\n",
    "* Remove all words that are not purely comprised of alphabetical characters.\n",
    "* Remove all words that are known stop words.\n",
    "* Remove all words that have a length <= 1 character.\n"
   ],
   "id": "ac5514c47c385705"
  },
  {
   "metadata": {
    "ExecuteTime": {
     "end_time": "2024-08-19T23:30:13.311881Z",
     "start_time": "2024-08-19T23:30:10.074503Z"
    }
   },
   "cell_type": "code",
   "source": [
    "from typing import Counter\n",
    "\n",
    "from nltk.corpus import stopwords\n",
    "import string"
   ],
   "id": "159a459de312efb7",
   "outputs": [],
   "execution_count": 1
  },
  {
   "metadata": {
    "ExecuteTime": {
     "end_time": "2024-08-19T23:31:06.278323Z",
     "start_time": "2024-08-19T23:31:06.273540Z"
    }
   },
   "cell_type": "code",
   "source": "print(len(stopwords.words('english')))",
   "id": "1957eda0edbed6c2",
   "outputs": [
    {
     "name": "stdout",
     "output_type": "stream",
     "text": [
      "179\n"
     ]
    }
   ],
   "execution_count": 2
  },
  {
   "metadata": {
    "ExecuteTime": {
     "end_time": "2024-08-19T23:31:20.557624Z",
     "start_time": "2024-08-19T23:31:20.551203Z"
    }
   },
   "cell_type": "code",
   "source": "stopwords.words('english')[:5]",
   "id": "5f4bda76ab8e9e2f",
   "outputs": [
    {
     "data": {
      "text/plain": [
       "['i', 'me', 'my', 'myself', 'we']"
      ]
     },
     "execution_count": 3,
     "metadata": {},
     "output_type": "execute_result"
    }
   ],
   "execution_count": 3
  },
  {
   "metadata": {
    "ExecuteTime": {
     "end_time": "2024-08-19T23:37:53.757088Z",
     "start_time": "2024-08-19T23:37:53.752941Z"
    }
   },
   "cell_type": "code",
   "source": [
    "def load_data_from_file(file_name):\n",
    "    with open(file_name,'r') as f:\n",
    "        return f.read()\n",
    "\n",
    "def clean_document(doc):\n",
    "    tokens = doc.split()\n",
    "    \n",
    "    table = str.maketrans(\"\",\"\",string.punctuation)\n",
    "    tokens = [w.translate(table) for w in tokens]\n",
    "    tokens = [w for w in tokens if w.isalpha()]\n",
    "    stop_words = set(stopwords.words('english'))\n",
    "    tokens = [w for w in tokens if not w in stop_words and len(w)>1]\n",
    "    return tokens\n",
    "    \n",
    "        "
   ],
   "id": "f995a76dbbee7f11",
   "outputs": [],
   "execution_count": 5
  },
  {
   "metadata": {
    "ExecuteTime": {
     "end_time": "2024-08-19T23:39:37.981842Z",
     "start_time": "2024-08-19T23:39:37.978260Z"
    }
   },
   "cell_type": "code",
   "source": [
    "data = load_data_from_file('data/review_polarity/txt_sentoken/pos/cv000_29590.txt')\n",
    "tokens = clean_document(data)\n",
    "print(tokens)"
   ],
   "id": "e5c5ace5547b1c6a",
   "outputs": [
    {
     "name": "stdout",
     "output_type": "stream",
     "text": [
      "['films', 'adapted', 'comic', 'books', 'plenty', 'success', 'whether', 'theyre', 'superheroes', 'batman', 'superman', 'spawn', 'geared', 'toward', 'kids', 'casper', 'arthouse', 'crowd', 'ghost', 'world', 'theres', 'never', 'really', 'comic', 'book', 'like', 'hell', 'starters', 'created', 'alan', 'moore', 'eddie', 'campbell', 'brought', 'medium', 'whole', 'new', 'level', 'mid', 'series', 'called', 'watchmen', 'say', 'moore', 'campbell', 'thoroughly', 'researched', 'subject', 'jack', 'ripper', 'would', 'like', 'saying', 'michael', 'jackson', 'starting', 'look', 'little', 'odd', 'book', 'graphic', 'novel', 'pages', 'long', 'includes', 'nearly', 'consist', 'nothing', 'footnotes', 'words', 'dont', 'dismiss', 'film', 'source', 'get', 'past', 'whole', 'comic', 'book', 'thing', 'might', 'find', 'another', 'stumbling', 'block', 'hells', 'directors', 'albert', 'allen', 'hughes', 'getting', 'hughes', 'brothers', 'direct', 'seems', 'almost', 'ludicrous', 'casting', 'carrot', 'top', 'well', 'anything', 'riddle', 'better', 'direct', 'film', 'thats', 'set', 'ghetto', 'features', 'really', 'violent', 'street', 'crime', 'mad', 'geniuses', 'behind', 'menace', 'ii', 'society', 'ghetto', 'question', 'course', 'whitechapel', 'londons', 'east', 'end', 'filthy', 'sooty', 'place', 'whores', 'called', 'unfortunates', 'starting', 'get', 'little', 'nervous', 'mysterious', 'psychopath', 'carving', 'profession', 'surgical', 'precision', 'first', 'stiff', 'turns', 'copper', 'peter', 'godley', 'robbie', 'coltrane', 'world', 'enough', 'calls', 'inspector', 'frederick', 'abberline', 'johnny', 'depp', 'blow', 'crack', 'case', 'abberline', 'widower', 'prophetic', 'dreams', 'unsuccessfully', 'tries', 'quell', 'copious', 'amounts', 'absinthe', 'opium', 'upon', 'arriving', 'whitechapel', 'befriends', 'unfortunate', 'named', 'mary', 'kelly', 'heather', 'graham', 'say', 'isnt', 'proceeds', 'investigate', 'horribly', 'gruesome', 'crimes', 'even', 'police', 'surgeon', 'cant', 'stomach', 'dont', 'think', 'anyone', 'needs', 'briefed', 'jack', 'ripper', 'wont', 'go', 'particulars', 'say', 'moore', 'campbell', 'unique', 'interesting', 'theory', 'identity', 'killer', 'reasons', 'chooses', 'slay', 'comic', 'dont', 'bother', 'cloaking', 'identity', 'ripper', 'screenwriters', 'terry', 'hayes', 'vertical', 'limit', 'rafael', 'yglesias', 'les', 'mis', 'rables', 'good', 'job', 'keeping', 'hidden', 'viewers', 'end', 'funny', 'watch', 'locals', 'blindly', 'point', 'finger', 'blame', 'jews', 'indians', 'englishman', 'could', 'never', 'capable', 'committing', 'ghastly', 'acts', 'hells', 'ending', 'whistling', 'stonecutters', 'song', 'simpsons', 'days', 'holds', 'back', 'electric', 'carwho', 'made', 'steve', 'guttenberg', 'star', 'dont', 'worry', 'itll', 'make', 'sense', 'see', 'onto', 'hells', 'appearance', 'certainly', 'dark', 'bleak', 'enough', 'surprising', 'see', 'much', 'looks', 'like', 'tim', 'burton', 'film', 'planet', 'apes', 'times', 'seems', 'like', 'sleepy', 'hollow', 'print', 'saw', 'wasnt', 'completely', 'finished', 'color', 'music', 'finalized', 'comments', 'marilyn', 'manson', 'cinematographer', 'peter', 'deming', 'dont', 'say', 'word', 'ably', 'captures', 'dreariness', 'victorianera', 'london', 'helped', 'make', 'flashy', 'killing', 'scenes', 'remind', 'crazy', 'flashbacks', 'twin', 'peaks', 'even', 'though', 'violence', 'film', 'pales', 'comparison', 'blackandwhite', 'comic', 'oscar', 'winner', 'martin', 'childs', 'shakespeare', 'love', 'production', 'design', 'turns', 'original', 'prague', 'surroundings', 'one', 'creepy', 'place', 'even', 'acting', 'hell', 'solid', 'dreamy', 'depp', 'turning', 'typically', 'strong', 'performance', 'deftly', 'handling', 'british', 'accent', 'ians', 'holm', 'joe', 'goulds', 'secret', 'richardson', 'dalmatians', 'log', 'great', 'supporting', 'roles', 'big', 'surprise', 'graham', 'cringed', 'first', 'time', 'opened', 'mouth', 'imagining', 'attempt', 'irish', 'accent', 'actually', 'wasnt', 'half', 'bad', 'film', 'however', 'good', 'strong', 'violencegore', 'sexuality', 'language', 'drug', 'content']\n"
     ]
    }
   ],
   "execution_count": 6
  },
  {
   "metadata": {
    "ExecuteTime": {
     "end_time": "2024-08-19T23:40:04.778990Z",
     "start_time": "2024-08-19T23:40:04.775296Z"
    }
   },
   "cell_type": "code",
   "source": "print(len(tokens))",
   "id": "f606f7064e9339cc",
   "outputs": [
    {
     "name": "stdout",
     "output_type": "stream",
     "text": [
      "402\n"
     ]
    }
   ],
   "execution_count": 7
  },
  {
   "metadata": {
    "ExecuteTime": {
     "end_time": "2024-08-20T00:03:20.945474Z",
     "start_time": "2024-08-20T00:03:20.941809Z"
    }
   },
   "cell_type": "code",
   "source": [
    "import os\n",
    "\n",
    "\n",
    "def update_vocab(directory,vocab,skip=None):\n",
    "    for fileName in os.listdir(directory):\n",
    "        fileName = directory+\"/\"+fileName\n",
    "        if skip and fileName.startswith(skip):\n",
    "            continue\n",
    "            \n",
    "        doc = load_data_from_file(fileName)\n",
    "        tokens = clean_document(doc)\n",
    "        vocab.update(tokens)\n"
   ],
   "id": "1ba5f7475075bcb8",
   "outputs": [],
   "execution_count": 14
  },
  {
   "metadata": {
    "ExecuteTime": {
     "end_time": "2024-08-20T00:04:29.693715Z",
     "start_time": "2024-08-20T00:04:29.689440Z"
    }
   },
   "cell_type": "code",
   "source": [
    "from collections import Counter\n",
    "positive = 'data/review_polarity/txt_sentoken/pos'\n",
    "negative = 'data/review_polarity/txt_sentoken/neg'\n",
    "vocab = Counter()\n"
   ],
   "id": "c8748d493af74869",
   "outputs": [],
   "execution_count": 21
  },
  {
   "metadata": {
    "ExecuteTime": {
     "end_time": "2024-08-20T00:04:30.636078Z",
     "start_time": "2024-08-20T00:04:30.218126Z"
    }
   },
   "cell_type": "code",
   "source": "update_vocab(positive,vocab,'cv9')\n",
   "id": "3bd677b927bd114e",
   "outputs": [],
   "execution_count": 22
  },
  {
   "metadata": {
    "ExecuteTime": {
     "end_time": "2024-08-20T00:04:30.647356Z",
     "start_time": "2024-08-20T00:04:30.642671Z"
    }
   },
   "cell_type": "code",
   "source": "vocab.most_common(50)",
   "id": "446d7a29ab89f008",
   "outputs": [
    {
     "data": {
      "text/plain": [
       "[('film', 4866),\n",
       " ('one', 2904),\n",
       " ('movie', 2392),\n",
       " ('like', 1718),\n",
       " ('story', 1215),\n",
       " ('also', 1200),\n",
       " ('films', 1199),\n",
       " ('good', 1193),\n",
       " ('even', 1174),\n",
       " ('time', 1171),\n",
       " ('characters', 1038),\n",
       " ('much', 1027),\n",
       " ('character', 1013),\n",
       " ('would', 993),\n",
       " ('life', 984),\n",
       " ('well', 968),\n",
       " ('first', 963),\n",
       " ('two', 960),\n",
       " ('see', 954),\n",
       " ('way', 915),\n",
       " ('get', 884),\n",
       " ('best', 809),\n",
       " ('many', 780),\n",
       " ('really', 776),\n",
       " ('make', 772),\n",
       " ('little', 770),\n",
       " ('people', 769),\n",
       " ('great', 745),\n",
       " ('movies', 734),\n",
       " ('new', 718),\n",
       " ('never', 717),\n",
       " ('scene', 715),\n",
       " ('man', 698),\n",
       " ('love', 645),\n",
       " ('scenes', 635),\n",
       " ('could', 627),\n",
       " ('world', 622),\n",
       " ('doesnt', 597),\n",
       " ('still', 585),\n",
       " ('us', 581),\n",
       " ('plot', 575),\n",
       " ('hes', 571),\n",
       " ('know', 569),\n",
       " ('however', 566),\n",
       " ('makes', 561),\n",
       " ('another', 559),\n",
       " ('back', 558),\n",
       " ('performance', 549),\n",
       " ('go', 544),\n",
       " ('dont', 538)]"
      ]
     },
     "execution_count": 23,
     "metadata": {},
     "output_type": "execute_result"
    }
   ],
   "execution_count": 23
  },
  {
   "metadata": {
    "ExecuteTime": {
     "end_time": "2024-08-20T00:04:31.564189Z",
     "start_time": "2024-08-20T00:04:31.176807Z"
    }
   },
   "cell_type": "code",
   "source": "update_vocab(negative,vocab,'cv9')",
   "id": "db51c1d141b0d058",
   "outputs": [],
   "execution_count": 24
  },
  {
   "metadata": {
    "ExecuteTime": {
     "end_time": "2024-08-20T00:04:31.662919Z",
     "start_time": "2024-08-20T00:04:31.658191Z"
    }
   },
   "cell_type": "code",
   "source": "vocab.most_common(50)",
   "id": "dc0942fc4b721fee",
   "outputs": [
    {
     "data": {
      "text/plain": [
       "[('film', 8860),\n",
       " ('one', 5521),\n",
       " ('movie', 5440),\n",
       " ('like', 3553),\n",
       " ('even', 2555),\n",
       " ('good', 2320),\n",
       " ('time', 2283),\n",
       " ('story', 2118),\n",
       " ('films', 2102),\n",
       " ('would', 2042),\n",
       " ('much', 2024),\n",
       " ('also', 1965),\n",
       " ('characters', 1947),\n",
       " ('get', 1921),\n",
       " ('character', 1906),\n",
       " ('two', 1825),\n",
       " ('first', 1768),\n",
       " ('see', 1730),\n",
       " ('well', 1694),\n",
       " ('way', 1668),\n",
       " ('make', 1590),\n",
       " ('really', 1563),\n",
       " ('little', 1491),\n",
       " ('life', 1472),\n",
       " ('plot', 1451),\n",
       " ('people', 1420),\n",
       " ('movies', 1416),\n",
       " ('could', 1395),\n",
       " ('bad', 1374),\n",
       " ('scene', 1373),\n",
       " ('never', 1364),\n",
       " ('best', 1301),\n",
       " ('new', 1277),\n",
       " ('many', 1268),\n",
       " ('doesnt', 1267),\n",
       " ('man', 1266),\n",
       " ('scenes', 1265),\n",
       " ('dont', 1210),\n",
       " ('know', 1207),\n",
       " ('hes', 1150),\n",
       " ('great', 1141),\n",
       " ('another', 1111),\n",
       " ('love', 1089),\n",
       " ('action', 1078),\n",
       " ('go', 1075),\n",
       " ('us', 1065),\n",
       " ('director', 1056),\n",
       " ('something', 1048),\n",
       " ('end', 1047),\n",
       " ('still', 1038)]"
      ]
     },
     "execution_count": 25,
     "metadata": {},
     "output_type": "execute_result"
    }
   ],
   "execution_count": 25
  },
  {
   "metadata": {
    "ExecuteTime": {
     "end_time": "2024-08-20T00:04:47.607539Z",
     "start_time": "2024-08-20T00:04:47.603771Z"
    }
   },
   "cell_type": "code",
   "source": "len(vocab)",
   "id": "8c95a4d67e7fec6b",
   "outputs": [
    {
     "data": {
      "text/plain": [
       "46557"
      ]
     },
     "execution_count": 26,
     "metadata": {},
     "output_type": "execute_result"
    }
   ],
   "execution_count": 26
  },
  {
   "metadata": {
    "ExecuteTime": {
     "end_time": "2024-08-20T00:07:08.663034Z",
     "start_time": "2024-08-20T00:07:08.655694Z"
    }
   },
   "cell_type": "code",
   "source": [
    "with open('vocab.txt','w') as f:\n",
    "    tokens = '\\n'.join([k for k,v in vocab.items() if v>=2])\n",
    "    f.write(tokens)\n",
    "    "
   ],
   "id": "d9c02d59b92a70ca",
   "outputs": [],
   "execution_count": 27
  },
  {
   "metadata": {},
   "cell_type": "code",
   "outputs": [],
   "execution_count": null,
   "source": "",
   "id": "d44954b96589a8fc"
  }
 ],
 "metadata": {
  "kernelspec": {
   "display_name": "Python 3",
   "language": "python",
   "name": "python3"
  },
  "language_info": {
   "codemirror_mode": {
    "name": "ipython",
    "version": 2
   },
   "file_extension": ".py",
   "mimetype": "text/x-python",
   "name": "python",
   "nbconvert_exporter": "python",
   "pygments_lexer": "ipython2",
   "version": "2.7.6"
  }
 },
 "nbformat": 4,
 "nbformat_minor": 5
}
