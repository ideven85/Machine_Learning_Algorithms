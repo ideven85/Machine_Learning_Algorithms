{
 "cells": [
  {
   "metadata": {},
   "cell_type": "markdown",
   "source": [
    "# Feed Forward Neural Network using NLTK Sentiment Analyzer\n",
    "Loading and Cleaning Reviews\n",
    "The text data is already pretty clean, so not much preparation is required.\n",
    "Without getting too much into the details, we will prepare the data using the following method:\n",
    "* Split tokens on white space.\n",
    "* Remove all punctuation from words.\n",
    "* Remove all words that are not purely comprised of alphabetical characters.\n",
    "* Remove all words that are known stop words.\n",
    "* Remove all words that have a length <= 1 character.\n"
   ],
   "id": "ac5514c47c385705"
  },
  {
   "metadata": {
    "ExecuteTime": {
     "end_time": "2024-08-20T03:37:20.667747Z",
     "start_time": "2024-08-20T03:37:19.243417Z"
    }
   },
   "cell_type": "code",
   "source": [
    "\n",
    "from nltk.corpus import stopwords\n",
    "import string"
   ],
   "id": "159a459de312efb7",
   "outputs": [],
   "execution_count": 1
  },
  {
   "metadata": {
    "ExecuteTime": {
     "end_time": "2024-08-19T23:31:06.278323Z",
     "start_time": "2024-08-19T23:31:06.273540Z"
    }
   },
   "cell_type": "code",
   "source": "print(len(stopwords.words('english')))",
   "id": "1957eda0edbed6c2",
   "outputs": [
    {
     "name": "stdout",
     "output_type": "stream",
     "text": [
      "179\n"
     ]
    }
   ],
   "execution_count": 2
  },
  {
   "metadata": {
    "ExecuteTime": {
     "end_time": "2024-08-20T03:42:15.731261Z",
     "start_time": "2024-08-20T03:42:15.727199Z"
    }
   },
   "cell_type": "code",
   "source": [
    "print(stopwords.words(\"Spanish\")[:5])\n",
    "print(stopwords.words(\"Hinglish\")[:5])"
   ],
   "id": "42191f5d15846bb7",
   "outputs": [
    {
     "name": "stdout",
     "output_type": "stream",
     "text": [
      "['de', 'la', 'que', 'el', 'en']\n",
      "['a', 'aadi', 'aaj', 'aap', 'aapne']\n"
     ]
    }
   ],
   "execution_count": 9
  },
  {
   "metadata": {
    "ExecuteTime": {
     "end_time": "2024-08-20T04:00:19.197741Z",
     "start_time": "2024-08-20T04:00:19.193803Z"
    }
   },
   "cell_type": "code",
   "source": "len(set(stopwords.words('english')))",
   "id": "5f4bda76ab8e9e2f",
   "outputs": [
    {
     "data": {
      "text/plain": [
       "179"
      ]
     },
     "execution_count": 19,
     "metadata": {},
     "output_type": "execute_result"
    }
   ],
   "execution_count": 19
  },
  {
   "metadata": {
    "ExecuteTime": {
     "end_time": "2024-08-20T04:08:54.164132Z",
     "start_time": "2024-08-20T04:08:54.159740Z"
    }
   },
   "cell_type": "code",
   "source": [
    "def load_data_from_file(file_name):\n",
    "    with open(file_name,'r') as f:\n",
    "        return f.read()\n",
    "\n",
    "def clean_document(doc):\n",
    "    tokens = doc.split()\n",
    "    \n",
    "    table = str.maketrans(\"\",\"\",string.punctuation)\n",
    "    tokens = [w.translate(table) for w in tokens]\n",
    "    tokens = [w for w in tokens if w.isalpha()]\n",
    "    stop_words = set(stopwords.words('english'))\n",
    "    tokens = [w for w in tokens if not w in stop_words and len(w)>1]\n",
    "    return tokens\n",
    "\n",
    "\n",
    "def getTokens(file):\n",
    "    with open(file,'r') as f:\n",
    "        tokens = f.read()\n",
    "    tokens = tokens.split()\n",
    "    table = str.maketrans(\"\",\"\",string.punctuation)\n",
    "    stop_words = set(stopwords.words(\"english\"))\n",
    "    tokens = set([ w.translate(table) for w in tokens if (w.isalpha() and len(w)>1 and w not in stop_words)])\n",
    "    return tokens\n",
    "\n",
    "    \n",
    "        "
   ],
   "id": "f995a76dbbee7f11",
   "outputs": [],
   "execution_count": 25
  },
  {
   "metadata": {
    "ExecuteTime": {
     "end_time": "2024-08-20T04:11:22.058347Z",
     "start_time": "2024-08-20T04:11:22.052752Z"
    }
   },
   "cell_type": "code",
   "source": [
    "data = load_data_from_file('data/review_polarity/txt_sentoken/pos/cv000_29590.txt')\n",
    "tokens = set(clean_document(data))\n",
    "print(len(set(tokens)))\n",
    "z=getTokens('data/review_polarity/txt_sentoken/pos/cv000_29590.txt')"
   ],
   "id": "e5c5ace5547b1c6a",
   "outputs": [
    {
     "name": "stdout",
     "output_type": "stream",
     "text": [
      "341\n"
     ]
    }
   ],
   "execution_count": 35
  },
  {
   "metadata": {
    "ExecuteTime": {
     "end_time": "2024-08-20T04:15:22.790547Z",
     "start_time": "2024-08-20T04:15:22.787782Z"
    }
   },
   "cell_type": "code",
   "source": [
    "def get_difference(set1, set2):\n",
    "    diff = []\n",
    "    for w in set1:\n",
    "        if w not in set2:\n",
    "            diff.append(w)\n",
    "    return diff\n",
    "len(z-tokens)\n",
    "print(get_difference(z,tokens))\n",
    "    "
   ],
   "id": "f606f7064e9339cc",
   "outputs": [
    {
     "name": "stdout",
     "output_type": "stream",
     "text": [
      "[]\n"
     ]
    }
   ],
   "execution_count": 41
  },
  {
   "metadata": {
    "ExecuteTime": {
     "end_time": "2024-08-20T04:17:14.269281Z",
     "start_time": "2024-08-20T04:17:14.265928Z"
    }
   },
   "cell_type": "code",
   "source": [
    "import os\n",
    "\n",
    "\n",
    "def update_vocab(directory,vocab,skip=None):\n",
    "    for fileName in os.listdir(directory):\n",
    "        fileName = directory+\"/\"+fileName\n",
    "        if skip and fileName.startswith(skip):\n",
    "            continue\n",
    "            \n",
    "        \n",
    "        tokens =getTokens(fileName)\n",
    "        vocab.update(tokens)\n"
   ],
   "id": "1ba5f7475075bcb8",
   "outputs": [],
   "execution_count": 42
  },
  {
   "metadata": {
    "ExecuteTime": {
     "end_time": "2024-08-20T04:17:17.009663Z",
     "start_time": "2024-08-20T04:17:17.006681Z"
    }
   },
   "cell_type": "code",
   "source": [
    "from collections import Counter\n",
    "positive = 'data/review_polarity/txt_sentoken/pos'\n",
    "negative = 'data/review_polarity/txt_sentoken/neg'\n",
    "vocab = Counter()\n"
   ],
   "id": "c8748d493af74869",
   "outputs": [],
   "execution_count": 43
  },
  {
   "metadata": {
    "ExecuteTime": {
     "end_time": "2024-08-20T04:17:20.622681Z",
     "start_time": "2024-08-20T04:17:20.175167Z"
    }
   },
   "cell_type": "code",
   "source": "update_vocab(positive,vocab,'cv9')\n",
   "id": "3bd677b927bd114e",
   "outputs": [],
   "execution_count": 44
  },
  {
   "metadata": {
    "ExecuteTime": {
     "end_time": "2024-08-20T04:17:21.114547Z",
     "start_time": "2024-08-20T04:17:21.110188Z"
    }
   },
   "cell_type": "code",
   "source": "vocab.most_common(50)",
   "id": "446d7a29ab89f008",
   "outputs": [
    {
     "data": {
      "text/plain": [
       "[('film', 883),\n",
       " ('one', 881),\n",
       " ('movie', 727),\n",
       " ('like', 710),\n",
       " ('time', 624),\n",
       " ('even', 619),\n",
       " ('also', 604),\n",
       " ('good', 577),\n",
       " ('much', 569),\n",
       " ('story', 558),\n",
       " ('would', 535),\n",
       " ('first', 535),\n",
       " ('well', 531),\n",
       " ('get', 525),\n",
       " ('way', 525),\n",
       " ('see', 521),\n",
       " ('character', 519),\n",
       " ('two', 515),\n",
       " ('make', 495),\n",
       " ('best', 480),\n",
       " ('characters', 479),\n",
       " ('life', 470),\n",
       " ('little', 456),\n",
       " ('many', 455),\n",
       " ('people', 448),\n",
       " ('films', 446),\n",
       " ('never', 432),\n",
       " ('really', 431),\n",
       " ('could', 411),\n",
       " ('man', 411),\n",
       " ('new', 410),\n",
       " ('great', 408),\n",
       " ('scene', 398),\n",
       " ('makes', 396),\n",
       " ('scenes', 390),\n",
       " ('another', 389),\n",
       " ('still', 382),\n",
       " ('back', 373),\n",
       " ('director', 369),\n",
       " ('go', 368),\n",
       " ('plot', 367),\n",
       " ('work', 367),\n",
       " ('movies', 367),\n",
       " ('end', 366),\n",
       " ('something', 365),\n",
       " ('made', 359),\n",
       " ('know', 356),\n",
       " ('however', 355),\n",
       " ('take', 351),\n",
       " ('seen', 351)]"
      ]
     },
     "execution_count": 45,
     "metadata": {},
     "output_type": "execute_result"
    }
   ],
   "execution_count": 45
  },
  {
   "metadata": {
    "ExecuteTime": {
     "end_time": "2024-08-20T04:17:22.903939Z",
     "start_time": "2024-08-20T04:17:22.490355Z"
    }
   },
   "cell_type": "code",
   "source": "update_vocab(negative,vocab,'cv9')",
   "id": "db51c1d141b0d058",
   "outputs": [],
   "execution_count": 46
  },
  {
   "metadata": {
    "ExecuteTime": {
     "end_time": "2024-08-20T04:17:25.504179Z",
     "start_time": "2024-08-20T04:17:25.497956Z"
    }
   },
   "cell_type": "code",
   "source": "vocab.most_common(50)",
   "id": "dc0942fc4b721fee",
   "outputs": [
    {
     "data": {
      "text/plain": [
       "[('one', 1740),\n",
       " ('film', 1723),\n",
       " ('movie', 1524),\n",
       " ('like', 1468),\n",
       " ('even', 1289),\n",
       " ('time', 1222),\n",
       " ('good', 1149),\n",
       " ('much', 1128),\n",
       " ('would', 1112),\n",
       " ('get', 1083),\n",
       " ('also', 1070),\n",
       " ('story', 1059),\n",
       " ('two', 1024),\n",
       " ('first', 1019),\n",
       " ('character', 1012),\n",
       " ('way', 1008),\n",
       " ('make', 1003),\n",
       " ('well', 987),\n",
       " ('see', 967),\n",
       " ('characters', 954),\n",
       " ('little', 914),\n",
       " ('plot', 875),\n",
       " ('could', 872),\n",
       " ('really', 867),\n",
       " ('never', 847),\n",
       " ('people', 842),\n",
       " ('best', 835),\n",
       " ('films', 823),\n",
       " ('director', 798),\n",
       " ('another', 789),\n",
       " ('many', 788),\n",
       " ('scene', 777),\n",
       " ('life', 777),\n",
       " ('scenes', 768),\n",
       " ('bad', 760),\n",
       " ('man', 760),\n",
       " ('new', 758),\n",
       " ('know', 748),\n",
       " ('end', 737),\n",
       " ('go', 734),\n",
       " ('made', 728),\n",
       " ('movies', 726),\n",
       " ('makes', 720),\n",
       " ('back', 717),\n",
       " ('something', 716),\n",
       " ('work', 712),\n",
       " ('still', 700),\n",
       " ('great', 694),\n",
       " ('seems', 686),\n",
       " ('better', 678)]"
      ]
     },
     "execution_count": 47,
     "metadata": {},
     "output_type": "execute_result"
    }
   ],
   "execution_count": 47
  },
  {
   "metadata": {
    "ExecuteTime": {
     "end_time": "2024-08-20T04:18:07.862082Z",
     "start_time": "2024-08-20T04:18:07.859405Z"
    }
   },
   "cell_type": "code",
   "source": [
    "len(vocab) # 46557\n",
    "print(len(vocab)) # 46557\n",
    "# 37589"
   ],
   "id": "8c95a4d67e7fec6b",
   "outputs": [
    {
     "name": "stdout",
     "output_type": "stream",
     "text": [
      "37589\n"
     ]
    }
   ],
   "execution_count": 49
  },
  {
   "metadata": {
    "ExecuteTime": {
     "end_time": "2024-08-20T04:18:55.624054Z",
     "start_time": "2024-08-20T04:18:55.620944Z"
    }
   },
   "cell_type": "code",
   "source": [
    "def save_vocab(file,vocabulary,seperator):\n",
    "    with open(file,'w') as f:\n",
    "        contents = seperator.join([k for k,v in vocabulary.items() if v>=2])\n",
    "        f.write(contents)\n",
    "    "
   ],
   "id": "d9c02d59b92a70ca",
   "outputs": [],
   "execution_count": 50
  },
  {
   "metadata": {
    "ExecuteTime": {
     "end_time": "2024-08-20T04:19:25.199070Z",
     "start_time": "2024-08-20T04:19:25.193592Z"
    }
   },
   "cell_type": "code",
   "source": "save_vocab('vocab1.txt',vocab,'\\n')",
   "id": "d44954b96589a8fc",
   "outputs": [],
   "execution_count": 52
  },
  {
   "metadata": {
    "ExecuteTime": {
     "end_time": "2024-08-20T04:31:12.236619Z",
     "start_time": "2024-08-20T04:31:12.233454Z"
    }
   },
   "cell_type": "code",
   "source": [
    "def doc_to_line(fileName,vocab):\n",
    "    \"\"\"\n",
    "     This will load a document, clean it, filter out tokens not in the vocabulary, then return the document as a string of white space separated tokens.\n",
    "    \"\"\"\n",
    "    doc = load_data_from_file(fileName)\n",
    "    tokens = clean_document(doc)\n",
    "    tokens = [w for w in tokens if w in vocab]\n",
    "    return ' '.join(tokens)"
   ],
   "id": "caa89822b2190c8e",
   "outputs": [],
   "execution_count": 53
  },
  {
   "metadata": {},
   "cell_type": "code",
   "outputs": [],
   "execution_count": null,
   "source": "",
   "id": "f4260d83cb299c77"
  }
 ],
 "metadata": {
  "kernelspec": {
   "display_name": "Python 3",
   "language": "python",
   "name": "python3"
  },
  "language_info": {
   "codemirror_mode": {
    "name": "ipython",
    "version": 2
   },
   "file_extension": ".py",
   "mimetype": "text/x-python",
   "name": "python",
   "nbconvert_exporter": "python",
   "pygments_lexer": "ipython2",
   "version": "2.7.6"
  }
 },
 "nbformat": 4,
 "nbformat_minor": 5
}
