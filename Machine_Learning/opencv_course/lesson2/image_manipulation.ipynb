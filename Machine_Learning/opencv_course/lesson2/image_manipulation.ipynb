{
 "cells": [
  {
   "metadata": {},
   "cell_type": "markdown",
   "source": [
    "# Basic Image Manipulations\n",
    "\n",
    "In this notebook we will cover how to perform image transformations including:\n",
    "\n",
    "* Accessing and manipulating images pixels\n",
    "* Image resizing\n",
    "* Cropping\n",
    "* Flipping"
   ],
   "id": "cfb0056b6e421b3b"
  },
  {
   "metadata": {
    "ExecuteTime": {
     "end_time": "2024-10-23T20:43:52.907528Z",
     "start_time": "2024-10-23T20:43:52.310762Z"
    }
   },
   "cell_type": "code",
   "source": [
    "import os\n",
    "import cv2\n",
    "import numpy as np\n",
    "import matplotlib.pyplot as plt\n",
    "\n",
    "from zipfile import ZipFile\n",
    "from urllib.request import urlretrieve\n",
    "\n",
    "from IPython.display import Image as img\n",
    "from PIL import Image\n",
    "\n",
    "%matplotlib inline"
   ],
   "id": "412b0fff41fe2654",
   "outputs": [],
   "execution_count": 1
  },
  {
   "metadata": {},
   "cell_type": "code",
   "outputs": [],
   "execution_count": null,
   "source": "",
   "id": "e52a8689a944b21c"
  }
 ],
 "metadata": {
  "kernelspec": {
   "display_name": "Python 3",
   "language": "python",
   "name": "python3"
  },
  "language_info": {
   "codemirror_mode": {
    "name": "ipython",
    "version": 2
   },
   "file_extension": ".py",
   "mimetype": "text/x-python",
   "name": "python",
   "nbconvert_exporter": "python",
   "pygments_lexer": "ipython2",
   "version": "2.7.6"
  }
 },
 "nbformat": 4,
 "nbformat_minor": 5
}
