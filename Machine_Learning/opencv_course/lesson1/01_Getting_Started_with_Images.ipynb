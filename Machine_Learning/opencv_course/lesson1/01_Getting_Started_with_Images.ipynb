{
 "cells": [
  {
   "cell_type": "markdown",
   "metadata": {
    "id": "Q_uUYiDzOnT3"
   },
   "source": [
    "# <font style=\"color:black\">Getting Started with Images</font>\n",
    "\n",
    "This notebook will help you take your first steps in learning Image Processing and Computer Vision using OpenCV. You will learn some important lessons using some simple examples. In this notebook, you will learn the following:\n",
    "\n",
    "* Reading an image\n",
    "* Check image attributes like datatype and shape\n",
    "* Matrix representation of an image in Numpy\n",
    "* Color Images and splitting/merging image channels\n",
    "* Displaying images using matplotlib\n",
    "* Saving images"
   ]
  },
  {
   "cell_type": "markdown",
   "metadata": {
    "id": "frysWYQmOnT6"
   },
   "source": [
    "##  <font style=\"color:black\">Import Libraries</font>"
   ]
  },
  {
   "cell_type": "code",
   "metadata": {
    "id": "hb56PrpzOnT6"
   },
   "source": [
    "import os\n",
    "import cv2\n",
    "import numpy as np\n",
    "import matplotlib.pyplot as plt\n",
    "\n",
    "from zipfile import ZipFile\n",
    "from urllib.request import urlretrieve\n",
    "\n",
    "from IPython.display import Image\n",
    "\n",
    "%matplotlib inline"
   ],
   "outputs": [],
   "execution_count": null
  },
  {
   "cell_type": "markdown",
   "metadata": {
    "ExecuteTime": {
     "end_time": "2023-03-28T11:56:12.389970Z",
     "start_time": "2023-03-28T11:56:12.373939Z"
    },
    "id": "ZPn4cW6KOnT7"
   },
   "source": [
    "##  <font style=\"color:black\">Download Assets</font>"
   ]
  },
  {
   "cell_type": "markdown",
   "metadata": {
    "id": "Qh0Id81XOnT8"
   },
   "source": [
    "The `download_and_unzip(...)` is used to download and extract the notebook assests."
   ]
  },
  {
   "cell_type": "code",
   "metadata": {
    "id": "d4MpbLY2OnT8"
   },
   "source": [
    "import os\n",
    "\n",
    "\n",
    "def download_and_unzip(url, save_path):\n",
    "    print(f\"Downloading and extracting assests....\", end=\"\")\n",
    "\n",
    "    # Downloading zip file using urllib package.\n",
    "    urlretrieve(url, save_path)\n",
    "    file_name = save_path.split(\"/\")[-1]\n",
    "    try:\n",
    "        # Extracting zip file using the zipfile package.\n",
    "        with ZipFile(file_name) as z:\n",
    "            # Extract ZIP file contents in the same directory.\n",
    "            z.extractall(os.path.split(save_path)[0])\n",
    "\n",
    "        print(\"Done\")\n",
    "\n",
    "    except Exception as e:\n",
    "        print(\"\\nInvalid file.\", e)"
   ],
   "outputs": [],
   "execution_count": null
  },
  {
   "cell_type": "code",
   "metadata": {
    "colab": {
     "base_uri": "https://localhost:8080/"
    },
    "id": "pG-mBhyNOnT8",
    "outputId": "54a87154-e9e9-4780-83e0-b4ae9d21a0e1"
   },
   "source": [
    "URL = r\"https://www.dropbox.com/s/qhhlqcica1nvtaw/opencv_bootcamp_assets_NB1.zip?dl=1\"\n",
    "\n",
    "asset_zip_path = os.path.join(os.getcwd(), \"images/opencv_bootcamp_assets_NB1.zip\")\n",
    "\n",
    "# Download if assest ZIP does not exists.\n",
    "if not os.path.exists(asset_zip_path):\n",
    "    download_and_unzip(URL, asset_zip_path)"
   ],
   "outputs": [],
   "execution_count": null
  },
  {
   "cell_type": "markdown",
   "metadata": {
    "id": "20VtHuPseBey"
   },
   "source": [
    "The opencv_bootcamp_assets_NB1.zip` file includes also contains the additional **display_image.py** python script."
   ]
  },
  {
   "cell_type": "markdown",
   "metadata": {
    "id": "kOXWvNrIOnT9"
   },
   "source": [
    "##  <font style=\"color:black\">Display Image Directly</font>\n",
    "We will use the following as our sample images. We will use the ipython image function to load and display the image."
   ]
  },
  {
   "cell_type": "code",
   "metadata": {
    "colab": {
     "base_uri": "https://localhost:8080/",
     "height": 35
    },
    "id": "_dAIoo27OnT9",
    "outputId": "e8c73b4e-f1a0-4fff-8173-398d7f3b5919"
   },
   "source": [
    "# Display 18x18 pixel image.\n",
    "Image(filename=\"checkerboard_18x18.png\")"
   ],
   "outputs": [],
   "execution_count": null
  },
  {
   "cell_type": "code",
   "metadata": {
    "colab": {
     "base_uri": "https://localhost:8080/",
     "height": 101
    },
    "id": "xv2ErE74OnT-",
    "outputId": "90909cfb-230e-4d78-91fc-e913740bc2aa"
   },
   "source": [
    "# Display 84x84 pixel image.\n",
    "Image(filename=\"checkerboard_84x84.jpg\")"
   ],
   "outputs": [],
   "execution_count": null
  },
  {
   "cell_type": "markdown",
   "metadata": {
    "id": "4fvYSb03OnT-"
   },
   "source": [
    "# <font style=\"color:black\">Reading images using OpenCV</font>\n",
    "\n",
    "OpenCV allows reading different types of images (JPG, PNG, etc). You can load grayscale images, color images or you can also load images with Alpha channel. It uses the **`cv2.imread()`** function which has the following syntax:\n",
    "\n",
    "### <font color=\"green\">Function Syntax </font>\n",
    "\n",
    "``` python\n",
    "retval = cv2.imread( filename[, flags] )\n",
    "```\n",
    "\n",
    "`retval`: Is the image if it is successfully loaded. Otherwise it is `None`. This may happen if the filename is wrong or the file is corrupt.\n",
    "\n",
    "The function has **1 required input argument** and one optional flag:\n",
    "\n",
    "\n",
    "1. `filename`: This can be an **absolute** or **relative** path. This is a **mandatory argument**.\n",
    "\n",
    "2. `Flags`:    These flags are used to read an image in a particular format (for example, grayscale/color/with alpha channel). This is an **optional argument** with a default value of `cv2.IMREAD_COLOR` or `1` which loads the image as a color image.\n",
    "\n",
    "Before we proceed with some examples, let's also have a look at some of the `flags` available.\n",
    "\n",
    "**Flags**\n",
    "1. **`cv2.IMREAD_GRAYSCALE`** or **`0`**: Loads image in grayscale mode\n",
    "2. **`cv2.IMREAD_COLOR`** or **`1`**: Loads a color image. Any transparency of image will be neglected. It is the default flag.\n",
    "3. **`cv2.IMREAD_UNCHANGED`** or **`-1`**: Loads image as such including alpha channel.\n",
    "\n",
    "\n",
    "### <font color=\"green\">OpenCV Documentation</font>\n",
    "\n",
    "1. **`Imread`**:  <a href=\"https://docs.opencv.org/4.5.1/d4/da8/group__imgcodecs.html#ga288b8b3da0892bd651fce07b3bbd3a56\" target=\"_blank\">Documentation link</a>\n",
    "\n",
    "2. **`ImreadModes`**: <a href=\"https://docs.opencv.org/4.5.1/d8/d6a/group__imgcodecs__flags.html#ga61d9b0126a3e57d9277ac48327799c80\" target=\"_blank\">Documentation link</a>\n"
   ]
  },
  {
   "cell_type": "code",
   "metadata": {
    "colab": {
     "base_uri": "https://localhost:8080/"
    },
    "id": "g-k_WJKcOnT_",
    "outputId": "16c2bff8-7fff-44f0-bc7b-5d56e36a182a"
   },
   "source": [
    "# Read image as gray scale.\n",
    "cb_img = cv2.imread(\"checkerboard_18x18.png\", 0)\n",
    "\n",
    "# Print the image data (pixel values), element of a 2D numpy array.\n",
    "# Each pixel value is 8-bits [0,255]\n",
    "print(cb_img)"
   ],
   "outputs": [],
   "execution_count": null
  },
  {
   "cell_type": "markdown",
   "metadata": {
    "id": "RD9_681tOnT_"
   },
   "source": [
    "## Display Image attributes"
   ]
  },
  {
   "cell_type": "code",
   "metadata": {
    "colab": {
     "base_uri": "https://localhost:8080/"
    },
    "id": "PYUjbvLGOnT_",
    "outputId": "7f34f8ca-9ef9-43ec-818b-2c4bfd169487"
   },
   "source": [
    "# print the size  of image\n",
    "print(\"Image size (H, W) is:\", cb_img.shape)\n",
    "\n",
    "# print data-type of image\n",
    "print(\"Data type of image is:\", cb_img.dtype)"
   ],
   "outputs": [],
   "execution_count": null
  },
  {
   "cell_type": "markdown",
   "metadata": {
    "id": "uKqBrDYYOnT_"
   },
   "source": [
    "## Display Images using Matplotlib"
   ]
  },
  {
   "cell_type": "code",
   "metadata": {
    "colab": {
     "base_uri": "https://localhost:8080/",
     "height": 282
    },
    "id": "jUQzKRoYOnUA",
    "outputId": "ff5855e3-595b-490b-d003-5dd022bb06c6"
   },
   "source": [
    "# Display image.\n",
    "plt.imshow(cb_img)"
   ],
   "outputs": [],
   "execution_count": null
  },
  {
   "cell_type": "markdown",
   "metadata": {
    "id": "9ncM_n0zOnUA"
   },
   "source": [
    "### What happened?\n",
    "\n",
    "Even though the image was read in as a gray scale image, it won't necessarily display in gray scale when using `imshow()`. matplotlib uses different color maps and it's possible that the gray scale color map is not set."
   ]
  },
  {
   "cell_type": "code",
   "metadata": {
    "colab": {
     "base_uri": "https://localhost:8080/",
     "height": 282
    },
    "id": "55YY85qWOnUA",
    "outputId": "3b832182-b73e-4a91-d630-9d216f11bb5a"
   },
   "source": [
    "# Set color map to gray scale for proper rendering.\n",
    "plt.imshow(cb_img, cmap=\"gray\")"
   ],
   "outputs": [],
   "execution_count": null
  },
  {
   "cell_type": "markdown",
   "metadata": {
    "id": "Oig3Rp49OnUA"
   },
   "source": [
    "## Another example"
   ]
  },
  {
   "cell_type": "code",
   "metadata": {
    "colab": {
     "base_uri": "https://localhost:8080/",
     "height": 595
    },
    "id": "ko2Rxd5UOnUA",
    "outputId": "3384f8a3-9783-4950-e4ba-113dcf98ae40"
   },
   "source": [
    "# Read image as gray scale.\n",
    "cb_img_fuzzy = cv2.imread(\"images/checkerboard_fuzzy_18x18.jpg\", 0)\n",
    "\n",
    "# print image\n",
    "print(cb_img_fuzzy)\n",
    "\n",
    "# Display image.\n",
    "plt.imshow(cb_img_fuzzy, cmap=\"gray\")"
   ],
   "outputs": [],
   "execution_count": null
  },
  {
   "cell_type": "markdown",
   "metadata": {
    "id": "PnuvLIqsOnUB"
   },
   "source": [
    "## Working with Color Images\n",
    "Until now, we have been using gray scale images in our discussion. Let us now discuss color images."
   ]
  },
  {
   "cell_type": "code",
   "metadata": {
    "colab": {
     "base_uri": "https://localhost:8080/",
     "height": 717
    },
    "id": "5UjSoJhIOnUB",
    "outputId": "32bfc718-4136-4af3-fc8e-f28e21882ccb"
   },
   "source": [
    "# Read and display Coca-Cola logo.\n",
    "Image(\"images/coca-cola-logo.png\")"
   ],
   "outputs": [],
   "execution_count": null
  },
  {
   "cell_type": "markdown",
   "metadata": {
    "id": "HrbiH-tbOnUB"
   },
   "source": [
    "## Read and display color image\n",
    "Let us read a color image and check the parameters. Note the image dimension."
   ]
  },
  {
   "cell_type": "code",
   "metadata": {
    "colab": {
     "base_uri": "https://localhost:8080/"
    },
    "id": "1gH20SidOnUB",
    "outputId": "d6f4aef2-88d9-4067-defe-5a0eaabb8fc2"
   },
   "source": [
    "# Read in image\n",
    "coke_img = cv2.imread(\"images/coca-cola-logo.png\", 1)\n",
    "\n",
    "# print the size  of image\n",
    "print(\"Image size (H, W, C) is:\", coke_img.shape)\n",
    "\n",
    "# print data-type of image\n",
    "print(\"Data type of image is:\", coke_img.dtype)"
   ],
   "outputs": [],
   "execution_count": null
  },
  {
   "cell_type": "markdown",
   "metadata": {
    "id": "L87nkpmyOnUB"
   },
   "source": [
    "## Display the Image"
   ]
  },
  {
   "cell_type": "code",
   "metadata": {
    "colab": {
     "base_uri": "https://localhost:8080/",
     "height": 286
    },
    "id": "x9yBf8uHOnUB",
    "outputId": "f60f1fe3-0a46-4fa8-da92-5c6d32cd8704"
   },
   "source": [
    "plt.imshow(coke_img)\n",
    "#  What happened?"
   ],
   "outputs": [],
   "execution_count": null
  },
  {
   "cell_type": "markdown",
   "metadata": {
    "id": "66Kp8LI0OnUC"
   },
   "source": [
    "The color displayed above is different from the actual image. This is because matplotlib expects the image in RGB format whereas OpenCV stores images in BGR format. Thus, for correct display, we need to reverse the channels of the image. We will discuss about the channels in the sections below."
   ]
  },
  {
   "cell_type": "code",
   "metadata": {
    "colab": {
     "base_uri": "https://localhost:8080/",
     "height": 286
    },
    "id": "IAw5U3STOnUC",
    "outputId": "c8622c84-05e9-4a2e-efe3-90de5eb59b26"
   },
   "source": [
    "coke_img_channels_reversed = coke_img[:, :, ::-1]\n",
    "plt.imshow(coke_img_channels_reversed)"
   ],
   "outputs": [],
   "execution_count": null
  },
  {
   "cell_type": "markdown",
   "metadata": {
    "id": "qbwKwkOYOnUC"
   },
   "source": [
    "## Splitting and Merging Color Channels\n",
    "\n",
    "\n",
    "* **`cv2.split()`** Divides a multi-channel array into several single-channel arrays.\n",
    "\n",
    "* **`cv2.merge()`** Merges several arrays to make a single multi-channel array. All the input matrices must have the same size.\n",
    "\n",
    "### <font style=\"color:rgb(8,133,37)\">OpenCV Documentation</font>\n",
    "\n",
    "<a href=\"https://docs.opencv.org/4.5.1/d2/de8/group__core__array.html#ga0547c7fed86152d7e9d0096029c8518a\" target=\"_blank\">Documentation link</a>"
   ]
  },
  {
   "cell_type": "code",
   "metadata": {
    "colab": {
     "base_uri": "https://localhost:8080/",
     "height": 254
    },
    "id": "qlSqy5LHOnUC",
    "outputId": "02edaa5a-343a-4181-c9c9-d71282c665d9"
   },
   "source": [
    "# Split the image into the B,G,R components\n",
    "img_NZ_bgr = cv2.imread(\"images/New_Zealand_Lake.jpg\", cv2.IMREAD_COLOR)\n",
    "b, g, r = cv2.split(img_NZ_bgr)\n",
    "\n",
    "# Show the channels\n",
    "plt.figure(figsize=[20, 5])\n",
    "\n",
    "plt.subplot(141)\n",
    "plt.imshow(r, cmap=\"gray\")\n",
    "plt.title(\"Red Channel\")\n",
    "plt.subplot(142)\n",
    "plt.imshow(g, cmap=\"gray\")\n",
    "plt.title(\"Green Channel\")\n",
    "plt.subplot(143)\n",
    "plt.imshow(b, cmap=\"gray\")\n",
    "plt.title(\"Blue Channel\")\n",
    "\n",
    "# Merge the individual channels into a BGR image\n",
    "imgMerged = cv2.merge((b, g, r))\n",
    "# Show the merged output\n",
    "plt.subplot(144)\n",
    "plt.imshow(imgMerged[:, :, ::-1])\n",
    "plt.title(\"Merged Output\")"
   ],
   "outputs": [],
   "execution_count": null
  },
  {
   "cell_type": "markdown",
   "metadata": {
    "id": "eFhUud9TOnUC"
   },
   "source": [
    "## Converting to different Color Spaces\n",
    "\n",
    "\n",
    "**`cv2.cvtColor()`** Converts an image from one color space to another. The function converts an input image from one color space to another. In case of a transformation to-from RGB color space, the order of the channels should be specified explicitly (RGB or BGR). Note that the default color format in OpenCV is often referred to as RGB but it is actually BGR (the bytes are reversed). So the first byte in a standard (24-bit) color image will be an 8-bit Blue component, the second byte will be Green, and the third byte will be Red. The fourth, fifth, and sixth bytes would then be the second pixel (Blue, then Green, then Red), and so on.\n",
    "\n",
    "### <font style=\"color:rgb(8,133,37)\">Function Syntax </font>\n",
    "``` python\n",
    "dst = cv2.cvtColor( src, code )\n",
    "```\n",
    "\n",
    "`dst`: Is the output image of the same size and depth as `src`.\n",
    "\n",
    "The function has **2 required arguments**:\n",
    "\n",
    "1. `src` input image: 8-bit unsigned, 16-bit unsigned ( CV_16UC... ), or single-precision floating-point.\n",
    "\n",
    "2. `code` color space conversion code (see ColorConversionCodes).\n",
    "\n",
    "### <font style=\"color:rgb(8,133,37)\">OpenCV Documentation</font>\n",
    "\n",
    "1. **`cv2.cvtColor`**: <a href=\"https://docs.opencv.org/3.4/d8/d01/group__imgproc__color__conversions.html#ga397ae87e1288a81d2363b61574eb8cab\" target=\"_blank\">Documentation link</a>  \n",
    "\n",
    "2. **`ColorConversionCodes`**: <a href=\"https://docs.opencv.org/4.5.1/d8/d01/group__imgproc__color__conversions.html#ga4e0972be5de079fed4e3a10e24ef5ef0\" target=\"_blank\">Documentation link</a>\n"
   ]
  },
  {
   "cell_type": "markdown",
   "metadata": {
    "id": "6c_r3nr2OnUC"
   },
   "source": [
    "### Changing from BGR to RGB"
   ]
  },
  {
   "cell_type": "code",
   "metadata": {
    "colab": {
     "base_uri": "https://localhost:8080/",
     "height": 286
    },
    "id": "FycM7Z8IOnUC",
    "outputId": "25321a33-c904-4912-89e7-733915f31b1b"
   },
   "source": [
    "# OpenCV stores color channels in a differnet order than most other applications (BGR vs RGB).\n",
    "img_NZ_rgb = cv2.cvtColor(img_NZ_bgr, cv2.COLOR_BGR2RGB)\n",
    "plt.imshow(img_NZ_rgb)"
   ],
   "outputs": [],
   "execution_count": null
  },
  {
   "cell_type": "markdown",
   "metadata": {
    "id": "ePDQMZA_OnUD"
   },
   "source": [
    "### Changing to HSV color space"
   ]
  },
  {
   "cell_type": "code",
   "metadata": {
    "colab": {
     "base_uri": "https://localhost:8080/",
     "height": 237
    },
    "id": "c9WTEAHpOnUD",
    "outputId": "388e68be-2d71-4620-8ff2-1ca16997fdf7"
   },
   "source": [
    "img_hsv = cv2.cvtColor(img_NZ_bgr, cv2.COLOR_BGR2HSV)\n",
    "\n",
    "# Split the image into the H,S,V components\n",
    "h, s, v = cv2.split(img_hsv)\n",
    "\n",
    "# Show the channels\n",
    "plt.figure(figsize=[20, 5])\n",
    "plt.subplot(141)\n",
    "plt.imshow(h, cmap=\"gray\")\n",
    "plt.title(\"H Channel\")\n",
    "plt.subplot(142)\n",
    "plt.imshow(s, cmap=\"gray\")\n",
    "plt.title(\"S Channel\")\n",
    "plt.subplot(143)\n",
    "plt.imshow(v, cmap=\"gray\")\n",
    "plt.title(\"V Channel\")\n",
    "plt.subplot(144)\n",
    "plt.imshow(img_NZ_rgb)\n",
    "plt.title(\"Original\");"
   ],
   "outputs": [],
   "execution_count": null
  },
  {
   "cell_type": "markdown",
   "metadata": {
    "id": "bLWo33dkOnUD"
   },
   "source": [
    "## Modifying individual Channel"
   ]
  },
  {
   "cell_type": "code",
   "metadata": {
    "colab": {
     "base_uri": "https://localhost:8080/",
     "height": 237
    },
    "id": "jRsLFcr3OnUD",
    "outputId": "7e6ee8fb-f48a-4292-e2bd-029329f582dc"
   },
   "source": [
    "h_new = h + 10\n",
    "img_NZ_merged = cv2.merge((h_new, s, v))\n",
    "img_NZ_rgb = cv2.cvtColor(img_NZ_merged, cv2.COLOR_HSV2RGB)\n",
    "\n",
    "# Show the channels\n",
    "plt.figure(figsize=[20, 5])\n",
    "plt.subplot(141)\n",
    "plt.imshow(h, cmap=\"gray\")\n",
    "plt.title(\"H Channel\")\n",
    "plt.subplot(142)\n",
    "plt.imshow(s, cmap=\"gray\")\n",
    "plt.title(\"S Channel\")\n",
    "plt.subplot(143)\n",
    "plt.imshow(v, cmap=\"gray\")\n",
    "plt.title(\"V Channel\")\n",
    "plt.subplot(144)\n",
    "plt.imshow(img_NZ_rgb)\n",
    "plt.title(\"Original\");"
   ],
   "outputs": [],
   "execution_count": null
  },
  {
   "cell_type": "markdown",
   "metadata": {
    "id": "nKq_DsbPOnUD"
   },
   "source": [
    "## Saving Images\n",
    "\n",
    "Saving the image is as trivial as reading an image in OpenCV. We use the function **`cv2.imwrite()`** with two arguments. The first one is the filename, second argument is the image object.\n",
    "\n",
    "The function imwrite saves the image to the specified file. The image format is chosen based on the filename extension (see cv::imread for the list of extensions). In general, only 8-bit single-channel or 3-channel (with 'BGR' channel order) images can be saved using this function (see the OpenCV documentation for further details).\n",
    "\n",
    "\n",
    "### <font style=\"color:rgb(8,133,37)\">Function Syntax </font>\n",
    "``` python\n",
    "cv2.imwrite( filename, img[, params] )\n",
    "```\n",
    "\n",
    "The function has **2 required arguments**:\n",
    "\n",
    "1. `filename`: This can be an **absolute** or **relative** path.\n",
    "\n",
    "2. `img`: Image or Images to be saved.\n",
    "\n",
    "### <font style=\"color:rgb(8,133,37)\">OpenCV Documentation</font>\n",
    "\n",
    "1. **`Imwrite`**: <a href=\"https://docs.opencv.org/4.5.1/d4/da8/group__imgcodecs.html#gabbc7ef1aa2edfaa87772f1202d67e0ce\" target=\"_blank\">Documentation link</a>\n",
    "\n",
    "2. **`ImwriteFlags`**: <a href=\"https://docs.opencv.org/4.5.1/d8/d6a/group__imgcodecs__flags.html#ga292d81be8d76901bff7988d18d2b42ac\" target=\"_blank\">Documentation link</a>"
   ]
  },
  {
   "cell_type": "code",
   "metadata": {
    "colab": {
     "base_uri": "https://localhost:8080/",
     "height": 617
    },
    "id": "sRszIpSyOnUD",
    "outputId": "fdb283e3-012b-4282-f678-247e6b81b535"
   },
   "source": [
    "# save the image\n",
    "cv2.imwrite(\"New_Zealand_Lake_SAVED.png\", img_NZ_bgr)\n",
    "\n",
    "Image(filename=\"New_Zealand_Lake_SAVED.png\")"
   ],
   "outputs": [],
   "execution_count": null
  },
  {
   "cell_type": "code",
   "metadata": {
    "colab": {
     "base_uri": "https://localhost:8080/"
    },
    "id": "U_c1UAVNOnUE",
    "outputId": "2afabe3b-5b5f-40ba-c63e-4921c582afad"
   },
   "source": [
    "# read the image as Color\n",
    "img_NZ_bgr = cv2.imread(\"New_Zealand_Lake_SAVED.png\", cv2.IMREAD_COLOR)\n",
    "print(\"img_NZ_bgr shape (H, W, C) is:\", img_NZ_bgr.shape)\n",
    "\n",
    "# read the image as Grayscaled\n",
    "img_NZ_gry = cv2.imread(\"New_Zealand_Lake_SAVED.png\", cv2.IMREAD_GRAYSCALE)\n",
    "print(\"img_NZ_gry shape (H, W) is:\", img_NZ_gry.shape)"
   ],
   "outputs": [],
   "execution_count": null
  },
  {
   "cell_type": "markdown",
   "metadata": {
    "id": "TDKW13TKOnUE"
   },
   "source": [
    "## Thank You!"
   ]
  }
 ],
 "metadata": {
  "celltoolbar": "Slideshow",
  "colab": {
   "provenance": []
  },
  "kernelspec": {
   "display_name": "Python 3 (ipykernel)",
   "language": "python",
   "name": "python3"
  },
  "language_info": {
   "codemirror_mode": {
    "name": "ipython",
    "version": 3
   },
   "file_extension": ".py",
   "mimetype": "text/x-python",
   "name": "python",
   "nbconvert_exporter": "python",
   "pygments_lexer": "ipython3",
   "version": "3.10.9"
  },
  "toc": {
   "base_numbering": 1,
   "nav_menu": {},
   "number_sections": false,
   "sideBar": true,
   "skip_h1_title": false,
   "title_cell": "Table of Contents",
   "title_sidebar": "Contents",
   "toc_cell": false,
   "toc_position": {
    "height": "calc(100% - 180px)",
    "left": "10px",
    "top": "150px",
    "width": "320px"
   },
   "toc_section_display": true,
   "toc_window_display": false
  },
  "varInspector": {
   "cols": {
    "lenName": 16,
    "lenType": 16,
    "lenVar": 40
   },
   "kernels_config": {
    "python": {
     "delete_cmd_postfix": "",
     "delete_cmd_prefix": "del ",
     "library": "var_list.py",
     "varRefreshCmd": "print(var_dic_list())"
    },
    "r": {
     "delete_cmd_postfix": ") ",
     "delete_cmd_prefix": "rm(",
     "library": "var_list.r",
     "varRefreshCmd": "cat(var_dic_list()) "
    }
   },
   "types_to_exclude": [
    "module",
    "function",
    "builtin_function_or_method",
    "instance",
    "_Feature"
   ],
   "window_display": false
  }
 },
 "nbformat": 4,
 "nbformat_minor": 0
}
