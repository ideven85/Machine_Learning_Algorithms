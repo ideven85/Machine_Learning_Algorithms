{
 "cells": [
  {
   "cell_type": "code",
   "execution_count": 8,
   "id": "b8d16a06-48c3-4e8d-aee1-118f88305b91",
   "metadata": {
    "execution": {
     "iopub.execute_input": "2025-01-25T18:31:44.041020Z",
     "iopub.status.busy": "2025-01-25T18:31:44.040524Z",
     "iopub.status.idle": "2025-01-25T18:31:44.045611Z",
     "shell.execute_reply": "2025-01-25T18:31:44.044931Z",
     "shell.execute_reply.started": "2025-01-25T18:31:44.040989Z"
    }
   },
   "outputs": [
    {
     "name": "stdout",
     "output_type": "stream",
     "text": [
      "The chapyter extension is already loaded. To reload it, use:\n",
      "  %reload_ext chapyter\n"
     ]
    }
   ],
   "source": [
    "%load_ext chapyter"
   ]
  },
  {
   "cell_type": "code",
   "execution_count": null,
   "id": "9da2bb14-2044-449d-8b95-c606ed210025",
   "metadata": {},
   "outputs": [],
   "source": []
  },
  {
   "cell_type": "code",
   "execution_count": 9,
   "id": "9d969ac7-8af4-46a4-bd53-96a6a8eaf640",
   "metadata": {
    "execution": {
     "iopub.execute_input": "2025-01-25T18:31:49.168429Z",
     "iopub.status.busy": "2025-01-25T18:31:49.167964Z",
     "iopub.status.idle": "2025-01-25T18:31:49.252115Z",
     "shell.execute_reply": "2025-01-25T18:31:49.251482Z",
     "shell.execute_reply.started": "2025-01-25T18:31:49.168400Z"
    }
   },
   "outputs": [
    {
     "name": "stdout",
     "output_type": "stream",
     "text": [
      "Traceback (most recent call last):\n",
      "  File \"/Users/deven/.virtualenvs/Machine_Learning_Algorithms/lib/python3.12/site-packages/guidance/llms/_openai.py\", line 665, in __call__\n",
      "    out = await self.llm.caller(**call_args)\n",
      "          ^^^^^^^^^^^^^^^^^^^^^^^^^^^^^^^^^^\n",
      "  File \"/Users/deven/.virtualenvs/Machine_Learning_Algorithms/lib/python3.12/site-packages/guidance/llms/_openai.py\", line 348, in _library_call\n",
      "    prev_base = openai.api_base\n",
      "                ^^^^^^^^^^^^^^^\n",
      "AttributeError: module 'openai' has no attribute 'api_base'. Did you mean: 'api_type'?\n",
      "\n",
      "During handling of the above exception, another exception occurred:\n",
      "\n",
      "Traceback (most recent call last):\n",
      "  File \"/Users/deven/.virtualenvs/Machine_Learning_Algorithms/lib/python3.12/site-packages/guidance/_program_executor.py\", line 109, in run\n",
      "    await self.visit(self.parse_tree, VariableStack([self.program._variables], self))\n",
      "  File \"/Users/deven/.virtualenvs/Machine_Learning_Algorithms/lib/python3.12/site-packages/guidance/_program_executor.py\", line 559, in visit\n",
      "    visited_children.append(await self.visit(child, variable_stack, inner_next_node, inner_next_next_node, inner_prev_node, node, parent_node))\n",
      "                            ^^^^^^^^^^^^^^^^^^^^^^^^^^^^^^^^^^^^^^^^^^^^^^^^^^^^^^^^^^^^^^^^^^^^^^^^^^^^^^^^^^^^^^^^^^^^^^^^^^^^^^^^^^^^^^^^^^\n",
      "  File \"/Users/deven/.virtualenvs/Machine_Learning_Algorithms/lib/python3.12/site-packages/guidance/_program_executor.py\", line 524, in visit\n",
      "    command_output = await command_function(*positional_args, **named_args)\n",
      "                     ^^^^^^^^^^^^^^^^^^^^^^^^^^^^^^^^^^^^^^^^^^^^^^^^^^^^^^\n",
      "  File \"/Users/deven/.virtualenvs/Machine_Learning_Algorithms/lib/python3.12/site-packages/guidance/library/_assistant.py\", line 13, in assistant\n",
      "    return await role(role_name=\"assistant\", hidden=hidden, _parser_context=_parser_context, **kwargs)\n",
      "           ^^^^^^^^^^^^^^^^^^^^^^^^^^^^^^^^^^^^^^^^^^^^^^^^^^^^^^^^^^^^^^^^^^^^^^^^^^^^^^^^^^^^^^^^^^^\n",
      "  File \"/Users/deven/.virtualenvs/Machine_Learning_Algorithms/lib/python3.12/site-packages/guidance/library/_role.py\", line 17, in role\n",
      "    new_content += await parser.visit(\n",
      "                   ^^^^^^^^^^^^^^^^^^^\n",
      "  File \"/Users/deven/.virtualenvs/Machine_Learning_Algorithms/lib/python3.12/site-packages/guidance/_program_executor.py\", line 559, in visit\n",
      "    visited_children.append(await self.visit(child, variable_stack, inner_next_node, inner_next_next_node, inner_prev_node, node, parent_node))\n",
      "                            ^^^^^^^^^^^^^^^^^^^^^^^^^^^^^^^^^^^^^^^^^^^^^^^^^^^^^^^^^^^^^^^^^^^^^^^^^^^^^^^^^^^^^^^^^^^^^^^^^^^^^^^^^^^^^^^^^^\n",
      "  File \"/Users/deven/.virtualenvs/Machine_Learning_Algorithms/lib/python3.12/site-packages/guidance/_program_executor.py\", line 559, in visit\n",
      "    visited_children.append(await self.visit(child, variable_stack, inner_next_node, inner_next_next_node, inner_prev_node, node, parent_node))\n",
      "                            ^^^^^^^^^^^^^^^^^^^^^^^^^^^^^^^^^^^^^^^^^^^^^^^^^^^^^^^^^^^^^^^^^^^^^^^^^^^^^^^^^^^^^^^^^^^^^^^^^^^^^^^^^^^^^^^^^^\n",
      "  File \"/Users/deven/.virtualenvs/Machine_Learning_Algorithms/lib/python3.12/site-packages/guidance/_program_executor.py\", line 266, in visit\n",
      "    visited_children = [await self.visit(child, variable_stack, next_node, next_next_node, prev_node, node, parent_node) for child in node]\n",
      "                        ^^^^^^^^^^^^^^^^^^^^^^^^^^^^^^^^^^^^^^^^^^^^^^^^^^^^^^^^^^^^^^^^^^^^^^^^^^^^^^^^^^^^^^^^^^^^^^^^\n",
      "  File \"/Users/deven/.virtualenvs/Machine_Learning_Algorithms/lib/python3.12/site-packages/guidance/_program_executor.py\", line 379, in visit\n",
      "    command_output = await command_function(*positional_args, **named_args)\n",
      "                     ^^^^^^^^^^^^^^^^^^^^^^^^^^^^^^^^^^^^^^^^^^^^^^^^^^^^^^\n",
      "  File \"/Users/deven/.virtualenvs/Machine_Learning_Algorithms/lib/python3.12/site-packages/guidance/library/_gen.py\", line 140, in gen\n",
      "    gen_obj = await parser.llm_session(\n",
      "              ^^^^^^^^^^^^^^^^^^^^^^^^^\n",
      "  File \"/Users/deven/.virtualenvs/Machine_Learning_Algorithms/lib/python3.12/site-packages/guidance/llms/_openai.py\", line 667, in __call__\n",
      "    except openai.error.RateLimitError:\n",
      "           ^^^^^^^^^^^^\n",
      "AttributeError: module 'openai' has no attribute 'error'\n",
      "\n",
      "Error in program:  module 'openai' has no attribute 'error'\n"
     ]
    },
    {
     "ename": "KeyError",
     "evalue": "'code'",
     "output_type": "error",
     "traceback": [
      "\u001b[0;31m---------------------------------------------------------------------------\u001b[0m",
      "\u001b[0;31mKeyError\u001b[0m                                  Traceback (most recent call last)",
      "Cell \u001b[0;32mIn[9], line 1\u001b[0m\n\u001b[0;32m----> 1\u001b[0m \u001b[43mget_ipython\u001b[49m\u001b[43m(\u001b[49m\u001b[43m)\u001b[49m\u001b[38;5;241;43m.\u001b[39;49m\u001b[43mrun_cell_magic\u001b[49m\u001b[43m(\u001b[49m\u001b[38;5;124;43m'\u001b[39;49m\u001b[38;5;124;43mchat\u001b[39;49m\u001b[38;5;124;43m'\u001b[39;49m\u001b[43m,\u001b[49m\u001b[43m \u001b[49m\u001b[38;5;124;43m'\u001b[39;49m\u001b[38;5;124;43m'\u001b[39;49m\u001b[43m,\u001b[49m\u001b[43m \u001b[49m\u001b[38;5;124;43m'\u001b[39;49m\u001b[38;5;124;43mList all the files in the directory\u001b[39;49m\u001b[38;5;130;43;01m\\n\u001b[39;49;00m\u001b[38;5;124;43m'\u001b[39;49m\u001b[43m)\u001b[49m\n",
      "File \u001b[0;32m~/.virtualenvs/Machine_Learning_Algorithms/lib/python3.12/site-packages/IPython/core/interactiveshell.py:2541\u001b[0m, in \u001b[0;36mInteractiveShell.run_cell_magic\u001b[0;34m(self, magic_name, line, cell)\u001b[0m\n\u001b[1;32m   2539\u001b[0m \u001b[38;5;28;01mwith\u001b[39;00m \u001b[38;5;28mself\u001b[39m\u001b[38;5;241m.\u001b[39mbuiltin_trap:\n\u001b[1;32m   2540\u001b[0m     args \u001b[38;5;241m=\u001b[39m (magic_arg_s, cell)\n\u001b[0;32m-> 2541\u001b[0m     result \u001b[38;5;241m=\u001b[39m \u001b[43mfn\u001b[49m\u001b[43m(\u001b[49m\u001b[38;5;241;43m*\u001b[39;49m\u001b[43margs\u001b[49m\u001b[43m,\u001b[49m\u001b[43m \u001b[49m\u001b[38;5;241;43m*\u001b[39;49m\u001b[38;5;241;43m*\u001b[39;49m\u001b[43mkwargs\u001b[49m\u001b[43m)\u001b[49m\n\u001b[1;32m   2543\u001b[0m \u001b[38;5;66;03m# The code below prevents the output from being displayed\u001b[39;00m\n\u001b[1;32m   2544\u001b[0m \u001b[38;5;66;03m# when using magics with decorator @output_can_be_silenced\u001b[39;00m\n\u001b[1;32m   2545\u001b[0m \u001b[38;5;66;03m# when the last Python token in the expression is a ';'.\u001b[39;00m\n\u001b[1;32m   2546\u001b[0m \u001b[38;5;28;01mif\u001b[39;00m \u001b[38;5;28mgetattr\u001b[39m(fn, magic\u001b[38;5;241m.\u001b[39mMAGIC_OUTPUT_CAN_BE_SILENCED, \u001b[38;5;28;01mFalse\u001b[39;00m):\n",
      "File \u001b[0;32m~/.virtualenvs/Machine_Learning_Algorithms/lib/python3.12/site-packages/chapyter/magic.py:304\u001b[0m, in \u001b[0;36mChapyter.chat\u001b[0;34m(self, line, cell)\u001b[0m\n\u001b[1;32m    301\u001b[0m     \u001b[38;5;28;01mreturn\u001b[39;00m\n\u001b[1;32m    302\u001b[0m current_message \u001b[38;5;241m=\u001b[39m cell\n\u001b[0;32m--> 304\u001b[0m program_out \u001b[38;5;241m=\u001b[39m \u001b[38;5;28;43mself\u001b[39;49m\u001b[38;5;241;43m.\u001b[39;49m\u001b[43mexecute_chat\u001b[49m\u001b[43m(\u001b[49m\u001b[43mcurrent_message\u001b[49m\u001b[43m,\u001b[49m\u001b[43m \u001b[49m\u001b[43margs\u001b[49m\u001b[43m,\u001b[49m\u001b[43m \u001b[49m\u001b[38;5;28;43mself\u001b[39;49m\u001b[38;5;241;43m.\u001b[39;49m\u001b[43mshell\u001b[49m\u001b[43m)\u001b[49m\n\u001b[1;32m    305\u001b[0m execution_id \u001b[38;5;241m=\u001b[39m \u001b[38;5;28mself\u001b[39m\u001b[38;5;241m.\u001b[39mshell\u001b[38;5;241m.\u001b[39mexecution_count\n\u001b[1;32m    306\u001b[0m program_out \u001b[38;5;241m=\u001b[39m \u001b[38;5;124mf\u001b[39m\u001b[38;5;124m\"\u001b[39m\u001b[38;5;124m# Assistant Code for Cell [\u001b[39m\u001b[38;5;132;01m{\u001b[39;00mexecution_id\u001b[38;5;132;01m}\u001b[39;00m\u001b[38;5;124m]:\u001b[39m\u001b[38;5;130;01m\\n\u001b[39;00m\u001b[38;5;124m\"\u001b[39m \u001b[38;5;241m+\u001b[39m program_out\n",
      "File \u001b[0;32m~/.virtualenvs/Machine_Learning_Algorithms/lib/python3.12/site-packages/chapyter/magic.py:254\u001b[0m, in \u001b[0;36mChapyter.execute_chat\u001b[0;34m(self, message, args, shell, **kwargs)\u001b[0m\n\u001b[1;32m    251\u001b[0m program \u001b[38;5;241m=\u001b[39m \u001b[38;5;28mself\u001b[39m\u001b[38;5;241m.\u001b[39m_get_program(args, chatonly\u001b[38;5;241m=\u001b[39mkwargs\u001b[38;5;241m.\u001b[39mpop(\u001b[38;5;124m\"\u001b[39m\u001b[38;5;124mchatonly\u001b[39m\u001b[38;5;124m\"\u001b[39m, \u001b[38;5;28;01mFalse\u001b[39;00m))\n\u001b[1;32m    252\u001b[0m llm \u001b[38;5;241m=\u001b[39m \u001b[38;5;28mself\u001b[39m\u001b[38;5;241m.\u001b[39m_load_model(args, program)\n\u001b[0;32m--> 254\u001b[0m response \u001b[38;5;241m=\u001b[39m \u001b[43mprogram\u001b[49m\u001b[38;5;241;43m.\u001b[39;49m\u001b[43mexecute\u001b[49m\u001b[43m(\u001b[49m\n\u001b[1;32m    255\u001b[0m \u001b[43m    \u001b[49m\u001b[43mmessage\u001b[49m\u001b[38;5;241;43m=\u001b[39;49m\u001b[43mmessage\u001b[49m\u001b[43m,\u001b[49m\n\u001b[1;32m    256\u001b[0m \u001b[43m    \u001b[49m\u001b[43mllm\u001b[49m\u001b[38;5;241;43m=\u001b[39;49m\u001b[43mllm\u001b[49m\u001b[43m,\u001b[49m\n\u001b[1;32m    257\u001b[0m \u001b[43m    \u001b[49m\u001b[43mshell\u001b[49m\u001b[38;5;241;43m=\u001b[39;49m\u001b[43mshell\u001b[49m\u001b[43m,\u001b[49m\n\u001b[1;32m    258\u001b[0m \u001b[43m    \u001b[49m\u001b[43msilent\u001b[49m\u001b[38;5;241;43m=\u001b[39;49m\u001b[38;5;129;43;01mnot\u001b[39;49;00m\u001b[43m \u001b[49m\u001b[43margs\u001b[49m\u001b[38;5;241;43m.\u001b[39;49m\u001b[43mverbose\u001b[49m\u001b[43m,\u001b[49m\n\u001b[1;32m    259\u001b[0m \u001b[43m    \u001b[49m\u001b[38;5;241;43m*\u001b[39;49m\u001b[38;5;241;43m*\u001b[39;49m\u001b[43mkwargs\u001b[49m\u001b[43m,\u001b[49m\n\u001b[1;32m    260\u001b[0m \u001b[43m\u001b[49m\u001b[43m)\u001b[49m\n\u001b[1;32m    261\u001b[0m \u001b[38;5;28;01mreturn\u001b[39;00m response\n",
      "File \u001b[0;32m~/.virtualenvs/Machine_Learning_Algorithms/lib/python3.12/site-packages/chapyter/programs.py:41\u001b[0m, in \u001b[0;36mChapyterAgentProgram.execute\u001b[0;34m(self, message, llm, shell, **kwargs)\u001b[0m\n\u001b[1;32m     38\u001b[0m response \u001b[38;5;241m=\u001b[39m raw_program_response\n\u001b[1;32m     40\u001b[0m \u001b[38;5;28;01mfor\u001b[39;00m name, hook \u001b[38;5;129;01min\u001b[39;00m \u001b[38;5;28mself\u001b[39m\u001b[38;5;241m.\u001b[39mpost_call_hooks\u001b[38;5;241m.\u001b[39mitems():\n\u001b[0;32m---> 41\u001b[0m     response \u001b[38;5;241m=\u001b[39m \u001b[43mhook\u001b[49m\u001b[43m(\u001b[49m\n\u001b[1;32m     42\u001b[0m \u001b[43m        \u001b[49m\u001b[43mresponse\u001b[49m\u001b[43m,\u001b[49m\n\u001b[1;32m     43\u001b[0m \u001b[43m        \u001b[49m\u001b[43mshell\u001b[49m\u001b[43m,\u001b[49m\n\u001b[1;32m     44\u001b[0m \u001b[43m        \u001b[49m\u001b[38;5;241;43m*\u001b[39;49m\u001b[38;5;241;43m*\u001b[39;49m\u001b[43mkwargs\u001b[49m\u001b[43m,\u001b[49m\n\u001b[1;32m     45\u001b[0m \u001b[43m    \u001b[49m\u001b[43m)\u001b[49m\n\u001b[1;32m     46\u001b[0m \u001b[38;5;28;01mreturn\u001b[39;00m response\n",
      "File \u001b[0;32m~/.virtualenvs/Machine_Learning_Algorithms/lib/python3.12/site-packages/chapyter/programs.py:142\u001b[0m, in \u001b[0;36m<lambda>\u001b[0;34m(raw_response_str, shell, **kwargs)\u001b[0m\n\u001b[1;32m    129\u001b[0m         all_converted_str\u001b[38;5;241m.\u001b[39mappend(\u001b[38;5;124m\"\u001b[39m\u001b[38;5;130;01m\\n\u001b[39;00m\u001b[38;5;124m\"\u001b[39m\u001b[38;5;241m.\u001b[39mjoin(last_non_code_str))\n\u001b[1;32m    131\u001b[0m     \u001b[38;5;28;01mreturn\u001b[39;00m \u001b[38;5;124m\"\u001b[39m\u001b[38;5;130;01m\\n\u001b[39;00m\u001b[38;5;124m\"\u001b[39m\u001b[38;5;241m.\u001b[39mjoin(all_converted_str)\n\u001b[1;32m    134\u001b[0m _DEFAULT_PROGRAM \u001b[38;5;241m=\u001b[39m ChapyterAgentProgram(\n\u001b[1;32m    135\u001b[0m     guidance_program\u001b[38;5;241m=\u001b[39mdefault_coding_guidance_program,\n\u001b[1;32m    136\u001b[0m     pre_call_hooks\u001b[38;5;241m=\u001b[39m{\n\u001b[1;32m    137\u001b[0m         \u001b[38;5;124m\"\u001b[39m\u001b[38;5;124mwrap_to_dict\u001b[39m\u001b[38;5;124m\"\u001b[39m: (\u001b[38;5;28;01mlambda\u001b[39;00m x, shell, \u001b[38;5;241m*\u001b[39m\u001b[38;5;241m*\u001b[39mkwargs: {\u001b[38;5;124m\"\u001b[39m\u001b[38;5;124mcurrent_message\u001b[39m\u001b[38;5;124m\"\u001b[39m: x})\n\u001b[1;32m    138\u001b[0m     },\n\u001b[1;32m    139\u001b[0m     post_call_hooks\u001b[38;5;241m=\u001b[39m{\n\u001b[1;32m    140\u001b[0m         \u001b[38;5;124m\"\u001b[39m\u001b[38;5;124mextract_markdown_code\u001b[39m\u001b[38;5;124m\"\u001b[39m: (\n\u001b[1;32m    141\u001b[0m             \u001b[38;5;28;01mlambda\u001b[39;00m raw_response_str, shell, \u001b[38;5;241m*\u001b[39m\u001b[38;5;241m*\u001b[39mkwargs: clean_response_str(\n\u001b[0;32m--> 142\u001b[0m                 \u001b[43mraw_response_str\u001b[49m\u001b[43m[\u001b[49m\u001b[38;5;124;43m\"\u001b[39;49m\u001b[38;5;124;43mcode\u001b[39;49m\u001b[38;5;124;43m\"\u001b[39;49m\u001b[43m]\u001b[49m\n\u001b[1;32m    143\u001b[0m             )\n\u001b[1;32m    144\u001b[0m         )\n\u001b[1;32m    145\u001b[0m     },\n\u001b[1;32m    146\u001b[0m )\n\u001b[1;32m    148\u001b[0m default_coding_history_guidance_program \u001b[38;5;241m=\u001b[39m guidance(\n\u001b[1;32m    149\u001b[0m \u001b[38;5;250m    \u001b[39m\u001b[38;5;124;03m\"\"\"\u001b[39;00m\n\u001b[1;32m    150\u001b[0m \u001b[38;5;124;03m{{#system~}}\u001b[39;00m\n\u001b[0;32m   (...)\u001b[0m\n\u001b[1;32m    162\u001b[0m \u001b[38;5;124;03m\"\"\"\u001b[39;00m\n\u001b[1;32m    163\u001b[0m )\n\u001b[1;32m    164\u001b[0m \u001b[38;5;66;03m# we don't need to add the {{current_instruction}} below {{code_history}}\u001b[39;00m\n\u001b[1;32m    165\u001b[0m \u001b[38;5;66;03m# in the template above, because after executing the current chapyter cell,\u001b[39;00m\n\u001b[1;32m    166\u001b[0m \u001b[38;5;66;03m# the instruction will be added to the history already.\u001b[39;00m\n",
      "File \u001b[0;32m~/.virtualenvs/Machine_Learning_Algorithms/lib/python3.12/site-packages/guidance/_program.py:470\u001b[0m, in \u001b[0;36mProgram.__getitem__\u001b[0;34m(self, key)\u001b[0m\n\u001b[1;32m    469\u001b[0m \u001b[38;5;28;01mdef\u001b[39;00m\u001b[38;5;250m \u001b[39m\u001b[38;5;21m__getitem__\u001b[39m(\u001b[38;5;28mself\u001b[39m, key):\n\u001b[0;32m--> 470\u001b[0m     \u001b[38;5;28;01mreturn\u001b[39;00m \u001b[38;5;28;43mself\u001b[39;49m\u001b[38;5;241;43m.\u001b[39;49m\u001b[43m_variables\u001b[49m\u001b[43m[\u001b[49m\u001b[43mkey\u001b[49m\u001b[43m]\u001b[49m\n",
      "\u001b[0;31mKeyError\u001b[0m: 'code'"
     ]
    }
   ],
   "source": [
    "%%chat\n",
    "List all the files in the directory"
   ]
  },
  {
   "cell_type": "code",
   "execution_count": null,
   "id": "a3d39911-7469-4287-ad5e-2b499fb4ca7a",
   "metadata": {},
   "outputs": [],
   "source": []
  }
 ],
 "metadata": {
  "kernelspec": {
   "display_name": "Python 3 (ipykernel)",
   "language": "python",
   "name": "python3"
  },
  "language_info": {
   "codemirror_mode": {
    "name": "ipython",
    "version": 3
   },
   "file_extension": ".py",
   "mimetype": "text/x-python",
   "name": "python",
   "nbconvert_exporter": "python",
   "pygments_lexer": "ipython3",
   "version": "3.12.8"
  }
 },
 "nbformat": 4,
 "nbformat_minor": 5
}
