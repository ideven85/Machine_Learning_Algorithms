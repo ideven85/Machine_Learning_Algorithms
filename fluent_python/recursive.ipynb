{
 "cells": [
  {
   "cell_type": "code",
   "execution_count": null,
   "id": "initial_id",
   "metadata": {
    "collapsed": true
   },
   "outputs": [],
   "source": [
    ""
   ]
  },
  {
   "metadata": {},
   "cell_type": "code",
   "outputs": [],
   "execution_count": null,
   "source": [
    "from functools import wraps\n",
    "import sys\n",
    "\n",
    "\n",
    "def show_recursive_structure(f):\n",
    "    \"\"\"Show call entry/exits on stderr\n",
    "\n",
    "    Wrapper to instrument a function to show the\n",
    "    call entry and exit from that function. Can\n",
    "    customize view with instrument flags.\n",
    "    \"\"\"\n",
    "\n",
    "    @wraps(f)\n",
    "    def wrapper(*args, **kwargs):\n",
    "        arg_str = \", \".join(str(a) for a in args)\n",
    "        # if (\n",
    "        #     show_recursive_structure.TRIM_ARGS is not None\n",
    "        #     and len(arg_str) > show_recursive_structure.TRIM_ARGS\n",
    "        # ):\n",
    "        #     arg_str = arg_str[: show_recursive_structure.TRIM_ARGS] + \" ...\"\n",
    "        if show_recursive_structure.SHOW_CALL:\n",
    "            sys.stderr.write(\n",
    "                \"   \" * wrapper._depth + \"call to \" + f.__name__ + \": \" + arg_str + \"\\n\"\n",
    "            )\n",
    "        wrapper._count += 1\n",
    "        wrapper._depth += 1\n",
    "        wrapper._max_depth = max(wrapper._depth, wrapper._max_depth)\n",
    "        result = f(*args, **kwargs)\n",
    "        wrapper._depth -= 1\n",
    "        res_str = str(result)\n",
    "        if (\n",
    "            show_recursive_structure.TRIM_RET is not None\n",
    "            and len(res_str) > show_recursive_structure.TRIM_RET\n",
    "        ):\n",
    "            res_str = res_str[: show_recursive_structure.TRIM_RET] + \" ...\"\n",
    "        if show_recursive_structure.SHOW_RET:\n",
    "            sys.stderr.write(\n",
    "                \"   \" * wrapper._depth + f.__name__ + \" returns: \" + res_str + \"\\n\"\n",
    "            )\n",
    "        return result\n",
    "\n",
    "    wrapper._count = 0\n",
    "    wrapper._depth = 0\n",
    "    wrapper._max_depth = 0\n",
    "    return wrapper\n",
    "\n",
    "\n",
    "show_recursive_structure.SHOW_CALL = True\n",
    "show_recursive_structure.SHOW_RET = True\n",
    "show_recursive_structure.TRIM_ARGS = 55  # None if no trimming\n",
    "show_recursive_structure.TRIM_RET = 60  # None if no trimming"
   ],
   "id": "f2394ce70bde9b61"
  }
 ],
 "metadata": {
  "kernelspec": {
   "display_name": "Python 3",
   "language": "python",
   "name": "python3"
  },
  "language_info": {
   "codemirror_mode": {
    "name": "ipython",
    "version": 2
   },
   "file_extension": ".py",
   "mimetype": "text/x-python",
   "name": "python",
   "nbconvert_exporter": "python",
   "pygments_lexer": "ipython2",
   "version": "2.7.6"
  }
 },
 "nbformat": 4,
 "nbformat_minor": 5
}
