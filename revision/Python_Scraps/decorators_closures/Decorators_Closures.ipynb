{
 "cells": [
  {
   "cell_type": "markdown",
   "id": "fb0011d997dce5c0",
   "metadata": {},
   "source": [
    "# Functions as First class Citizens"
   ]
  },
  {
   "cell_type": "code",
   "execution_count": 2,
   "id": "5b797091915a0742",
   "metadata": {
    "ExecuteTime": {
     "end_time": "2024-02-01T12:18:39.793461Z",
     "start_time": "2024-02-01T12:18:39.784997Z"
    }
   },
   "outputs": [
    {
     "name": "stdout",
     "output_type": "stream",
     "text": [
      "100 407 <function foo at 0x105d1ff70>\n",
      "100 408\n",
      "Hi\n"
     ]
    }
   ],
   "source": [
    "x = 100\n",
    "\n",
    "def foo(y):\n",
    "    return x+y\n",
    "\n",
    "z = foo(307)\n",
    "print(x,z,foo)\n",
    "def bar(x):\n",
    "    x=1000\n",
    "    return foo(308)\n",
    "w=bar(349)\n",
    "print(x,w)\n",
    "\n",
    "def apply_n_times(f,n,x):\n",
    "    out = x\n",
    "    for i in range(n):\n",
    "        out=f(out)\n",
    "\n",
    "    return out\n",
    "\n",
    "\n",
    "def double(x):\n",
    "    return x*2\n",
    "\n",
    "def outer(func):\n",
    "    def inner():\n",
    "        print(\"Hi\")\n",
    "    return inner\n",
    "\n",
    "@outer\n",
    "def sayHi():\n",
    "    print(\"Hello\")\n",
    "    \n",
    "sayHi()\n",
    "\n",
    "\n"
   ]
  },
  {
   "cell_type": "markdown",
   "id": "e416e10842831b63",
   "metadata": {},
   "source": [
    "# Decorators and Closures"
   ]
  },
  {
   "cell_type": "code",
   "execution_count": 15,
   "id": "f5f81370303cc48a",
   "metadata": {
    "ExecuteTime": {
     "end_time": "2024-01-19T02:40:36.284089Z",
     "start_time": "2024-01-19T02:40:36.276691Z"
    }
   },
   "outputs": [
    {
     "name": "stdout",
     "output_type": "stream",
     "text": [
      "Inner Function\n",
      "Target Function\n",
      "Target: 4\n"
     ]
    }
   ],
   "source": [
    "def decorate(func):\n",
    "    def inner():\n",
    "        print(\"Inner Function\")\n",
    "        return 2*func() # Know little this level of python\n",
    "    return inner\n",
    "\n",
    "\n",
    "\"\"\"\n",
    "Decorators first execute their function, then lazily execute the function they are called with and finally calculate the result of decorated function\n",
    "\"\"\"\n",
    "@decorate\n",
    "def target():\n",
    "   print(\"Target Function\")\n",
    "   return 2\n",
    "\n",
    "#print(decorate(target()))\n",
    "print(\"Target:\",target())\n"
   ]
  },
  {
   "cell_type": "code",
   "outputs": [
    {
     "name": "stdout",
     "output_type": "stream",
     "text": [
      "3\n",
      "1\n",
      "2\n"
     ]
    }
   ],
   "source": [
    "\"\"\"\n",
    "Calculate double of a function \n",
    "\"\"\"\n",
    "\n",
    "def double_func(func):\n",
    "    def inner(x): # x is passed by the target function to the decorated function\n",
    "        print(x) \n",
    "        return 2*func(x)\n",
    "    return inner\n",
    "    \n",
    "\n",
    "@double_func\n",
    "def half_of_x(x):\n",
    "    x=x//2\n",
    "    print(x)\n",
    "    return x\n",
    "\n",
    "print(half_of_x(3)) # Apparently 2 is being passed\n",
    "\n"
   ],
   "metadata": {
    "collapsed": false,
    "ExecuteTime": {
     "end_time": "2024-01-19T02:54:57.274025Z",
     "start_time": "2024-01-19T02:54:57.267447Z"
    }
   },
   "id": "bca8abd4de83ade2",
   "execution_count": 27
  },
  {
   "cell_type": "code",
   "outputs": [],
   "source": [],
   "metadata": {
    "collapsed": false
   },
   "id": "2269528c994d5806"
  },
  {
   "cell_type": "code",
   "execution_count": 28,
   "id": "7e021dc7706eb3d4",
   "metadata": {
    "ExecuteTime": {
     "end_time": "2024-01-19T02:57:02.812447Z",
     "start_time": "2024-01-19T02:57:02.803220Z"
    }
   },
   "outputs": [
    {
     "name": "stdout",
     "output_type": "stream",
     "text": [
      "running register(<function foo1 at 0x110ecd080>)\n",
      "running register(<function foo2 at 0x110ece8e0>)\n"
     ]
    }
   ],
   "source": [
    "registry = []\n",
    "\n",
    "def register(func):\n",
    "    print(f'running register({func})')\n",
    "    registry.append(func)\n",
    "    return func\n",
    "\n",
    "@register\n",
    "def foo1():\n",
    "    print(\"foo1 Function\")\n",
    "    \n",
    "@register\n",
    "def foo2():\n",
    "    print(\"foo2 Function\")\n",
    "\n",
    "\n",
    "def foo3():\n",
    "    print(\"foo3 Function\")\n",
    "    \n"
   ]
  },
  {
   "cell_type": "code",
   "execution_count": 29,
   "id": "f816d17787220117",
   "metadata": {
    "ExecuteTime": {
     "end_time": "2024-01-19T02:57:04.967515Z",
     "start_time": "2024-01-19T02:57:04.949034Z"
    }
   },
   "outputs": [
    {
     "name": "stdout",
     "output_type": "stream",
     "text": [
      "Invoking Register [<function foo1 at 0x110ecd080>, <function foo2 at 0x110ece8e0>]\n"
     ]
    }
   ],
   "source": [
    "print(\"Invoking Register\",registry)"
   ]
  },
  {
   "cell_type": "code",
   "execution_count": 30,
   "id": "4342171c7e24d868",
   "metadata": {
    "ExecuteTime": {
     "end_time": "2024-01-19T02:57:09.071422Z",
     "start_time": "2024-01-19T02:57:09.051926Z"
    }
   },
   "outputs": [
    {
     "name": "stdout",
     "output_type": "stream",
     "text": [
      "<function decorate.<locals>.inner at 0x110ece840>\n"
     ]
    }
   ],
   "source": [
    "print(decorate(target))"
   ]
  },
  {
   "cell_type": "code",
   "execution_count": 31,
   "id": "28a90451f2fb7be2",
   "metadata": {
    "ExecuteTime": {
     "end_time": "2024-01-19T02:57:11.801812Z",
     "start_time": "2024-01-19T02:57:11.786170Z"
    }
   },
   "outputs": [
    {
     "name": "stdout",
     "output_type": "stream",
     "text": [
      "running register(<function foo1 at 0x110ecd080>)\n",
      "<function foo1 at 0x110ecd080>\n"
     ]
    }
   ],
   "source": [
    "print(register(foo1))"
   ]
  },
  {
   "cell_type": "markdown",
   "id": "411b5a6ce01e7cc4",
   "metadata": {},
   "source": [
    "# Note that register runs (twice) before any other function in the module. When register is called, it receives the decorated function object as an argument—\n",
    "\n",
    "for example, <function f1 at 0x100631bf8>."
   ]
  },
  {
   "cell_type": "code",
   "execution_count": 32,
   "id": "12c746d9f4138bfb",
   "metadata": {
    "ExecuteTime": {
     "end_time": "2024-01-19T02:57:18.783984Z",
     "start_time": "2024-01-19T02:57:18.776353Z"
    }
   },
   "outputs": [
    {
     "name": "stdout",
     "output_type": "stream",
     "text": [
      "foo1 Function\n",
      "foo2 Function\n",
      "foo1 Function\n"
     ]
    }
   ],
   "source": [
    "for reg in registry:\n",
    "    reg()"
   ]
  },
  {
   "cell_type": "code",
   "execution_count": 33,
   "id": "f46672f71a38a830",
   "metadata": {
    "ExecuteTime": {
     "end_time": "2024-01-19T02:57:20.392529Z",
     "start_time": "2024-01-19T02:57:20.386209Z"
    }
   },
   "outputs": [
    {
     "name": "stdout",
     "output_type": "stream",
     "text": [
      "foo1 Function\n"
     ]
    }
   ],
   "source": [
    "foo1()"
   ]
  },
  {
   "cell_type": "code",
   "execution_count": 34,
   "id": "8c51b670fe4beaaa",
   "metadata": {
    "ExecuteTime": {
     "end_time": "2024-01-19T02:57:21.223220Z",
     "start_time": "2024-01-19T02:57:21.215892Z"
    }
   },
   "outputs": [
    {
     "data": {
      "text/plain": "<function __main__.foo2()>"
     },
     "execution_count": 34,
     "metadata": {},
     "output_type": "execute_result"
    }
   ],
   "source": [
    "registry[1]"
   ]
  },
  {
   "cell_type": "code",
   "execution_count": 35,
   "id": "d3cdea77b72136b8",
   "metadata": {
    "ExecuteTime": {
     "end_time": "2024-01-19T02:57:22.094571Z",
     "start_time": "2024-01-19T02:57:22.088629Z"
    }
   },
   "outputs": [
    {
     "name": "stdout",
     "output_type": "stream",
     "text": [
      "foo1 Function\n"
     ]
    }
   ],
   "source": [
    "registry[0]()"
   ]
  },
  {
   "cell_type": "code",
   "execution_count": 36,
   "id": "1149ca30132ca25",
   "metadata": {
    "ExecuteTime": {
     "end_time": "2024-01-19T02:57:23.994640Z",
     "start_time": "2024-01-19T02:57:23.977557Z"
    }
   },
   "outputs": [
    {
     "name": "stdout",
     "output_type": "stream",
     "text": [
      "foo1 Function\n",
      "foo2 Function\n",
      "foo1 Function\n"
     ]
    }
   ],
   "source": [
    "for reg in registry:\n",
    "    reg()"
   ]
  },
  {
   "cell_type": "code",
   "execution_count": 40,
   "id": "f5c75c70dd350788",
   "metadata": {
    "ExecuteTime": {
     "end_time": "2024-01-19T02:59:10.623980Z",
     "start_time": "2024-01-19T02:59:10.619246Z"
    }
   },
   "outputs": [],
   "source": [
    "import Register"
   ]
  },
  {
   "cell_type": "code",
   "execution_count": 41,
   "id": "1302e0bd41d3dbe9",
   "metadata": {
    "ExecuteTime": {
     "end_time": "2024-01-19T02:59:11.016245Z",
     "start_time": "2024-01-19T02:59:11.011902Z"
    }
   },
   "outputs": [
    {
     "data": {
      "text/plain": "[<function Register.foo1()>,\n <function Register.foo2()>,\n <function Register.foo3()>]"
     },
     "execution_count": 41,
     "metadata": {},
     "output_type": "execute_result"
    }
   ],
   "source": [
    "Register.registry"
   ]
  },
  {
   "cell_type": "code",
   "execution_count": 58,
   "id": "2adce0f91c550629",
   "metadata": {
    "ExecuteTime": {
     "end_time": "2024-01-16T06:23:07.884444Z",
     "start_time": "2024-01-16T06:23:07.881987Z"
    }
   },
   "outputs": [
    {
     "name": "stdout",
     "output_type": "stream",
     "text": [
      "3\n",
      "6\n"
     ]
    }
   ],
   "source": []
  },
  {
   "cell_type": "code",
   "execution_count": null,
   "id": "7fe4fddd9831c070",
   "metadata": {},
   "outputs": [],
   "source": []
  },
  {
   "cell_type": "markdown",
   "id": "b3fece3c761cb76",
   "metadata": {},
   "source": [
    "# Closures"
   ]
  },
  {
   "cell_type": "code",
   "execution_count": 89,
   "id": "614f07eebae4244f",
   "metadata": {
    "ExecuteTime": {
     "end_time": "2024-01-16T06:44:29.200746Z",
     "start_time": "2024-01-16T06:44:29.199305Z"
    }
   },
   "outputs": [],
   "source": [
    "class Averager:\n",
    "    \"\"\"\n",
    "    Starter for closures and OOPS\n",
    "    variable with _ has class scope and __ is a private attribute\n",
    "    \"\"\"\n",
    "    def __init__(self):\n",
    "        \n",
    "        self._series = []\n",
    "        self.__series1 = []\n",
    "    \n",
    "    def __call__(self,val):\n",
    "        self._series.append(val)\n",
    "        self.__series1.append(val)\n",
    "        total = sum(self._series)/len(self._series)\n",
    "        \n",
    "        return total\n",
    "        "
   ]
  },
  {
   "cell_type": "code",
   "execution_count": 90,
   "id": "e389da598ba02fc4",
   "metadata": {
    "ExecuteTime": {
     "end_time": "2024-01-16T06:44:30.132480Z",
     "start_time": "2024-01-16T06:44:30.129348Z"
    }
   },
   "outputs": [
    {
     "name": "stdout",
     "output_type": "stream",
     "text": [
      "10.0\n",
      "55.0\n"
     ]
    }
   ],
   "source": [
    "avg = Averager()\n",
    "print(avg(10))\n",
    "print(avg(100))"
   ]
  },
  {
   "cell_type": "code",
   "execution_count": 93,
   "id": "14fb0edd0b7ef01",
   "metadata": {
    "ExecuteTime": {
     "end_time": "2024-01-16T06:45:49.908803Z",
     "start_time": "2024-01-16T06:45:49.904557Z"
    }
   },
   "outputs": [
    {
     "name": "stdout",
     "output_type": "stream",
     "text": [
      "[10, 100]\n"
     ]
    }
   ],
   "source": [
    "print(avg._series)\n",
    "# So wondering why bother with private static protected and public variables in Java\n",
    "\n"
   ]
  },
  {
   "cell_type": "code",
   "execution_count": 92,
   "id": "291bfa3fa3dd991b",
   "metadata": {
    "ExecuteTime": {
     "end_time": "2024-01-16T06:44:53.647289Z",
     "start_time": "2024-01-16T06:44:53.644858Z"
    }
   },
   "outputs": [
    {
     "ename": "AttributeError",
     "evalue": "'Averager' object has no attribute '__series1'",
     "output_type": "error",
     "traceback": [
      "\u001B[0;31m---------------------------------------------------------------------------\u001B[0m",
      "\u001B[0;31mAttributeError\u001B[0m                            Traceback (most recent call last)",
      "Cell \u001B[0;32mIn[92], line 1\u001B[0m\n\u001B[0;32m----> 1\u001B[0m \u001B[43mavg\u001B[49m\u001B[38;5;241;43m.\u001B[39;49m\u001B[43m__series1\u001B[49m\n",
      "\u001B[0;31mAttributeError\u001B[0m: 'Averager' object has no attribute '__series1'"
     ]
    }
   ],
   "source": [
    "avg.__series1"
   ]
  },
  {
   "cell_type": "code",
   "execution_count": 98,
   "id": "3ea1ece6eb1f0cf8",
   "metadata": {
    "ExecuteTime": {
     "end_time": "2024-01-16T06:46:26.354275Z",
     "start_time": "2024-01-16T06:46:26.350105Z"
    }
   },
   "outputs": [],
   "source": [
    "\"\"\"\n",
    "Functional Way\n",
    "Closure\n",
    "\"\"\"\n",
    "\n",
    "def make_average():\n",
    "    series = []\n",
    "    def calculate_average(num):\n",
    "        series.append(num)\n",
    "        total = sum(series)/len(series)\n",
    "        return total\n",
    "    return calculate_average"
   ]
  },
  {
   "cell_type": "code",
   "execution_count": 99,
   "id": "8543f6df2667e1b6",
   "metadata": {
    "ExecuteTime": {
     "end_time": "2024-01-16T06:46:27.136691Z",
     "start_time": "2024-01-16T06:46:27.134025Z"
    }
   },
   "outputs": [
    {
     "name": "stdout",
     "output_type": "stream",
     "text": [
      "10.0\n"
     ]
    }
   ],
   "source": [
    "avg = make_average()\n",
    "print(avg(10))"
   ]
  },
  {
   "cell_type": "code",
   "execution_count": 100,
   "id": "11fe229c8b5b425f",
   "metadata": {
    "ExecuteTime": {
     "end_time": "2024-01-16T06:46:27.714016Z",
     "start_time": "2024-01-16T06:46:27.711105Z"
    }
   },
   "outputs": [
    {
     "data": {
      "text/plain": [
       "10.5"
      ]
     },
     "execution_count": 100,
     "metadata": {},
     "output_type": "execute_result"
    }
   ],
   "source": [
    "avg(11)"
   ]
  },
  {
   "cell_type": "code",
   "execution_count": 101,
   "id": "59437ab54f86811f",
   "metadata": {
    "ExecuteTime": {
     "end_time": "2024-01-16T06:46:28.124297Z",
     "start_time": "2024-01-16T06:46:28.122134Z"
    }
   },
   "outputs": [
    {
     "data": {
      "text/plain": [
       "11.0"
      ]
     },
     "execution_count": 101,
     "metadata": {},
     "output_type": "execute_result"
    }
   ],
   "source": [
    "avg(12)"
   ]
  },
  {
   "cell_type": "code",
   "execution_count": 102,
   "id": "7fb1f694191ce456",
   "metadata": {
    "ExecuteTime": {
     "end_time": "2024-01-16T06:49:24.146451Z",
     "start_time": "2024-01-16T06:49:24.139103Z"
    }
   },
   "outputs": [
    {
     "data": {
      "text/plain": [
       "[10, 11, 12]"
      ]
     },
     "execution_count": 102,
     "metadata": {},
     "output_type": "execute_result"
    }
   ],
   "source": [
    "avg.__closure__[0].cell_contents"
   ]
  },
  {
   "cell_type": "code",
   "execution_count": 114,
   "id": "747e11d5cb461065",
   "metadata": {
    "ExecuteTime": {
     "end_time": "2024-01-16T07:12:31.555163Z",
     "start_time": "2024-01-16T07:12:31.548503Z"
    }
   },
   "outputs": [
    {
     "data": {
      "text/plain": [
       "('series',)"
      ]
     },
     "execution_count": 114,
     "metadata": {},
     "output_type": "execute_result"
    }
   ],
   "source": [
    "avg.__code__.co_freevars"
   ]
  },
  {
   "cell_type": "code",
   "execution_count": 7,
   "id": "a21165d2a9bef130",
   "metadata": {
    "ExecuteTime": {
     "end_time": "2024-01-16T07:18:15.985226Z",
     "start_time": "2024-01-16T07:18:15.979601Z"
    }
   },
   "outputs": [],
   "source": [
    "from dis import dis"
   ]
  },
  {
   "cell_type": "code",
   "execution_count": 104,
   "id": "83f84601199120df",
   "metadata": {
    "ExecuteTime": {
     "end_time": "2024-01-16T06:50:50.150267Z",
     "start_time": "2024-01-16T06:50:50.142680Z"
    }
   },
   "outputs": [
    {
     "name": "stdout",
     "output_type": "stream",
     "text": [
      "  8           0 RESUME                   0\n",
      "\n",
      " 10           2 LOAD_GLOBAL              1 (NULL + print)\n",
      "             12 LOAD_CONST               1 ('foo1 Function')\n",
      "             14 CALL                     1\n",
      "             22 POP_TOP\n",
      "             24 RETURN_CONST             0 (None)\n"
     ]
    }
   ],
   "source": [
    "dis(foo1)"
   ]
  },
  {
   "cell_type": "code",
   "execution_count": 106,
   "id": "c6ae7af1632d4751",
   "metadata": {
    "ExecuteTime": {
     "end_time": "2024-01-16T06:54:54.631243Z",
     "start_time": "2024-01-16T06:54:54.628518Z"
    }
   },
   "outputs": [
    {
     "name": "stdout",
     "output_type": "stream",
     "text": [
      "              0 MAKE_CELL                1 (series)\n",
      "\n",
      "  6           2 RESUME                   0\n",
      "\n",
      "  7           4 BUILD_LIST               0\n",
      "              6 STORE_DEREF              1 (series)\n",
      "\n",
      "  8           8 LOAD_CLOSURE             1 (series)\n",
      "             10 BUILD_TUPLE              1\n",
      "             12 LOAD_CONST               1 (<code object calculate_average at 0x1079606f0, file \"/var/folders/zt/1scshgnj4jxfkz9kb1005c8r0000gn/T/ipykernel_16435/1073538618.py\", line 8>)\n",
      "             14 MAKE_FUNCTION            8 (closure)\n",
      "             16 STORE_FAST               0 (calculate_average)\n",
      "\n",
      " 12          18 LOAD_FAST                0 (calculate_average)\n",
      "             20 RETURN_VALUE\n",
      "\n",
      "Disassembly of <code object calculate_average at 0x1079606f0, file \"/var/folders/zt/1scshgnj4jxfkz9kb1005c8r0000gn/T/ipykernel_16435/1073538618.py\", line 8>:\n",
      "              0 COPY_FREE_VARS           1\n",
      "\n",
      "  8           2 RESUME                   0\n",
      "\n",
      "  9           4 LOAD_DEREF               2 (series)\n",
      "              6 LOAD_ATTR                1 (NULL|self + append)\n",
      "             26 LOAD_FAST                0 (num)\n",
      "             28 CALL                     1\n",
      "             36 POP_TOP\n",
      "\n",
      " 10          38 LOAD_GLOBAL              3 (NULL + sum)\n",
      "             48 LOAD_DEREF               2 (series)\n",
      "             50 CALL                     1\n",
      "             58 LOAD_GLOBAL              5 (NULL + len)\n",
      "             68 LOAD_DEREF               2 (series)\n",
      "             70 CALL                     1\n",
      "             78 BINARY_OP               11 (/)\n",
      "             82 STORE_FAST               1 (total)\n",
      "\n",
      " 11          84 LOAD_FAST                1 (total)\n",
      "             86 RETURN_VALUE\n"
     ]
    }
   ],
   "source": [
    "dis(make_average)"
   ]
  },
  {
   "cell_type": "code",
   "execution_count": 42,
   "id": "875b91ecf9161c5e",
   "metadata": {
    "ExecuteTime": {
     "end_time": "2024-01-19T03:00:32.623209Z",
     "start_time": "2024-01-19T03:00:32.616785Z"
    }
   },
   "outputs": [],
   "source": [
    "def generate_parenthesis(n):\n",
    "    series = []\n",
    "    def dfs(left,right,s):\n",
    "        if left+right==2*n:\n",
    "            series.append(s)\n",
    "            return\n",
    "            \n",
    "        if left<n:\n",
    "            dfs(left+1,right,s+'(')\n",
    "        if right<left:\n",
    "            dfs(left,right+1,s+')')\n",
    "    \n",
    "    dfs(0,0,\"\")\n",
    "    return series"
   ]
  },
  {
   "cell_type": "code",
   "execution_count": 43,
   "id": "afe808325b598e28",
   "metadata": {
    "ExecuteTime": {
     "end_time": "2024-01-19T03:00:34.434214Z",
     "start_time": "2024-01-19T03:00:34.431484Z"
    }
   },
   "outputs": [
    {
     "name": "stdout",
     "output_type": "stream",
     "text": [
      "['(((())))', '((()()))', '((())())', '((()))()', '(()(()))', '(()()())', '(()())()', '(())(())', '(())()()', '()((()))', '()(()())', '()(())()', '()()(())', '()()()()']\n"
     ]
    }
   ],
   "source": [
    "print(generate_parenthesis(4))"
   ]
  },
  {
   "cell_type": "code",
   "execution_count": 109,
   "id": "eb5dce138ec62968",
   "metadata": {
    "ExecuteTime": {
     "end_time": "2024-01-16T07:08:43.916702Z",
     "start_time": "2024-01-16T07:08:43.907857Z"
    }
   },
   "outputs": [],
   "source": [
    "gen = generate_parenthesis(4)"
   ]
  },
  {
   "cell_type": "code",
   "execution_count": 14,
   "id": "1ffc6c4350caa905",
   "metadata": {
    "ExecuteTime": {
     "end_time": "2024-01-16T07:19:25.284080Z",
     "start_time": "2024-01-16T07:19:25.278699Z"
    }
   },
   "outputs": [
    {
     "name": "stdout",
     "output_type": "stream",
     "text": [
      "              0 MAKE_CELL                0 (n)\n",
      "              2 MAKE_CELL                1 (dfs)\n",
      "              4 MAKE_CELL                2 (series)\n",
      "\n",
      "  1           6 RESUME                   0\n",
      "\n",
      "  2           8 BUILD_LIST               0\n",
      "             10 STORE_DEREF              2 (series)\n",
      "\n",
      "  3          12 LOAD_CLOSURE             1 (dfs)\n",
      "             14 LOAD_CLOSURE             0 (n)\n",
      "             16 LOAD_CLOSURE             2 (series)\n",
      "             18 BUILD_TUPLE              3\n",
      "             20 LOAD_CONST               1 (<code object dfs at 0x10448c5b0, file \"/var/folders/zt/1scshgnj4jxfkz9kb1005c8r0000gn/T/ipykernel_17178/3002107191.py\", line 3>)\n",
      "             22 MAKE_FUNCTION            8 (closure)\n",
      "             24 STORE_DEREF              1 (dfs)\n",
      "\n",
      " 13          26 PUSH_NULL\n",
      "             28 LOAD_DEREF               1 (dfs)\n",
      "             30 LOAD_CONST               2 (0)\n",
      "             32 LOAD_CONST               2 (0)\n",
      "             34 LOAD_CONST               3 ('')\n",
      "             36 CALL                     3\n",
      "             44 POP_TOP\n",
      "\n",
      " 14          46 LOAD_DEREF               2 (series)\n",
      "             48 RETURN_VALUE\n",
      "\n",
      "Disassembly of <code object dfs at 0x10448c5b0, file \"/var/folders/zt/1scshgnj4jxfkz9kb1005c8r0000gn/T/ipykernel_17178/3002107191.py\", line 3>:\n",
      "              0 COPY_FREE_VARS           3\n",
      "\n",
      "  3           2 RESUME                   0\n",
      "\n",
      "  4           4 LOAD_FAST                0 (left)\n",
      "              6 LOAD_FAST                1 (right)\n",
      "              8 BINARY_OP                0 (+)\n",
      "             12 LOAD_CONST               1 (2)\n",
      "             14 LOAD_DEREF               4 (n)\n",
      "             16 BINARY_OP                5 (*)\n",
      "             20 COMPARE_OP              40 (==)\n",
      "             24 POP_JUMP_IF_FALSE       17 (to 60)\n",
      "\n",
      "  5          26 LOAD_DEREF               5 (series)\n",
      "             28 LOAD_ATTR                1 (NULL|self + append)\n",
      "             48 LOAD_FAST                2 (s)\n",
      "             50 CALL                     1\n",
      "             58 POP_TOP\n",
      "\n",
      "  8     >>   60 LOAD_FAST                0 (left)\n",
      "             62 LOAD_DEREF               4 (n)\n",
      "             64 COMPARE_OP               2 (<)\n",
      "             68 POP_JUMP_IF_FALSE       16 (to 102)\n",
      "\n",
      "  9          70 PUSH_NULL\n",
      "             72 LOAD_DEREF               3 (dfs)\n",
      "             74 LOAD_FAST                0 (left)\n",
      "             76 LOAD_CONST               2 (1)\n",
      "             78 BINARY_OP                0 (+)\n",
      "             82 LOAD_FAST                1 (right)\n",
      "             84 LOAD_FAST                2 (s)\n",
      "             86 LOAD_CONST               3 ('(')\n",
      "             88 BINARY_OP                0 (+)\n",
      "             92 CALL                     3\n",
      "            100 POP_TOP\n",
      "\n",
      " 10     >>  102 LOAD_FAST                1 (right)\n",
      "            104 LOAD_FAST                0 (left)\n",
      "            106 COMPARE_OP               2 (<)\n",
      "            110 POP_JUMP_IF_FALSE       17 (to 146)\n",
      "\n",
      " 11         112 PUSH_NULL\n",
      "            114 LOAD_DEREF               3 (dfs)\n",
      "            116 LOAD_FAST                0 (left)\n",
      "            118 LOAD_FAST                1 (right)\n",
      "            120 LOAD_CONST               2 (1)\n",
      "            122 BINARY_OP                0 (+)\n",
      "            126 LOAD_FAST                2 (s)\n",
      "            128 LOAD_CONST               4 (')')\n",
      "            130 BINARY_OP                0 (+)\n",
      "            134 CALL                     3\n",
      "            142 POP_TOP\n",
      "            144 RETURN_CONST             0 (None)\n",
      "\n",
      " 10     >>  146 RETURN_CONST             0 (None)\n"
     ]
    }
   ],
   "source": [
    "dis(generate_parenthesis) # Without Return"
   ]
  },
  {
   "cell_type": "code",
   "execution_count": 6,
   "id": "89c28176cb2cdebf",
   "metadata": {
    "ExecuteTime": {
     "end_time": "2024-01-16T07:17:56.081116Z",
     "start_time": "2024-01-16T07:17:51.606512Z"
    }
   },
   "outputs": [
    {
     "name": "stdout",
     "output_type": "stream",
     "text": [
      "4.8 µs ± 5.44 ns per loop (mean ± std. dev. of 7 runs, 100,000 loops each)\n"
     ]
    }
   ],
   "source": [
    "%timeit generate_parenthesis(4)"
   ]
  },
  {
   "cell_type": "code",
   "execution_count": 115,
   "id": "abca01a5ac13909b",
   "metadata": {
    "ExecuteTime": {
     "end_time": "2024-01-16T07:12:53.980042Z",
     "start_time": "2024-01-16T07:12:53.972318Z"
    }
   },
   "outputs": [
    {
     "ename": "AttributeError",
     "evalue": "'str' object has no attribute '__code__'",
     "output_type": "error",
     "traceback": [
      "\u001B[0;31m---------------------------------------------------------------------------\u001B[0m",
      "\u001B[0;31mAttributeError\u001B[0m                            Traceback (most recent call last)",
      "Cell \u001B[0;32mIn[115], line 1\u001B[0m\n\u001B[0;32m----> 1\u001B[0m \u001B[43mgen\u001B[49m\u001B[43m[\u001B[49m\u001B[38;5;241;43m0\u001B[39;49m\u001B[43m]\u001B[49m\u001B[38;5;241;43m.\u001B[39;49m\u001B[38;5;18;43m__code__\u001B[39;49m\u001B[38;5;241m.\u001B[39mco_freevars\n",
      "\u001B[0;31mAttributeError\u001B[0m: 'str' object has no attribute '__code__'"
     ]
    }
   ],
   "source": [
    "gen[0].__code__.co_freevars"
   ]
  },
  {
   "cell_type": "code",
   "execution_count": 16,
   "id": "2a52c219eff8e4e0",
   "metadata": {
    "ExecuteTime": {
     "end_time": "2024-01-16T07:20:39.967522Z",
     "start_time": "2024-01-16T07:20:39.963957Z"
    }
   },
   "outputs": [
    {
     "name": "stdout",
     "output_type": "stream",
     "text": [
      "              0 MAKE_CELL                0 (n)\n",
      "              2 MAKE_CELL                1 (dfs)\n",
      "              4 MAKE_CELL                2 (series)\n",
      "\n",
      "  1           6 RESUME                   0\n",
      "\n",
      "  2           8 BUILD_LIST               0\n",
      "             10 STORE_DEREF              2 (series)\n",
      "\n",
      "  3          12 LOAD_CLOSURE             1 (dfs)\n",
      "             14 LOAD_CLOSURE             0 (n)\n",
      "             16 LOAD_CLOSURE             2 (series)\n",
      "             18 BUILD_TUPLE              3\n",
      "             20 LOAD_CONST               1 (<code object dfs at 0x10448c2f0, file \"/var/folders/zt/1scshgnj4jxfkz9kb1005c8r0000gn/T/ipykernel_17178/4014062791.py\", line 3>)\n",
      "             22 MAKE_FUNCTION            8 (closure)\n",
      "             24 STORE_DEREF              1 (dfs)\n",
      "\n",
      " 13          26 PUSH_NULL\n",
      "             28 LOAD_DEREF               1 (dfs)\n",
      "             30 LOAD_CONST               2 (0)\n",
      "             32 LOAD_CONST               2 (0)\n",
      "             34 LOAD_CONST               3 ('')\n",
      "             36 CALL                     3\n",
      "             44 POP_TOP\n",
      "\n",
      " 14          46 LOAD_DEREF               2 (series)\n",
      "             48 RETURN_VALUE\n",
      "\n",
      "Disassembly of <code object dfs at 0x10448c2f0, file \"/var/folders/zt/1scshgnj4jxfkz9kb1005c8r0000gn/T/ipykernel_17178/4014062791.py\", line 3>:\n",
      "              0 COPY_FREE_VARS           3\n",
      "\n",
      "  3           2 RESUME                   0\n",
      "\n",
      "  4           4 LOAD_FAST                0 (left)\n",
      "              6 LOAD_FAST                1 (right)\n",
      "              8 BINARY_OP                0 (+)\n",
      "             12 LOAD_CONST               1 (2)\n",
      "             14 LOAD_DEREF               4 (n)\n",
      "             16 BINARY_OP                5 (*)\n",
      "             20 COMPARE_OP              40 (==)\n",
      "             24 POP_JUMP_IF_FALSE       18 (to 62)\n",
      "\n",
      "  5          26 LOAD_DEREF               5 (series)\n",
      "             28 LOAD_ATTR                1 (NULL|self + append)\n",
      "             48 LOAD_FAST                2 (s)\n",
      "             50 CALL                     1\n",
      "             58 POP_TOP\n",
      "\n",
      "  6          60 RETURN_CONST             0 (None)\n",
      "\n",
      "  8     >>   62 LOAD_FAST                0 (left)\n",
      "             64 LOAD_DEREF               4 (n)\n",
      "             66 COMPARE_OP               2 (<)\n",
      "             70 POP_JUMP_IF_FALSE       16 (to 104)\n",
      "\n",
      "  9          72 PUSH_NULL\n",
      "             74 LOAD_DEREF               3 (dfs)\n",
      "             76 LOAD_FAST                0 (left)\n",
      "             78 LOAD_CONST               2 (1)\n",
      "             80 BINARY_OP                0 (+)\n",
      "             84 LOAD_FAST                1 (right)\n",
      "             86 LOAD_FAST                2 (s)\n",
      "             88 LOAD_CONST               3 ('(')\n",
      "             90 BINARY_OP                0 (+)\n",
      "             94 CALL                     3\n",
      "            102 POP_TOP\n",
      "\n",
      " 10     >>  104 LOAD_FAST                1 (right)\n",
      "            106 LOAD_FAST                0 (left)\n",
      "            108 COMPARE_OP               2 (<)\n",
      "            112 POP_JUMP_IF_FALSE       17 (to 148)\n",
      "\n",
      " 11         114 PUSH_NULL\n",
      "            116 LOAD_DEREF               3 (dfs)\n",
      "            118 LOAD_FAST                0 (left)\n",
      "            120 LOAD_FAST                1 (right)\n",
      "            122 LOAD_CONST               2 (1)\n",
      "            124 BINARY_OP                0 (+)\n",
      "            128 LOAD_FAST                2 (s)\n",
      "            130 LOAD_CONST               4 (')')\n",
      "            132 BINARY_OP                0 (+)\n",
      "            136 CALL                     3\n",
      "            144 POP_TOP\n",
      "            146 RETURN_CONST             0 (None)\n",
      "\n",
      " 10     >>  148 RETURN_CONST             0 (None)\n"
     ]
    }
   ],
   "source": [
    "dis(generate_parenthesis)"
   ]
  },
  {
   "cell_type": "code",
   "execution_count": null,
   "id": "408592a3f43facaf",
   "metadata": {},
   "outputs": [],
   "source": []
  },
  {
   "cell_type": "markdown",
   "id": "730f3006d64cf496",
   "metadata": {},
   "source": [
    "# Non Locals"
   ]
  },
  {
   "cell_type": "code",
   "execution_count": 17,
   "id": "3f0b4e5e6ff5a746",
   "metadata": {
    "ExecuteTime": {
     "end_time": "2024-01-16T07:28:58.953314Z",
     "start_time": "2024-01-16T07:28:58.942184Z"
    }
   },
   "outputs": [],
   "source": [
    "def calulate_average():\n",
    "    count=0\n",
    "    total = 0\n",
    "    def averager(val):\n",
    "        nonlocal count,total\n",
    "        count+=1\n",
    "        total+=val\n",
    "        return total/count\n",
    "    return averager"
   ]
  },
  {
   "cell_type": "code",
   "execution_count": 18,
   "id": "9dcbdc997c5f8589",
   "metadata": {
    "ExecuteTime": {
     "end_time": "2024-01-16T07:30:11.356239Z",
     "start_time": "2024-01-16T07:30:11.344039Z"
    }
   },
   "outputs": [
    {
     "name": "stdout",
     "output_type": "stream",
     "text": [
      "10.5\n",
      "2\n"
     ]
    }
   ],
   "source": [
    "x= calulate_average()\n",
    "x(10)\n",
    "print(x(11))\n",
    "print(x.__closure__[0].cell_contents)"
   ]
  },
  {
   "cell_type": "code",
   "execution_count": 54,
   "id": "7af020fba139f5ae",
   "metadata": {
    "ExecuteTime": {
     "end_time": "2024-01-16T09:55:57.246239Z",
     "start_time": "2024-01-16T09:55:57.239145Z"
    }
   },
   "outputs": [],
   "source": [
    "list1 = [1,2,3,4,5]\n",
    "list2 = ['a','b','c','d']\n",
    "pairs = [pair for pair in zip(list1,list2)]"
   ]
  },
  {
   "cell_type": "code",
   "outputs": [
    {
     "name": "stdout",
     "output_type": "stream",
     "text": [
      "(1, 2, 3, 4) ('a', 'b', 'c', 'd')\n"
     ]
    }
   ],
   "source": [
    "letters,numbers = zip(*pairs) #Unzip\n",
    "print(letters,numbers)"
   ],
   "metadata": {
    "collapsed": false,
    "ExecuteTime": {
     "end_time": "2024-01-16T09:56:14.643840Z",
     "start_time": "2024-01-16T09:56:14.634284Z"
    }
   },
   "id": "f35cbf3209c04f1c",
   "execution_count": 55
  },
  {
   "cell_type": "code",
   "outputs": [],
   "source": [
    "def doubler(f):\n",
    "    def g(x):\n",
    "        return 2*f(x)\n",
    "    return g\n",
    "def f1(x):\n",
    "    return x+1\n",
    "a = doubler(f1)\n",
    "assert a(4) == 10"
   ],
   "metadata": {
    "collapsed": false,
    "ExecuteTime": {
     "end_time": "2024-01-16T10:00:00.276816Z",
     "start_time": "2024-01-16T10:00:00.267564Z"
    }
   },
   "id": "3cf347397a8b8c47",
   "execution_count": 58
  },
  {
   "cell_type": "code",
   "outputs": [],
   "source": [
    "import time\n",
    "DEFAULT_FMT = '[{elapsed:0.8f}s] {name}({args}) -> {result}'\n",
    "\n",
    "def clock(fmt=DEFAULT_FMT):\n",
    "    def decorate(func):\n",
    "        def clocked(*args):\n",
    "            start = time.perf_counter()\n",
    "            _result = func(*args)\n",
    "            elapsed = time.perf_counter()-start\n",
    "            name = func.__name__\n",
    "            args = ','.join(repr(arg) for arg in args)\n",
    "            result = repr(_result)\n",
    "            print(fmt.format(**locals()))\n",
    "            return _result\n",
    "        return clocked\n",
    "    return decorate\n",
    "\n",
    "        "
   ],
   "metadata": {
    "collapsed": false,
    "ExecuteTime": {
     "end_time": "2024-01-19T03:00:47.524520Z",
     "start_time": "2024-01-19T03:00:47.519583Z"
    }
   },
   "id": "703c9159f7ce20b8",
   "execution_count": 44
  },
  {
   "cell_type": "code",
   "outputs": [
    {
     "name": "stdout",
     "output_type": "stream",
     "text": [
      "[0.12804000s] snooze(0.123) -> None\n",
      "[0.12651587s] snooze(0.123) -> None\n",
      "[0.12610687s] snooze(0.123) -> None\n"
     ]
    }
   ],
   "source": [
    "@clock()\n",
    "def snooze(seconds):\n",
    "    time.sleep(seconds)\n",
    "    \n",
    "for i in range(3):\n",
    "    snooze(.123)"
   ],
   "metadata": {
    "collapsed": false,
    "ExecuteTime": {
     "end_time": "2024-01-17T07:47:10.003296Z",
     "start_time": "2024-01-17T07:47:09.621348Z"
    }
   },
   "id": "12aa05500e65a8b1",
   "execution_count": 64
  },
  {
   "cell_type": "code",
   "outputs": [
    {
     "name": "stdout",
     "output_type": "stream",
     "text": [
      "snooze_again:0.12312695799482754s\n",
      "snooze_again:0.1238607499981299s\n",
      "snooze_again:0.1280332919995999s\n"
     ]
    }
   ],
   "source": [
    "@clock('{name}:{elapsed}s')\n",
    "def snooze_again(seconds):\n",
    "    time.sleep(seconds)\n",
    "    \n",
    "for i in range(3):\n",
    "    snooze_again(.123)"
   ],
   "metadata": {
    "collapsed": false,
    "ExecuteTime": {
     "end_time": "2024-01-17T07:50:33.961715Z",
     "start_time": "2024-01-17T07:50:33.582025Z"
    }
   },
   "id": "c65494ff9a27962b",
   "execution_count": 65
  },
  {
   "cell_type": "code",
   "outputs": [
    {
     "ename": "TypeError",
     "evalue": "'list' object is not callable",
     "output_type": "error",
     "traceback": [
      "\u001B[0;31m---------------------------------------------------------------------------\u001B[0m",
      "\u001B[0;31mTypeError\u001B[0m                                 Traceback (most recent call last)",
      "Cell \u001B[0;32mIn[46], line 1\u001B[0m\n\u001B[0;32m----> 1\u001B[0m \u001B[38;5;28mprint\u001B[39m(clock(\u001B[43mgenerate_parenthesis\u001B[49m\u001B[43m(\u001B[49m\u001B[38;5;241;43m4\u001B[39;49m\u001B[43m)\u001B[49m\u001B[43m(\u001B[49m\u001B[43m)\u001B[49m))\n",
      "\u001B[0;31mTypeError\u001B[0m: 'list' object is not callable"
     ]
    }
   ],
   "source": [
    "print(clock(generate_parenthesis(4)))"
   ],
   "metadata": {
    "collapsed": false,
    "ExecuteTime": {
     "end_time": "2024-01-19T03:01:44.130035Z",
     "start_time": "2024-01-19T03:01:44.123201Z"
    }
   },
   "id": "9d33762bd40456b6",
   "execution_count": 46
  },
  {
   "cell_type": "code",
   "outputs": [],
   "source": [
    "import time\n",
    "import functools\n",
    "def clock1(func):\n",
    "    @functools.wraps(func)\n",
    "    def clocked(*args, **kwargs):\n",
    "        t0 = time.perf_counter()\n",
    "        result = func(*args, **kwargs)\n",
    "        elapsed = (time.perf_counter() - t0)*100000\n",
    "        name = func.__name__\n",
    "        arg_lst = [repr(arg) for arg in args] \n",
    "        arg_lst.extend(f'{k}={v!r}' for k, v in kwargs.items())\n",
    "        arg_str = ', '.join(arg_lst)\n",
    "        print(f'[{elapsed:0.8f}s] {name}({arg_str}) -> {result!r}') \n",
    "        return result\n",
    "    return clocked"
   ],
   "metadata": {
    "collapsed": false,
    "ExecuteTime": {
     "end_time": "2024-01-19T03:13:51.645472Z",
     "start_time": "2024-01-19T03:13:51.632292Z"
    }
   },
   "id": "392158f3abd7bd38",
   "execution_count": 1
  },
  {
   "cell_type": "code",
   "outputs": [
    {
     "name": "stdout",
     "output_type": "stream",
     "text": [
      "<function clock1.<locals>.clocked at 0x1108bb600>\n"
     ]
    }
   ],
   "source": [
    "print(clock1(generate_parenthesis(4)))"
   ],
   "metadata": {
    "collapsed": false,
    "ExecuteTime": {
     "end_time": "2024-01-19T03:05:12.645625Z",
     "start_time": "2024-01-19T03:05:12.632643Z"
    }
   },
   "id": "9724cb653014a905",
   "execution_count": 50
  },
  {
   "cell_type": "code",
   "outputs": [],
   "source": [
    "@clock1\n",
    "def factorial(n):\n",
    "    return 1 if n<2 else n*factorial(n-1)"
   ],
   "metadata": {
    "collapsed": false,
    "ExecuteTime": {
     "end_time": "2024-01-19T03:13:56.331174Z",
     "start_time": "2024-01-19T03:13:56.324010Z"
    }
   },
   "id": "84ee1fef8b74dd17",
   "execution_count": 2
  },
  {
   "cell_type": "code",
   "outputs": [
    {
     "name": "stdout",
     "output_type": "stream",
     "text": [
      "[0.03330001s] factorial(1) -> 1\n",
      "[2.69999996s] factorial(2) -> 2\n",
      "[3.32909999s] factorial(3) -> 6\n",
      "[3.68329997s] factorial(4) -> 24\n",
      "[4.02090000s] factorial(5) -> 120\n",
      "[6.41669999s] factorial(6) -> 720\n",
      "[8.43329999s] factorial(7) -> 5040\n",
      "[8.80000002s] factorial(8) -> 40320\n",
      "[9.07909998s] factorial(9) -> 362880\n",
      "[9.40000000s] factorial(10) -> 3628800\n",
      "[9.70000001s] factorial(11) -> 39916800\n",
      "[10.07090000s] factorial(12) -> 479001600\n",
      "[10.43749999s] factorial(13) -> 6227020800\n",
      "[10.74590000s] factorial(14) -> 87178291200\n",
      "[11.17500001s] factorial(15) -> 1307674368000\n",
      "[11.48330002s] factorial(16) -> 20922789888000\n",
      "[11.77919999s] factorial(17) -> 355687428096000\n",
      "[12.10000000s] factorial(18) -> 6402373705728000\n",
      "[12.40829997s] factorial(19) -> 121645100408832000\n",
      "[12.70829998s] factorial(20) -> 2432902008176640000\n",
      "[12.99999999s] factorial(21) -> 51090942171709440000\n",
      "[13.32500001s] factorial(22) -> 1124000727777607680000\n",
      "[13.62080002s] factorial(23) -> 25852016738884976640000\n",
      "[13.90839998s] factorial(24) -> 620448401733239439360000\n",
      "[14.21249999s] factorial(25) -> 15511210043330985984000000\n",
      "[14.54170001s] factorial(26) -> 403291461126605635584000000\n",
      "[14.87919999s] factorial(27) -> 10888869450418352160768000000\n",
      "[15.20420001s] factorial(28) -> 304888344611713860501504000000\n",
      "[15.48330001s] factorial(29) -> 8841761993739701954543616000000\n",
      "[15.77080002s] factorial(30) -> 265252859812191058636308480000000\n",
      "[16.08339999s] factorial(31) -> 8222838654177922817725562880000000\n",
      "[16.37500000s] factorial(32) -> 263130836933693530167218012160000000\n",
      "[16.67500001s] factorial(33) -> 8683317618811886495518194401280000000\n",
      "[16.97080002s] factorial(34) -> 295232799039604140847618609643520000000\n",
      "[17.25000002s] factorial(35) -> 10333147966386144929666651337523200000000\n",
      "[17.55839999s] factorial(36) -> 371993326789901217467999448150835200000000\n",
      "[17.84159999s] factorial(37) -> 13763753091226345046315979581580902400000000\n",
      "[18.13750000s] factorial(38) -> 523022617466601111760007224100074291200000000\n",
      "[18.43340001s] factorial(39) -> 20397882081197443358640281739902897356800000000\n",
      "[18.72080002s] factorial(40) -> 815915283247897734345611269596115894272000000000\n",
      "[19.00830002s] factorial(41) -> 33452526613163807108170062053440751665152000000000\n",
      "[19.31250004s] factorial(42) -> 1405006117752879898543142606244511569936384000000000\n",
      "[19.61250000s] factorial(43) -> 60415263063373835637355132068513997507264512000000000\n",
      "[19.94170002s] factorial(44) -> 2658271574788448768043625811014615890319638528000000000\n",
      "[20.30410001s] factorial(45) -> 119622220865480194561963161495657715064383733760000000000\n",
      "119622220865480194561963161495657715064383733760000000000\n"
     ]
    }
   ],
   "source": [
    "print(factorial(45))"
   ],
   "metadata": {
    "collapsed": false,
    "ExecuteTime": {
     "end_time": "2024-01-19T03:13:57.515157Z",
     "start_time": "2024-01-19T03:13:57.489678Z"
    }
   },
   "id": "a1ab2270ab750a3e",
   "execution_count": 3
  },
  {
   "cell_type": "code",
   "outputs": [],
   "source": [
    "@clock1\n",
    "def generate_parenthesis_with_return(n):\n",
    "    series = []\n",
    "    def dfs(left,right,s):\n",
    "        if left+right==2*n:\n",
    "            series.append(s)\n",
    "            return\n",
    "            \n",
    "        if left<n:\n",
    "            dfs(left+1,right,s+'(')\n",
    "        if right<left:\n",
    "            dfs(left,right+1,s+')')\n",
    "    \n",
    "    dfs(0,0,\"\")\n",
    "    return series"
   ],
   "metadata": {
    "collapsed": false,
    "ExecuteTime": {
     "end_time": "2024-01-19T03:15:11.976386Z",
     "start_time": "2024-01-19T03:15:11.964709Z"
    }
   },
   "id": "10d3707fbc440ee7",
   "execution_count": 6
  },
  {
   "cell_type": "code",
   "outputs": [],
   "source": [
    "print(generate_parenthesis_with_return(10))"
   ],
   "metadata": {
    "collapsed": false,
    "ExecuteTime": {
     "start_time": "2024-01-19T03:15:12.501852Z"
    }
   },
   "id": "33617a2800a95cd9",
   "execution_count": null
  },
  {
   "cell_type": "code",
   "outputs": [],
   "source": [
    "@clock1\n",
    "def generate_parenthesis_without_return(n):\n",
    "    series = []\n",
    "    def dfs(left,right,s):\n",
    "        if left+right==2*n:\n",
    "            series.append(s)\n",
    "        \n",
    "            \n",
    "        if left<n:\n",
    "            dfs(left+1,right,s+'(')\n",
    "        if right<left:\n",
    "            dfs(left,right+1,s+')')\n",
    "    \n",
    "    dfs(0,0,\"\")\n",
    "    return series"
   ],
   "metadata": {
    "collapsed": false,
    "ExecuteTime": {
     "end_time": "2024-01-19T03:10:13.580484Z",
     "start_time": "2024-01-19T03:10:13.574756Z"
    }
   },
   "id": "7082105079e25e9c",
   "execution_count": 65
  },
  {
   "cell_type": "code",
   "outputs": [
    {
     "name": "stdout",
     "output_type": "stream",
     "text": [
      "[3.20419999s] generate_parenthesis_without_return(5) -> ['((((()))))', '(((()())))', '(((())()))', '(((()))())', '(((())))()', '((()(())))', '((()()()))', '((()())())', '((()()))()', '((())(()))', '((())()())', '((())())()', '((()))(())', '((()))()()', '(()((())))', '(()(()()))', '(()(())())', '(()(()))()', '(()()(()))', '(()()()())', '(()()())()', '(()())(())', '(()())()()', '(())((()))', '(())(()())', '(())(())()', '(())()(())', '(())()()()', '()(((())))', '()((()()))', '()((())())', '()((()))()', '()(()(()))', '()(()()())', '()(()())()', '()(())(())', '()(())()()', '()()((()))', '()()(()())', '()()(())()', '()()()(())', '()()()()()']\n",
      "['((((()))))', '(((()())))', '(((())()))', '(((()))())', '(((())))()', '((()(())))', '((()()()))', '((()())())', '((()()))()', '((())(()))', '((())()())', '((())())()', '((()))(())', '((()))()()', '(()((())))', '(()(()()))', '(()(())())', '(()(()))()', '(()()(()))', '(()()()())', '(()()())()', '(()())(())', '(()())()()', '(())((()))', '(())(()())', '(())(())()', '(())()(())', '(())()()()', '()(((())))', '()((()()))', '()((())())', '()((()))()', '()(()(()))', '()(()()())', '()(()())()', '()(())(())', '()(())()()', '()()((()))', '()()(()())', '()()(())()', '()()()(())', '()()()()()']\n"
     ]
    }
   ],
   "source": [
    "print(generate_parenthesis_without_return(5))"
   ],
   "metadata": {
    "collapsed": false,
    "ExecuteTime": {
     "end_time": "2024-01-19T03:10:14.311274Z",
     "start_time": "2024-01-19T03:10:14.304701Z"
    }
   },
   "id": "eee2bf00fc774731",
   "execution_count": 66
  },
  {
   "cell_type": "code",
   "outputs": [],
   "source": [
    "@clock1\n",
    "def generate_parenthesis_using_yield(n):\n",
    "    def dfs(left,right,s):\n",
    "        if left+right==2*n:\n",
    "            yield s\n",
    "        if left < n:\n",
    "            dfs(left+1,right,s+'(')\n",
    "        if right < left:\n",
    "            dfs(left,right+1,s+')')\n",
    "    return list(dfs(0,0,\"\"))"
   ],
   "metadata": {
    "collapsed": false,
    "ExecuteTime": {
     "end_time": "2024-01-19T03:14:18.810077Z",
     "start_time": "2024-01-19T03:14:18.792545Z"
    }
   },
   "id": "8c43b33fba5c67dd",
   "execution_count": 4
  },
  {
   "cell_type": "code",
   "outputs": [
    {
     "name": "stdout",
     "output_type": "stream",
     "text": [
      "[0.38749999s] generate_parenthesis_using_yield(3) -> []\n",
      "[]\n"
     ]
    }
   ],
   "source": [
    "print(generate_parenthesis_using_yield(3))"
   ],
   "metadata": {
    "collapsed": false,
    "ExecuteTime": {
     "end_time": "2024-01-19T03:14:27.877371Z",
     "start_time": "2024-01-19T03:14:27.861898Z"
    }
   },
   "id": "80c822c2b608658c",
   "execution_count": 5
  },
  {
   "cell_type": "code",
   "outputs": [],
   "source": [
    "from __future__ import annotations\n",
    "\n",
    "def tokenise(text: str)->list[str]:\n",
    "    return text.upper().split()\n"
   ],
   "metadata": {
    "collapsed": false
   },
   "id": "96b5fa365345ef47"
  }
 ],
 "metadata": {
  "hide_input": false,
  "kernelspec": {
   "display_name": "Python 3 (ipykernel)",
   "language": "python",
   "name": "python3"
  },
  "language_info": {
   "codemirror_mode": {
    "name": "ipython",
    "version": 3
   },
   "file_extension": ".py",
   "mimetype": "text/x-python",
   "name": "python",
   "nbconvert_exporter": "python",
   "pygments_lexer": "ipython3",
   "version": "3.12.1"
  },
  "toc": {
   "base_numbering": 1,
   "nav_menu": {},
   "number_sections": true,
   "sideBar": true,
   "skip_h1_title": false,
   "title_cell": "Table of Contents",
   "title_sidebar": "Contents",
   "toc_cell": false,
   "toc_position": {},
   "toc_section_display": true,
   "toc_window_display": false
  },
  "varInspector": {
   "cols": {
    "lenName": 16,
    "lenType": 16,
    "lenVar": 40
   },
   "kernels_config": {
    "python": {
     "delete_cmd_postfix": "",
     "delete_cmd_prefix": "del ",
     "library": "var_list.py",
     "varRefreshCmd": "print(var_dic_list())"
    },
    "r": {
     "delete_cmd_postfix": ") ",
     "delete_cmd_prefix": "rm(",
     "library": "var_list.r",
     "varRefreshCmd": "cat(var_dic_list()) "
    }
   },
   "types_to_exclude": [
    "module",
    "function",
    "builtin_function_or_method",
    "instance",
    "_Feature"
   ],
   "window_display": false
  }
 },
 "nbformat": 4,
 "nbformat_minor": 5
}
