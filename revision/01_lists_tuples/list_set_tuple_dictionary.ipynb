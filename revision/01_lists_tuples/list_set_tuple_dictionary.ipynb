{
 "cells": [
  {
   "cell_type": "code",
   "id": "initial_id",
   "metadata": {
    "collapsed": true,
    "ExecuteTime": {
     "end_time": "2025-02-08T17:56:16.558663Z",
     "start_time": "2025-02-08T17:56:16.555009Z"
    }
   },
   "source": [
    "a = [1, 2, 3]\n",
    "b = [4, 5]"
   ],
   "outputs": [],
   "execution_count": 1
  },
  {
   "metadata": {
    "ExecuteTime": {
     "end_time": "2025-02-08T18:01:42.425670Z",
     "start_time": "2025-02-08T18:01:42.423504Z"
    }
   },
   "cell_type": "code",
   "source": [
    "a += b"
   ],
   "id": "ed34bb5842479cc3",
   "outputs": [],
   "execution_count": 2
  },
  {
   "metadata": {
    "ExecuteTime": {
     "end_time": "2025-02-08T18:01:45.523741Z",
     "start_time": "2025-02-08T18:01:45.520066Z"
    }
   },
   "cell_type": "code",
   "source": "a",
   "id": "5ed92a4705e21424",
   "outputs": [
    {
     "data": {
      "text/plain": [
       "[1, 2, 3, 4, 5]"
      ]
     },
     "execution_count": 3,
     "metadata": {},
     "output_type": "execute_result"
    }
   ],
   "execution_count": 3
  },
  {
   "metadata": {
    "ExecuteTime": {
     "end_time": "2025-02-08T18:02:10.116003Z",
     "start_time": "2025-02-08T18:02:10.113092Z"
    }
   },
   "cell_type": "code",
   "source": "a.extend(b)",
   "id": "2c8cfb8d15489ec4",
   "outputs": [],
   "execution_count": 9
  },
  {
   "metadata": {
    "ExecuteTime": {
     "end_time": "2025-02-08T18:02:10.575290Z",
     "start_time": "2025-02-08T18:02:10.573347Z"
    }
   },
   "cell_type": "code",
   "source": "print(c)",
   "id": "cb4d1cb17de02568",
   "outputs": [
    {
     "name": "stdout",
     "output_type": "stream",
     "text": [
      "None\n"
     ]
    }
   ],
   "execution_count": 10
  },
  {
   "metadata": {
    "ExecuteTime": {
     "end_time": "2025-02-08T18:02:14.052715Z",
     "start_time": "2025-02-08T18:02:14.050449Z"
    }
   },
   "cell_type": "code",
   "source": "a",
   "id": "1b2ce106ec551061",
   "outputs": [
    {
     "data": {
      "text/plain": [
       "[1, 2, 3, 4, 5, 4, 5, 4, 5, 4, 5]"
      ]
     },
     "execution_count": 11,
     "metadata": {},
     "output_type": "execute_result"
    }
   ],
   "execution_count": 11
  },
  {
   "metadata": {
    "ExecuteTime": {
     "end_time": "2025-02-08T18:02:23.769666Z",
     "start_time": "2025-02-08T18:02:23.687810Z"
    }
   },
   "cell_type": "code",
   "source": "a.remove(b)",
   "id": "749623b4f9e17515",
   "outputs": [
    {
     "ename": "ValueError",
     "evalue": "list.remove(x): x not in list",
     "output_type": "error",
     "traceback": [
      "\u001b[0;31m---------------------------------------------------------------------------\u001b[0m",
      "\u001b[0;31mValueError\u001b[0m                                Traceback (most recent call last)",
      "Cell \u001b[0;32mIn[12], line 1\u001b[0m\n\u001b[0;32m----> 1\u001b[0m \u001b[43ma\u001b[49m\u001b[38;5;241;43m.\u001b[39;49m\u001b[43mremove\u001b[49m\u001b[43m(\u001b[49m\u001b[43mb\u001b[49m\u001b[43m)\u001b[49m\n",
      "\u001b[0;31mValueError\u001b[0m: list.remove(x): x not in list"
     ]
    }
   ],
   "execution_count": 12
  },
  {
   "metadata": {
    "ExecuteTime": {
     "end_time": "2025-02-08T18:02:30.989959Z",
     "start_time": "2025-02-08T18:02:30.986540Z"
    }
   },
   "cell_type": "code",
   "source": "a.pop(2)",
   "id": "b4e04d736a86e67d",
   "outputs": [
    {
     "data": {
      "text/plain": [
       "3"
      ]
     },
     "execution_count": 13,
     "metadata": {},
     "output_type": "execute_result"
    }
   ],
   "execution_count": 13
  },
  {
   "metadata": {
    "ExecuteTime": {
     "end_time": "2025-02-08T18:02:34.797788Z",
     "start_time": "2025-02-08T18:02:34.795142Z"
    }
   },
   "cell_type": "code",
   "source": "a",
   "id": "a8ec7f3abe0fd2b1",
   "outputs": [
    {
     "data": {
      "text/plain": [
       "[1, 2, 4, 5, 4, 5, 4, 5, 4, 5]"
      ]
     },
     "execution_count": 14,
     "metadata": {},
     "output_type": "execute_result"
    }
   ],
   "execution_count": 14
  },
  {
   "metadata": {
    "ExecuteTime": {
     "end_time": "2025-02-08T18:02:51.101023Z",
     "start_time": "2025-02-08T18:02:51.099328Z"
    }
   },
   "cell_type": "code",
   "source": "a.remove(4)",
   "id": "d59c1ff03820b007",
   "outputs": [],
   "execution_count": 15
  },
  {
   "metadata": {
    "ExecuteTime": {
     "end_time": "2025-02-08T18:02:52.420436Z",
     "start_time": "2025-02-08T18:02:52.418058Z"
    }
   },
   "cell_type": "code",
   "source": "a",
   "id": "69ce0d2e2b2d1ec2",
   "outputs": [
    {
     "data": {
      "text/plain": [
       "[1, 2, 5, 4, 5, 4, 5, 4, 5]"
      ]
     },
     "execution_count": 16,
     "metadata": {},
     "output_type": "execute_result"
    }
   ],
   "execution_count": 16
  },
  {
   "metadata": {
    "ExecuteTime": {
     "end_time": "2025-02-08T18:03:18.121469Z",
     "start_time": "2025-02-08T18:03:18.119696Z"
    }
   },
   "cell_type": "code",
   "source": "a.remove(4)",
   "id": "18b8c0897f59d1e9",
   "outputs": [],
   "execution_count": 17
  },
  {
   "metadata": {
    "ExecuteTime": {
     "end_time": "2025-02-08T18:03:19.370396Z",
     "start_time": "2025-02-08T18:03:19.368090Z"
    }
   },
   "cell_type": "code",
   "source": "a",
   "id": "77246ee0006ee6d6",
   "outputs": [
    {
     "data": {
      "text/plain": [
       "[1, 2, 5, 5, 4, 5, 4, 5]"
      ]
     },
     "execution_count": 18,
     "metadata": {},
     "output_type": "execute_result"
    }
   ],
   "execution_count": 18
  },
  {
   "metadata": {
    "ExecuteTime": {
     "end_time": "2025-02-08T18:04:41.600734Z",
     "start_time": "2025-02-08T18:04:41.597521Z"
    }
   },
   "cell_type": "code",
   "source": [
    "[a.remove(x) for x in [4]]"
   ],
   "id": "9ef2ec4691e12c62",
   "outputs": [
    {
     "data": {
      "text/plain": [
       "[None]"
      ]
     },
     "execution_count": 19,
     "metadata": {},
     "output_type": "execute_result"
    }
   ],
   "execution_count": 19
  },
  {
   "metadata": {
    "ExecuteTime": {
     "end_time": "2025-02-08T18:04:45.035891Z",
     "start_time": "2025-02-08T18:04:45.032427Z"
    }
   },
   "cell_type": "code",
   "source": "a",
   "id": "a2125a280b6c95c6",
   "outputs": [
    {
     "data": {
      "text/plain": [
       "[1, 2, 5, 5, 5, 4, 5]"
      ]
     },
     "execution_count": 20,
     "metadata": {},
     "output_type": "execute_result"
    }
   ],
   "execution_count": 20
  },
  {
   "metadata": {
    "ExecuteTime": {
     "end_time": "2025-02-08T18:05:34.921312Z",
     "start_time": "2025-02-08T18:05:34.918542Z"
    }
   },
   "cell_type": "code",
   "source": [
    "for el in a:\n",
    "    if el == 4:\n",
    "        a.remove(el)"
   ],
   "id": "9b24af9c79cdb856",
   "outputs": [],
   "execution_count": 21
  },
  {
   "metadata": {
    "ExecuteTime": {
     "end_time": "2025-02-08T18:05:36.452033Z",
     "start_time": "2025-02-08T18:05:36.449558Z"
    }
   },
   "cell_type": "code",
   "source": "a",
   "id": "f6f52972151d40e4",
   "outputs": [
    {
     "data": {
      "text/plain": [
       "[1, 2, 5, 5, 5, 5]"
      ]
     },
     "execution_count": 22,
     "metadata": {},
     "output_type": "execute_result"
    }
   ],
   "execution_count": 22
  },
  {
   "metadata": {
    "ExecuteTime": {
     "end_time": "2025-02-08T18:06:01.922741Z",
     "start_time": "2025-02-08T18:06:01.919582Z"
    }
   },
   "cell_type": "code",
   "source": [
    "a = [1, 2, 3]"
   ],
   "id": "8d21f3c3d7464e8",
   "outputs": [],
   "execution_count": 23
  },
  {
   "metadata": {
    "ExecuteTime": {
     "end_time": "2025-02-08T18:06:12.292525Z",
     "start_time": "2025-02-08T18:06:12.289937Z"
    }
   },
   "cell_type": "code",
   "source": [
    "c = a + b  # new list is created"
   ],
   "id": "c39b72ec50084a86",
   "outputs": [],
   "execution_count": 24
  },
  {
   "metadata": {
    "ExecuteTime": {
     "end_time": "2025-02-08T18:06:17.734826Z",
     "start_time": "2025-02-08T18:06:17.732602Z"
    }
   },
   "cell_type": "code",
   "source": [
    "a.extend(b)  # in place"
   ],
   "id": "ddb2f1f0b7ef2523",
   "outputs": [],
   "execution_count": 25
  },
  {
   "metadata": {
    "ExecuteTime": {
     "end_time": "2025-02-08T18:06:23.450727Z",
     "start_time": "2025-02-08T18:06:23.448582Z"
    }
   },
   "cell_type": "code",
   "source": [
    "assert a == c"
   ],
   "id": "dd10c20e44afb71f",
   "outputs": [],
   "execution_count": 26
  },
  {
   "metadata": {
    "ExecuteTime": {
     "end_time": "2025-02-08T18:06:38.543562Z",
     "start_time": "2025-02-08T18:06:38.540902Z"
    }
   },
   "cell_type": "code",
   "source": "id(a)",
   "id": "36a15c79ef0f2ab",
   "outputs": [
    {
     "data": {
      "text/plain": [
       "4412160768"
      ]
     },
     "execution_count": 27,
     "metadata": {},
     "output_type": "execute_result"
    }
   ],
   "execution_count": 27
  },
  {
   "metadata": {
    "ExecuteTime": {
     "end_time": "2025-02-08T18:06:41.841471Z",
     "start_time": "2025-02-08T18:06:41.839232Z"
    }
   },
   "cell_type": "code",
   "source": "id(c)",
   "id": "77f1c55d85eef02a",
   "outputs": [
    {
     "data": {
      "text/plain": [
       "4406601216"
      ]
     },
     "execution_count": 28,
     "metadata": {},
     "output_type": "execute_result"
    }
   ],
   "execution_count": 28
  },
  {
   "metadata": {
    "ExecuteTime": {
     "end_time": "2025-02-08T18:08:24.786074Z",
     "start_time": "2025-02-08T18:08:24.775887Z"
    }
   },
   "cell_type": "code",
   "source": "a.extend(4)",
   "id": "31ccc4750876e091",
   "outputs": [
    {
     "ename": "TypeError",
     "evalue": "'int' object is not iterable",
     "output_type": "error",
     "traceback": [
      "\u001b[0;31m---------------------------------------------------------------------------\u001b[0m",
      "\u001b[0;31mTypeError\u001b[0m                                 Traceback (most recent call last)",
      "Cell \u001b[0;32mIn[29], line 1\u001b[0m\n\u001b[0;32m----> 1\u001b[0m \u001b[43ma\u001b[49m\u001b[38;5;241;43m.\u001b[39;49m\u001b[43mextend\u001b[49m\u001b[43m(\u001b[49m\u001b[38;5;241;43m4\u001b[39;49m\u001b[43m)\u001b[49m\n",
      "\u001b[0;31mTypeError\u001b[0m: 'int' object is not iterable"
     ]
    }
   ],
   "execution_count": 29
  },
  {
   "metadata": {
    "ExecuteTime": {
     "end_time": "2025-02-08T18:08:30.506814Z",
     "start_time": "2025-02-08T18:08:30.504628Z"
    }
   },
   "cell_type": "code",
   "source": "a.append(4)",
   "id": "fcaf5cbfed0d6725",
   "outputs": [],
   "execution_count": 30
  },
  {
   "metadata": {
    "ExecuteTime": {
     "end_time": "2025-02-08T18:08:34.125408Z",
     "start_time": "2025-02-08T18:08:34.123211Z"
    }
   },
   "cell_type": "code",
   "source": "id(a)",
   "id": "c8f42d815bbf4008",
   "outputs": [
    {
     "data": {
      "text/plain": [
       "4412160768"
      ]
     },
     "execution_count": 31,
     "metadata": {},
     "output_type": "execute_result"
    }
   ],
   "execution_count": 31
  },
  {
   "metadata": {
    "ExecuteTime": {
     "end_time": "2025-02-08T18:09:34.248352Z",
     "start_time": "2025-02-08T18:09:34.245717Z"
    }
   },
   "cell_type": "code",
   "source": [
    "x = (1, 2, 3)\n",
    "y = 1, 2, 3\n",
    "assert x == y"
   ],
   "id": "2f1dc4251b5f3a8b",
   "outputs": [],
   "execution_count": 32
  },
  {
   "metadata": {
    "ExecuteTime": {
     "end_time": "2025-02-08T18:22:15.455458Z",
     "start_time": "2025-02-08T18:22:15.452692Z"
    }
   },
   "cell_type": "code",
   "source": [
    "x = \"ABC\"\n",
    "codes = [ord(x) for x in x]  # ?? Scoping\n",
    "print(codes)"
   ],
   "id": "2e8d58d2e707cdfa",
   "outputs": [
    {
     "name": "stdout",
     "output_type": "stream",
     "text": [
      "[65, 66, 67]\n"
     ]
    }
   ],
   "execution_count": 34
  },
  {
   "metadata": {
    "ExecuteTime": {
     "end_time": "2025-02-08T18:23:16.942564Z",
     "start_time": "2025-02-08T18:23:16.939409Z"
    }
   },
   "cell_type": "code",
   "source": [
    "codes = [last := ord(x) for x in x]\n",
    "codes"
   ],
   "id": "a12b6b2a75bc2c1b",
   "outputs": [
    {
     "data": {
      "text/plain": [
       "[65, 66, 67]"
      ]
     },
     "execution_count": 35,
     "metadata": {},
     "output_type": "execute_result"
    }
   ],
   "execution_count": 35
  },
  {
   "metadata": {
    "ExecuteTime": {
     "end_time": "2025-02-08T18:23:23.077231Z",
     "start_time": "2025-02-08T18:23:23.074442Z"
    }
   },
   "cell_type": "code",
   "source": "last",
   "id": "ea19a6e2ddb6dff4",
   "outputs": [
    {
     "data": {
      "text/plain": [
       "67"
      ]
     },
     "execution_count": 36,
     "metadata": {},
     "output_type": "execute_result"
    }
   ],
   "execution_count": 36
  },
  {
   "metadata": {
    "ExecuteTime": {
     "end_time": "2025-02-08T18:25:48.242215Z",
     "start_time": "2025-02-08T18:25:48.239687Z"
    }
   },
   "cell_type": "code",
   "source": [
    "a, *body, c, d = range(10)"
   ],
   "id": "7db879aabb98c0e8",
   "outputs": [],
   "execution_count": 37
  },
  {
   "metadata": {
    "ExecuteTime": {
     "end_time": "2025-02-08T18:25:53.826490Z",
     "start_time": "2025-02-08T18:25:53.823111Z"
    }
   },
   "cell_type": "code",
   "source": [
    "a, body, c, d"
   ],
   "id": "fe8ce6e53fde047a",
   "outputs": [
    {
     "data": {
      "text/plain": [
       "(0, [1, 2, 3, 4, 5, 6, 7], 8, 9)"
      ]
     },
     "execution_count": 38,
     "metadata": {},
     "output_type": "execute_result"
    }
   ],
   "execution_count": 38
  },
  {
   "metadata": {
    "ExecuteTime": {
     "end_time": "2025-02-08T18:26:02.828083Z",
     "start_time": "2025-02-08T18:26:02.825433Z"
    }
   },
   "cell_type": "code",
   "source": "*body",
   "id": "d1844e428892a8f3",
   "outputs": [
    {
     "ename": "SyntaxError",
     "evalue": "can't use starred expression here (3163717933.py, line 1)",
     "output_type": "error",
     "traceback": [
      "\u001b[0;36m  Cell \u001b[0;32mIn[39], line 1\u001b[0;36m\u001b[0m\n\u001b[0;31m    *body\u001b[0m\n\u001b[0m    ^\u001b[0m\n\u001b[0;31mSyntaxError\u001b[0m\u001b[0;31m:\u001b[0m can't use starred expression here\n"
     ]
    }
   ],
   "execution_count": 39
  },
  {
   "metadata": {
    "ExecuteTime": {
     "end_time": "2025-02-08T18:26:14.660257Z",
     "start_time": "2025-02-08T18:26:14.658027Z"
    }
   },
   "cell_type": "code",
   "source": "print(*body)",
   "id": "77e4c3e51118f19c",
   "outputs": [
    {
     "name": "stdout",
     "output_type": "stream",
     "text": [
      "1 2 3 4 5 6 7\n"
     ]
    }
   ],
   "execution_count": 40
  },
  {
   "metadata": {
    "ExecuteTime": {
     "end_time": "2025-02-08T18:27:01.203415Z",
     "start_time": "2025-02-08T18:27:01.200313Z"
    }
   },
   "cell_type": "code",
   "source": [
    "*range(4), 4  # tuple, parenthesis are just for grouping, avoid when not needed"
   ],
   "id": "d8d6b9e6fd0ecf9",
   "outputs": [
    {
     "data": {
      "text/plain": [
       "(0, 1, 2, 3, 4)"
      ]
     },
     "execution_count": 41,
     "metadata": {},
     "output_type": "execute_result"
    }
   ],
   "execution_count": 41
  },
  {
   "metadata": {
    "ExecuteTime": {
     "end_time": "2025-02-08T18:27:12.864203Z",
     "start_time": "2025-02-08T18:27:12.861307Z"
    }
   },
   "cell_type": "code",
   "source": [
    "[*range(4), 4]"
   ],
   "id": "2a958feebf43a6cd",
   "outputs": [
    {
     "data": {
      "text/plain": [
       "[0, 1, 2, 3, 4]"
      ]
     },
     "execution_count": 42,
     "metadata": {},
     "output_type": "execute_result"
    }
   ],
   "execution_count": 42
  },
  {
   "metadata": {},
   "cell_type": "code",
   "outputs": [],
   "execution_count": null,
   "source": "",
   "id": "896144f918413f07"
  }
 ],
 "metadata": {
  "kernelspec": {
   "display_name": "Python 3",
   "language": "python",
   "name": "python3"
  },
  "language_info": {
   "codemirror_mode": {
    "name": "ipython",
    "version": 2
   },
   "file_extension": ".py",
   "mimetype": "text/x-python",
   "name": "python",
   "nbconvert_exporter": "python",
   "pygments_lexer": "ipython2",
   "version": "2.7.6"
  }
 },
 "nbformat": 4,
 "nbformat_minor": 5
}
