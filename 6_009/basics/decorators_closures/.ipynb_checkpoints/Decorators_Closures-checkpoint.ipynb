{
 "cells": [
  {
   "cell_type": "markdown",
   "id": "fb0011d997dce5c0",
   "metadata": {},
   "source": [
    "# Functions as First class Citizens"
   ]
  },
  {
   "cell_type": "code",
   "execution_count": 1,
   "id": "5b797091915a0742",
   "metadata": {
    "ExecuteTime": {
     "end_time": "2024-01-16T05:48:04.410102Z",
     "start_time": "2024-01-16T05:48:04.400680Z"
    }
   },
   "outputs": [
    {
     "name": "stdout",
     "output_type": "stream",
     "text": [
      "100 407 <function foo at 0x104fa6b60>\n",
      "100 408\n",
      "24\n"
     ]
    }
   ],
   "source": [
    "x = 100\n",
    "\n",
    "def foo(y):\n",
    "    return x+y\n",
    "\n",
    "z = foo(307)\n",
    "print(x,z,foo)\n",
    "def bar(x):\n",
    "    x=1000\n",
    "    return foo(308)\n",
    "w=bar(349)\n",
    "print(x,w)\n",
    "\n",
    "def apply_n_times(f,n,x):\n",
    "    out = x\n",
    "    for i in range(n):\n",
    "        out=f(out)\n",
    "\n",
    "    return out\n",
    "\n",
    "def double(x):\n",
    "    return x*2\n",
    "\n",
    "print(apply_n_times(double,3,3)) # 12\n",
    "\n"
   ]
  },
  {
   "cell_type": "markdown",
   "id": "e416e10842831b63",
   "metadata": {},
   "source": [
    "# Decorators and Closures"
   ]
  },
  {
   "cell_type": "code",
   "execution_count": 11,
   "id": "f5f81370303cc48a",
   "metadata": {
    "ExecuteTime": {
     "end_time": "2024-01-16T05:53:15.613536Z",
     "start_time": "2024-01-16T05:53:15.610540Z"
    }
   },
   "outputs": [
    {
     "name": "stdout",
     "output_type": "stream",
     "text": [
      "Inner Function\n",
      "Target: 2\n"
     ]
    }
   ],
   "source": [
    "def decorate(func):\n",
    "    def inner():\n",
    "        print(\"Inner Function\")\n",
    "        return 2\n",
    "    return inner\n",
    "\n",
    "@decorate\n",
    "def target():\n",
    "   print(\"Target Function\")\n",
    "\n",
    "print(\"Target:\",target())\n"
   ]
  },
  {
   "cell_type": "code",
   "execution_count": 42,
   "id": "7e021dc7706eb3d4",
   "metadata": {
    "ExecuteTime": {
     "end_time": "2024-01-16T06:14:19.944116Z",
     "start_time": "2024-01-16T06:14:19.940219Z"
    }
   },
   "outputs": [
    {
     "name": "stdout",
     "output_type": "stream",
     "text": [
      "running register(<function foo1 at 0x1078b9580>)\n",
      "running register(<function foo2 at 0x1078ba020>)\n",
      "running register(<function foo3 at 0x1078ba5c0>)\n"
     ]
    }
   ],
   "source": [
    "registry = []\n",
    "\n",
    "def register(func):\n",
    "    print(f'running register({func})')\n",
    "    registry.append(func)\n",
    "    return func\n",
    "\n",
    "@register\n",
    "def foo1():\n",
    "    print(\"foo1 Function\")\n",
    "    \n",
    "@register\n",
    "def foo2():\n",
    "    print(\"foo2 Function\")\n",
    "\n",
    "@register\n",
    "def foo3():\n",
    "    print(\"foo3 Function\")\n",
    "    \n"
   ]
  },
  {
   "cell_type": "code",
   "execution_count": 13,
   "id": "f816d17787220117",
   "metadata": {
    "ExecuteTime": {
     "end_time": "2024-01-16T05:58:29.613410Z",
     "start_time": "2024-01-16T05:58:29.607318Z"
    }
   },
   "outputs": [
    {
     "name": "stdout",
     "output_type": "stream",
     "text": [
      "Invoking Register [<function foo1 at 0x1078b9260>, <function foo2 at 0x1078b8f40>, <function foo3 at 0x1078b9760>]\n"
     ]
    }
   ],
   "source": [
    "print(\"Invoking Register\",registry)"
   ]
  },
  {
   "cell_type": "code",
   "execution_count": 15,
   "id": "4342171c7e24d868",
   "metadata": {
    "ExecuteTime": {
     "end_time": "2024-01-16T05:59:46.434908Z",
     "start_time": "2024-01-16T05:59:46.430634Z"
    }
   },
   "outputs": [
    {
     "name": "stdout",
     "output_type": "stream",
     "text": [
      "<function decorate.<locals>.inner at 0x1078b9e40>\n"
     ]
    }
   ],
   "source": [
    "print(decorate(target))"
   ]
  },
  {
   "cell_type": "code",
   "execution_count": 17,
   "id": "28a90451f2fb7be2",
   "metadata": {
    "ExecuteTime": {
     "end_time": "2024-01-16T06:00:23.601079Z",
     "start_time": "2024-01-16T06:00:23.597646Z"
    }
   },
   "outputs": [
    {
     "name": "stdout",
     "output_type": "stream",
     "text": [
      "running register(<function foo1 at 0x1078b9260>)\n",
      "<function foo1 at 0x1078b9260>\n"
     ]
    }
   ],
   "source": [
    "print(register(foo1))"
   ]
  },
  {
   "cell_type": "markdown",
   "id": "411b5a6ce01e7cc4",
   "metadata": {},
   "source": [
    "# Note that register runs (twice) before any other function in the module. When register is called, it receives the decorated function object as an argument—\n",
    "\n",
    "for example, <function f1 at 0x100631bf8>."
   ]
  },
  {
   "cell_type": "code",
   "execution_count": 45,
   "id": "12c746d9f4138bfb",
   "metadata": {
    "ExecuteTime": {
     "end_time": "2024-01-16T06:17:01.705461Z",
     "start_time": "2024-01-16T06:17:01.703542Z"
    }
   },
   "outputs": [
    {
     "name": "stdout",
     "output_type": "stream",
     "text": [
      "foo1 Function\n",
      "foo2 Function\n",
      "foo3 Function\n"
     ]
    }
   ],
   "source": [
    "for reg in registry:\n",
    "    reg()"
   ]
  },
  {
   "cell_type": "code",
   "execution_count": 46,
   "id": "f46672f71a38a830",
   "metadata": {
    "ExecuteTime": {
     "end_time": "2024-01-16T06:17:04.102291Z",
     "start_time": "2024-01-16T06:17:04.099739Z"
    }
   },
   "outputs": [
    {
     "name": "stdout",
     "output_type": "stream",
     "text": [
      "foo1 Function\n"
     ]
    }
   ],
   "source": [
    "foo1()"
   ]
  },
  {
   "cell_type": "code",
   "execution_count": 47,
   "id": "8c51b670fe4beaaa",
   "metadata": {
    "ExecuteTime": {
     "end_time": "2024-01-16T06:17:06.885122Z",
     "start_time": "2024-01-16T06:17:06.882420Z"
    }
   },
   "outputs": [
    {
     "data": {
      "text/plain": [
       "<function __main__.foo2()>"
      ]
     },
     "execution_count": 47,
     "metadata": {},
     "output_type": "execute_result"
    }
   ],
   "source": [
    "registry[1]"
   ]
  },
  {
   "cell_type": "code",
   "execution_count": 48,
   "id": "d3cdea77b72136b8",
   "metadata": {
    "ExecuteTime": {
     "end_time": "2024-01-16T06:17:07.646805Z",
     "start_time": "2024-01-16T06:17:07.643786Z"
    }
   },
   "outputs": [
    {
     "name": "stdout",
     "output_type": "stream",
     "text": [
      "foo1 Function\n"
     ]
    }
   ],
   "source": [
    "registry[0]()"
   ]
  },
  {
   "cell_type": "code",
   "execution_count": 49,
   "id": "1149ca30132ca25",
   "metadata": {
    "ExecuteTime": {
     "end_time": "2024-01-16T06:17:08.389246Z",
     "start_time": "2024-01-16T06:17:08.387239Z"
    }
   },
   "outputs": [
    {
     "name": "stdout",
     "output_type": "stream",
     "text": [
      "foo1 Function\n",
      "foo2 Function\n",
      "foo3 Function\n"
     ]
    }
   ],
   "source": [
    "for reg in registry:\n",
    "    reg()"
   ]
  },
  {
   "cell_type": "code",
   "execution_count": 52,
   "id": "f5c75c70dd350788",
   "metadata": {
    "ExecuteTime": {
     "end_time": "2024-01-16T06:18:58.522099Z",
     "start_time": "2024-01-16T06:18:58.518042Z"
    }
   },
   "outputs": [
    {
     "name": "stdout",
     "output_type": "stream",
     "text": [
      "running register(<function foo1 at 0x1078bb240>)\n",
      "running register(<function foo2 at 0x1078ba3e0>)\n",
      "running register(<function foo3 at 0x1078ba340>)\n"
     ]
    }
   ],
   "source": [
    "from revision.decorators_closures import Register\n"
   ]
  },
  {
   "cell_type": "code",
   "execution_count": 55,
   "id": "1302e0bd41d3dbe9",
   "metadata": {
    "ExecuteTime": {
     "end_time": "2024-01-16T06:20:13.472903Z",
     "start_time": "2024-01-16T06:20:13.470106Z"
    }
   },
   "outputs": [
    {
     "data": {
      "text/plain": [
       "[<function revision.decorators_closures.Register.foo1()>,\n",
       " <function revision.decorators_closures.Register.foo2()>,\n",
       " <function revision.decorators_closures.Register.foo3()>]"
      ]
     },
     "execution_count": 55,
     "metadata": {},
     "output_type": "execute_result"
    }
   ],
   "source": [
    "Register.registry"
   ]
  },
  {
   "cell_type": "code",
   "execution_count": 58,
   "id": "2adce0f91c550629",
   "metadata": {
    "ExecuteTime": {
     "end_time": "2024-01-16T06:23:07.884444Z",
     "start_time": "2024-01-16T06:23:07.881987Z"
    }
   },
   "outputs": [
    {
     "name": "stdout",
     "output_type": "stream",
     "text": [
      "3\n",
      "6\n"
     ]
    }
   ],
   "source": []
  },
  {
   "cell_type": "code",
   "execution_count": null,
   "id": "7fe4fddd9831c070",
   "metadata": {},
   "outputs": [],
   "source": []
  },
  {
   "cell_type": "markdown",
   "id": "b3fece3c761cb76",
   "metadata": {},
   "source": [
    "# Closures"
   ]
  },
  {
   "cell_type": "code",
   "execution_count": 89,
   "id": "614f07eebae4244f",
   "metadata": {
    "ExecuteTime": {
     "end_time": "2024-01-16T06:44:29.200746Z",
     "start_time": "2024-01-16T06:44:29.199305Z"
    }
   },
   "outputs": [],
   "source": [
    "class Averager:\n",
    "    \"\"\"\n",
    "    Starter for closures and OOPS\n",
    "    variable with _ has class scope and __ is a private attribute\n",
    "    \"\"\"\n",
    "    def __init__(self):\n",
    "        \n",
    "        self._series = []\n",
    "        self.__series1 = []\n",
    "    \n",
    "    def __call__(self,val):\n",
    "        self._series.append(val)\n",
    "        self.__series1.append(val)\n",
    "        total = sum(self._series)/len(self._series)\n",
    "        \n",
    "        return total\n",
    "        "
   ]
  },
  {
   "cell_type": "code",
   "execution_count": 90,
   "id": "e389da598ba02fc4",
   "metadata": {
    "ExecuteTime": {
     "end_time": "2024-01-16T06:44:30.132480Z",
     "start_time": "2024-01-16T06:44:30.129348Z"
    }
   },
   "outputs": [
    {
     "name": "stdout",
     "output_type": "stream",
     "text": [
      "10.0\n",
      "55.0\n"
     ]
    }
   ],
   "source": [
    "avg = Averager()\n",
    "print(avg(10))\n",
    "print(avg(100))"
   ]
  },
  {
   "cell_type": "code",
   "execution_count": 93,
   "id": "14fb0edd0b7ef01",
   "metadata": {
    "ExecuteTime": {
     "end_time": "2024-01-16T06:45:49.908803Z",
     "start_time": "2024-01-16T06:45:49.904557Z"
    }
   },
   "outputs": [
    {
     "name": "stdout",
     "output_type": "stream",
     "text": [
      "[10, 100]\n"
     ]
    }
   ],
   "source": [
    "print(avg._series)\n",
    "# So wondering why bother with private static protected and public variables in Java\n",
    "\n"
   ]
  },
  {
   "cell_type": "code",
   "execution_count": 92,
   "id": "291bfa3fa3dd991b",
   "metadata": {
    "ExecuteTime": {
     "end_time": "2024-01-16T06:44:53.647289Z",
     "start_time": "2024-01-16T06:44:53.644858Z"
    }
   },
   "outputs": [
    {
     "ename": "AttributeError",
     "evalue": "'Averager' object has no attribute '__series1'",
     "output_type": "error",
     "traceback": [
      "\u001b[0;31m---------------------------------------------------------------------------\u001b[0m",
      "\u001b[0;31mAttributeError\u001b[0m                            Traceback (most recent call last)",
      "Cell \u001b[0;32mIn[92], line 1\u001b[0m\n\u001b[0;32m----> 1\u001b[0m \u001b[43mavg\u001b[49m\u001b[38;5;241;43m.\u001b[39;49m\u001b[43m__series1\u001b[49m\n",
      "\u001b[0;31mAttributeError\u001b[0m: 'Averager' object has no attribute '__series1'"
     ]
    }
   ],
   "source": [
    "avg.__series1"
   ]
  },
  {
   "cell_type": "code",
   "execution_count": 98,
   "id": "3ea1ece6eb1f0cf8",
   "metadata": {
    "ExecuteTime": {
     "end_time": "2024-01-16T06:46:26.354275Z",
     "start_time": "2024-01-16T06:46:26.350105Z"
    }
   },
   "outputs": [],
   "source": [
    "\"\"\"\n",
    "Functional Way\n",
    "Closure\n",
    "\"\"\"\n",
    "\n",
    "def make_average():\n",
    "    series = []\n",
    "    def calculate_average(num):\n",
    "        series.append(num)\n",
    "        total = sum(series)/len(series)\n",
    "        return total\n",
    "    return calculate_average"
   ]
  },
  {
   "cell_type": "code",
   "execution_count": 99,
   "id": "8543f6df2667e1b6",
   "metadata": {
    "ExecuteTime": {
     "end_time": "2024-01-16T06:46:27.136691Z",
     "start_time": "2024-01-16T06:46:27.134025Z"
    }
   },
   "outputs": [
    {
     "name": "stdout",
     "output_type": "stream",
     "text": [
      "10.0\n"
     ]
    }
   ],
   "source": [
    "avg = make_average()\n",
    "print(avg(10))"
   ]
  },
  {
   "cell_type": "code",
   "execution_count": 100,
   "id": "11fe229c8b5b425f",
   "metadata": {
    "ExecuteTime": {
     "end_time": "2024-01-16T06:46:27.714016Z",
     "start_time": "2024-01-16T06:46:27.711105Z"
    }
   },
   "outputs": [
    {
     "data": {
      "text/plain": [
       "10.5"
      ]
     },
     "execution_count": 100,
     "metadata": {},
     "output_type": "execute_result"
    }
   ],
   "source": [
    "avg(11)"
   ]
  },
  {
   "cell_type": "code",
   "execution_count": 101,
   "id": "59437ab54f86811f",
   "metadata": {
    "ExecuteTime": {
     "end_time": "2024-01-16T06:46:28.124297Z",
     "start_time": "2024-01-16T06:46:28.122134Z"
    }
   },
   "outputs": [
    {
     "data": {
      "text/plain": [
       "11.0"
      ]
     },
     "execution_count": 101,
     "metadata": {},
     "output_type": "execute_result"
    }
   ],
   "source": [
    "avg(12)"
   ]
  },
  {
   "cell_type": "code",
   "execution_count": 102,
   "id": "7fb1f694191ce456",
   "metadata": {
    "ExecuteTime": {
     "end_time": "2024-01-16T06:49:24.146451Z",
     "start_time": "2024-01-16T06:49:24.139103Z"
    }
   },
   "outputs": [
    {
     "data": {
      "text/plain": [
       "[10, 11, 12]"
      ]
     },
     "execution_count": 102,
     "metadata": {},
     "output_type": "execute_result"
    }
   ],
   "source": [
    "avg.__closure__[0].cell_contents"
   ]
  },
  {
   "cell_type": "code",
   "execution_count": 114,
   "id": "747e11d5cb461065",
   "metadata": {
    "ExecuteTime": {
     "end_time": "2024-01-16T07:12:31.555163Z",
     "start_time": "2024-01-16T07:12:31.548503Z"
    }
   },
   "outputs": [
    {
     "data": {
      "text/plain": [
       "('series',)"
      ]
     },
     "execution_count": 114,
     "metadata": {},
     "output_type": "execute_result"
    }
   ],
   "source": [
    "avg.__code__.co_freevars"
   ]
  },
  {
   "cell_type": "code",
   "execution_count": 7,
   "id": "a21165d2a9bef130",
   "metadata": {
    "ExecuteTime": {
     "end_time": "2024-01-16T07:18:15.985226Z",
     "start_time": "2024-01-16T07:18:15.979601Z"
    }
   },
   "outputs": [],
   "source": [
    "from dis import dis"
   ]
  },
  {
   "cell_type": "code",
   "execution_count": 104,
   "id": "83f84601199120df",
   "metadata": {
    "ExecuteTime": {
     "end_time": "2024-01-16T06:50:50.150267Z",
     "start_time": "2024-01-16T06:50:50.142680Z"
    }
   },
   "outputs": [
    {
     "name": "stdout",
     "output_type": "stream",
     "text": [
      "  8           0 RESUME                   0\n",
      "\n",
      " 10           2 LOAD_GLOBAL              1 (NULL + print)\n",
      "             12 LOAD_CONST               1 ('foo1 Function')\n",
      "             14 CALL                     1\n",
      "             22 POP_TOP\n",
      "             24 RETURN_CONST             0 (None)\n"
     ]
    }
   ],
   "source": [
    "dis(foo1)"
   ]
  },
  {
   "cell_type": "code",
   "execution_count": 106,
   "id": "c6ae7af1632d4751",
   "metadata": {
    "ExecuteTime": {
     "end_time": "2024-01-16T06:54:54.631243Z",
     "start_time": "2024-01-16T06:54:54.628518Z"
    }
   },
   "outputs": [
    {
     "name": "stdout",
     "output_type": "stream",
     "text": [
      "              0 MAKE_CELL                1 (series)\n",
      "\n",
      "  6           2 RESUME                   0\n",
      "\n",
      "  7           4 BUILD_LIST               0\n",
      "              6 STORE_DEREF              1 (series)\n",
      "\n",
      "  8           8 LOAD_CLOSURE             1 (series)\n",
      "             10 BUILD_TUPLE              1\n",
      "             12 LOAD_CONST               1 (<code object calculate_average at 0x1079606f0, file \"/var/folders/zt/1scshgnj4jxfkz9kb1005c8r0000gn/T/ipykernel_16435/1073538618.py\", line 8>)\n",
      "             14 MAKE_FUNCTION            8 (closure)\n",
      "             16 STORE_FAST               0 (calculate_average)\n",
      "\n",
      " 12          18 LOAD_FAST                0 (calculate_average)\n",
      "             20 RETURN_VALUE\n",
      "\n",
      "Disassembly of <code object calculate_average at 0x1079606f0, file \"/var/folders/zt/1scshgnj4jxfkz9kb1005c8r0000gn/T/ipykernel_16435/1073538618.py\", line 8>:\n",
      "              0 COPY_FREE_VARS           1\n",
      "\n",
      "  8           2 RESUME                   0\n",
      "\n",
      "  9           4 LOAD_DEREF               2 (series)\n",
      "              6 LOAD_ATTR                1 (NULL|self + append)\n",
      "             26 LOAD_FAST                0 (num)\n",
      "             28 CALL                     1\n",
      "             36 POP_TOP\n",
      "\n",
      " 10          38 LOAD_GLOBAL              3 (NULL + sum)\n",
      "             48 LOAD_DEREF               2 (series)\n",
      "             50 CALL                     1\n",
      "             58 LOAD_GLOBAL              5 (NULL + len)\n",
      "             68 LOAD_DEREF               2 (series)\n",
      "             70 CALL                     1\n",
      "             78 BINARY_OP               11 (/)\n",
      "             82 STORE_FAST               1 (total)\n",
      "\n",
      " 11          84 LOAD_FAST                1 (total)\n",
      "             86 RETURN_VALUE\n"
     ]
    }
   ],
   "source": [
    "dis(make_average)"
   ]
  },
  {
   "cell_type": "code",
   "execution_count": 15,
   "id": "875b91ecf9161c5e",
   "metadata": {
    "ExecuteTime": {
     "end_time": "2024-01-16T07:20:31.897326Z",
     "start_time": "2024-01-16T07:20:31.889914Z"
    }
   },
   "outputs": [],
   "source": [
    "def generate_parenthesis(n):\n",
    "    series = []\n",
    "    def dfs(left,right,s):\n",
    "        if left+right==2*n:\n",
    "            series.append(s)\n",
    "            return\n",
    "            \n",
    "        if left<n:\n",
    "            dfs(left+1,right,s+'(')\n",
    "        if right<left:\n",
    "            dfs(left,right+1,s+')')\n",
    "    \n",
    "    dfs(0,0,\"\")\n",
    "    return series"
   ]
  },
  {
   "cell_type": "code",
   "execution_count": 13,
   "id": "afe808325b598e28",
   "metadata": {
    "ExecuteTime": {
     "end_time": "2024-01-16T07:19:22.090532Z",
     "start_time": "2024-01-16T07:19:22.085969Z"
    }
   },
   "outputs": [
    {
     "name": "stdout",
     "output_type": "stream",
     "text": [
      "['(((())))', '((()()))', '((())())', '((()))()', '(()(()))', '(()()())', '(()())()', '(())(())', '(())()()', '()((()))', '()(()())', '()(())()', '()()(())', '()()()()']\n"
     ]
    }
   ],
   "source": [
    "print(generate_parenthesis(4))"
   ]
  },
  {
   "cell_type": "code",
   "execution_count": 109,
   "id": "eb5dce138ec62968",
   "metadata": {
    "ExecuteTime": {
     "end_time": "2024-01-16T07:08:43.916702Z",
     "start_time": "2024-01-16T07:08:43.907857Z"
    }
   },
   "outputs": [],
   "source": [
    "gen = generate_parenthesis(4)"
   ]
  },
  {
   "cell_type": "code",
   "execution_count": 14,
   "id": "1ffc6c4350caa905",
   "metadata": {
    "ExecuteTime": {
     "end_time": "2024-01-16T07:19:25.284080Z",
     "start_time": "2024-01-16T07:19:25.278699Z"
    }
   },
   "outputs": [
    {
     "name": "stdout",
     "output_type": "stream",
     "text": [
      "              0 MAKE_CELL                0 (n)\n",
      "              2 MAKE_CELL                1 (dfs)\n",
      "              4 MAKE_CELL                2 (series)\n",
      "\n",
      "  1           6 RESUME                   0\n",
      "\n",
      "  2           8 BUILD_LIST               0\n",
      "             10 STORE_DEREF              2 (series)\n",
      "\n",
      "  3          12 LOAD_CLOSURE             1 (dfs)\n",
      "             14 LOAD_CLOSURE             0 (n)\n",
      "             16 LOAD_CLOSURE             2 (series)\n",
      "             18 BUILD_TUPLE              3\n",
      "             20 LOAD_CONST               1 (<code object dfs at 0x10448c5b0, file \"/var/folders/zt/1scshgnj4jxfkz9kb1005c8r0000gn/T/ipykernel_17178/3002107191.py\", line 3>)\n",
      "             22 MAKE_FUNCTION            8 (closure)\n",
      "             24 STORE_DEREF              1 (dfs)\n",
      "\n",
      " 13          26 PUSH_NULL\n",
      "             28 LOAD_DEREF               1 (dfs)\n",
      "             30 LOAD_CONST               2 (0)\n",
      "             32 LOAD_CONST               2 (0)\n",
      "             34 LOAD_CONST               3 ('')\n",
      "             36 CALL                     3\n",
      "             44 POP_TOP\n",
      "\n",
      " 14          46 LOAD_DEREF               2 (series)\n",
      "             48 RETURN_VALUE\n",
      "\n",
      "Disassembly of <code object dfs at 0x10448c5b0, file \"/var/folders/zt/1scshgnj4jxfkz9kb1005c8r0000gn/T/ipykernel_17178/3002107191.py\", line 3>:\n",
      "              0 COPY_FREE_VARS           3\n",
      "\n",
      "  3           2 RESUME                   0\n",
      "\n",
      "  4           4 LOAD_FAST                0 (left)\n",
      "              6 LOAD_FAST                1 (right)\n",
      "              8 BINARY_OP                0 (+)\n",
      "             12 LOAD_CONST               1 (2)\n",
      "             14 LOAD_DEREF               4 (n)\n",
      "             16 BINARY_OP                5 (*)\n",
      "             20 COMPARE_OP              40 (==)\n",
      "             24 POP_JUMP_IF_FALSE       17 (to 60)\n",
      "\n",
      "  5          26 LOAD_DEREF               5 (series)\n",
      "             28 LOAD_ATTR                1 (NULL|self + append)\n",
      "             48 LOAD_FAST                2 (s)\n",
      "             50 CALL                     1\n",
      "             58 POP_TOP\n",
      "\n",
      "  8     >>   60 LOAD_FAST                0 (left)\n",
      "             62 LOAD_DEREF               4 (n)\n",
      "             64 COMPARE_OP               2 (<)\n",
      "             68 POP_JUMP_IF_FALSE       16 (to 102)\n",
      "\n",
      "  9          70 PUSH_NULL\n",
      "             72 LOAD_DEREF               3 (dfs)\n",
      "             74 LOAD_FAST                0 (left)\n",
      "             76 LOAD_CONST               2 (1)\n",
      "             78 BINARY_OP                0 (+)\n",
      "             82 LOAD_FAST                1 (right)\n",
      "             84 LOAD_FAST                2 (s)\n",
      "             86 LOAD_CONST               3 ('(')\n",
      "             88 BINARY_OP                0 (+)\n",
      "             92 CALL                     3\n",
      "            100 POP_TOP\n",
      "\n",
      " 10     >>  102 LOAD_FAST                1 (right)\n",
      "            104 LOAD_FAST                0 (left)\n",
      "            106 COMPARE_OP               2 (<)\n",
      "            110 POP_JUMP_IF_FALSE       17 (to 146)\n",
      "\n",
      " 11         112 PUSH_NULL\n",
      "            114 LOAD_DEREF               3 (dfs)\n",
      "            116 LOAD_FAST                0 (left)\n",
      "            118 LOAD_FAST                1 (right)\n",
      "            120 LOAD_CONST               2 (1)\n",
      "            122 BINARY_OP                0 (+)\n",
      "            126 LOAD_FAST                2 (s)\n",
      "            128 LOAD_CONST               4 (')')\n",
      "            130 BINARY_OP                0 (+)\n",
      "            134 CALL                     3\n",
      "            142 POP_TOP\n",
      "            144 RETURN_CONST             0 (None)\n",
      "\n",
      " 10     >>  146 RETURN_CONST             0 (None)\n"
     ]
    }
   ],
   "source": [
    "dis(generate_parenthesis) # Without Return"
   ]
  },
  {
   "cell_type": "code",
   "execution_count": 6,
   "id": "89c28176cb2cdebf",
   "metadata": {
    "ExecuteTime": {
     "end_time": "2024-01-16T07:17:56.081116Z",
     "start_time": "2024-01-16T07:17:51.606512Z"
    }
   },
   "outputs": [
    {
     "name": "stdout",
     "output_type": "stream",
     "text": [
      "4.8 µs ± 5.44 ns per loop (mean ± std. dev. of 7 runs, 100,000 loops each)\n"
     ]
    }
   ],
   "source": [
    "%timeit generate_parenthesis(4)"
   ]
  },
  {
   "cell_type": "code",
   "execution_count": 115,
   "id": "abca01a5ac13909b",
   "metadata": {
    "ExecuteTime": {
     "end_time": "2024-01-16T07:12:53.980042Z",
     "start_time": "2024-01-16T07:12:53.972318Z"
    }
   },
   "outputs": [
    {
     "ename": "AttributeError",
     "evalue": "'str' object has no attribute '__code__'",
     "output_type": "error",
     "traceback": [
      "\u001b[0;31m---------------------------------------------------------------------------\u001b[0m",
      "\u001b[0;31mAttributeError\u001b[0m                            Traceback (most recent call last)",
      "Cell \u001b[0;32mIn[115], line 1\u001b[0m\n\u001b[0;32m----> 1\u001b[0m \u001b[43mgen\u001b[49m\u001b[43m[\u001b[49m\u001b[38;5;241;43m0\u001b[39;49m\u001b[43m]\u001b[49m\u001b[38;5;241;43m.\u001b[39;49m\u001b[38;5;18;43m__code__\u001b[39;49m\u001b[38;5;241m.\u001b[39mco_freevars\n",
      "\u001b[0;31mAttributeError\u001b[0m: 'str' object has no attribute '__code__'"
     ]
    }
   ],
   "source": [
    "gen[0].__code__.co_freevars"
   ]
  },
  {
   "cell_type": "code",
   "execution_count": 16,
   "id": "2a52c219eff8e4e0",
   "metadata": {
    "ExecuteTime": {
     "end_time": "2024-01-16T07:20:39.967522Z",
     "start_time": "2024-01-16T07:20:39.963957Z"
    }
   },
   "outputs": [
    {
     "name": "stdout",
     "output_type": "stream",
     "text": [
      "              0 MAKE_CELL                0 (n)\n",
      "              2 MAKE_CELL                1 (dfs)\n",
      "              4 MAKE_CELL                2 (series)\n",
      "\n",
      "  1           6 RESUME                   0\n",
      "\n",
      "  2           8 BUILD_LIST               0\n",
      "             10 STORE_DEREF              2 (series)\n",
      "\n",
      "  3          12 LOAD_CLOSURE             1 (dfs)\n",
      "             14 LOAD_CLOSURE             0 (n)\n",
      "             16 LOAD_CLOSURE             2 (series)\n",
      "             18 BUILD_TUPLE              3\n",
      "             20 LOAD_CONST               1 (<code object dfs at 0x10448c2f0, file \"/var/folders/zt/1scshgnj4jxfkz9kb1005c8r0000gn/T/ipykernel_17178/4014062791.py\", line 3>)\n",
      "             22 MAKE_FUNCTION            8 (closure)\n",
      "             24 STORE_DEREF              1 (dfs)\n",
      "\n",
      " 13          26 PUSH_NULL\n",
      "             28 LOAD_DEREF               1 (dfs)\n",
      "             30 LOAD_CONST               2 (0)\n",
      "             32 LOAD_CONST               2 (0)\n",
      "             34 LOAD_CONST               3 ('')\n",
      "             36 CALL                     3\n",
      "             44 POP_TOP\n",
      "\n",
      " 14          46 LOAD_DEREF               2 (series)\n",
      "             48 RETURN_VALUE\n",
      "\n",
      "Disassembly of <code object dfs at 0x10448c2f0, file \"/var/folders/zt/1scshgnj4jxfkz9kb1005c8r0000gn/T/ipykernel_17178/4014062791.py\", line 3>:\n",
      "              0 COPY_FREE_VARS           3\n",
      "\n",
      "  3           2 RESUME                   0\n",
      "\n",
      "  4           4 LOAD_FAST                0 (left)\n",
      "              6 LOAD_FAST                1 (right)\n",
      "              8 BINARY_OP                0 (+)\n",
      "             12 LOAD_CONST               1 (2)\n",
      "             14 LOAD_DEREF               4 (n)\n",
      "             16 BINARY_OP                5 (*)\n",
      "             20 COMPARE_OP              40 (==)\n",
      "             24 POP_JUMP_IF_FALSE       18 (to 62)\n",
      "\n",
      "  5          26 LOAD_DEREF               5 (series)\n",
      "             28 LOAD_ATTR                1 (NULL|self + append)\n",
      "             48 LOAD_FAST                2 (s)\n",
      "             50 CALL                     1\n",
      "             58 POP_TOP\n",
      "\n",
      "  6          60 RETURN_CONST             0 (None)\n",
      "\n",
      "  8     >>   62 LOAD_FAST                0 (left)\n",
      "             64 LOAD_DEREF               4 (n)\n",
      "             66 COMPARE_OP               2 (<)\n",
      "             70 POP_JUMP_IF_FALSE       16 (to 104)\n",
      "\n",
      "  9          72 PUSH_NULL\n",
      "             74 LOAD_DEREF               3 (dfs)\n",
      "             76 LOAD_FAST                0 (left)\n",
      "             78 LOAD_CONST               2 (1)\n",
      "             80 BINARY_OP                0 (+)\n",
      "             84 LOAD_FAST                1 (right)\n",
      "             86 LOAD_FAST                2 (s)\n",
      "             88 LOAD_CONST               3 ('(')\n",
      "             90 BINARY_OP                0 (+)\n",
      "             94 CALL                     3\n",
      "            102 POP_TOP\n",
      "\n",
      " 10     >>  104 LOAD_FAST                1 (right)\n",
      "            106 LOAD_FAST                0 (left)\n",
      "            108 COMPARE_OP               2 (<)\n",
      "            112 POP_JUMP_IF_FALSE       17 (to 148)\n",
      "\n",
      " 11         114 PUSH_NULL\n",
      "            116 LOAD_DEREF               3 (dfs)\n",
      "            118 LOAD_FAST                0 (left)\n",
      "            120 LOAD_FAST                1 (right)\n",
      "            122 LOAD_CONST               2 (1)\n",
      "            124 BINARY_OP                0 (+)\n",
      "            128 LOAD_FAST                2 (s)\n",
      "            130 LOAD_CONST               4 (')')\n",
      "            132 BINARY_OP                0 (+)\n",
      "            136 CALL                     3\n",
      "            144 POP_TOP\n",
      "            146 RETURN_CONST             0 (None)\n",
      "\n",
      " 10     >>  148 RETURN_CONST             0 (None)\n"
     ]
    }
   ],
   "source": [
    "dis(generate_parenthesis)"
   ]
  },
  {
   "cell_type": "code",
   "execution_count": null,
   "id": "408592a3f43facaf",
   "metadata": {},
   "outputs": [],
   "source": []
  },
  {
   "cell_type": "markdown",
   "id": "730f3006d64cf496",
   "metadata": {},
   "source": [
    "# Non Locals"
   ]
  },
  {
   "cell_type": "code",
   "execution_count": 17,
   "id": "3f0b4e5e6ff5a746",
   "metadata": {
    "ExecuteTime": {
     "end_time": "2024-01-16T07:28:58.953314Z",
     "start_time": "2024-01-16T07:28:58.942184Z"
    }
   },
   "outputs": [],
   "source": [
    "def calulate_average():\n",
    "    count=0\n",
    "    total = 0\n",
    "    def averager(val):\n",
    "        nonlocal count,total\n",
    "        count+=1\n",
    "        total+=val\n",
    "        return total/count\n",
    "    return averager"
   ]
  },
  {
   "cell_type": "code",
   "execution_count": 18,
   "id": "9dcbdc997c5f8589",
   "metadata": {
    "ExecuteTime": {
     "end_time": "2024-01-16T07:30:11.356239Z",
     "start_time": "2024-01-16T07:30:11.344039Z"
    }
   },
   "outputs": [
    {
     "name": "stdout",
     "output_type": "stream",
     "text": [
      "10.5\n",
      "2\n"
     ]
    }
   ],
   "source": [
    "x= calulate_average()\n",
    "x(10)\n",
    "print(x(11))\n",
    "print(x.__closure__[0].cell_contents)"
   ]
  },
  {
   "cell_type": "code",
   "execution_count": null,
   "id": "7af020fba139f5ae",
   "metadata": {},
   "outputs": [],
   "source": []
  }
 ],
 "metadata": {
  "hide_input": false,
  "kernelspec": {
   "display_name": "Python 3 (ipykernel)",
   "language": "python",
   "name": "python3"
  },
  "language_info": {
   "codemirror_mode": {
    "name": "ipython",
    "version": 3
   },
   "file_extension": ".py",
   "mimetype": "text/x-python",
   "name": "python",
   "nbconvert_exporter": "python",
   "pygments_lexer": "ipython3",
   "version": "3.12.1"
  },
  "toc": {
   "base_numbering": 1,
   "nav_menu": {},
   "number_sections": true,
   "sideBar": true,
   "skip_h1_title": false,
   "title_cell": "Table of Contents",
   "title_sidebar": "Contents",
   "toc_cell": false,
   "toc_position": {},
   "toc_section_display": true,
   "toc_window_display": false
  },
  "varInspector": {
   "cols": {
    "lenName": 16,
    "lenType": 16,
    "lenVar": 40
   },
   "kernels_config": {
    "python": {
     "delete_cmd_postfix": "",
     "delete_cmd_prefix": "del ",
     "library": "var_list.py",
     "varRefreshCmd": "print(var_dic_list())"
    },
    "r": {
     "delete_cmd_postfix": ") ",
     "delete_cmd_prefix": "rm(",
     "library": "var_list.r",
     "varRefreshCmd": "cat(var_dic_list()) "
    }
   },
   "types_to_exclude": [
    "module",
    "function",
    "builtin_function_or_method",
    "instance",
    "_Feature"
   ],
   "window_display": false
  }
 },
 "nbformat": 4,
 "nbformat_minor": 5
}
