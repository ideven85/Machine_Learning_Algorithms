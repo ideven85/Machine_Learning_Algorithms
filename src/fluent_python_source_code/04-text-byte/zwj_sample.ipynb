{
 "cells": [
  {
   "cell_type": "code",
   "execution_count": 1,
   "metadata": {},
   "source": [
    "from unicodedata import name\n",
    "\n",
    "zwg_sample = \"\"\"\n",
    "1F468 200D 1F9B0            |man: red hair                      |E11.0\n",
    "1F9D1 200D 1F91D 200D 1F9D1 |people holding hands               |E12.0\n",
    "1F3CA 1F3FF 200D 2640 FE0F  |woman swimming: dark skin tone     |E4.0\n",
    "1F469 1F3FE 200D 2708 FE0F  |woman pilot: medium-dark skin tone |E4.0\n",
    "1F468 200D 1F469 200D 1F467 |family: man, woman, girl           |E2.0\n",
    "1F3F3 FE0F 200D 26A7 FE0F   |transgender flag                   |E13.0\n",
    "1F469 200D 2764 FE0F 200D 1F48B 200D 1F469 |kiss: woman, woman  |E2.0\n",
    "\"\"\"\n",
    "\n",
    "markers = {\n",
    "    \"\\u200D\": \"ZWG\",  # ZERO WIDTH JOINER\n",
    "    \"\\uFE0F\": \"V16\",  # VARIATION SELECTOR-16\n",
    "}\n",
    "\n",
    "for line in zwg_sample.strip().split(\"\\n\"):\n",
    "    code, descr, version = (s.strip() for s in line.split(\"|\"))\n",
    "    chars = [chr(int(c, 16)) for c in code.split()]\n",
    "    print(\"\".join(chars), version, descr, sep=\"\\t\", end=\"\")\n",
    "    while chars:\n",
    "        char = chars.pop(0)\n",
    "        if char in markers:\n",
    "            print(\" + \" + markers[char], end=\"\")\n",
    "        else:\n",
    "            ucode = f\"U+{ord(char):04X}\"\n",
    "            print(f\"\\n\\t{char}\\t{ucode}\\t{name(char)}\", end=\"\")\n",
    "    print()"
   ],
   "outputs": []
  },
  {
   "cell_type": "code",
   "execution_count": null,
   "metadata": {},
   "source": [],
   "outputs": []
  }
 ],
 "metadata": {
  "kernelspec": {
   "display_name": "Python 3",
   "language": "python",
   "name": "python3"
  },
  "language_info": {
   "codemirror_mode": {
    "name": "ipython",
    "version": 3
   },
   "file_extension": ".py",
   "mimetype": "text/x-python",
   "name": "python",
   "nbconvert_exporter": "python",
   "pygments_lexer": "ipython3",
   "version": "3.7.5"
  }
 },
 "nbformat": 4,
 "nbformat_minor": 2
}
