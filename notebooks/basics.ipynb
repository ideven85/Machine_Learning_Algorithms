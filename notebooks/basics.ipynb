{
 "cells": [
  {
   "cell_type": "code",
   "id": "initial_id",
   "metadata": {
    "collapsed": true,
    "ExecuteTime": {
     "end_time": "2024-12-03T17:46:38.222248Z",
     "start_time": "2024-12-03T17:46:38.219944Z"
    }
   },
   "source": [
    "a = [1, 2]\n",
    "b = [3, 4]\n",
    "tuple_basic = (a, b)"
   ],
   "outputs": [],
   "execution_count": 1
  },
  {
   "metadata": {
    "ExecuteTime": {
     "end_time": "2024-12-03T17:46:53.512819Z",
     "start_time": "2024-12-03T17:46:53.509179Z"
    }
   },
   "cell_type": "code",
   "source": "id(tuple_basic)",
   "id": "2620d0e653e9b897",
   "outputs": [
    {
     "data": {
      "text/plain": [
       "4376406144"
      ]
     },
     "execution_count": 2,
     "metadata": {},
     "output_type": "execute_result"
    }
   ],
   "execution_count": 2
  },
  {
   "metadata": {
    "ExecuteTime": {
     "end_time": "2024-12-03T17:47:15.657555Z",
     "start_time": "2024-12-03T17:47:15.654686Z"
    }
   },
   "cell_type": "code",
   "source": [
    "tuple_basic[0][0] = 10\n",
    "id(tuple_basic)"
   ],
   "id": "387563adbc5e2e7f",
   "outputs": [
    {
     "data": {
      "text/plain": [
       "4376406144"
      ]
     },
     "execution_count": 3,
     "metadata": {},
     "output_type": "execute_result"
    }
   ],
   "execution_count": 3
  },
  {
   "metadata": {
    "ExecuteTime": {
     "end_time": "2024-12-03T17:47:22.838843Z",
     "start_time": "2024-12-03T17:47:22.835538Z"
    }
   },
   "cell_type": "code",
   "source": "tuple_basic",
   "id": "c0d23825b33f6611",
   "outputs": [
    {
     "data": {
      "text/plain": [
       "([10, 2], [3, 4])"
      ]
     },
     "execution_count": 4,
     "metadata": {},
     "output_type": "execute_result"
    }
   ],
   "execution_count": 4
  },
  {
   "metadata": {
    "ExecuteTime": {
     "end_time": "2024-12-03T17:47:50.082147Z",
     "start_time": "2024-12-03T17:47:50.079625Z"
    }
   },
   "cell_type": "code",
   "source": [
    "tuple_basic[0][0] = [1, 2]\n",
    "id(tuple_basic)  # Immutables..\n",
    "# Come on quickly.. revise"
   ],
   "id": "822e36a3eb821518",
   "outputs": [
    {
     "data": {
      "text/plain": [
       "4376406144"
      ]
     },
     "execution_count": 7,
     "metadata": {},
     "output_type": "execute_result"
    }
   ],
   "execution_count": 7
  },
  {
   "metadata": {
    "ExecuteTime": {
     "end_time": "2024-12-03T17:48:38.726189Z",
     "start_time": "2024-12-03T17:48:38.723443Z"
    }
   },
   "cell_type": "code",
   "source": [
    "def process(tup):\n",
    "    tup[0][0] = 1\n",
    "\n",
    "\n",
    "process(tuple_basic)"
   ],
   "id": "c16871a86b701b92",
   "outputs": [],
   "execution_count": 8
  },
  {
   "metadata": {
    "ExecuteTime": {
     "end_time": "2024-12-03T17:48:44.072157Z",
     "start_time": "2024-12-03T17:48:44.069653Z"
    }
   },
   "cell_type": "code",
   "source": "print(tuple_basic)",
   "id": "4dab5a3b540a8972",
   "outputs": [
    {
     "name": "stdout",
     "output_type": "stream",
     "text": [
      "([1, 2], [3, 4])\n"
     ]
    }
   ],
   "execution_count": 9
  },
  {
   "metadata": {
    "ExecuteTime": {
     "end_time": "2024-12-03T17:48:52.162002Z",
     "start_time": "2024-12-03T17:48:52.159125Z"
    }
   },
   "cell_type": "code",
   "source": "id(tuple_basic)",
   "id": "fcd697304d0b0843",
   "outputs": [
    {
     "data": {
      "text/plain": [
       "4376406144"
      ]
     },
     "execution_count": 10,
     "metadata": {},
     "output_type": "execute_result"
    }
   ],
   "execution_count": 10
  },
  {
   "metadata": {
    "ExecuteTime": {
     "end_time": "2024-12-03T17:49:31.084117Z",
     "start_time": "2024-12-03T17:49:31.068498Z"
    }
   },
   "cell_type": "code",
   "source": [
    "def mutable_process(tup):\n",
    "    tup[0] = 1\n",
    "\n",
    "\n",
    "# mutable_process(tuple_basic)"
   ],
   "id": "7b373827d5423c8f",
   "outputs": [
    {
     "ename": "TypeError",
     "evalue": "'tuple' object does not support item assignment",
     "output_type": "error",
     "traceback": [
      "\u001b[0;31m---------------------------------------------------------------------------\u001b[0m",
      "\u001b[0;31mTypeError\u001b[0m                                 Traceback (most recent call last)",
      "Cell \u001b[0;32mIn[11], line 4\u001b[0m\n\u001b[1;32m      1\u001b[0m \u001b[38;5;28;01mdef\u001b[39;00m \u001b[38;5;21mmutable_process\u001b[39m(tup):\n\u001b[1;32m      2\u001b[0m     tup[\u001b[38;5;241m0\u001b[39m]\u001b[38;5;241m=\u001b[39m\u001b[38;5;241m1\u001b[39m\n\u001b[0;32m----> 4\u001b[0m \u001b[43mmutable_process\u001b[49m\u001b[43m(\u001b[49m\u001b[43mtuple_basic\u001b[49m\u001b[43m)\u001b[49m\n",
      "Cell \u001b[0;32mIn[11], line 2\u001b[0m, in \u001b[0;36mmutable_process\u001b[0;34m(tup)\u001b[0m\n\u001b[1;32m      1\u001b[0m \u001b[38;5;28;01mdef\u001b[39;00m \u001b[38;5;21mmutable_process\u001b[39m(tup):\n\u001b[0;32m----> 2\u001b[0m     \u001b[43mtup\u001b[49m\u001b[43m[\u001b[49m\u001b[38;5;241;43m0\u001b[39;49m\u001b[43m]\u001b[49m\u001b[38;5;241m=\u001b[39m\u001b[38;5;241m1\u001b[39m\n",
      "\u001b[0;31mTypeError\u001b[0m: 'tuple' object does not support item assignment"
     ]
    }
   ],
   "execution_count": 11
  },
  {
   "metadata": {
    "ExecuteTime": {
     "end_time": "2024-12-03T17:51:01.449677Z",
     "start_time": "2024-12-03T17:51:01.446285Z"
    }
   },
   "cell_type": "code",
   "source": [
    "def string_process(word):\n",
    "    word += (\n",
    "        \"world\"  # Mutation new variable created.. Why have I forgotten such basics...\n",
    "    )\n",
    "\n",
    "\n",
    "w = \"Hello\"\n",
    "print(id(w))\n",
    "string_process(w)\n",
    "print(w, id(w))"
   ],
   "id": "a8c7f82da1678681",
   "outputs": [
    {
     "name": "stdout",
     "output_type": "stream",
     "text": [
      "4399954272\n",
      "Hello 4399954272\n"
     ]
    }
   ],
   "execution_count": 12
  },
  {
   "metadata": {
    "ExecuteTime": {
     "end_time": "2024-12-03T17:54:20.591792Z",
     "start_time": "2024-12-03T17:54:20.588178Z"
    }
   },
   "cell_type": "code",
   "source": [
    "def list_process(lst):\n",
    "    lst.append(10)  # Environment Diagram.. lst is the same now mutates\n",
    "\n",
    "\n",
    "lst = [1, 2, 3]\n",
    "print(id(lst))\n",
    "list_process(lst)\n",
    "print(lst)"
   ],
   "id": "5620ebb815b2883d",
   "outputs": [
    {
     "name": "stdout",
     "output_type": "stream",
     "text": [
      "4417478592\n",
      "[1, 2, 3, 10]\n"
     ]
    }
   ],
   "execution_count": 13
  },
  {
   "metadata": {
    "ExecuteTime": {
     "end_time": "2024-12-03T17:57:11.997618Z",
     "start_time": "2024-12-03T17:57:11.994582Z"
    }
   },
   "cell_type": "code",
   "source": [
    "import os\n",
    "\n",
    "os.mkdir(\"tmp2\")\n",
    "?os.chown"
   ],
   "id": "715498a936699628",
   "outputs": [],
   "execution_count": 16
  },
  {
   "metadata": {
    "ExecuteTime": {
     "end_time": "2024-12-03T17:57:51.908804Z",
     "start_time": "2024-12-03T17:57:51.906628Z"
    }
   },
   "cell_type": "code",
   "source": [
    "dict1 = {\"a\": 1, \"b\": [2, 3]}"
   ],
   "id": "ec81e457cf2ccb52",
   "outputs": [],
   "execution_count": 17
  },
  {
   "metadata": {
    "ExecuteTime": {
     "end_time": "2024-12-03T17:58:05.070526Z",
     "start_time": "2024-12-03T17:58:05.066415Z"
    }
   },
   "cell_type": "code",
   "source": "sorted(dict1)",
   "id": "17dd7157e5ecae48",
   "outputs": [
    {
     "data": {
      "text/plain": [
       "['a', 'b']"
      ]
     },
     "execution_count": 18,
     "metadata": {},
     "output_type": "execute_result"
    }
   ],
   "execution_count": 18
  },
  {
   "metadata": {
    "ExecuteTime": {
     "end_time": "2024-12-03T17:58:28.001601Z",
     "start_time": "2024-12-03T17:58:27.998070Z"
    }
   },
   "cell_type": "code",
   "source": [
    "data = {\n",
    "    193: {\"name\": \"John\", \"age\": 30, \"skills\": {\"python\": 8, \"js\": 7}},\n",
    "    209: {\"name\": \"Bill\", \"age\": 15, \"skills\": {\"python\": 6}},\n",
    "    746: {\"name\": \"Jane\", \"age\": 58, \"skills\": {\"js\": 2, \"python\": 5}},\n",
    "    109: {\"name\": \"Jill\", \"age\": 83, \"skills\": {\"java\": 10}},\n",
    "    984: {\"name\": \"Jack\", \"age\": 28, \"skills\": {\"c\": 8, \"assembly\": 7}},\n",
    "    765: {\"name\": \"Penelope\", \"age\": 76, \"skills\": {\"python\": 8, \"go\": 5}},\n",
    "    598: {\"name\": \"Sylvia\", \"age\": 62, \"skills\": {\"bash\": 8, \"java\": 7}},\n",
    "    483: {\"name\": \"Anna\", \"age\": 24, \"skills\": {\"js\": 10}},\n",
    "    277: {\"name\": \"Beatriz\", \"age\": 26, \"skills\": {\"python\": 2, \"js\": 4}},\n",
    "}"
   ],
   "id": "276c4e9e8238ae09",
   "outputs": [],
   "execution_count": 19
  },
  {
   "metadata": {
    "ExecuteTime": {
     "end_time": "2024-12-03T17:58:58.476701Z",
     "start_time": "2024-12-03T17:58:58.473705Z"
    }
   },
   "cell_type": "code",
   "source": [
    "import json\n",
    "\n",
    "f = json.dumps(data)"
   ],
   "id": "72956251c61d6588",
   "outputs": [],
   "execution_count": 20
  },
  {
   "metadata": {
    "ExecuteTime": {
     "end_time": "2024-12-03T17:59:02.174672Z",
     "start_time": "2024-12-03T17:59:02.172193Z"
    }
   },
   "cell_type": "code",
   "source": "f",
   "id": "e46311f212ec2d5b",
   "outputs": [
    {
     "data": {
      "text/plain": [
       "'{\"193\": {\"name\": \"John\", \"age\": 30, \"skills\": {\"python\": 8, \"js\": 7}}, \"209\": {\"name\": \"Bill\", \"age\": 15, \"skills\": {\"python\": 6}}, \"746\": {\"name\": \"Jane\", \"age\": 58, \"skills\": {\"js\": 2, \"python\": 5}}, \"109\": {\"name\": \"Jill\", \"age\": 83, \"skills\": {\"java\": 10}}, \"984\": {\"name\": \"Jack\", \"age\": 28, \"skills\": {\"c\": 8, \"assembly\": 7}}, \"765\": {\"name\": \"Penelope\", \"age\": 76, \"skills\": {\"python\": 8, \"go\": 5}}, \"598\": {\"name\": \"Sylvia\", \"age\": 62, \"skills\": {\"bash\": 8, \"java\": 7}}, \"483\": {\"name\": \"Anna\", \"age\": 24, \"skills\": {\"js\": 10}}, \"277\": {\"name\": \"Beatriz\", \"age\": 26, \"skills\": {\"python\": 2, \"js\": 4}}}'"
      ]
     },
     "execution_count": 21,
     "metadata": {},
     "output_type": "execute_result"
    }
   ],
   "execution_count": 21
  },
  {
   "metadata": {
    "ExecuteTime": {
     "end_time": "2024-12-03T17:59:08.968809Z",
     "start_time": "2024-12-03T17:59:08.966573Z"
    }
   },
   "cell_type": "code",
   "source": "type(f)",
   "id": "d57d897bf5e9c07a",
   "outputs": [
    {
     "data": {
      "text/plain": [
       "str"
      ]
     },
     "execution_count": 22,
     "metadata": {},
     "output_type": "execute_result"
    }
   ],
   "execution_count": 22
  },
  {
   "metadata": {
    "ExecuteTime": {
     "end_time": "2024-12-03T18:06:58.748526Z",
     "start_time": "2024-12-03T18:06:58.745560Z"
    }
   },
   "cell_type": "code",
   "source": [
    "x = 307\n",
    "y = [\n",
    "    x,\n",
    "    342,\n",
    "]  # y[0] is not pointing to x but has a reference to x, much different from C/Java... great forgetting things.."
   ],
   "id": "950af13978d48f92",
   "outputs": [],
   "execution_count": 27
  },
  {
   "metadata": {
    "ExecuteTime": {
     "end_time": "2024-12-03T18:06:59.753389Z",
     "start_time": "2024-12-03T18:06:59.750090Z"
    }
   },
   "cell_type": "code",
   "source": [
    "y[0] = 10"
   ],
   "id": "a422260bf2ff327a",
   "outputs": [],
   "execution_count": 28
  },
  {
   "metadata": {
    "ExecuteTime": {
     "end_time": "2024-12-03T18:07:00.219645Z",
     "start_time": "2024-12-03T18:07:00.216262Z"
    }
   },
   "cell_type": "code",
   "source": "x",
   "id": "861037257fbb6b2d",
   "outputs": [
    {
     "data": {
      "text/plain": [
       "307"
      ]
     },
     "execution_count": 29,
     "metadata": {},
     "output_type": "execute_result"
    }
   ],
   "execution_count": 29
  },
  {
   "metadata": {
    "ExecuteTime": {
     "end_time": "2024-12-03T18:07:00.625755Z",
     "start_time": "2024-12-03T18:07:00.622868Z"
    }
   },
   "cell_type": "code",
   "source": "print(y)",
   "id": "eedf493a5b64a823",
   "outputs": [
    {
     "name": "stdout",
     "output_type": "stream",
     "text": [
      "[10, 342]\n"
     ]
    }
   ],
   "execution_count": 30
  },
  {
   "metadata": {
    "ExecuteTime": {
     "end_time": "2024-12-03T18:13:39.613143Z",
     "start_time": "2024-12-03T18:13:39.610521Z"
    }
   },
   "cell_type": "code",
   "source": [
    "z = y  # not copy of y\n",
    "print(id(z))\n",
    "y[0] = 11\n",
    "print(y, id(y))"
   ],
   "id": "cf32f3c8abb7fa33",
   "outputs": [
    {
     "name": "stdout",
     "output_type": "stream",
     "text": [
      "4417605824\n",
      "[11, 342] 4417605824\n"
     ]
    }
   ],
   "execution_count": 32
  },
  {
   "metadata": {
    "ExecuteTime": {
     "end_time": "2024-12-03T18:13:50.887053Z",
     "start_time": "2024-12-03T18:13:50.884741Z"
    }
   },
   "cell_type": "code",
   "source": [
    "print(z, (id(z)))"
   ],
   "id": "66a3c07c6a5fdc08",
   "outputs": [
    {
     "name": "stdout",
     "output_type": "stream",
     "text": [
      "[11, 342] 4417605824\n"
     ]
    }
   ],
   "execution_count": 33
  },
  {
   "metadata": {
    "ExecuteTime": {
     "end_time": "2024-12-03T18:14:46.551283Z",
     "start_time": "2024-12-03T18:14:46.548972Z"
    }
   },
   "cell_type": "code",
   "source": [
    "a = [301, 302, 303]\n",
    "b = [a, a, a]"
   ],
   "id": "11666dd1b1bb4403",
   "outputs": [],
   "execution_count": 34
  },
  {
   "metadata": {
    "ExecuteTime": {
     "end_time": "2024-12-03T18:15:40.825250Z",
     "start_time": "2024-12-03T18:15:40.822473Z"
    }
   },
   "cell_type": "code",
   "source": [
    "b[0][0] = 1  # Mutates a..?"
   ],
   "id": "1418f2b08b5b19e7",
   "outputs": [],
   "execution_count": 35
  },
  {
   "metadata": {
    "ExecuteTime": {
     "end_time": "2024-12-03T18:15:43.268634Z",
     "start_time": "2024-12-03T18:15:43.264955Z"
    }
   },
   "cell_type": "code",
   "source": "b",
   "id": "9bf7883215ae97e8",
   "outputs": [
    {
     "data": {
      "text/plain": [
       "[[1, 302, 303], [1, 302, 303], [1, 302, 303]]"
      ]
     },
     "execution_count": 36,
     "metadata": {},
     "output_type": "execute_result"
    }
   ],
   "execution_count": 36
  },
  {
   "metadata": {
    "ExecuteTime": {
     "end_time": "2024-12-03T18:15:46.314363Z",
     "start_time": "2024-12-03T18:15:46.311861Z"
    }
   },
   "cell_type": "code",
   "source": "a",
   "id": "366ebe2dd8a1b390",
   "outputs": [
    {
     "data": {
      "text/plain": [
       "[1, 302, 303]"
      ]
     },
     "execution_count": 37,
     "metadata": {},
     "output_type": "execute_result"
    }
   ],
   "execution_count": 37
  },
  {
   "metadata": {
    "ExecuteTime": {
     "end_time": "2024-12-03T18:16:06.318802Z",
     "start_time": "2024-12-03T18:16:06.316934Z"
    }
   },
   "cell_type": "code",
   "source": [
    "b[0] = x  # Reassignment"
   ],
   "id": "d1d5648596c1f052",
   "outputs": [],
   "execution_count": 38
  },
  {
   "metadata": {
    "ExecuteTime": {
     "end_time": "2024-12-03T18:16:08.487330Z",
     "start_time": "2024-12-03T18:16:08.483048Z"
    }
   },
   "cell_type": "code",
   "source": "b",
   "id": "68655bc2e4149559",
   "outputs": [
    {
     "data": {
      "text/plain": [
       "[307, [1, 302, 303], [1, 302, 303]]"
      ]
     },
     "execution_count": 39,
     "metadata": {},
     "output_type": "execute_result"
    }
   ],
   "execution_count": 39
  },
  {
   "metadata": {
    "ExecuteTime": {
     "end_time": "2024-12-03T18:16:10.745287Z",
     "start_time": "2024-12-03T18:16:10.742572Z"
    }
   },
   "cell_type": "code",
   "source": "a",
   "id": "4d32701f3ed738d",
   "outputs": [
    {
     "data": {
      "text/plain": [
       "[1, 302, 303]"
      ]
     },
     "execution_count": 40,
     "metadata": {},
     "output_type": "execute_result"
    }
   ],
   "execution_count": 40
  },
  {
   "metadata": {
    "ExecuteTime": {
     "end_time": "2024-12-03T18:17:29.156533Z",
     "start_time": "2024-12-03T18:17:29.152658Z"
    }
   },
   "cell_type": "code",
   "source": [
    "l1 = list(range(10))\n",
    "l1[-5:]"
   ],
   "id": "83a99235bd9cadf0",
   "outputs": [
    {
     "data": {
      "text/plain": [
       "[5, 6, 7, 8, 9]"
      ]
     },
     "execution_count": 41,
     "metadata": {},
     "output_type": "execute_result"
    }
   ],
   "execution_count": 41
  },
  {
   "metadata": {
    "ExecuteTime": {
     "end_time": "2024-12-03T18:17:37.897653Z",
     "start_time": "2024-12-03T18:17:37.894583Z"
    }
   },
   "cell_type": "code",
   "source": "l1[:-5]",
   "id": "1d84d1647105a822",
   "outputs": [
    {
     "data": {
      "text/plain": [
       "[0, 1, 2, 3, 4]"
      ]
     },
     "execution_count": 42,
     "metadata": {},
     "output_type": "execute_result"
    }
   ],
   "execution_count": 42
  },
  {
   "metadata": {
    "ExecuteTime": {
     "end_time": "2024-12-03T18:17:57.822870Z",
     "start_time": "2024-12-03T18:17:57.820399Z"
    }
   },
   "cell_type": "code",
   "source": "l1[:5]",
   "id": "387a1617ce3566cb",
   "outputs": [
    {
     "data": {
      "text/plain": [
       "[0, 1, 2, 3, 4]"
      ]
     },
     "execution_count": 43,
     "metadata": {},
     "output_type": "execute_result"
    }
   ],
   "execution_count": 43
  },
  {
   "metadata": {
    "ExecuteTime": {
     "end_time": "2024-12-03T18:18:09.430762Z",
     "start_time": "2024-12-03T18:18:09.428207Z"
    }
   },
   "cell_type": "code",
   "source": "l1[5:]",
   "id": "78d56b2b7537000b",
   "outputs": [
    {
     "data": {
      "text/plain": [
       "[5, 6, 7, 8, 9]"
      ]
     },
     "execution_count": 44,
     "metadata": {},
     "output_type": "execute_result"
    }
   ],
   "execution_count": 44
  },
  {
   "metadata": {
    "ExecuteTime": {
     "end_time": "2024-12-03T18:18:32.593159Z",
     "start_time": "2024-12-03T18:18:32.591019Z"
    }
   },
   "cell_type": "code",
   "source": [
    "l1 += [11, 12, 13]"
   ],
   "id": "45d22d7e6c373724",
   "outputs": [],
   "execution_count": 45
  },
  {
   "metadata": {
    "ExecuteTime": {
     "end_time": "2024-12-03T18:18:39.412555Z",
     "start_time": "2024-12-03T18:18:39.408887Z"
    }
   },
   "cell_type": "code",
   "source": "l1[-5:]",
   "id": "b45b5aa676d1d8af",
   "outputs": [
    {
     "data": {
      "text/plain": [
       "[8, 9, 11, 12, 13]"
      ]
     },
     "execution_count": 46,
     "metadata": {},
     "output_type": "execute_result"
    }
   ],
   "execution_count": 46
  },
  {
   "metadata": {
    "ExecuteTime": {
     "end_time": "2024-12-03T18:18:51.277720Z",
     "start_time": "2024-12-03T18:18:51.274149Z"
    }
   },
   "cell_type": "code",
   "source": "l1[:-5]",
   "id": "380b229af792faa7",
   "outputs": [
    {
     "data": {
      "text/plain": [
       "[0, 1, 2, 3, 4, 5, 6, 7]"
      ]
     },
     "execution_count": 47,
     "metadata": {},
     "output_type": "execute_result"
    }
   ],
   "execution_count": 47
  },
  {
   "metadata": {
    "ExecuteTime": {
     "end_time": "2024-12-03T18:19:07.242083Z",
     "start_time": "2024-12-03T18:19:07.238425Z"
    }
   },
   "cell_type": "code",
   "source": "l1[5:]",
   "id": "6028c2d06bd1faac",
   "outputs": [
    {
     "data": {
      "text/plain": [
       "[5, 6, 7, 8, 9, 11, 12, 13]"
      ]
     },
     "execution_count": 48,
     "metadata": {},
     "output_type": "execute_result"
    }
   ],
   "execution_count": 48
  },
  {
   "metadata": {
    "ExecuteTime": {
     "end_time": "2024-12-03T18:19:38.513167Z",
     "start_time": "2024-12-03T18:19:38.509846Z"
    }
   },
   "cell_type": "code",
   "source": [
    "\"\"\"\n",
    "We can also provide a third piece when using this syntax, like x[start:stop:step]. In this form, the third value represents the number of values we should skip in between each element we include in our new list. So x[0:7:3], for example, will go from index 0 (inclusive) to index 7 (exclusive), but counting by 3's instead of taking every element.\n",
    "\n",
    "\n",
    "\"\"\""
   ],
   "id": "dd828bc27a8aba76",
   "outputs": [
    {
     "data": {
      "text/plain": [
       "\"\\nWe can also provide a third piece when using this syntax, like x[start:stop:step]. In this form, the third value represents the number of values we should skip in between each element we include in our new list. So x[0:7:3], for example, will go from index 0 (inclusive) to index 7 (exclusive), but counting by 3's instead of taking every element.\\n\\n\\n\""
      ]
     },
     "execution_count": 49,
     "metadata": {},
     "output_type": "execute_result"
    }
   ],
   "execution_count": 49
  },
  {
   "metadata": {
    "ExecuteTime": {
     "end_time": "2024-12-03T18:29:57.353939Z",
     "start_time": "2024-12-03T18:29:57.350507Z"
    }
   },
   "cell_type": "code",
   "source": [
    "x = [[10, 20], [1, 2]]\n",
    "y1 = x\n",
    "y2 = x[:]\n",
    "x[1][0] = 4\n",
    "print(x, y1, y2)"
   ],
   "id": "5c81f368eb3c7f85",
   "outputs": [
    {
     "name": "stdout",
     "output_type": "stream",
     "text": [
      "[[10, 20], [4, 2]] [[10, 20], [4, 2]] [[10, 20], [4, 2]]\n"
     ]
    }
   ],
   "execution_count": 50
  },
  {
   "metadata": {
    "ExecuteTime": {
     "end_time": "2024-12-03T18:30:42.020019Z",
     "start_time": "2024-12-03T18:30:42.017205Z"
    }
   },
   "cell_type": "code",
   "source": [
    "x[0] = [10]"
   ],
   "id": "f5420291788b1f07",
   "outputs": [],
   "execution_count": 51
  },
  {
   "metadata": {
    "ExecuteTime": {
     "end_time": "2024-12-03T18:30:51.243294Z",
     "start_time": "2024-12-03T18:30:51.237112Z"
    }
   },
   "cell_type": "code",
   "source": [
    "print(x)\n",
    "print(y1)"
   ],
   "id": "59b2a8dd1bbe9e66",
   "outputs": [
    {
     "name": "stdout",
     "output_type": "stream",
     "text": [
      "[[10], [4, 2]]\n",
      "[[10], [4, 2]]\n"
     ]
    }
   ],
   "execution_count": 52
  },
  {
   "metadata": {
    "ExecuteTime": {
     "end_time": "2024-12-03T18:30:57.633987Z",
     "start_time": "2024-12-03T18:30:57.631003Z"
    }
   },
   "cell_type": "code",
   "source": "print(y2)",
   "id": "cf8614ea36821d6e",
   "outputs": [
    {
     "name": "stdout",
     "output_type": "stream",
     "text": [
      "[[10, 20], [4, 2]]\n"
     ]
    }
   ],
   "execution_count": 53
  },
  {
   "metadata": {
    "ExecuteTime": {
     "end_time": "2024-12-03T18:31:27.778825Z",
     "start_time": "2024-12-03T18:31:27.775926Z"
    }
   },
   "cell_type": "code",
   "source": [
    "import copy\n",
    "\n",
    "y3 = copy.deepcopy(x)"
   ],
   "id": "121a8df37cb55b7a",
   "outputs": [],
   "execution_count": 54
  },
  {
   "metadata": {
    "ExecuteTime": {
     "end_time": "2024-12-03T18:31:56.670228Z",
     "start_time": "2024-12-03T18:31:56.667339Z"
    }
   },
   "cell_type": "code",
   "source": [
    "x[1][0] = 100"
   ],
   "id": "89eaa0548901ead3",
   "outputs": [],
   "execution_count": 55
  },
  {
   "metadata": {
    "ExecuteTime": {
     "end_time": "2024-12-03T18:32:00.696608Z",
     "start_time": "2024-12-03T18:32:00.692940Z"
    }
   },
   "cell_type": "code",
   "source": "x",
   "id": "f48dcc1687a816f",
   "outputs": [
    {
     "data": {
      "text/plain": [
       "[[10], [100, 2]]"
      ]
     },
     "execution_count": 56,
     "metadata": {},
     "output_type": "execute_result"
    }
   ],
   "execution_count": 56
  },
  {
   "metadata": {
    "ExecuteTime": {
     "end_time": "2024-12-03T18:32:06.303853Z",
     "start_time": "2024-12-03T18:32:06.300804Z"
    }
   },
   "cell_type": "code",
   "source": "y3",
   "id": "7e81fdc838d8aa21",
   "outputs": [
    {
     "data": {
      "text/plain": [
       "[[10], [4, 2]]"
      ]
     },
     "execution_count": 57,
     "metadata": {},
     "output_type": "execute_result"
    }
   ],
   "execution_count": 57
  },
  {
   "metadata": {
    "ExecuteTime": {
     "end_time": "2024-12-03T18:32:13.316153Z",
     "start_time": "2024-12-03T18:32:13.312419Z"
    }
   },
   "cell_type": "code",
   "source": "y1",
   "id": "24687ff184e1a3c0",
   "outputs": [
    {
     "data": {
      "text/plain": [
       "[[10], [100, 2]]"
      ]
     },
     "execution_count": 58,
     "metadata": {},
     "output_type": "execute_result"
    }
   ],
   "execution_count": 58
  },
  {
   "metadata": {},
   "cell_type": "code",
   "outputs": [],
   "execution_count": null,
   "source": "",
   "id": "9e60f0614c56a49b"
  }
 ],
 "metadata": {
  "kernelspec": {
   "display_name": "Python 3",
   "language": "python",
   "name": "python3"
  },
  "language_info": {
   "codemirror_mode": {
    "name": "ipython",
    "version": 2
   },
   "file_extension": ".py",
   "mimetype": "text/x-python",
   "name": "python",
   "nbconvert_exporter": "python",
   "pygments_lexer": "ipython2",
   "version": "2.7.6"
  }
 },
 "nbformat": 4,
 "nbformat_minor": 5
}
