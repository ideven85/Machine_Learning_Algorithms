{
  "nbformat": 4,
  "nbformat_minor": 0,
  "metadata": {
    "colab": {
      "provenance": []
    },
    "kernelspec": {
      "name": "python3",
      "display_name": "Python 3"
    },
    "language_info": {
      "name": "python"
    }
  },
  "cells": [
    {
      "cell_type": "code",
      "source": [
        "import pandas as pd\n",
        "data = {'Color':['Red', 'Blue', 'Green', 'Blue', 'Red']}\n",
        "dataframe = pd.DataFrame(data)\n",
        "print(dataframe)"
      ],
      "metadata": {
        "colab": {
          "base_uri": "https://localhost:8080/"
        },
        "id": "g1iJPf7m7MGE",
        "outputId": "74c2ef71-9cf5-4c1e-b508-c8b91308a24b"
      },
      "execution_count": null,
      "outputs": [
        {
          "output_type": "stream",
          "name": "stdout",
          "text": [
            "   Color\n",
            "0    Red\n",
            "1   Blue\n",
            "2  Green\n",
            "3   Blue\n",
            "4    Red\n"
          ]
        }
      ]
    },
    {
      "cell_type": "code",
      "source": [
        "one_hot_encoded_df = pd.get_dummies(dataframe, columns=['Color'])\n",
        "print(one_hot_encoded_df)"
      ],
      "metadata": {
        "colab": {
          "base_uri": "https://localhost:8080/"
        },
        "id": "_KMmFgFq7L-2",
        "outputId": "444a1b2d-3695-4558-c1c7-a93a5a64bc67"
      },
      "execution_count": null,
      "outputs": [
        {
          "output_type": "stream",
          "name": "stdout",
          "text": [
            "   Color_Blue  Color_Green  Color_Red\n",
            "0       False        False       True\n",
            "1        True        False      False\n",
            "2       False         True      False\n",
            "3        True        False      False\n",
            "4       False        False       True\n"
          ]
        }
      ]
    },
    {
      "cell_type": "markdown",
      "source": [
        "Dummy Variable Trap"
      ],
      "metadata": {
        "id": "0qqKDiL07xs6"
      }
    },
    {
      "cell_type": "code",
      "source": [
        "## avoid the redundant information and get rid of the multicollinearity\n",
        "one_hot_encoded_df = pd.get_dummies(dataframe, columns=['Color'], drop_first=True)\n",
        "print(one_hot_encoded_df)"
      ],
      "metadata": {
        "colab": {
          "base_uri": "https://localhost:8080/"
        },
        "id": "hc1WVqWM70rI",
        "outputId": "f9bd763d-ffb9-46ea-bd22-7087e7785d4a"
      },
      "execution_count": null,
      "outputs": [
        {
          "output_type": "stream",
          "name": "stdout",
          "text": [
            "   Color_Green  Color_Red\n",
            "0        False       True\n",
            "1        False      False\n",
            "2         True      False\n",
            "3        False      False\n",
            "4        False       True\n"
          ]
        }
      ]
    },
    {
      "cell_type": "code",
      "execution_count": null,
      "metadata": {
        "colab": {
          "base_uri": "https://localhost:8080/"
        },
        "id": "iEPP7IFbv2Rl",
        "outputId": "6a092123-9990-4bbe-9e9f-3e6877a634ce"
      },
      "outputs": [
        {
          "output_type": "stream",
          "name": "stdout",
          "text": [
            "Original Data:\n",
            "                 Car Model  Mileage  Sell Price($)  Age(yrs)\n",
            "0                  BMW X5    69000          18000         6\n",
            "1                  BMW X5    35000          34000         3\n",
            "2                  BMW X5    57000          26100         5\n",
            "3                  BMW X5    22500          40000         2\n",
            "4                  BMW X5    46000          31500         4\n",
            "5                 Audi A5    59000          29400         5\n",
            "6                 Audi A5    52000          32000         5\n",
            "7                 Audi A5    72000          19300         6\n",
            "8                 Audi A5    91000          12000         8\n",
            "9   Mercedez Benz C class    67000          22000         6\n",
            "10  Mercedez Benz C class    83000          20000         7\n",
            "11  Mercedez Benz C class    79000          21000         7\n",
            "12  Mercedez Benz C class    59000          33000         5\n"
          ]
        }
      ],
      "source": [
        "import pandas as pd\n",
        "from sklearn.preprocessing import OneHotEncoder, LabelEncoder\n",
        "\n",
        "# Load the dataset\n",
        "file_path = '/content/carprices.csv'\n",
        "car_data = pd.read_csv(file_path)\n",
        "\n",
        "# Display the first few rows of the dataset to understand its structure\n",
        "print(\"Original Data:\\n\", car_data.head(14))"
      ]
    },
    {
      "cell_type": "code",
      "source": [
        "car_data.dtypes"
      ],
      "metadata": {
        "colab": {
          "base_uri": "https://localhost:8080/",
          "height": 209
        },
        "id": "v4zS5vcX8V2j",
        "outputId": "997e8a60-7c39-4dbc-ce03-3a6ed804aad1"
      },
      "execution_count": null,
      "outputs": [
        {
          "output_type": "execute_result",
          "data": {
            "text/plain": [
              "Car Model        object\n",
              "Mileage           int64\n",
              "Sell Price($)     int64\n",
              "Age(yrs)          int64\n",
              "dtype: object"
            ],
            "text/html": [
              "<div>\n",
              "<style scoped>\n",
              "    .dataframe tbody tr th:only-of-type {\n",
              "        vertical-align: middle;\n",
              "    }\n",
              "\n",
              "    .dataframe tbody tr th {\n",
              "        vertical-align: top;\n",
              "    }\n",
              "\n",
              "    .dataframe thead th {\n",
              "        text-align: right;\n",
              "    }\n",
              "</style>\n",
              "<table border=\"1\" class=\"dataframe\">\n",
              "  <thead>\n",
              "    <tr style=\"text-align: right;\">\n",
              "      <th></th>\n",
              "      <th>0</th>\n",
              "    </tr>\n",
              "  </thead>\n",
              "  <tbody>\n",
              "    <tr>\n",
              "      <th>Car Model</th>\n",
              "      <td>object</td>\n",
              "    </tr>\n",
              "    <tr>\n",
              "      <th>Mileage</th>\n",
              "      <td>int64</td>\n",
              "    </tr>\n",
              "    <tr>\n",
              "      <th>Sell Price($)</th>\n",
              "      <td>int64</td>\n",
              "    </tr>\n",
              "    <tr>\n",
              "      <th>Age(yrs)</th>\n",
              "      <td>int64</td>\n",
              "    </tr>\n",
              "  </tbody>\n",
              "</table>\n",
              "</div><br><label><b>dtype:</b> object</label>"
            ]
          },
          "metadata": {},
          "execution_count": 12
        }
      ]
    },
    {
      "cell_type": "code",
      "source": [
        "car_data.shape"
      ],
      "metadata": {
        "colab": {
          "base_uri": "https://localhost:8080/"
        },
        "id": "9FcsYsFw8bH5",
        "outputId": "bce224a6-c9a9-4391-d9ae-0abebeaa99ec"
      },
      "execution_count": null,
      "outputs": [
        {
          "output_type": "execute_result",
          "data": {
            "text/plain": [
              "(13, 4)"
            ]
          },
          "metadata": {},
          "execution_count": 13
        }
      ]
    },
    {
      "cell_type": "code",
      "source": [
        "# Extract the 'Car Model' column\n",
        "car_models = car_data[['Car Model']]\n",
        "\n",
        "# Apply One-Hot Encoding\n",
        "one_hot_encoder = OneHotEncoder(sparse=False)\n",
        "one_hot_encoded = one_hot_encoder.fit_transform(car_models)\n",
        "\n",
        "# Convert one-hot encoding result to DataFrame\n",
        "one_hot_encoded_df = pd.DataFrame(one_hot_encoded, columns=one_hot_encoder.get_feature_names_out(['Car Model']))\n",
        "\n",
        "# Combine the one-hot encoded columns with the original data\n",
        "car_data_one_hot_encoded = pd.concat([car_data, one_hot_encoded_df], axis=1)\n",
        "\n",
        "# Display the one-hot encoded data\n",
        "print(\"\\nOne-Hot Encoded Data:\\n\", car_data_one_hot_encoded.head(14))"
      ],
      "metadata": {
        "colab": {
          "base_uri": "https://localhost:8080/"
        },
        "id": "RBQBx9XrxBdB",
        "outputId": "a5dd62f0-6049-4946-9dde-9ba69b0022fb"
      },
      "execution_count": null,
      "outputs": [
        {
          "output_type": "stream",
          "name": "stdout",
          "text": [
            "\n",
            "One-Hot Encoded Data:\n",
            "                 Car Model  Mileage  Sell Price($)  Age(yrs)  \\\n",
            "0                  BMW X5    69000          18000         6   \n",
            "1                  BMW X5    35000          34000         3   \n",
            "2                  BMW X5    57000          26100         5   \n",
            "3                  BMW X5    22500          40000         2   \n",
            "4                  BMW X5    46000          31500         4   \n",
            "5                 Audi A5    59000          29400         5   \n",
            "6                 Audi A5    52000          32000         5   \n",
            "7                 Audi A5    72000          19300         6   \n",
            "8                 Audi A5    91000          12000         8   \n",
            "9   Mercedez Benz C class    67000          22000         6   \n",
            "10  Mercedez Benz C class    83000          20000         7   \n",
            "11  Mercedez Benz C class    79000          21000         7   \n",
            "12  Mercedez Benz C class    59000          33000         5   \n",
            "\n",
            "    Car Model_Audi A5  Car Model_BMW X5  Car Model_Mercedez Benz C class  \n",
            "0                 0.0               1.0                              0.0  \n",
            "1                 0.0               1.0                              0.0  \n",
            "2                 0.0               1.0                              0.0  \n",
            "3                 0.0               1.0                              0.0  \n",
            "4                 0.0               1.0                              0.0  \n",
            "5                 1.0               0.0                              0.0  \n",
            "6                 1.0               0.0                              0.0  \n",
            "7                 1.0               0.0                              0.0  \n",
            "8                 1.0               0.0                              0.0  \n",
            "9                 0.0               0.0                              1.0  \n",
            "10                0.0               0.0                              1.0  \n",
            "11                0.0               0.0                              1.0  \n",
            "12                0.0               0.0                              1.0  \n"
          ]
        },
        {
          "output_type": "stream",
          "name": "stderr",
          "text": [
            "/usr/local/lib/python3.10/dist-packages/sklearn/preprocessing/_encoders.py:975: FutureWarning: `sparse` was renamed to `sparse_output` in version 1.2 and will be removed in 1.4. `sparse_output` is ignored unless you leave `sparse` to its default value.\n",
            "  warnings.warn(\n"
          ]
        }
      ]
    },
    {
      "cell_type": "code",
      "source": [
        "# Apply Label Encoding\n",
        "label_encoder = LabelEncoder()\n",
        "label_encoded = label_encoder.fit_transform(car_models['Car Model'])\n",
        "\n",
        "# Add the label encoded column to the original data\n",
        "car_data_label_encoded = car_data.copy()\n",
        "car_data_label_encoded['Car Model (Label Encoded)'] = label_encoded\n",
        "\n",
        "# Display the label encoded data\n",
        "print(\"\\nLabel Encoded Data:\\n\", car_data_label_encoded.head(14))"
      ],
      "metadata": {
        "colab": {
          "base_uri": "https://localhost:8080/"
        },
        "id": "pES82wJzxLgG",
        "outputId": "dca98909-4fdd-482e-a255-05af2f70c019"
      },
      "execution_count": null,
      "outputs": [
        {
          "output_type": "stream",
          "name": "stdout",
          "text": [
            "\n",
            "Label Encoded Data:\n",
            "                 Car Model  Mileage  Sell Price($)  Age(yrs)  \\\n",
            "0                  BMW X5    69000          18000         6   \n",
            "1                  BMW X5    35000          34000         3   \n",
            "2                  BMW X5    57000          26100         5   \n",
            "3                  BMW X5    22500          40000         2   \n",
            "4                  BMW X5    46000          31500         4   \n",
            "5                 Audi A5    59000          29400         5   \n",
            "6                 Audi A5    52000          32000         5   \n",
            "7                 Audi A5    72000          19300         6   \n",
            "8                 Audi A5    91000          12000         8   \n",
            "9   Mercedez Benz C class    67000          22000         6   \n",
            "10  Mercedez Benz C class    83000          20000         7   \n",
            "11  Mercedez Benz C class    79000          21000         7   \n",
            "12  Mercedez Benz C class    59000          33000         5   \n",
            "\n",
            "    Car Model (Label Encoded)  \n",
            "0                           1  \n",
            "1                           1  \n",
            "2                           1  \n",
            "3                           1  \n",
            "4                           1  \n",
            "5                           0  \n",
            "6                           0  \n",
            "7                           0  \n",
            "8                           0  \n",
            "9                           2  \n",
            "10                          2  \n",
            "11                          2  \n",
            "12                          2  \n"
          ]
        }
      ]
    },
    {
      "cell_type": "code",
      "source": [],
      "metadata": {
        "id": "RrF7diYwxu-Y"
      },
      "execution_count": null,
      "outputs": []
    }
  ]
}