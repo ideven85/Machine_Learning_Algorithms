{
  "nbformat": 4,
  "nbformat_minor": 0,
  "metadata": {
    "colab": {
      "provenance": [],
      "gpuType": "T4"
    },
    "kernelspec": {
      "name": "python3",
      "display_name": "Python 3"
    },
    "language_info": {
      "name": "python"
    },
    "accelerator": "GPU"
  },
  "cells": [
    {
      "cell_type": "markdown",
      "source": [
        "Import all the required frameworks"
      ],
      "metadata": {
        "id": "S2btI6RkCQY2"
      }
    },
    {
      "cell_type": "code",
      "execution_count": null,
      "metadata": {
        "id": "2fQxl3OQBcLX"
      },
      "outputs": [],
      "source": [
        "import pandas as pd\n",
        "import numpy as np\n",
        "import seaborn as sns\n",
        "import matplotlib.pyplot as plt"
      ]
    },
    {
      "cell_type": "code",
      "source": [
        "import xgboost as xgb\n",
        "from sklearn.datasets import fetch_california_housing\n",
        "from sklearn.model_selection import train_test_split, GridSearchCV\n",
        "from sklearn.metrics import mean_squared_error\n",
        "from sklearn.ensemble import RandomForestRegressor, GradientBoostingRegressor\n",
        "import warnings\n",
        "\n",
        "# Ignore warnings\n",
        "warnings.filterwarnings(\"ignore\", category=DeprecationWarning)"
      ],
      "metadata": {
        "id": "abAkt9jMCPrN"
      },
      "execution_count": null,
      "outputs": []
    },
    {
      "cell_type": "markdown",
      "source": [
        "Load the data and splitting it into train and test set"
      ],
      "metadata": {
        "id": "6A9KHZdEqe1N"
      }
    },
    {
      "cell_type": "code",
      "source": [
        "# Load the California Housing dataset\n",
        "california_housing = fetch_california_housing()\n",
        "X, y = california_housing.data, california_housing.target\n",
        "\n",
        "# Split the dataset into training and testing sets\n",
        "X_train, X_test, y_train, y_test = train_test_split(X, y, test_size=0.2, random_state=42)"
      ],
      "metadata": {
        "id": "rd30H8xlPp7R"
      },
      "execution_count": null,
      "outputs": []
    },
    {
      "cell_type": "code",
      "source": [
        "print(california_housing)"
      ],
      "metadata": {
        "colab": {
          "base_uri": "https://localhost:8080/"
        },
        "id": "nTNdMQW8qjdn",
        "outputId": "4cdf64c1-ed64-4309-fbef-ec507748e8e9"
      },
      "execution_count": null,
      "outputs": [
        {
          "output_type": "stream",
          "name": "stdout",
          "text": [
            "{'data': array([[   8.3252    ,   41.        ,    6.98412698, ...,    2.55555556,\n",
            "          37.88      , -122.23      ],\n",
            "       [   8.3014    ,   21.        ,    6.23813708, ...,    2.10984183,\n",
            "          37.86      , -122.22      ],\n",
            "       [   7.2574    ,   52.        ,    8.28813559, ...,    2.80225989,\n",
            "          37.85      , -122.24      ],\n",
            "       ...,\n",
            "       [   1.7       ,   17.        ,    5.20554273, ...,    2.3256351 ,\n",
            "          39.43      , -121.22      ],\n",
            "       [   1.8672    ,   18.        ,    5.32951289, ...,    2.12320917,\n",
            "          39.43      , -121.32      ],\n",
            "       [   2.3886    ,   16.        ,    5.25471698, ...,    2.61698113,\n",
            "          39.37      , -121.24      ]]), 'target': array([4.526, 3.585, 3.521, ..., 0.923, 0.847, 0.894]), 'frame': None, 'target_names': ['MedHouseVal'], 'feature_names': ['MedInc', 'HouseAge', 'AveRooms', 'AveBedrms', 'Population', 'AveOccup', 'Latitude', 'Longitude'], 'DESCR': '.. _california_housing_dataset:\\n\\nCalifornia Housing dataset\\n--------------------------\\n\\n**Data Set Characteristics:**\\n\\n    :Number of Instances: 20640\\n\\n    :Number of Attributes: 8 numeric, predictive attributes and the target\\n\\n    :Attribute Information:\\n        - MedInc        median income in block group\\n        - HouseAge      median house age in block group\\n        - AveRooms      average number of rooms per household\\n        - AveBedrms     average number of bedrooms per household\\n        - Population    block group population\\n        - AveOccup      average number of household members\\n        - Latitude      block group latitude\\n        - Longitude     block group longitude\\n\\n    :Missing Attribute Values: None\\n\\nThis dataset was obtained from the StatLib repository.\\nhttps://www.dcc.fc.up.pt/~ltorgo/Regression/cal_housing.html\\n\\nThe target variable is the median house value for California districts,\\nexpressed in hundreds of thousands of dollars ($100,000).\\n\\nThis dataset was derived from the 1990 U.S. census, using one row per census\\nblock group. A block group is the smallest geographical unit for which the U.S.\\nCensus Bureau publishes sample data (a block group typically has a population\\nof 600 to 3,000 people).\\n\\nA household is a group of people residing within a home. Since the average\\nnumber of rooms and bedrooms in this dataset are provided per household, these\\ncolumns may take surprisingly large values for block groups with few households\\nand many empty houses, such as vacation resorts.\\n\\nIt can be downloaded/loaded using the\\n:func:`sklearn.datasets.fetch_california_housing` function.\\n\\n.. topic:: References\\n\\n    - Pace, R. Kelley and Ronald Barry, Sparse Spatial Autoregressions,\\n      Statistics and Probability Letters, 33 (1997) 291-297\\n'}\n"
          ]
        }
      ]
    },
    {
      "cell_type": "code",
      "source": [
        "# Initialize the models\n",
        "xgb_regressor = xgb.XGBRegressor(objective='reg:squarederror', random_state=42)\n",
        "rf_regressor = RandomForestRegressor(random_state=42)\n",
        "gb_regressor = GradientBoostingRegressor(random_state=42)\n",
        "\n",
        "# Data Modeling\n",
        "model_xgb = xgb_regressor.fit(X_train, y_train)\n",
        "model_rf = rf_regressor.fit(X_train, y_train)\n",
        "model_gb = gb_regressor.fit(X_train, y_train)\n",
        "\n",
        "# Define parameter grids for each model\n",
        "\"\"\"\n",
        "param_grid_xgb = {\n",
        "    'lambda': [0.01, 0.1, 1, 10],\n",
        "    'gamma': [0, 0.1, 1, 10],\n",
        "    'max_depth': [3, 5, 7],\n",
        "    'learning_rate': [0.01, 0.1, 0.2],\n",
        "    'n_estimators': [100, 200, 300]\n",
        "}\n",
        "\n",
        "param_grid_rf = {\n",
        "    'n_estimators': [100, 200, 300],\n",
        "    'max_depth': [None, 10, 20, 30],\n",
        "    'min_samples_split': [2, 5, 10],\n",
        "    'min_samples_leaf': [1, 2, 4]\n",
        "}\n",
        "\n",
        "param_grid_gb = {\n",
        "    'n_estimators': [100, 200, 300],\n",
        "    'learning_rate': [0.01, 0.1, 0.2],\n",
        "    'max_depth': [3, 5, 7],\n",
        "    'min_samples_split': [2, 5, 10],\n",
        "    'min_samples_leaf': [1, 2, 4]\n",
        "}\n",
        "\n",
        "# Set up GridSearchCV for each model\n",
        "grid_search_xgb = GridSearchCV(estimator=xgb_regressor, param_grid=param_grid_xgb, cv=5, scoring='neg_mean_squared_error', verbose=1, n_jobs=-1)\n",
        "grid_search_rf = GridSearchCV(estimator=rf_regressor, param_grid=param_grid_rf, cv=5, scoring='neg_mean_squared_error', verbose=1, n_jobs=-1)\n",
        "grid_search_gb = GridSearchCV(estimator=gb_regressor, param_grid=param_grid_gb, cv=5, scoring='neg_mean_squared_error', verbose=1, n_jobs=-1)\n",
        "\n",
        "# Fit the models\n",
        "print(\"Tuning XGBoost...\")\n",
        "grid_search_xgb.fit(X_train, y_train)\n",
        "print(\"Tuning RandomForest...\")\n",
        "grid_search_rf.fit(X_train, y_train)\n",
        "print(\"Tuning GradientBoosting...\")\n",
        "grid_search_gb.fit(X_train, y_train)\n",
        "\n",
        "# Best models\n",
        "best_xgb = grid_search_xgb.best_estimator_\n",
        "best_rf = grid_search_rf.best_estimator_\n",
        "best_gb = grid_search_gb.best_estimator_\n",
        "\n",
        "\n",
        "# Predictions\n",
        "y_pred_xgb = best_xgb.predict(X_test)\n",
        "y_pred_rf = best_rf.predict(X_test)\n",
        "y_pred_gb = best_gb.predict(X_test)\n",
        "\"\"\""
      ],
      "metadata": {
        "colab": {
          "base_uri": "https://localhost:8080/",
          "height": 143
        },
        "id": "RfxnDjQuqmO4",
        "outputId": "1f9138d9-eda4-4e55-f9c3-3abb43c576d6"
      },
      "execution_count": null,
      "outputs": [
        {
          "output_type": "execute_result",
          "data": {
            "text/plain": [
              "'\\nparam_grid_xgb = {\\n    \\'lambda\\': [0.01, 0.1, 1, 10],\\n    \\'gamma\\': [0, 0.1, 1, 10],\\n    \\'max_depth\\': [3, 5, 7],\\n    \\'learning_rate\\': [0.01, 0.1, 0.2],\\n    \\'n_estimators\\': [100, 200, 300]\\n}\\n\\nparam_grid_rf = {\\n    \\'n_estimators\\': [100, 200, 300],\\n    \\'max_depth\\': [None, 10, 20, 30],\\n    \\'min_samples_split\\': [2, 5, 10],\\n    \\'min_samples_leaf\\': [1, 2, 4]\\n}\\n\\nparam_grid_gb = {\\n    \\'n_estimators\\': [100, 200, 300],\\n    \\'learning_rate\\': [0.01, 0.1, 0.2],\\n    \\'max_depth\\': [3, 5, 7],\\n    \\'min_samples_split\\': [2, 5, 10],\\n    \\'min_samples_leaf\\': [1, 2, 4]\\n}\\n\\n# Set up GridSearchCV for each model\\ngrid_search_xgb = GridSearchCV(estimator=xgb_regressor, param_grid=param_grid_xgb, cv=5, scoring=\\'neg_mean_squared_error\\', verbose=1, n_jobs=-1)\\ngrid_search_rf = GridSearchCV(estimator=rf_regressor, param_grid=param_grid_rf, cv=5, scoring=\\'neg_mean_squared_error\\', verbose=1, n_jobs=-1)\\ngrid_search_gb = GridSearchCV(estimator=gb_regressor, param_grid=param_grid_gb, cv=5, scoring=\\'neg_mean_squared_error\\', verbose=1, n_jobs=-1)\\n\\n# Fit the models\\nprint(\"Tuning XGBoost...\")\\ngrid_search_xgb.fit(X_train, y_train)\\nprint(\"Tuning RandomForest...\")\\ngrid_search_rf.fit(X_train, y_train)\\nprint(\"Tuning GradientBoosting...\")\\ngrid_search_gb.fit(X_train, y_train)\\n\\n# Best models\\nbest_xgb = grid_search_xgb.best_estimator_\\nbest_rf = grid_search_rf.best_estimator_\\nbest_gb = grid_search_gb.best_estimator_\\n\\n\\n# Predictions\\ny_pred_xgb = best_xgb.predict(X_test)\\ny_pred_rf = best_rf.predict(X_test)\\ny_pred_gb = best_gb.predict(X_test)\\n'"
            ],
            "application/vnd.google.colaboratory.intrinsic+json": {
              "type": "string"
            }
          },
          "metadata": {},
          "execution_count": 5
        }
      ]
    },
    {
      "cell_type": "markdown",
      "source": [
        "Model Prediction"
      ],
      "metadata": {
        "id": "GstxR7ANremf"
      }
    },
    {
      "cell_type": "code",
      "source": [
        "y_pred_xgb = model_xgb.predict(X_test)\n",
        "y_pred_rf = model_rf.predict(X_test)\n",
        "y_pred_gb = model_gb.predict(X_test)"
      ],
      "metadata": {
        "id": "9_CtVPj8rbr-"
      },
      "execution_count": null,
      "outputs": []
    },
    {
      "cell_type": "markdown",
      "source": [
        "Model Evaluation"
      ],
      "metadata": {
        "id": "XH67hIJLrmlw"
      }
    },
    {
      "cell_type": "code",
      "source": [
        "# Calculate Mean Squared Error\n",
        "mse_xgb = mean_squared_error(y_test, y_pred_xgb)\n",
        "mse_rf = mean_squared_error(y_test, y_pred_rf)\n",
        "mse_gb = mean_squared_error(y_test, y_pred_gb)\n",
        "\n",
        "# Print the results\n",
        "#print(\"Best parameters for XGBRegressor: \", grid_search_xgb.best_params_)\n",
        "print(\"Mean Squared Error for XGBRegressor: \", mse_xgb)\n",
        "\n",
        "#print(\"Best parameters for RandomForestRegressor: \", grid_search_rf.best_params_)\n",
        "print(\"Mean Squared Error for RandomForestRegressor: \", mse_rf)\n",
        "\n",
        "#print(\"Best parameters for GradientBoostingRegressor: \", grid_search_gb.best_params_)\n",
        "print(\"Mean Squared Error for GradientBoostingRegressor: \", mse_gb)"
      ],
      "metadata": {
        "colab": {
          "base_uri": "https://localhost:8080/"
        },
        "id": "8Q8LeVixrlfH",
        "outputId": "cf60bb0e-c2d0-4d0d-cabe-0d9634573315"
      },
      "execution_count": null,
      "outputs": [
        {
          "output_type": "stream",
          "name": "stdout",
          "text": [
            "Mean Squared Error for XGBRegressor:  0.2225899267544737\n",
            "Mean Squared Error for RandomForestRegressor:  0.2553684927247781\n",
            "Mean Squared Error for GradientBoostingRegressor:  0.2939973248643864\n"
          ]
        }
      ]
    },
    {
      "cell_type": "code",
      "source": [],
      "metadata": {
        "id": "Eh6tr9BWrphV"
      },
      "execution_count": null,
      "outputs": []
    }
  ]
}