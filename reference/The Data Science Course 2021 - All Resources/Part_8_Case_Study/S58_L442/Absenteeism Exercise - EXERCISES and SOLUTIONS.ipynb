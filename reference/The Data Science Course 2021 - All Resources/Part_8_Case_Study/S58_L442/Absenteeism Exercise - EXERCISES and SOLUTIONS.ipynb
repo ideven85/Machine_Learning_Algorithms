{
 "cells": [
  {
   "cell_type": "code",
   "execution_count": null,
   "metadata": {},
   "outputs": [],
   "source": [
    "import pandas as pd\n",
    "\n",
    "raw_csv_data = pd.read_csv(\"D:/Test/Absenteeism_data.csv\")\n",
    "df = raw_csv_data.copy()\n",
    "df = df.drop([\"ID\"], axis=1)\n",
    "df"
   ]
  },
  {
   "cell_type": "markdown",
   "metadata": {},
   "source": [
    "## Exercise: Dropping a Column from a DataFrame in Python"
   ]
  },
  {
   "cell_type": "markdown",
   "metadata": {},
   "source": [
    "Create a new notebook file where you will need to solve the exercises we provide throughout this business case study.\n",
    "Then, drop the ‘Age’ column from df and assign the newly obtained data set to a new variable, called df_no_age. "
   ]
  },
  {
   "cell_type": "code",
   "execution_count": null,
   "metadata": {},
   "outputs": [],
   "source": [
    "df_no_age = df.drop([\"Age\"], axis=1)\n",
    "df_no_age"
   ]
  },
  {
   "cell_type": "markdown",
   "metadata": {},
   "source": [
    "## Exercise: Obtaining Dummies from a Single Feature"
   ]
  },
  {
   "cell_type": "markdown",
   "metadata": {},
   "source": [
    "Split the ‘Age’ column into multiple dummies. Store the output in a new variable, called age_dummies."
   ]
  },
  {
   "cell_type": "code",
   "execution_count": null,
   "metadata": {},
   "outputs": [],
   "source": [
    "age_dummies = pd.get_dummies(df[\"Age\"])\n",
    "age_dummies"
   ]
  },
  {
   "cell_type": "markdown",
   "metadata": {},
   "source": [
    "## Exercise: Concatenation in Python"
   ]
  },
  {
   "cell_type": "markdown",
   "metadata": {},
   "source": [
    "Concatenate the df_no_age and age_dummies objects you previously obtained. Store the result in a new object called df_concatenated."
   ]
  },
  {
   "cell_type": "code",
   "execution_count": null,
   "metadata": {},
   "outputs": [],
   "source": [
    "df_concatenated = pd.concat([df_no_age, age_dummies], axis=1)\n",
    "df_concatenated"
   ]
  },
  {
   "cell_type": "markdown",
   "metadata": {},
   "source": [
    "## Exercise: Reordering Columns"
   ]
  },
  {
   "cell_type": "markdown",
   "metadata": {},
   "source": [
    "Reorder the columns from df_concatented in such a way that the ‘Absenteeism Time in Hours’ column appears at the far right of the data set."
   ]
  },
  {
   "cell_type": "code",
   "execution_count": null,
   "metadata": {},
   "outputs": [],
   "source": [
    "df_concatenated.columns.values"
   ]
  },
  {
   "cell_type": "code",
   "execution_count": null,
   "metadata": {},
   "outputs": [],
   "source": [
    "column_names_updated = [\n",
    "    \"Reason for Absence\",\n",
    "    \"Date\",\n",
    "    \"Transportation Expense\",\n",
    "    \"Distance to Work\",\n",
    "    \"Daily Work Load Average\",\n",
    "    \"Body Mass Index\",\n",
    "    \"Education\",\n",
    "    \"Children\",\n",
    "    \"Pets\",\n",
    "    27,\n",
    "    28,\n",
    "    29,\n",
    "    30,\n",
    "    31,\n",
    "    32,\n",
    "    33,\n",
    "    34,\n",
    "    36,\n",
    "    37,\n",
    "    38,\n",
    "    39,\n",
    "    40,\n",
    "    41,\n",
    "    43,\n",
    "    46,\n",
    "    47,\n",
    "    48,\n",
    "    49,\n",
    "    50,\n",
    "    58,\n",
    "    \"Absenteeism Time in Hours\",\n",
    "]"
   ]
  },
  {
   "cell_type": "code",
   "execution_count": null,
   "metadata": {},
   "outputs": [],
   "source": [
    "df_concatenated.columns = column_names_updated"
   ]
  },
  {
   "cell_type": "code",
   "execution_count": null,
   "metadata": {},
   "outputs": [],
   "source": [
    "df_concatenated"
   ]
  },
  {
   "cell_type": "markdown",
   "metadata": {},
   "source": [
    "## Exercise Creating Checkpoints"
   ]
  },
  {
   "cell_type": "markdown",
   "metadata": {},
   "source": [
    "Create a checkpoint of your work on the exercises, storing the current output in a variable called df_checkpoint."
   ]
  },
  {
   "cell_type": "code",
   "execution_count": null,
   "metadata": {},
   "outputs": [],
   "source": [
    "df_checkpoint = df_concatenated.copy()\n",
    "df_checkpoint"
   ]
  }
 ],
 "metadata": {
  "kernelspec": {
   "display_name": "Python 3",
   "language": "python",
   "name": "python3"
  },
  "language_info": {
   "codemirror_mode": {
    "name": "ipython",
    "version": 3
   },
   "file_extension": ".py",
   "mimetype": "text/x-python",
   "name": "python",
   "nbconvert_exporter": "python",
   "pygments_lexer": "ipython3",
   "version": "3.6.4"
  }
 },
 "nbformat": 4,
 "nbformat_minor": 2
}
