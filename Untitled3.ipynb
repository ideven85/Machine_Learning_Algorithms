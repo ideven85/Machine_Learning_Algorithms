{
 "cells": [
  {
   "cell_type": "code",
   "execution_count": 1,
   "id": "ecf60c6c-dc65-489d-84f4-49e4e6b3222a",
   "metadata": {
    "execution": {
     "iopub.execute_input": "2025-01-25T18:36:30.824659Z",
     "iopub.status.busy": "2025-01-25T18:36:30.824165Z",
     "iopub.status.idle": "2025-01-25T18:36:30.828601Z",
     "shell.execute_reply": "2025-01-25T18:36:30.827967Z",
     "shell.execute_reply.started": "2025-01-25T18:36:30.824630Z"
    }
   },
   "outputs": [],
   "source": [
    "import os\n",
    "cwd = os.getcwd()"
   ]
  },
  {
   "cell_type": "code",
   "execution_count": null,
   "id": "16f8a6b2-c3f6-4f15-b636-1bb98a70c4da",
   "metadata": {},
   "outputs": [],
   "source": [
    "os.listdir(cwd)\n",
    "    "
   ]
  },
  {
   "cell_type": "code",
   "execution_count": null,
   "id": "c1ee5c35-47b4-471e-9075-ac91ad4ad0aa",
   "metadata": {},
   "outputs": [],
   "source": []
  }
 ],
 "metadata": {
  "kernelspec": {
   "display_name": "Python 3 (ipykernel)",
   "language": "python",
   "name": "python3"
  },
  "language_info": {
   "codemirror_mode": {
    "name": "ipython",
    "version": 3
   },
   "file_extension": ".py",
   "mimetype": "text/x-python",
   "name": "python",
   "nbconvert_exporter": "python",
   "pygments_lexer": "ipython3",
   "version": "3.12.8"
  }
 },
 "nbformat": 4,
 "nbformat_minor": 5
}
