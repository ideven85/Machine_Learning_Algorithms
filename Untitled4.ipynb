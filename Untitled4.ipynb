{
 "cells": [
  {
   "cell_type": "code",
   "execution_count": 1,
   "id": "cfc74925-05b5-4b40-b509-b946c304b4bb",
   "metadata": {
    "execution": {
     "iopub.execute_input": "2025-01-27T02:23:16.755442Z",
     "iopub.status.busy": "2025-01-27T02:23:16.754597Z",
     "iopub.status.idle": "2025-01-27T02:23:16.763943Z",
     "shell.execute_reply": "2025-01-27T02:23:16.763002Z",
     "shell.execute_reply.started": "2025-01-27T02:23:16.755345Z"
    }
   },
   "outputs": [],
   "source": [
    "\"\"\"\n",
    "A two-dimensional vector class\n",
    ">>> v1 = Vector2d(3, 4)\n",
    ">>> print(v1.x, v1.y)\n",
    "3.0 4.0\n",
    ">>> x, y = v1\n",
    ">>> x, y\n",
    "(3.0, 4.0)\n",
    ">>> v1\n",
    "Vector2d(3.0, 4.0)\n",
    ">>> v1_clone = eval(repr(v1))\n",
    ">>> v1 == v1_clone\n",
    "True\n",
    ">>> print(v1)\n",
    "(3.0, 4.0)\n",
    ">>> octets = bytes(v1)\n",
    ">>> octets\n",
    "b'd\\\\x00\\\\x00\\\\x00\\\\x00\\\\x00\\\\x00\\\\x08@\\\\x00\\\\x00\\\\x00\\\\x00\\\\x00\\\\x\n",
    "00\\\\x10@'\n",
    ">>> abs(v1)\n",
    "5.0\n",
    ">>> bool(v1), bool(Vector2d(0, 0))\n",
    "(True, False)\n",
    "Test of ``.frombytes()`` class method:\n",
    ">>> v1_clone = Vector2d.frombytes(bytes(v1))\n",
    ">>> v1_clone\n",
    "Vector2d(3.0, 4.0)\n",
    ">>> v1 == v1_clone\n",
    "True\n",
    "Tests of ``format()`` with Cartesian coordinates:\n",
    ">>> format(v1)\n",
    "'(3.0, 4.0)'\n",
    ">>> format(v1, '.2f')\n",
    "'(3.00, 4.00)'\n",
    ">>> format(v1, '.3e')\n",
    "'(3.000e+00, 4.000e+00)'\n",
    "Tests of the ``angle`` method::\n",
    ">>> Vector2d(0, 0).angle()\n",
    "0.0\n",
    ">>> Vector2d(1, 0).angle()\n",
    "0.0\n",
    ">>> epsilon = 10**-8\n",
    ">>> abs(Vector2d(0, 1).angle() - math.pi/2) < epsilon\n",
    "True\n",
    ">>> abs(Vector2d(1, 1).angle() - math.pi/4) < epsilon\n",
    "True\n",
    "Tests of ``format()`` with polar coordinates:\n",
    ">>> format(Vector2d(1, 1), 'p') # doctest:+ELLIPSIS\n",
    "'<1.414213..., 0.785398...>'\n",
    ">>> format(Vector2d(1, 1), '.3ep')\n",
    "'<1.414e+00, 7.854e-01>'\n",
    ">>> format(Vector2d(1, 1), '0.5fp')\n",
    "'<1.41421, 0.78540>'\n",
    "Tests of `x` and `y` read-only properties:\n",
    ">>> v1.x, v1.y\n",
    "(3.0, 4.0)\n",
    ">>> v1.x = 123\n",
    "Traceback (most recent call last):\n",
    "...\n",
    "AttributeError: can't set attribute 'x'\n",
    "Tests of hashing:\n",
    ">>> v1 = Vector2d(3, 4)\n",
    ">>> v2 = Vector2d(3.1, 4.2)\n",
    ">>> len({v1, v2})\n",
    "2\n",
    "\"\"\"\n",
    "from array import array\n"
   ]
  },
  {
   "cell_type": "code",
   "execution_count": null,
   "id": "1bb62227-085f-473a-a70f-99009ea10b59",
   "metadata": {},
   "outputs": [],
   "source": [
    "class Vector2d:\n",
    "    def __init__(self,x,y):abs"
   ]
  }
 ],
 "metadata": {
  "kernelspec": {
   "display_name": "Python 3 (ipykernel)",
   "language": "python",
   "name": "python3"
  },
  "language_info": {
   "codemirror_mode": {
    "name": "ipython",
    "version": 3
   },
   "file_extension": ".py",
   "mimetype": "text/x-python",
   "name": "python",
   "nbconvert_exporter": "python",
   "pygments_lexer": "ipython3",
   "version": "3.12.8"
  }
 },
 "nbformat": 4,
 "nbformat_minor": 5
}
