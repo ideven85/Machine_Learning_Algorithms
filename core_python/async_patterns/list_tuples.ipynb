{
 "cells": [
  {
   "cell_type": "code",
   "id": "initial_id",
   "metadata": {
    "collapsed": true,
    "ExecuteTime": {
     "end_time": "2024-04-10T18:03:13.076445Z",
     "start_time": "2024-04-10T18:03:13.073427Z"
    }
   },
   "source": [
    "board = [[\"_\" for _ in range(3)] for _ in range(3)]\n",
    "print(board)"
   ],
   "outputs": [
    {
     "name": "stdout",
     "output_type": "stream",
     "text": [
      "[['_', '_', '_'], ['_', '_', '_'], ['_', '_', '_']]\n"
     ]
    }
   ],
   "execution_count": 1
  },
  {
   "metadata": {
    "ExecuteTime": {
     "end_time": "2024-04-10T18:03:49.310782Z",
     "start_time": "2024-04-10T18:03:49.307462Z"
    }
   },
   "cell_type": "code",
   "source": [
    "a = [1, 2, 3]\n",
    "b = [4, 5, 6]"
   ],
   "id": "ace01d4c965f20d6",
   "outputs": [],
   "execution_count": 2
  },
  {
   "metadata": {
    "ExecuteTime": {
     "end_time": "2024-04-10T18:03:52.704542Z",
     "start_time": "2024-04-10T18:03:52.702432Z"
    }
   },
   "cell_type": "code",
   "source": [
    "a += b"
   ],
   "id": "8a2aa3c8c5acf034",
   "outputs": [],
   "execution_count": 3
  },
  {
   "metadata": {
    "ExecuteTime": {
     "end_time": "2024-04-10T18:03:54.908911Z",
     "start_time": "2024-04-10T18:03:54.904422Z"
    }
   },
   "cell_type": "code",
   "source": "a",
   "id": "26be1eb9a7111e08",
   "outputs": [
    {
     "data": {
      "text/plain": [
       "[1, 2, 3, 4, 5, 6]"
      ]
     },
     "execution_count": 4,
     "metadata": {},
     "output_type": "execute_result"
    }
   ],
   "execution_count": 4
  },
  {
   "metadata": {
    "ExecuteTime": {
     "end_time": "2024-04-10T18:04:02.522254Z",
     "start_time": "2024-04-10T18:04:02.518920Z"
    }
   },
   "cell_type": "code",
   "source": [
    "a * 5"
   ],
   "id": "2ffd4fe1130fa2b0",
   "outputs": [
    {
     "data": {
      "text/plain": [
       "[1,\n",
       " 2,\n",
       " 3,\n",
       " 4,\n",
       " 5,\n",
       " 6,\n",
       " 1,\n",
       " 2,\n",
       " 3,\n",
       " 4,\n",
       " 5,\n",
       " 6,\n",
       " 1,\n",
       " 2,\n",
       " 3,\n",
       " 4,\n",
       " 5,\n",
       " 6,\n",
       " 1,\n",
       " 2,\n",
       " 3,\n",
       " 4,\n",
       " 5,\n",
       " 6,\n",
       " 1,\n",
       " 2,\n",
       " 3,\n",
       " 4,\n",
       " 5,\n",
       " 6]"
      ]
     },
     "execution_count": 5,
     "metadata": {},
     "output_type": "execute_result"
    }
   ],
   "execution_count": 5
  },
  {
   "metadata": {
    "ExecuteTime": {
     "end_time": "2024-04-10T18:05:05.634990Z",
     "start_time": "2024-04-10T18:05:05.623766Z"
    }
   },
   "cell_type": "code",
   "source": [
    "b |= [2, 3]\n",
    "b"
   ],
   "id": "e00b91140865fd9a",
   "outputs": [
    {
     "ename": "TypeError",
     "evalue": "unsupported operand type(s) for |=: 'list' and 'list'",
     "output_type": "error",
     "traceback": [
      "\u001b[0;31m---------------------------------------------------------------------------\u001b[0m",
      "\u001b[0;31mTypeError\u001b[0m                                 Traceback (most recent call last)",
      "Cell \u001b[0;32mIn[11], line 1\u001b[0m\n\u001b[0;32m----> 1\u001b[0m \u001b[43mb\u001b[49m\u001b[38;5;241;43m|\u001b[39;49m\u001b[38;5;241;43m=\u001b[39;49m\u001b[43m[\u001b[49m\u001b[38;5;241;43m2\u001b[39;49m\u001b[43m,\u001b[49m\u001b[38;5;241;43m3\u001b[39;49m\u001b[43m]\u001b[49m\n\u001b[1;32m      2\u001b[0m b\n",
      "\u001b[0;31mTypeError\u001b[0m: unsupported operand type(s) for |=: 'list' and 'list'"
     ]
    }
   ],
   "execution_count": 11
  },
  {
   "metadata": {
    "ExecuteTime": {
     "end_time": "2024-04-10T18:05:15.595851Z",
     "start_time": "2024-04-10T18:05:15.593905Z"
    }
   },
   "cell_type": "code",
   "source": [
    "b = [0]"
   ],
   "id": "e1eaa3525810d1e3",
   "outputs": [],
   "execution_count": 12
  },
  {
   "metadata": {
    "ExecuteTime": {
     "end_time": "2024-04-10T18:05:29.909209Z",
     "start_time": "2024-04-10T18:05:29.898807Z"
    }
   },
   "cell_type": "code",
   "source": [
    "b |= a"
   ],
   "id": "d7e921806ec53450",
   "outputs": [
    {
     "ename": "TypeError",
     "evalue": "unsupported operand type(s) for |=: 'list' and 'list'",
     "output_type": "error",
     "traceback": [
      "\u001b[0;31m---------------------------------------------------------------------------\u001b[0m",
      "\u001b[0;31mTypeError\u001b[0m                                 Traceback (most recent call last)",
      "Cell \u001b[0;32mIn[13], line 1\u001b[0m\n\u001b[0;32m----> 1\u001b[0m \u001b[43mb\u001b[49m\u001b[38;5;241;43m|\u001b[39;49m\u001b[38;5;241;43m=\u001b[39;49m\u001b[43ma\u001b[49m\n",
      "\u001b[0;31mTypeError\u001b[0m: unsupported operand type(s) for |=: 'list' and 'list'"
     ]
    }
   ],
   "execution_count": 13
  },
  {
   "metadata": {
    "ExecuteTime": {
     "end_time": "2024-04-10T18:05:45.850728Z",
     "start_time": "2024-04-10T18:05:45.848564Z"
    }
   },
   "cell_type": "code",
   "source": [
    "tuple1 = (1, 2, 3)"
   ],
   "id": "a5c84ab405db238d",
   "outputs": [],
   "execution_count": 14
  },
  {
   "metadata": {
    "ExecuteTime": {
     "end_time": "2024-04-10T18:05:52.877076Z",
     "start_time": "2024-04-10T18:05:52.867488Z"
    }
   },
   "cell_type": "code",
   "source": [
    "tuple1 |= tuple1"
   ],
   "id": "3d4aa61212037b7c",
   "outputs": [
    {
     "ename": "TypeError",
     "evalue": "unsupported operand type(s) for |=: 'tuple' and 'tuple'",
     "output_type": "error",
     "traceback": [
      "\u001b[0;31m---------------------------------------------------------------------------\u001b[0m",
      "\u001b[0;31mTypeError\u001b[0m                                 Traceback (most recent call last)",
      "Cell \u001b[0;32mIn[15], line 1\u001b[0m\n\u001b[0;32m----> 1\u001b[0m \u001b[43mtuple1\u001b[49m\u001b[38;5;241;43m|\u001b[39;49m\u001b[38;5;241;43m=\u001b[39;49m\u001b[43mtuple1\u001b[49m\n",
      "\u001b[0;31mTypeError\u001b[0m: unsupported operand type(s) for |=: 'tuple' and 'tuple'"
     ]
    }
   ],
   "execution_count": 15
  },
  {
   "metadata": {
    "ExecuteTime": {
     "end_time": "2024-04-10T18:06:26.284347Z",
     "start_time": "2024-04-10T18:06:26.281489Z"
    }
   },
   "cell_type": "code",
   "source": [
    "tuple1 += (2,)"
   ],
   "id": "3b86db3b6c47ab60",
   "outputs": [],
   "execution_count": 19
  },
  {
   "metadata": {
    "ExecuteTime": {
     "end_time": "2024-04-10T18:06:29.134141Z",
     "start_time": "2024-04-10T18:06:29.129916Z"
    }
   },
   "cell_type": "code",
   "source": "tuple1",
   "id": "2153112d4e6ab00",
   "outputs": [
    {
     "data": {
      "text/plain": [
       "(1, 2, 3, 2)"
      ]
     },
     "execution_count": 20,
     "metadata": {},
     "output_type": "execute_result"
    }
   ],
   "execution_count": 20
  },
  {
   "metadata": {
    "ExecuteTime": {
     "end_time": "2024-04-10T18:07:09.182908Z",
     "start_time": "2024-04-10T18:07:09.180291Z"
    }
   },
   "cell_type": "code",
   "source": [
    "x = set(tuple1) | set(a)"
   ],
   "id": "9ec3f1708633f71e",
   "outputs": [],
   "execution_count": 22
  },
  {
   "metadata": {
    "ExecuteTime": {
     "end_time": "2024-04-10T18:07:11.020110Z",
     "start_time": "2024-04-10T18:07:11.017130Z"
    }
   },
   "cell_type": "code",
   "source": "x",
   "id": "ddf23eaef59165e0",
   "outputs": [
    {
     "data": {
      "text/plain": [
       "{1, 2, 3, 4, 5, 6}"
      ]
     },
     "execution_count": 23,
     "metadata": {},
     "output_type": "execute_result"
    }
   ],
   "execution_count": 23
  },
  {
   "metadata": {
    "ExecuteTime": {
     "end_time": "2024-04-10T18:07:31.367160Z",
     "start_time": "2024-04-10T18:07:31.364476Z"
    }
   },
   "cell_type": "code",
   "source": [
    "tuple2 = tuple(x)"
   ],
   "id": "a1b456d5d9c825b5",
   "outputs": [],
   "execution_count": 24
  },
  {
   "metadata": {},
   "cell_type": "code",
   "outputs": [],
   "execution_count": null,
   "source": "",
   "id": "434643235159ef62"
  }
 ],
 "metadata": {
  "kernelspec": {
   "display_name": "Python 3",
   "language": "python",
   "name": "python3"
  },
  "language_info": {
   "codemirror_mode": {
    "name": "ipython",
    "version": 2
   },
   "file_extension": ".py",
   "mimetype": "text/x-python",
   "name": "python",
   "nbconvert_exporter": "python",
   "pygments_lexer": "ipython2",
   "version": "2.7.6"
  }
 },
 "nbformat": 4,
 "nbformat_minor": 5
}
