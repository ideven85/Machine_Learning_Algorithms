{
 "cells": [
  {
   "cell_type": "code",
   "id": "initial_id",
   "metadata": {
    "collapsed": true,
    "ExecuteTime": {
     "end_time": "2024-09-05T17:52:35.037575Z",
     "start_time": "2024-09-05T17:52:35.033178Z"
    }
   },
   "source": [
    "def my_f():\n",
    "\n",
    "    return 42\n",
    "\n",
    "\n",
    "callable(my_f)"
   ],
   "outputs": [
    {
     "data": {
      "text/plain": [
       "True"
      ]
     },
     "execution_count": 1,
     "metadata": {},
     "output_type": "execute_result"
    }
   ],
   "execution_count": 1
  },
  {
   "metadata": {
    "ExecuteTime": {
     "end_time": "2024-09-05T17:52:46.708564Z",
     "start_time": "2024-09-05T17:52:46.706072Z"
    }
   },
   "cell_type": "code",
   "source": "callable(my_f())",
   "id": "4897e7077ee41507",
   "outputs": [
    {
     "data": {
      "text/plain": [
       "False"
      ]
     },
     "execution_count": 2,
     "metadata": {},
     "output_type": "execute_result"
    }
   ],
   "execution_count": 2
  },
  {
   "metadata": {
    "ExecuteTime": {
     "end_time": "2024-09-05T17:53:16.273873Z",
     "start_time": "2024-09-05T17:53:16.270420Z"
    }
   },
   "cell_type": "code",
   "source": "dir(my_f)",
   "id": "99ea16a18a9379e2",
   "outputs": [
    {
     "data": {
      "text/plain": [
       "['__annotations__',\n",
       " '__builtins__',\n",
       " '__call__',\n",
       " '__class__',\n",
       " '__closure__',\n",
       " '__code__',\n",
       " '__defaults__',\n",
       " '__delattr__',\n",
       " '__dict__',\n",
       " '__dir__',\n",
       " '__doc__',\n",
       " '__eq__',\n",
       " '__format__',\n",
       " '__ge__',\n",
       " '__get__',\n",
       " '__getattribute__',\n",
       " '__getstate__',\n",
       " '__globals__',\n",
       " '__gt__',\n",
       " '__hash__',\n",
       " '__init__',\n",
       " '__init_subclass__',\n",
       " '__kwdefaults__',\n",
       " '__le__',\n",
       " '__lt__',\n",
       " '__module__',\n",
       " '__name__',\n",
       " '__ne__',\n",
       " '__new__',\n",
       " '__qualname__',\n",
       " '__reduce__',\n",
       " '__reduce_ex__',\n",
       " '__repr__',\n",
       " '__setattr__',\n",
       " '__sizeof__',\n",
       " '__str__',\n",
       " '__subclasshook__',\n",
       " '__type_params__']"
      ]
     },
     "execution_count": 3,
     "metadata": {},
     "output_type": "execute_result"
    }
   ],
   "execution_count": 3
  },
  {
   "metadata": {
    "ExecuteTime": {
     "end_time": "2024-09-05T17:54:12.258454Z",
     "start_time": "2024-09-05T17:54:12.253911Z"
    }
   },
   "cell_type": "code",
   "source": "my_f.__hash__()",
   "id": "62c6255d3bac224d",
   "outputs": [
    {
     "data": {
      "text/plain": [
       "274129280"
      ]
     },
     "execution_count": 4,
     "metadata": {},
     "output_type": "execute_result"
    }
   ],
   "execution_count": 4
  },
  {
   "metadata": {
    "ExecuteTime": {
     "end_time": "2024-09-05T17:55:45.542463Z",
     "start_time": "2024-09-05T17:55:45.540099Z"
    }
   },
   "cell_type": "code",
   "source": [
    "class My_Class:\n",
    "    x = 10\n",
    "\n",
    "    @classmethod\n",
    "    def cls_method(cls):\n",
    "        return cls.x\n",
    "\n",
    "\n",
    "print(My_Class.cls_method())"
   ],
   "id": "dc5b0f99f531594",
   "outputs": [
    {
     "name": "stdout",
     "output_type": "stream",
     "text": [
      "10\n"
     ]
    }
   ],
   "execution_count": 5
  },
  {
   "metadata": {
    "ExecuteTime": {
     "end_time": "2024-09-05T18:26:52.015065Z",
     "start_time": "2024-09-05T18:26:52.012676Z"
    }
   },
   "cell_type": "code",
   "source": [
    "# compile() mode must be 'exec', 'eval' or 'single'\n",
    "code_str = 'print(\"Hello World\")'\n",
    "code_obj = compile(code_str, \"<string>\", \"single\")"
   ],
   "id": "d888c1d57e9de996",
   "outputs": [],
   "execution_count": 16
  },
  {
   "metadata": {
    "ExecuteTime": {
     "end_time": "2024-09-05T18:26:52.912189Z",
     "start_time": "2024-09-05T18:26:52.908639Z"
    }
   },
   "cell_type": "code",
   "source": "code_obj",
   "id": "1692450647a050",
   "outputs": [
    {
     "data": {
      "text/plain": [
       "<code object <module> at 0x105ed8490, file \"<string>\", line 1>"
      ]
     },
     "execution_count": 17,
     "metadata": {},
     "output_type": "execute_result"
    }
   ],
   "execution_count": 17
  },
  {
   "metadata": {
    "ExecuteTime": {
     "end_time": "2024-09-05T18:27:07.935952Z",
     "start_time": "2024-09-05T18:27:07.932728Z"
    }
   },
   "cell_type": "code",
   "source": "(code_obj)",
   "id": "d2a80c614d2ac2df",
   "outputs": [
    {
     "data": {
      "text/plain": [
       "<code object <module> at 0x105ed8490, file \"<string>\", line 1>"
      ]
     },
     "execution_count": 18,
     "metadata": {},
     "output_type": "execute_result"
    }
   ],
   "execution_count": 18
  },
  {
   "metadata": {
    "ExecuteTime": {
     "end_time": "2024-09-05T18:29:40.253389Z",
     "start_time": "2024-09-05T18:29:40.250003Z"
    }
   },
   "cell_type": "code",
   "source": "eval(code_obj)",
   "id": "5658283026f46a85",
   "outputs": [
    {
     "name": "stdout",
     "output_type": "stream",
     "text": [
      "Hello World\n"
     ]
    }
   ],
   "execution_count": 20
  },
  {
   "metadata": {
    "ExecuteTime": {
     "end_time": "2024-09-05T18:29:50.051604Z",
     "start_time": "2024-09-05T18:29:50.047985Z"
    }
   },
   "cell_type": "code",
   "source": [
    "import ast\n",
    "\n",
    "print(ast.dump(ast.parse(\"x = 1\"), indent=4))"
   ],
   "id": "56344e41c1b14c21",
   "outputs": [
    {
     "name": "stdout",
     "output_type": "stream",
     "text": [
      "Module(\n",
      "    body=[\n",
      "        Assign(\n",
      "            targets=[\n",
      "                Name(id='x', ctx=Store())],\n",
      "            value=Constant(value=1))],\n",
      "    type_ignores=[])\n"
     ]
    }
   ],
   "execution_count": 21
  },
  {
   "metadata": {
    "ExecuteTime": {
     "end_time": "2024-09-05T18:38:36.461950Z",
     "start_time": "2024-09-05T18:38:36.459265Z"
    }
   },
   "cell_type": "code",
   "source": [
    "ast.dump(ast.parse(\"1\"))"
   ],
   "id": "6719b9981715e583",
   "outputs": [
    {
     "data": {
      "text/plain": [
       "'Module(body=[Expr(value=Constant(value=1))], type_ignores=[])'"
      ]
     },
     "execution_count": 22,
     "metadata": {},
     "output_type": "execute_result"
    }
   ],
   "execution_count": 22
  },
  {
   "metadata": {},
   "cell_type": "code",
   "outputs": [],
   "execution_count": null,
   "source": "",
   "id": "8fb9907168f6702a"
  }
 ],
 "metadata": {
  "kernelspec": {
   "display_name": "Python 3",
   "language": "python",
   "name": "python3"
  },
  "language_info": {
   "codemirror_mode": {
    "name": "ipython",
    "version": 2
   },
   "file_extension": ".py",
   "mimetype": "text/x-python",
   "name": "python",
   "nbconvert_exporter": "python",
   "pygments_lexer": "ipython2",
   "version": "2.7.6"
  }
 },
 "nbformat": 4,
 "nbformat_minor": 5
}
