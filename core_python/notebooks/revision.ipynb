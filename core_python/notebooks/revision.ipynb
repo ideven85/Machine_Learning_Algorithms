{
 "cells": [
  {
   "cell_type": "code",
   "execution_count": null,
   "id": "initial_id",
   "metadata": {
    "collapsed": true
   },
   "outputs": [],
   "source": "\n"
  },
  {
   "metadata": {
    "ExecuteTime": {
     "end_time": "2024-12-03T18:59:15.784092Z",
     "start_time": "2024-12-03T18:59:15.780595Z"
    }
   },
   "cell_type": "code",
   "source": [
    "movies = [\"Alien\", \"Barbie\", \"Clue\", \"Frozen\", \"Inception\"]\n",
    "ratings = [8.5, 7.3, 7.2, 7.4, 8.8, 3.3, 1.5]\n",
    "def exampleA():\n",
    "    print('\\n'.join([str(i**2) for i in [0,1,2,3,4]]))"
   ],
   "id": "96c1941ca9421756",
   "outputs": [],
   "execution_count": 36
  },
  {
   "metadata": {
    "ExecuteTime": {
     "end_time": "2024-12-03T18:59:16.373439Z",
     "start_time": "2024-12-03T18:59:16.371297Z"
    }
   },
   "cell_type": "code",
   "source": "exampleA()",
   "id": "979a91715b8d49d3",
   "outputs": [
    {
     "name": "stdout",
     "output_type": "stream",
     "text": [
      "0\n",
      "1\n",
      "4\n",
      "9\n",
      "16\n"
     ]
    }
   ],
   "execution_count": 37
  },
  {
   "metadata": {
    "ExecuteTime": {
     "end_time": "2024-12-03T18:59:31.975580Z",
     "start_time": "2024-12-03T18:59:31.972415Z"
    }
   },
   "cell_type": "code",
   "source": "print(f'{exampleA()}\\n')",
   "id": "12bc77a5fe583690",
   "outputs": [
    {
     "name": "stdout",
     "output_type": "stream",
     "text": [
      "0\n",
      "1\n",
      "4\n",
      "9\n",
      "16\n",
      "None\n",
      "\n"
     ]
    }
   ],
   "execution_count": 38
  },
  {
   "metadata": {
    "ExecuteTime": {
     "end_time": "2024-12-03T18:59:34.905691Z",
     "start_time": "2024-12-03T18:59:34.902491Z"
    }
   },
   "cell_type": "code",
   "source": [
    "def exampleB():\n",
    "    print('\\n'.join([m for m in movies]))"
   ],
   "id": "65eef5e01f4e4e8b",
   "outputs": [],
   "execution_count": 39
  },
  {
   "metadata": {
    "ExecuteTime": {
     "end_time": "2024-12-03T18:59:36.342822Z",
     "start_time": "2024-12-03T18:59:36.339675Z"
    }
   },
   "cell_type": "code",
   "source": "exampleB()",
   "id": "aa3395492b809af5",
   "outputs": [
    {
     "name": "stdout",
     "output_type": "stream",
     "text": [
      "Alien\n",
      "Barbie\n",
      "Clue\n",
      "Frozen\n",
      "Inception\n"
     ]
    }
   ],
   "execution_count": 40
  },
  {
   "metadata": {
    "ExecuteTime": {
     "end_time": "2024-12-03T19:00:28.806508Z",
     "start_time": "2024-12-03T19:00:28.803088Z"
    }
   },
   "cell_type": "code",
   "source": [
    "def exampleC():\n",
    "    print('\\n'.join([m for m in reversed(movies)]))"
   ],
   "id": "56f03dfb390095d9",
   "outputs": [],
   "execution_count": 41
  },
  {
   "metadata": {
    "ExecuteTime": {
     "end_time": "2024-12-03T19:00:32.500398Z",
     "start_time": "2024-12-03T19:00:32.497941Z"
    }
   },
   "cell_type": "code",
   "source": "exampleC()",
   "id": "d41cf8709d598fbd",
   "outputs": [
    {
     "name": "stdout",
     "output_type": "stream",
     "text": [
      "Inception\n",
      "Frozen\n",
      "Clue\n",
      "Barbie\n",
      "Alien\n"
     ]
    }
   ],
   "execution_count": 42
  },
  {
   "metadata": {
    "ExecuteTime": {
     "end_time": "2024-12-03T19:06:43.881888Z",
     "start_time": "2024-12-03T19:06:43.878670Z"
    }
   },
   "cell_type": "code",
   "source": [
    "def exampleD():\n",
    "   print('\\n'.join([str(str(x)+' '+y) for x,y in enumerate(movies)]))\n"
   ],
   "id": "cdca3a0771fc10c9",
   "outputs": [],
   "execution_count": 60
  },
  {
   "metadata": {
    "ExecuteTime": {
     "end_time": "2024-12-03T19:06:44.715875Z",
     "start_time": "2024-12-03T19:06:44.713609Z"
    }
   },
   "cell_type": "code",
   "source": "",
   "id": "101d09de40679c8f",
   "outputs": [],
   "execution_count": null
  },
  {
   "metadata": {
    "ExecuteTime": {
     "end_time": "2024-12-03T19:06:45.145294Z",
     "start_time": "2024-12-03T19:06:45.143178Z"
    }
   },
   "cell_type": "code",
   "source": "exampleD()",
   "id": "8bd7d01e74972c16",
   "outputs": [
    {
     "name": "stdout",
     "output_type": "stream",
     "text": [
      "0 Alien\n",
      "1 Barbie\n",
      "2 Clue\n",
      "3 Frozen\n",
      "4 Inception\n"
     ]
    }
   ],
   "execution_count": 61
  },
  {
   "metadata": {
    "ExecuteTime": {
     "end_time": "2024-12-03T19:06:31.379527Z",
     "start_time": "2024-12-03T19:06:31.376133Z"
    }
   },
   "cell_type": "code",
   "source": "",
   "id": "fa2b9cd3b66982ab",
   "outputs": [
    {
     "name": "stdout",
     "output_type": "stream",
     "text": [
      "0 Alien\n",
      "1 Barbie\n",
      "2 Clue\n",
      "3 Frozen\n",
      "4 Inception\n"
     ]
    }
   ],
   "execution_count": 59
  },
  {
   "metadata": {
    "ExecuteTime": {
     "end_time": "2024-12-03T19:26:37.041204Z",
     "start_time": "2024-12-03T19:26:37.038369Z"
    }
   },
   "cell_type": "code",
   "source": [
    "\n",
    "def exampleE():\n",
    "    print('\\n'.join([(movie +' '+ str(rating)) for movie,rating in zip(movies,ratings)]))"
   ],
   "id": "767ae996fb906f13",
   "outputs": [],
   "execution_count": 65
  },
  {
   "metadata": {
    "ExecuteTime": {
     "end_time": "2024-12-03T19:26:37.704250Z",
     "start_time": "2024-12-03T19:26:37.701327Z"
    }
   },
   "cell_type": "code",
   "source": "exampleE()",
   "id": "b44521fd19eb36f4",
   "outputs": [
    {
     "name": "stdout",
     "output_type": "stream",
     "text": [
      "Alien 8.5\n",
      "Barbie 7.3\n",
      "Clue 7.2\n",
      "Frozen 7.4\n",
      "Inception 8.8\n"
     ]
    }
   ],
   "execution_count": 66
  },
  {
   "metadata": {
    "ExecuteTime": {
     "end_time": "2024-12-03T19:30:52.269668Z",
     "start_time": "2024-12-03T19:30:52.266433Z"
    }
   },
   "cell_type": "code",
   "source": "set1 = frozenset((1,2,3,4))",
   "id": "ae6113e17e00ab7c",
   "outputs": [],
   "execution_count": 67
  },
  {
   "metadata": {
    "ExecuteTime": {
     "end_time": "2024-12-03T19:30:56.531795Z",
     "start_time": "2024-12-03T19:30:56.528151Z"
    }
   },
   "cell_type": "code",
   "source": "set1",
   "id": "fe6cf49e0657e5e8",
   "outputs": [
    {
     "data": {
      "text/plain": [
       "frozenset({1, 2, 3, 4})"
      ]
     },
     "execution_count": 68,
     "metadata": {},
     "output_type": "execute_result"
    }
   ],
   "execution_count": 68
  },
  {
   "metadata": {
    "ExecuteTime": {
     "end_time": "2024-12-03T19:31:07.002903Z",
     "start_time": "2024-12-03T19:31:07.000202Z"
    }
   },
   "cell_type": "code",
   "source": "hash(set1)",
   "id": "f0612894f7d2c8b1",
   "outputs": [
    {
     "data": {
      "text/plain": [
       "5575258175646371796"
      ]
     },
     "execution_count": 69,
     "metadata": {},
     "output_type": "execute_result"
    }
   ],
   "execution_count": 69
  },
  {
   "metadata": {
    "ExecuteTime": {
     "end_time": "2024-12-03T19:31:26.676392Z",
     "start_time": "2024-12-03T19:31:26.657579Z"
    }
   },
   "cell_type": "code",
   "source": "hash(movies)",
   "id": "6aabc14b4d1a52ad",
   "outputs": [
    {
     "ename": "TypeError",
     "evalue": "unhashable type: 'list'",
     "output_type": "error",
     "traceback": [
      "\u001B[0;31m---------------------------------------------------------------------------\u001B[0m",
      "\u001B[0;31mTypeError\u001B[0m                                 Traceback (most recent call last)",
      "Cell \u001B[0;32mIn[70], line 1\u001B[0m\n\u001B[0;32m----> 1\u001B[0m \u001B[38;5;28;43mhash\u001B[39;49m\u001B[43m(\u001B[49m\u001B[43mmovies\u001B[49m\u001B[43m)\u001B[49m\n",
      "\u001B[0;31mTypeError\u001B[0m: unhashable type: 'list'"
     ]
    }
   ],
   "execution_count": 70
  },
  {
   "metadata": {
    "ExecuteTime": {
     "end_time": "2024-12-03T19:31:38.517544Z",
     "start_time": "2024-12-03T19:31:38.515576Z"
    }
   },
   "cell_type": "code",
   "source": "m = tuple(movies)",
   "id": "541a1c2e0d4134a5",
   "outputs": [],
   "execution_count": 71
  },
  {
   "metadata": {
    "ExecuteTime": {
     "end_time": "2024-12-03T19:31:41.533102Z",
     "start_time": "2024-12-03T19:31:41.528990Z"
    }
   },
   "cell_type": "code",
   "source": "hash(m)",
   "id": "d231a73fd31d1281",
   "outputs": [
    {
     "data": {
      "text/plain": [
       "5980126367701897504"
      ]
     },
     "execution_count": 72,
     "metadata": {},
     "output_type": "execute_result"
    }
   ],
   "execution_count": 72
  },
  {
   "metadata": {},
   "cell_type": "code",
   "outputs": [],
   "execution_count": null,
   "source": "",
   "id": "dee9d823d4cb3bcd"
  }
 ],
 "metadata": {
  "kernelspec": {
   "display_name": "Python 3",
   "language": "python",
   "name": "python3"
  },
  "language_info": {
   "codemirror_mode": {
    "name": "ipython",
    "version": 2
   },
   "file_extension": ".py",
   "mimetype": "text/x-python",
   "name": "python",
   "nbconvert_exporter": "python",
   "pygments_lexer": "ipython2",
   "version": "2.7.6"
  }
 },
 "nbformat": 4,
 "nbformat_minor": 5
}
