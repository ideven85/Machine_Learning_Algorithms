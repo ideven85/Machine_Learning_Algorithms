{
 "cells": [
  {
   "cell_type": "code",
   "id": "initial_id",
   "metadata": {
    "collapsed": true,
    "ExecuteTime": {
     "end_time": "2024-12-07T17:31:42.807208Z",
     "start_time": "2024-12-07T17:31:42.804663Z"
    }
   },
   "source": [
    "import math\n",
    "result = math.ceil(4.2)\n",
    "print(result)"
   ],
   "outputs": [
    {
     "name": "stdout",
     "output_type": "stream",
     "text": [
      "5\n"
     ]
    }
   ],
   "execution_count": 1
  },
  {
   "metadata": {
    "ExecuteTime": {
     "end_time": "2024-12-07T17:31:56.220170Z",
     "start_time": "2024-12-07T17:31:56.214816Z"
    }
   },
   "cell_type": "code",
   "source": "math.floor(4.9)",
   "id": "60925cc5b4842d2",
   "outputs": [
    {
     "data": {
      "text/plain": [
       "4"
      ]
     },
     "execution_count": 2,
     "metadata": {},
     "output_type": "execute_result"
    }
   ],
   "execution_count": 2
  },
  {
   "metadata": {
    "ExecuteTime": {
     "end_time": "2024-12-07T17:32:14.710945Z",
     "start_time": "2024-12-07T17:32:14.706959Z"
    }
   },
   "cell_type": "code",
   "source": "round(4.9)",
   "id": "eeb088b3303b6520",
   "outputs": [
    {
     "data": {
      "text/plain": [
       "5"
      ]
     },
     "execution_count": 3,
     "metadata": {},
     "output_type": "execute_result"
    }
   ],
   "execution_count": 3
  },
  {
   "metadata": {
    "ExecuteTime": {
     "end_time": "2024-12-07T17:32:22.298186Z",
     "start_time": "2024-12-07T17:32:22.294313Z"
    }
   },
   "cell_type": "code",
   "source": "round(4.2)",
   "id": "1ad90b5ce6ef6e91",
   "outputs": [
    {
     "data": {
      "text/plain": [
       "4"
      ]
     },
     "execution_count": 4,
     "metadata": {},
     "output_type": "execute_result"
    }
   ],
   "execution_count": 4
  },
  {
   "metadata": {
    "ExecuteTime": {
     "end_time": "2024-12-07T17:32:29.853586Z",
     "start_time": "2024-12-07T17:32:29.849673Z"
    }
   },
   "cell_type": "code",
   "source": "round(4.5)",
   "id": "e7f79103b655c230",
   "outputs": [
    {
     "data": {
      "text/plain": [
       "4"
      ]
     },
     "execution_count": 5,
     "metadata": {},
     "output_type": "execute_result"
    }
   ],
   "execution_count": 5
  },
  {
   "metadata": {
    "ExecuteTime": {
     "end_time": "2024-12-07T17:32:37.790348Z",
     "start_time": "2024-12-07T17:32:37.787265Z"
    }
   },
   "cell_type": "code",
   "source": "round(4.51)",
   "id": "125b34e47da367d0",
   "outputs": [
    {
     "data": {
      "text/plain": [
       "5"
      ]
     },
     "execution_count": 6,
     "metadata": {},
     "output_type": "execute_result"
    }
   ],
   "execution_count": 6
  },
  {
   "metadata": {
    "ExecuteTime": {
     "end_time": "2024-12-07T17:35:50.145369Z",
     "start_time": "2024-12-07T17:35:50.142070Z"
    }
   },
   "cell_type": "code",
   "source": [
    "class Student:\n",
    "    def __init__(self,name,age):\n",
    "        self._name = name\n",
    "        self._age = age\n",
    "        self._grade = []\n",
    "    def add_grade(self,grade):\n",
    "        self._grade.append(grade)\n",
    "\n",
    "    def average_grade(self):\n",
    "        if len(self._grade):\n",
    "            return sum(self._grade)/len(self._grade)\n",
    "        else:\n",
    "            return 0"
   ],
   "id": "f8d61d992d755199",
   "outputs": [],
   "execution_count": 11
  },
  {
   "metadata": {
    "ExecuteTime": {
     "end_time": "2024-12-07T17:35:50.553377Z",
     "start_time": "2024-12-07T17:35:50.551302Z"
    }
   },
   "cell_type": "code",
   "source": [
    "s = Student(\"Deven\",24)\n",
    "\n",
    "print(s.average_grade())"
   ],
   "id": "68f50af83d6326d8",
   "outputs": [
    {
     "name": "stdout",
     "output_type": "stream",
     "text": [
      "0\n"
     ]
    }
   ],
   "execution_count": 12
  },
  {
   "metadata": {
    "ExecuteTime": {
     "end_time": "2024-12-07T17:36:35.540617Z",
     "start_time": "2024-12-07T17:36:35.537356Z"
    }
   },
   "cell_type": "code",
   "source": "s.add_grade(10);s.add_grade(5)",
   "id": "85e7b612cfff6b2",
   "outputs": [],
   "execution_count": 13
  },
  {
   "metadata": {
    "ExecuteTime": {
     "end_time": "2024-12-07T18:15:33.910963Z",
     "start_time": "2024-12-07T18:15:33.906341Z"
    }
   },
   "cell_type": "code",
   "source": [
    "from operator import itemgetter\n",
    "class Dataset:\n",
    "    def __init__(self,data):\n",
    "        self.data = data\n",
    "    def mean(self):\n",
    "        return sum(self.data)/len(self.data)\n",
    "    def median(self):\n",
    "        sorted_data = sorted(self.data)\n",
    "        middle = len(sorted_data)//2\n",
    "        if middle%2==0:\n",
    "            return sorted_data[middle-1]\n",
    "        else:\n",
    "            return sorted_data[middle]\n",
    "\n",
    "    def mode(self):\n",
    "        mapping = dict()\n",
    "        for x in self.data:\n",
    "            if x in mapping:\n",
    "                mapping[x]+=1\n",
    "            else:\n",
    "                mapping[x]=1\n",
    "        m=sorted(mapping.items(),key=itemgetter(1),reverse=True)\n",
    "        print(m)\n",
    "\n",
    "        return m[0][0]\n",
    "\n",
    "    def std_dev(self):\n",
    "        #mean_value = sum(self.data) / len(self.data)\n",
    "        return (sum((x - self.mean()) ** 2 for x in self.data) / len(self.data)) ** 0.5\n",
    "    def detect_outliers(self, threshold=2):\n",
    "\n",
    "        return [x for x in self.data if(abs(self.mean()-x)>self.std_dev()*threshold)]"
   ],
   "id": "37e74f5ede583bdf",
   "outputs": [],
   "execution_count": 148
  },
  {
   "metadata": {
    "ExecuteTime": {
     "end_time": "2024-12-07T18:10:31.474243Z",
     "start_time": "2024-12-07T18:10:31.470748Z"
    }
   },
   "cell_type": "code",
   "source": "math.exp(2)",
   "id": "2219d260ba3ebb5f",
   "outputs": [
    {
     "data": {
      "text/plain": [
       "7.38905609893065"
      ]
     },
     "execution_count": 108,
     "metadata": {},
     "output_type": "execute_result"
    }
   ],
   "execution_count": 108
  },
  {
   "metadata": {
    "ExecuteTime": {
     "end_time": "2024-12-07T18:10:31.963483Z",
     "start_time": "2024-12-07T18:10:31.960863Z"
    }
   },
   "cell_type": "code",
   "source": "math.log(8,2)",
   "id": "a2cb54ff6c39e2d3",
   "outputs": [
    {
     "data": {
      "text/plain": [
       "3.0"
      ]
     },
     "execution_count": 109,
     "metadata": {},
     "output_type": "execute_result"
    }
   ],
   "execution_count": 109
  },
  {
   "metadata": {
    "ExecuteTime": {
     "end_time": "2024-12-07T18:10:32.039560Z",
     "start_time": "2024-12-07T18:10:32.037395Z"
    }
   },
   "cell_type": "code",
   "source": "math.log(10,10)",
   "id": "8815dd9a5703dd8d",
   "outputs": [
    {
     "data": {
      "text/plain": [
       "1.0"
      ]
     },
     "execution_count": 110,
     "metadata": {},
     "output_type": "execute_result"
    }
   ],
   "execution_count": 110
  },
  {
   "metadata": {
    "ExecuteTime": {
     "end_time": "2024-12-07T18:10:32.122382Z",
     "start_time": "2024-12-07T18:10:32.120145Z"
    }
   },
   "cell_type": "code",
   "source": [
    "val = math.e**2\n",
    "math.log(val)"
   ],
   "id": "34bb9ac5c7428bfc",
   "outputs": [
    {
     "data": {
      "text/plain": [
       "2.0"
      ]
     },
     "execution_count": 111,
     "metadata": {},
     "output_type": "execute_result"
    }
   ],
   "execution_count": 111
  },
  {
   "metadata": {
    "ExecuteTime": {
     "end_time": "2024-12-07T18:10:32.207837Z",
     "start_time": "2024-12-07T18:10:32.205957Z"
    }
   },
   "cell_type": "code",
   "source": [
    "import random\n",
    "print(random.random())"
   ],
   "id": "f0f4ce98b6808235",
   "outputs": [
    {
     "name": "stdout",
     "output_type": "stream",
     "text": [
      "0.8235888725334455\n"
     ]
    }
   ],
   "execution_count": 112
  },
  {
   "metadata": {
    "ExecuteTime": {
     "end_time": "2024-12-07T18:10:32.290352Z",
     "start_time": "2024-12-07T18:10:32.288776Z"
    }
   },
   "cell_type": "code",
   "source": "val = random.randint(1,10)",
   "id": "c66f34d0ff3d7443",
   "outputs": [],
   "execution_count": 113
  },
  {
   "metadata": {
    "ExecuteTime": {
     "end_time": "2024-12-07T18:10:32.755633Z",
     "start_time": "2024-12-07T18:10:32.753251Z"
    }
   },
   "cell_type": "code",
   "source": "val",
   "id": "fef6d12f6481d4bc",
   "outputs": [
    {
     "data": {
      "text/plain": [
       "3"
      ]
     },
     "execution_count": 114,
     "metadata": {},
     "output_type": "execute_result"
    }
   ],
   "execution_count": 114
  },
  {
   "metadata": {
    "ExecuteTime": {
     "end_time": "2024-12-07T18:10:33.105565Z",
     "start_time": "2024-12-07T18:10:33.103555Z"
    }
   },
   "cell_type": "code",
   "source": "uniform = random.uniform(1,5)",
   "id": "cbf90b95cd39bba",
   "outputs": [],
   "execution_count": 115
  },
  {
   "metadata": {
    "ExecuteTime": {
     "end_time": "2024-12-07T18:10:33.371131Z",
     "start_time": "2024-12-07T18:10:33.368303Z"
    }
   },
   "cell_type": "code",
   "source": "uniform",
   "id": "3a9b0a91690832c0",
   "outputs": [
    {
     "data": {
      "text/plain": [
       "1.1376142955025839"
      ]
     },
     "execution_count": 116,
     "metadata": {},
     "output_type": "execute_result"
    }
   ],
   "execution_count": 116
  },
  {
   "metadata": {
    "ExecuteTime": {
     "end_time": "2024-12-07T18:10:33.690938Z",
     "start_time": "2024-12-07T18:10:33.688301Z"
    }
   },
   "cell_type": "code",
   "source": "import numpy as np",
   "id": "9d9a3e1225ce3725",
   "outputs": [],
   "execution_count": 117
  },
  {
   "metadata": {
    "ExecuteTime": {
     "end_time": "2024-12-07T18:10:34.133948Z",
     "start_time": "2024-12-07T18:10:34.131818Z"
    }
   },
   "cell_type": "code",
   "source": "lst = np.arange(1,5,dtype=int)",
   "id": "df7578a73fb6fca3",
   "outputs": [],
   "execution_count": 118
  },
  {
   "metadata": {
    "ExecuteTime": {
     "end_time": "2024-12-07T18:10:34.526015Z",
     "start_time": "2024-12-07T18:10:34.523724Z"
    }
   },
   "cell_type": "code",
   "source": "lst",
   "id": "fd06d64cde6fed34",
   "outputs": [
    {
     "data": {
      "text/plain": [
       "array([1, 2, 3, 4])"
      ]
     },
     "execution_count": 119,
     "metadata": {},
     "output_type": "execute_result"
    }
   ],
   "execution_count": 119
  },
  {
   "metadata": {
    "ExecuteTime": {
     "end_time": "2024-12-07T18:10:34.906364Z",
     "start_time": "2024-12-07T18:10:34.904294Z"
    }
   },
   "cell_type": "code",
   "source": "random.shuffle(lst)",
   "id": "98c34ac50e04f7a5",
   "outputs": [],
   "execution_count": 120
  },
  {
   "metadata": {
    "ExecuteTime": {
     "end_time": "2024-12-07T18:10:35.289118Z",
     "start_time": "2024-12-07T18:10:35.286756Z"
    }
   },
   "cell_type": "code",
   "source": "lst",
   "id": "9a09e8a094d6b91e",
   "outputs": [
    {
     "data": {
      "text/plain": [
       "array([3, 1, 2, 4])"
      ]
     },
     "execution_count": 121,
     "metadata": {},
     "output_type": "execute_result"
    }
   ],
   "execution_count": 121
  },
  {
   "metadata": {
    "ExecuteTime": {
     "end_time": "2024-12-07T18:10:35.644788Z",
     "start_time": "2024-12-07T18:10:35.642968Z"
    }
   },
   "cell_type": "code",
   "source": "random.seed(10)",
   "id": "2511ef736cd7af29",
   "outputs": [],
   "execution_count": 122
  },
  {
   "metadata": {
    "ExecuteTime": {
     "end_time": "2024-12-07T18:10:35.969564Z",
     "start_time": "2024-12-07T18:10:35.965617Z"
    }
   },
   "cell_type": "code",
   "source": [
    "random.shuffle(lst)\n",
    "lst"
   ],
   "id": "d089905341ca75a4",
   "outputs": [
    {
     "data": {
      "text/plain": [
       "array([4, 2, 1, 3])"
      ]
     },
     "execution_count": 123,
     "metadata": {},
     "output_type": "execute_result"
    }
   ],
   "execution_count": 123
  },
  {
   "metadata": {
    "ExecuteTime": {
     "end_time": "2024-12-07T18:10:36.238882Z",
     "start_time": "2024-12-07T18:10:36.236234Z"
    }
   },
   "cell_type": "code",
   "source": "random.choice(lst)",
   "id": "9f44d93efd31aa04",
   "outputs": [
    {
     "data": {
      "text/plain": [
       "np.int64(4)"
      ]
     },
     "execution_count": 124,
     "metadata": {},
     "output_type": "execute_result"
    }
   ],
   "execution_count": 124
  },
  {
   "metadata": {
    "ExecuteTime": {
     "end_time": "2024-12-07T18:10:36.591990Z",
     "start_time": "2024-12-07T18:10:36.589857Z"
    }
   },
   "cell_type": "code",
   "source": "my_list = list(range(1,11))",
   "id": "e04be4fa909792b",
   "outputs": [],
   "execution_count": 125
  },
  {
   "metadata": {
    "ExecuteTime": {
     "end_time": "2024-12-07T18:10:37.385165Z",
     "start_time": "2024-12-07T18:10:37.381885Z"
    }
   },
   "cell_type": "code",
   "source": "random.sample(my_list,3)",
   "id": "ac2fa4f6dbc3ed99",
   "outputs": [
    {
     "data": {
      "text/plain": [
       "[4, 8, 9]"
      ]
     },
     "execution_count": 126,
     "metadata": {},
     "output_type": "execute_result"
    }
   ],
   "execution_count": 126
  },
  {
   "metadata": {
    "ExecuteTime": {
     "end_time": "2024-12-07T18:15:43.177644Z",
     "start_time": "2024-12-07T18:15:43.174462Z"
    }
   },
   "cell_type": "code",
   "source": [
    "data = Dataset([5,5,10,15,20,25,100])\n",
    "print(data.detect_outliers(0.4))"
   ],
   "id": "c2da856ced88d626",
   "outputs": [
    {
     "name": "stdout",
     "output_type": "stream",
     "text": [
      "[5, 5, 10, 100]\n"
     ]
    }
   ],
   "execution_count": 149
  },
  {
   "metadata": {
    "ExecuteTime": {
     "end_time": "2024-12-07T18:15:46.766661Z",
     "start_time": "2024-12-07T18:15:46.762745Z"
    }
   },
   "cell_type": "code",
   "source": "data.mode()",
   "id": "ed82a6b8c9a53302",
   "outputs": [
    {
     "name": "stdout",
     "output_type": "stream",
     "text": [
      "[(5, 2), (10, 1), (15, 1), (20, 1), (25, 1), (100, 1)]\n"
     ]
    },
    {
     "data": {
      "text/plain": [
       "5"
      ]
     },
     "execution_count": 150,
     "metadata": {},
     "output_type": "execute_result"
    }
   ],
   "execution_count": 150
  },
  {
   "metadata": {
    "ExecuteTime": {
     "end_time": "2024-12-07T18:08:12.442720Z",
     "start_time": "2024-12-07T18:08:12.439636Z"
    }
   },
   "cell_type": "code",
   "source": "d=dict({10:2,100:3})",
   "id": "a12ef5b0f15886b5",
   "outputs": [],
   "execution_count": 99
  },
  {
   "metadata": {
    "ExecuteTime": {
     "end_time": "2024-12-07T18:09:22.678512Z",
     "start_time": "2024-12-07T18:09:22.674618Z"
    }
   },
   "cell_type": "code",
   "source": "sorted(d.items(),key=itemgetter(1),reverse=True).pop()[0]",
   "id": "bf68b56f5a2deba4",
   "outputs": [
    {
     "data": {
      "text/plain": [
       "10"
      ]
     },
     "execution_count": 106,
     "metadata": {},
     "output_type": "execute_result"
    }
   ],
   "execution_count": 106
  },
  {
   "metadata": {
    "ExecuteTime": {
     "end_time": "2024-12-07T18:24:06.278694Z",
     "start_time": "2024-12-07T18:24:06.272164Z"
    }
   },
   "cell_type": "code",
   "source": [
    "nums=[1,2,3,4]\n",
    "random.choice(nums)"
   ],
   "id": "828b32e5b9510f21",
   "outputs": [
    {
     "data": {
      "text/plain": [
       "3"
      ]
     },
     "execution_count": 151,
     "metadata": {},
     "output_type": "execute_result"
    }
   ],
   "execution_count": 151
  },
  {
   "metadata": {
    "ExecuteTime": {
     "end_time": "2024-12-07T18:25:51.843842Z",
     "start_time": "2024-12-07T18:25:51.841618Z"
    }
   },
   "cell_type": "code",
   "source": [
    "import datetime\n",
    "curr = datetime.datetime.now()"
   ],
   "id": "d5ba2313ef960c63",
   "outputs": [],
   "execution_count": 152
  },
  {
   "metadata": {
    "ExecuteTime": {
     "end_time": "2024-12-07T18:25:55.637531Z",
     "start_time": "2024-12-07T18:25:55.633898Z"
    }
   },
   "cell_type": "code",
   "source": "curr",
   "id": "b84ac5ab1d8f0d8c",
   "outputs": [
    {
     "data": {
      "text/plain": [
       "datetime.datetime(2024, 12, 7, 23, 55, 51, 842473)"
      ]
     },
     "execution_count": 153,
     "metadata": {},
     "output_type": "execute_result"
    }
   ],
   "execution_count": 153
  },
  {
   "metadata": {
    "ExecuteTime": {
     "end_time": "2024-12-07T18:26:02.320210Z",
     "start_time": "2024-12-07T18:26:02.317487Z"
    }
   },
   "cell_type": "code",
   "source": "type(curr)",
   "id": "11789d03aa5d12b6",
   "outputs": [
    {
     "data": {
      "text/plain": [
       "datetime.datetime"
      ]
     },
     "execution_count": 154,
     "metadata": {},
     "output_type": "execute_result"
    }
   ],
   "execution_count": 154
  },
  {
   "metadata": {
    "ExecuteTime": {
     "end_time": "2024-12-07T18:27:17.754980Z",
     "start_time": "2024-12-07T18:27:17.751137Z"
    }
   },
   "cell_type": "code",
   "source": [
    "from math import pi\n",
    "class Circle:\n",
    "    def __init__(self, radius):\n",
    "        self.radius = radius\n",
    "    def calculate_area(self):\n",
    "        return pi * self.radius * self.radius\n",
    "circle1 = Circle(6)\n",
    "area = circle1.calculate_area()"
   ],
   "id": "411a7d7b3e2f9f6b",
   "outputs": [],
   "execution_count": 155
  },
  {
   "metadata": {
    "ExecuteTime": {
     "end_time": "2024-12-07T18:27:22.247511Z",
     "start_time": "2024-12-07T18:27:22.245314Z"
    }
   },
   "cell_type": "code",
   "source": "print(area)",
   "id": "caa10d974361cf50",
   "outputs": [
    {
     "name": "stdout",
     "output_type": "stream",
     "text": [
      "113.09733552923255\n"
     ]
    }
   ],
   "execution_count": 156
  },
  {
   "metadata": {
    "ExecuteTime": {
     "end_time": "2024-12-07T18:46:26.959680Z",
     "start_time": "2024-12-07T18:46:26.956416Z"
    }
   },
   "cell_type": "code",
   "source": [
    "def utility(s):\n",
    "    # Your code here\n",
    "    for i in range(0,len(s),2):\n",
    "        print(s[i],end='')\n",
    "    #return s[0:len(s):2]\n"
   ],
   "id": "93fb43b48d487899",
   "outputs": [],
   "execution_count": 172
  },
  {
   "metadata": {
    "ExecuteTime": {
     "end_time": "2024-12-07T18:46:27.541384Z",
     "start_time": "2024-12-07T18:46:27.538224Z"
    }
   },
   "cell_type": "code",
   "source": [
    "s = \"DoctorPhenomenal\"\n",
    "utility(s)"
   ],
   "id": "2bafa3ab7d96e7ff",
   "outputs": [
    {
     "name": "stdout",
     "output_type": "stream",
     "text": [
      "DcoPeoea"
     ]
    }
   ],
   "execution_count": 173
  },
  {
   "metadata": {
    "ExecuteTime": {
     "end_time": "2024-12-07T18:51:56.668602Z",
     "start_time": "2024-12-07T18:51:56.663350Z"
    }
   },
   "cell_type": "code",
   "source": [
    "file = 'temp.txt'\n",
    "with open(file,'w+') as f:\n",
    "    f.write(\"Deven is a good boy\")\n"
   ],
   "id": "8833a292debf9faa",
   "outputs": [],
   "execution_count": 174
  },
  {
   "metadata": {
    "ExecuteTime": {
     "end_time": "2024-12-07T18:52:15.730651Z",
     "start_time": "2024-12-07T18:52:15.726252Z"
    }
   },
   "cell_type": "code",
   "source": [
    "with open(file,'a+') as f:\n",
    "    f.write(\"He is stupid\")"
   ],
   "id": "f8539e07e5f4873f",
   "outputs": [],
   "execution_count": 175
  },
  {
   "metadata": {
    "ExecuteTime": {
     "end_time": "2024-12-07T18:53:01.746742Z",
     "start_time": "2024-12-07T18:53:01.743704Z"
    }
   },
   "cell_type": "code",
   "source": [
    "with open(file,'r+') as f:\n",
    "    print(f.read())"
   ],
   "id": "764e08d06350d5ba",
   "outputs": [
    {
     "name": "stdout",
     "output_type": "stream",
     "text": [
      "Deven is a good boy\n",
      "He is stupid\n"
     ]
    }
   ],
   "execution_count": 176
  },
  {
   "metadata": {
    "ExecuteTime": {
     "end_time": "2024-12-07T18:55:21.132947Z",
     "start_time": "2024-12-07T18:55:21.128330Z"
    }
   },
   "cell_type": "code",
   "source": [
    "file1 = open(\"myfile.txt\",\"w\")\n",
    "L = [\"This is Delhi \\n\",\"This is Paris \\n\",\"This is London \\n\"]\n",
    "file1.write(''.join(L))\n",
    "file1.close()"
   ],
   "id": "edcc80950795772c",
   "outputs": [],
   "execution_count": 178
  },
  {
   "metadata": {
    "ExecuteTime": {
     "end_time": "2024-12-07T18:56:20.085637Z",
     "start_time": "2024-12-07T18:56:20.083052Z"
    }
   },
   "cell_type": "code",
   "source": [
    "file1 = open('myfile.txt','a')\n",
    "file1.writelines(L)\n",
    "file1.close()"
   ],
   "id": "260dfeb7b13e324b",
   "outputs": [],
   "execution_count": 179
  },
  {
   "metadata": {
    "ExecuteTime": {
     "end_time": "2024-12-07T18:57:26.781004Z",
     "start_time": "2024-12-07T18:57:26.776703Z"
    }
   },
   "cell_type": "code",
   "source": [
    "\n",
    "file1 = open(\"myfile.txt\",\"r+\")\n",
    "\n",
    "print(\"Output of Read function is \")\n",
    "print(file1.read())\n",
    "print()\n"
   ],
   "id": "5815f750a169a602",
   "outputs": [
    {
     "name": "stdout",
     "output_type": "stream",
     "text": [
      "Output of Read function is \n",
      "This is Delhi \n",
      "This is Paris \n",
      "This is London \n",
      "This is Delhi \n",
      "This is Paris \n",
      "This is London \n",
      "\n",
      "\n"
     ]
    }
   ],
   "execution_count": 180
  },
  {
   "metadata": {
    "ExecuteTime": {
     "end_time": "2024-12-07T18:57:49.427528Z",
     "start_time": "2024-12-07T18:57:49.423991Z"
    }
   },
   "cell_type": "code",
   "source": [
    "\n",
    "# seek(n) takes the file handle to the nth\n",
    "# bite from the beginning.\n",
    "file1.seek(0)\n",
    "\n",
    "print( \"Output of Readline function is \")\n",
    "print(file1.readline())\n",
    "print()\n"
   ],
   "id": "d9f3bb5cfa9298e5",
   "outputs": [
    {
     "name": "stdout",
     "output_type": "stream",
     "text": [
      "Output of Readline function is \n",
      "This is Delhi \n",
      "\n",
      "\n"
     ]
    }
   ],
   "execution_count": 181
  },
  {
   "metadata": {
    "ExecuteTime": {
     "end_time": "2024-12-07T18:58:18.800881Z",
     "start_time": "2024-12-07T18:58:18.797385Z"
    }
   },
   "cell_type": "code",
   "source": [
    "file1.seek(0)\n",
    "print(file1.readlines())"
   ],
   "id": "92138ff9ca7dc54e",
   "outputs": [
    {
     "name": "stdout",
     "output_type": "stream",
     "text": [
      "['This is Delhi \\n', 'This is Paris \\n', 'This is London \\n', 'This is Delhi \\n', 'This is Paris \\n', 'This is London \\n']\n"
     ]
    }
   ],
   "execution_count": 182
  },
  {
   "metadata": {
    "ExecuteTime": {
     "end_time": "2024-12-07T18:58:37.735055Z",
     "start_time": "2024-12-07T18:58:37.732758Z"
    }
   },
   "cell_type": "code",
   "source": [
    "file1.seek(9)\n",
    "print(file1.read())"
   ],
   "id": "fc20374f8a859b80",
   "outputs": [
    {
     "name": "stdout",
     "output_type": "stream",
     "text": [
      "elhi \n",
      "This is Paris \n",
      "This is London \n",
      "This is Delhi \n",
      "This is Paris \n",
      "This is London \n",
      "\n"
     ]
    }
   ],
   "execution_count": 183
  },
  {
   "metadata": {
    "ExecuteTime": {
     "end_time": "2024-12-07T18:59:18.979060Z",
     "start_time": "2024-12-07T18:59:18.976264Z"
    }
   },
   "cell_type": "code",
   "source": "file1.close()",
   "id": "3a0dd592c52ab099",
   "outputs": [],
   "execution_count": 184
  },
  {
   "metadata": {
    "ExecuteTime": {
     "end_time": "2024-12-07T19:22:21.878086Z",
     "start_time": "2024-12-07T19:21:45.158885Z"
    }
   },
   "cell_type": "code",
   "source": [
    "import nltk\n",
    "nltk.download()"
   ],
   "id": "18507ce7283f5a23",
   "outputs": [
    {
     "name": "stdout",
     "output_type": "stream",
     "text": [
      "showing info https://raw.githubusercontent.com/nltk/nltk_data/gh-pages/index.xml\n"
     ]
    },
    {
     "name": "stderr",
     "output_type": "stream",
     "text": [
      "2024-12-08 00:52:12.853 Python[37624:862449] +[IMKClient subclass]: chose IMKClient_Modern\n"
     ]
    },
    {
     "data": {
      "text/plain": [
       "True"
      ]
     },
     "execution_count": 185,
     "metadata": {},
     "output_type": "execute_result"
    }
   ],
   "execution_count": 185
  },
  {
   "metadata": {
    "ExecuteTime": {
     "end_time": "2024-12-07T19:36:18.119308Z",
     "start_time": "2024-12-07T19:36:18.117130Z"
    }
   },
   "cell_type": "code",
   "source": "txt = \"Hello Geeks. We're hoping you guys are doing great.\"",
   "id": "963467e9af932280",
   "outputs": [],
   "execution_count": 209
  },
  {
   "metadata": {
    "ExecuteTime": {
     "end_time": "2024-12-07T19:36:18.886269Z",
     "start_time": "2024-12-07T19:36:18.883025Z"
    }
   },
   "cell_type": "code",
   "source": "len(txt.split(\".\"))",
   "id": "6885c3dea8432aa9",
   "outputs": [
    {
     "data": {
      "text/plain": [
       "3"
      ]
     },
     "execution_count": 210,
     "metadata": {},
     "output_type": "execute_result"
    }
   ],
   "execution_count": 210
  },
  {
   "metadata": {
    "ExecuteTime": {
     "end_time": "2024-12-07T19:36:25.701562Z",
     "start_time": "2024-12-07T19:36:25.699207Z"
    }
   },
   "cell_type": "code",
   "source": "len(txt.split())",
   "id": "96d7dba4fae1ead",
   "outputs": [
    {
     "data": {
      "text/plain": [
       "9"
      ]
     },
     "execution_count": 211,
     "metadata": {},
     "output_type": "execute_result"
    }
   ],
   "execution_count": 211
  },
  {
   "metadata": {
    "ExecuteTime": {
     "end_time": "2024-12-07T19:36:26.833212Z",
     "start_time": "2024-12-07T19:36:26.830268Z"
    }
   },
   "cell_type": "code",
   "source": "len(txt.split(' '))",
   "id": "1dc73072f5579f30",
   "outputs": [
    {
     "data": {
      "text/plain": [
       "9"
      ]
     },
     "execution_count": 212,
     "metadata": {},
     "output_type": "execute_result"
    }
   ],
   "execution_count": 212
  },
  {
   "metadata": {
    "ExecuteTime": {
     "end_time": "2024-12-07T19:36:29.954120Z",
     "start_time": "2024-12-07T19:36:29.950670Z"
    }
   },
   "cell_type": "code",
   "source": [
    "txt1 = \"Hello Geeks. We're hoping you guys are doing great.\"\n",
    "len(txt1.split(\".\"))"
   ],
   "id": "a227edcd6e596f66",
   "outputs": [
    {
     "data": {
      "text/plain": [
       "3"
      ]
     },
     "execution_count": 213,
     "metadata": {},
     "output_type": "execute_result"
    }
   ],
   "execution_count": 213
  },
  {
   "metadata": {
    "ExecuteTime": {
     "end_time": "2024-12-07T19:36:31.437266Z",
     "start_time": "2024-12-07T19:36:31.433552Z"
    }
   },
   "cell_type": "code",
   "source": "txt1.split(\".\")",
   "id": "6bfd676e65bb0f0b",
   "outputs": [
    {
     "data": {
      "text/plain": [
       "['Hello Geeks', \" We're hoping you guys are doing great\", '']"
      ]
     },
     "execution_count": 214,
     "metadata": {},
     "output_type": "execute_result"
    }
   ],
   "execution_count": 214
  },
  {
   "metadata": {
    "ExecuteTime": {
     "end_time": "2024-12-07T19:36:32.184251Z",
     "start_time": "2024-12-07T19:36:32.181008Z"
    }
   },
   "cell_type": "code",
   "source": "txt.split(\".\")",
   "id": "c15316507caf1454",
   "outputs": [
    {
     "data": {
      "text/plain": [
       "['Hello Geeks', \" We're hoping you guys are doing great\", '']"
      ]
     },
     "execution_count": 215,
     "metadata": {},
     "output_type": "execute_result"
    }
   ],
   "execution_count": 215
  },
  {
   "metadata": {
    "ExecuteTime": {
     "end_time": "2024-12-07T19:36:32.900508Z",
     "start_time": "2024-12-07T19:36:32.896846Z"
    }
   },
   "cell_type": "code",
   "source": "txt1.split()",
   "id": "32f802f812e21e2f",
   "outputs": [
    {
     "data": {
      "text/plain": [
       "['Hello', 'Geeks.', \"We're\", 'hoping', 'you', 'guys', 'are', 'doing', 'great.']"
      ]
     },
     "execution_count": 216,
     "metadata": {},
     "output_type": "execute_result"
    }
   ],
   "execution_count": 216
  },
  {
   "metadata": {
    "ExecuteTime": {
     "end_time": "2024-12-07T19:36:33.747707Z",
     "start_time": "2024-12-07T19:36:33.744287Z"
    }
   },
   "cell_type": "code",
   "source": "len(txt1.split(' '))",
   "id": "2f832456e6113274",
   "outputs": [
    {
     "data": {
      "text/plain": [
       "9"
      ]
     },
     "execution_count": 217,
     "metadata": {},
     "output_type": "execute_result"
    }
   ],
   "execution_count": 217
  },
  {
   "metadata": {
    "ExecuteTime": {
     "end_time": "2024-12-07T19:36:34.641693Z",
     "start_time": "2024-12-07T19:36:34.638820Z"
    }
   },
   "cell_type": "code",
   "source": "len(txt.split())",
   "id": "267e92c475df8e9d",
   "outputs": [
    {
     "data": {
      "text/plain": [
       "9"
      ]
     },
     "execution_count": 218,
     "metadata": {},
     "output_type": "execute_result"
    }
   ],
   "execution_count": 218
  },
  {
   "metadata": {
    "ExecuteTime": {
     "end_time": "2024-12-07T19:36:42.376149Z",
     "start_time": "2024-12-07T19:36:42.373825Z"
    }
   },
   "cell_type": "code",
   "source": "txt==txt1",
   "id": "1fb11111451ec4ed",
   "outputs": [
    {
     "data": {
      "text/plain": [
       "True"
      ]
     },
     "execution_count": 219,
     "metadata": {},
     "output_type": "execute_result"
    }
   ],
   "execution_count": 219
  },
  {
   "metadata": {
    "ExecuteTime": {
     "end_time": "2024-12-07T19:39:39.794040Z",
     "start_time": "2024-12-07T19:39:39.792395Z"
    }
   },
   "cell_type": "code",
   "source": "from nltk.tokenize import word_tokenize,sent_tokenize",
   "id": "f91c8360c11be7e6",
   "outputs": [],
   "execution_count": 222
  },
  {
   "metadata": {
    "ExecuteTime": {
     "end_time": "2024-12-07T19:39:41.721685Z",
     "start_time": "2024-12-07T19:39:41.717916Z"
    }
   },
   "cell_type": "code",
   "source": "word_tokenize(txt)",
   "id": "e898c99e2ae31abe",
   "outputs": [
    {
     "data": {
      "text/plain": [
       "['Hello',\n",
       " 'Geeks',\n",
       " '.',\n",
       " 'We',\n",
       " \"'re\",\n",
       " 'hoping',\n",
       " 'you',\n",
       " 'guys',\n",
       " 'are',\n",
       " 'doing',\n",
       " 'great',\n",
       " '.']"
      ]
     },
     "execution_count": 223,
     "metadata": {},
     "output_type": "execute_result"
    }
   ],
   "execution_count": 223
  },
  {
   "metadata": {
    "ExecuteTime": {
     "end_time": "2024-12-07T19:40:05.925138Z",
     "start_time": "2024-12-07T19:40:05.922467Z"
    }
   },
   "cell_type": "code",
   "source": "sentences=sent_tokenize(txt)",
   "id": "3c816a0b77d6be9e",
   "outputs": [],
   "execution_count": 225
  },
  {
   "metadata": {
    "ExecuteTime": {
     "end_time": "2024-12-07T19:40:11.655376Z",
     "start_time": "2024-12-07T19:40:11.652710Z"
    }
   },
   "cell_type": "code",
   "source": "sentences",
   "id": "f46688cfd41ba5e8",
   "outputs": [
    {
     "data": {
      "text/plain": [
       "['Hello Geeks.', \"We're hoping you guys are doing great.\"]"
      ]
     },
     "execution_count": 226,
     "metadata": {},
     "output_type": "execute_result"
    }
   ],
   "execution_count": 226
  },
  {
   "metadata": {
    "ExecuteTime": {
     "end_time": "2024-12-07T19:40:26.680868Z",
     "start_time": "2024-12-07T19:40:26.678799Z"
    }
   },
   "cell_type": "code",
   "source": "words = word_tokenize(txt)",
   "id": "8f1e7b6cc64e3fee",
   "outputs": [],
   "execution_count": 227
  },
  {
   "metadata": {
    "ExecuteTime": {
     "end_time": "2024-12-07T19:40:30.323486Z",
     "start_time": "2024-12-07T19:40:30.321102Z"
    }
   },
   "cell_type": "code",
   "source": "len(words)",
   "id": "8f40d03a6aeac13e",
   "outputs": [
    {
     "data": {
      "text/plain": [
       "12"
      ]
     },
     "execution_count": 228,
     "metadata": {},
     "output_type": "execute_result"
    }
   ],
   "execution_count": 228
  },
  {
   "metadata": {
    "ExecuteTime": {
     "end_time": "2024-12-07T19:40:47.945952Z",
     "start_time": "2024-12-07T19:40:47.943774Z"
    }
   },
   "cell_type": "code",
   "source": [
    "for w in words:\n",
    "    print(w,end=' ')"
   ],
   "id": "f340bcc010c479f5",
   "outputs": [
    {
     "name": "stdout",
     "output_type": "stream",
     "text": [
      "Hello Geeks . We 're hoping you guys are doing great . "
     ]
    }
   ],
   "execution_count": 229
  },
  {
   "metadata": {},
   "cell_type": "code",
   "outputs": [],
   "execution_count": null,
   "source": "",
   "id": "529a0aad5b4c7534"
  }
 ],
 "metadata": {
  "kernelspec": {
   "display_name": "Python 3",
   "language": "python",
   "name": "python3"
  },
  "language_info": {
   "codemirror_mode": {
    "name": "ipython",
    "version": 2
   },
   "file_extension": ".py",
   "mimetype": "text/x-python",
   "name": "python",
   "nbconvert_exporter": "python",
   "pygments_lexer": "ipython2",
   "version": "2.7.6"
  }
 },
 "nbformat": 4,
 "nbformat_minor": 5
}
