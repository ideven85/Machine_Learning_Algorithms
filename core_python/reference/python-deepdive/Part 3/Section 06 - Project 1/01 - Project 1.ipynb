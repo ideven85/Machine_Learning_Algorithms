{
 "cells": [
  {
   "cell_type": "markdown",
   "metadata": {},
   "source": [
    "### Project 1"
   ]
  },
  {
   "cell_type": "markdown",
   "metadata": {},
   "source": [
    "In this project our goal is to validate one dictionary structure against a template dictionary.\n",
    "\n",
    "A typical example of this might be working with JSON data inputs in an API. You are trying to validate this received JSON against some kind of template to make sure the received JSON conforms to that template (i.e. all the keys and structure are identical - value types being important, but not the value itself - so just the structure, and the data type of the values).\n",
    "\n",
    "To keep things simple we'll assume that values can be either single values (like an integer, string, etc), or a dictionary, itself only containing single values or other dictionaries, recursively. In other words, we're not going to deal with lists as possible values. Also, to keep things simple, we'll assume that all keys are **required**, and that no extra keys are permitted.\n",
    "\n",
    "In practice we would not have these simplifying assumptions, and although we could definitely write this ourselves, there are many 3rd party libraries that already exist to do this (such as `jsonschema`, `marshmallow`, and many more, some of which I'll cover lightly in some later videos.)"
   ]
  },
  {
   "cell_type": "markdown",
   "metadata": {},
   "source": [
    "For example you might have this template:"
   ]
  },
  {
   "cell_type": "code",
   "execution_count": 1,
   "metadata": {},
   "outputs": [],
   "source": [
    "template = {\n",
    "    \"user_id\": int,\n",
    "    \"name\": {\"first\": str, \"last\": str},\n",
    "    \"bio\": {\n",
    "        \"dob\": {\"year\": int, \"month\": int, \"day\": int},\n",
    "        \"birthplace\": {\"country\": str, \"city\": str},\n",
    "    },\n",
    "}"
   ]
  },
  {
   "cell_type": "markdown",
   "metadata": {},
   "source": [
    "So, a JSON document such as this would match the template:"
   ]
  },
  {
   "cell_type": "code",
   "execution_count": 2,
   "metadata": {},
   "outputs": [],
   "source": [
    "john = {\n",
    "    \"user_id\": 100,\n",
    "    \"name\": {\"first\": \"John\", \"last\": \"Cleese\"},\n",
    "    \"bio\": {\n",
    "        \"dob\": {\"year\": 1939, \"month\": 11, \"day\": 27},\n",
    "        \"birthplace\": {\"country\": \"United Kingdom\", \"city\": \"Weston-super-Mare\"},\n",
    "    },\n",
    "}"
   ]
  },
  {
   "cell_type": "markdown",
   "metadata": {},
   "source": [
    "But this one would **not** match the template (missing key):"
   ]
  },
  {
   "cell_type": "code",
   "execution_count": 3,
   "metadata": {},
   "outputs": [],
   "source": [
    "eric = {\n",
    "    \"user_id\": 101,\n",
    "    \"name\": {\"first\": \"Eric\", \"last\": \"Idle\"},\n",
    "    \"bio\": {\n",
    "        \"dob\": {\"year\": 1943, \"month\": 3, \"day\": 29},\n",
    "        \"birthplace\": {\"country\": \"United Kingdom\"},\n",
    "    },\n",
    "}"
   ]
  },
  {
   "cell_type": "markdown",
   "metadata": {},
   "source": [
    "And neither would this one (wrong data type):"
   ]
  },
  {
   "cell_type": "code",
   "execution_count": 4,
   "metadata": {},
   "outputs": [],
   "source": [
    "michael = {\n",
    "    \"user_id\": 102,\n",
    "    \"name\": {\"first\": \"Michael\", \"last\": \"Palin\"},\n",
    "    \"bio\": {\n",
    "        \"dob\": {\"year\": 1943, \"month\": \"May\", \"day\": 5},\n",
    "        \"birthplace\": {\"country\": \"United Kingdom\", \"city\": \"Sheffield\"},\n",
    "    },\n",
    "}"
   ]
  },
  {
   "cell_type": "markdown",
   "metadata": {},
   "source": [
    "Write a function such this:"
   ]
  },
  {
   "cell_type": "code",
   "execution_count": 5,
   "metadata": {},
   "outputs": [],
   "source": [
    "def validate(data, template):\n",
    "    # implement\n",
    "    # and return True/False\n",
    "    # in the case of False, return a string describing\n",
    "    # the first error encountered\n",
    "    # in the case of True, string can be empty\n",
    "    return state, error"
   ]
  },
  {
   "cell_type": "markdown",
   "metadata": {},
   "source": [
    "That should return this:\n",
    "* `validate(john, template) --> True, ''`\n",
    "* `validate(eric, template) --> False, 'mismatched keys: bio.birthplace.city'`\n",
    "* `validate(michael, template) --> False, 'bad type: bio.dob.month'`"
   ]
  },
  {
   "cell_type": "markdown",
   "metadata": {},
   "source": [
    "Better yet, use exceptions instead of return codes and strings!"
   ]
  }
 ],
 "metadata": {
  "kernelspec": {
   "display_name": "Python 3",
   "language": "python",
   "name": "python3"
  },
  "language_info": {
   "codemirror_mode": {
    "name": "ipython",
    "version": 3
   },
   "file_extension": ".py",
   "mimetype": "text/x-python",
   "name": "python",
   "nbconvert_exporter": "python",
   "pygments_lexer": "ipython3",
   "version": "3.6.7"
  }
 },
 "nbformat": 4,
 "nbformat_minor": 2
}
