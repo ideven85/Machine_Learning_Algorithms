{
 "cells": [
  {
   "cell_type": "code",
   "id": "initial_id",
   "metadata": {
    "collapsed": true,
    "ExecuteTime": {
     "end_time": "2024-12-02T18:32:32.515717Z",
     "start_time": "2024-12-02T18:32:32.513094Z"
    }
   },
   "source": [
    "import csv\n",
    "?csv"
   ],
   "outputs": [],
   "execution_count": 1
  },
  {
   "metadata": {
    "ExecuteTime": {
     "end_time": "2024-12-02T18:33:55.995489Z",
     "start_time": "2024-12-02T18:33:55.993283Z"
    }
   },
   "cell_type": "code",
   "source": "tickets = csv.reader('./nyc_parking_tickets_extract.csv')",
   "id": "ee58bc304763f9bf",
   "outputs": [],
   "execution_count": 2
  },
  {
   "metadata": {
    "ExecuteTime": {
     "end_time": "2024-12-02T18:33:58.669698Z",
     "start_time": "2024-12-02T18:33:58.665589Z"
    }
   },
   "cell_type": "code",
   "source": "tickets",
   "id": "d7ebb0e7734a8c3f",
   "outputs": [
    {
     "data": {
      "text/plain": [
       "<_csv.reader at 0x121926180>"
      ]
     },
     "execution_count": 3,
     "metadata": {},
     "output_type": "execute_result"
    }
   ],
   "execution_count": 3
  },
  {
   "metadata": {
    "ExecuteTime": {
     "end_time": "2024-12-02T18:34:14.157901Z",
     "start_time": "2024-12-02T18:34:14.153802Z"
    }
   },
   "cell_type": "code",
   "source": "tickets.line_num",
   "id": "ac6395c127e56876",
   "outputs": [
    {
     "data": {
      "text/plain": [
       "0"
      ]
     },
     "execution_count": 4,
     "metadata": {},
     "output_type": "execute_result"
    }
   ],
   "execution_count": 4
  },
  {
   "metadata": {
    "ExecuteTime": {
     "end_time": "2024-12-02T18:38:26.792442Z",
     "start_time": "2024-12-02T18:38:26.789104Z"
    }
   },
   "cell_type": "code",
   "source": [
    "import os\n",
    "with open('nyc_parking_tickets_extract.csv','r') as f:\n",
    "     for _ in range(10):\n",
    "         print(next(f).strip())"
   ],
   "id": "1eb9f10edbc1dedd",
   "outputs": [
    {
     "name": "stdout",
     "output_type": "stream",
     "text": [
      "Summons Number,Plate ID,Registration State,Plate Type,Issue Date,Violation Code,Vehicle Body Type,Vehicle Make,Violation Description\n",
      "4006478550,VAD7274,VA,PAS,10/5/2016,5,4D,BMW,BUS LANE VIOLATION\n",
      "4006462396,22834JK,NY,COM,9/30/2016,5,VAN,CHEVR,BUS LANE VIOLATION\n",
      "4007117810,21791MG,NY,COM,4/10/2017,5,VAN,DODGE,BUS LANE VIOLATION\n",
      "4006265037,FZX9232,NY,PAS,8/23/2016,5,SUBN,FORD,BUS LANE VIOLATION\n",
      "4006535600,N203399C,NY,OMT,10/19/2016,5,SUBN,FORD,BUS LANE VIOLATION\n",
      "4007156700,92163MG,NY,COM,4/13/2017,5,VAN,FRUEH,BUS LANE VIOLATION\n",
      "4006687989,MIQ600,SC,PAS,11/21/2016,5,VN,HONDA,BUS LANE VIOLATION\n",
      "4006943052,2AE3984,MD,PAS,2/1/2017,5,SW,LINCO,BUS LANE VIOLATION\n",
      "4007306795,HLG4926,NY,PAS,5/30/2017,5,SUBN,TOYOT,BUS LANE VIOLATION\n"
     ]
    }
   ],
   "execution_count": 12
  },
  {
   "metadata": {
    "ExecuteTime": {
     "end_time": "2024-12-02T18:36:34.827146Z",
     "start_time": "2024-12-02T18:36:34.823149Z"
    }
   },
   "cell_type": "code",
   "source": "type(content)",
   "id": "cd785c0c9bfba030",
   "outputs": [
    {
     "data": {
      "text/plain": [
       "list"
      ]
     },
     "execution_count": 9,
     "metadata": {},
     "output_type": "execute_result"
    }
   ],
   "execution_count": 9
  },
  {
   "metadata": {
    "ExecuteTime": {
     "end_time": "2024-12-02T18:35:14.878161Z",
     "start_time": "2024-12-02T18:35:14.783422Z"
    }
   },
   "cell_type": "code",
   "source": "def file_reader(file):\n",
   "id": "1473fe31fd52e529",
   "outputs": [
    {
     "ename": "TypeError",
     "evalue": "'_csv.reader' object is not callable",
     "output_type": "error",
     "traceback": [
      "\u001B[0;31m---------------------------------------------------------------------------\u001B[0m",
      "\u001B[0;31mTypeError\u001B[0m                                 Traceback (most recent call last)",
      "Cell \u001B[0;32mIn[7], line 1\u001B[0m\n\u001B[0;32m----> 1\u001B[0m \u001B[43mcontent\u001B[49m\u001B[43m(\u001B[49m\u001B[43m)\u001B[49m\n",
      "\u001B[0;31mTypeError\u001B[0m: '_csv.reader' object is not callable"
     ]
    }
   ],
   "execution_count": 7
  },
  {
   "metadata": {},
   "cell_type": "code",
   "outputs": [],
   "execution_count": null,
   "source": "",
   "id": "12d955a459bc0eea"
  }
 ],
 "metadata": {
  "kernelspec": {
   "display_name": "Python 3",
   "language": "python",
   "name": "python3"
  },
  "language_info": {
   "codemirror_mode": {
    "name": "ipython",
    "version": 2
   },
   "file_extension": ".py",
   "mimetype": "text/x-python",
   "name": "python",
   "nbconvert_exporter": "python",
   "pygments_lexer": "ipython2",
   "version": "2.7.6"
  }
 },
 "nbformat": 4,
 "nbformat_minor": 5
}
