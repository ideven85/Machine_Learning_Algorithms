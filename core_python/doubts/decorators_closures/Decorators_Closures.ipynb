{
 "cells": [
  {
   "cell_type": "markdown",
   "id": "fb0011d997dce5c0",
   "metadata": {},
   "source": [
    "# Functions as First class Citizens"
   ]
  },
  {
   "cell_type": "code",
   "execution_count": 2,
   "id": "5b797091915a0742",
   "metadata": {
    "ExecuteTime": {
     "end_time": "2024-02-01T12:18:39.793461Z",
     "start_time": "2024-02-01T12:18:39.784997Z"
    }
   },
   "source": [
    "x = 100\n",
    "\n",
    "\n",
    "def foo(y):\n",
    "    return x + y\n",
    "\n",
    "\n",
    "z = foo(307)\n",
    "print(x, z, foo)\n",
    "\n",
    "\n",
    "def bar(x):\n",
    "    x = 1000\n",
    "    return foo(308)\n",
    "\n",
    "\n",
    "w = bar(349)\n",
    "print(x, w)\n",
    "\n",
    "\n",
    "def apply_n_times(f, n, x):\n",
    "    out = x\n",
    "    for i in range(n):\n",
    "        out = f(out)\n",
    "\n",
    "    return out\n",
    "\n",
    "\n",
    "def double(x):\n",
    "    return x * 2\n",
    "\n",
    "\n",
    "def outer(func):\n",
    "    def inner():\n",
    "        print(\"Hi\")\n",
    "\n",
    "    return inner\n",
    "\n",
    "\n",
    "@outer\n",
    "def sayHi():\n",
    "    print(\"Hello\")\n",
    "\n",
    "\n",
    "sayHi()"
   ],
   "outputs": []
  },
  {
   "cell_type": "markdown",
   "id": "e416e10842831b63",
   "metadata": {},
   "source": [
    "# Decorators and Closures"
   ]
  },
  {
   "cell_type": "code",
   "execution_count": 15,
   "id": "f5f81370303cc48a",
   "metadata": {
    "ExecuteTime": {
     "end_time": "2024-01-19T02:40:36.284089Z",
     "start_time": "2024-01-19T02:40:36.276691Z"
    }
   },
   "source": [
    "def decorate(func):\n",
    "    def inner():\n",
    "        print(\"Inner Function\")\n",
    "        return 2 * func()  # Know little this level of python\n",
    "\n",
    "    return inner\n",
    "\n",
    "\n",
    "\"\"\"\n",
    "Decorators first execute their function, then lazily execute the function they are called with and finally calculate the result of decorated function\n",
    "\"\"\"\n",
    "\n",
    "\n",
    "@decorate\n",
    "def target():\n",
    "    print(\"Target Function\")\n",
    "    return 2\n",
    "\n",
    "\n",
    "# print(decorate(target()))\n",
    "print(\"Target:\", target())"
   ],
   "outputs": []
  },
  {
   "cell_type": "code",
   "source": [
    "\"\"\"\n",
    "Calculate double of a function \n",
    "\"\"\"\n",
    "\n",
    "\n",
    "def double_func(func):\n",
    "    def inner(x):  # x is passed by the target function to the decorated function\n",
    "        print(x)\n",
    "        return 2 * func(x)\n",
    "\n",
    "    return inner\n",
    "\n",
    "\n",
    "@double_func\n",
    "def half_of_x(x):\n",
    "    x = x // 2\n",
    "    print(x)\n",
    "    return x\n",
    "\n",
    "\n",
    "print(half_of_x(3))  # Apparently 2 is being passed"
   ],
   "metadata": {
    "collapsed": false,
    "ExecuteTime": {
     "end_time": "2024-01-19T02:54:57.274025Z",
     "start_time": "2024-01-19T02:54:57.267447Z"
    }
   },
   "id": "bca8abd4de83ade2",
   "execution_count": 27,
   "outputs": []
  },
  {
   "cell_type": "code",
   "source": [],
   "metadata": {
    "collapsed": false
   },
   "id": "2269528c994d5806",
   "execution_count": null,
   "outputs": []
  },
  {
   "cell_type": "code",
   "execution_count": 28,
   "id": "7e021dc7706eb3d4",
   "metadata": {
    "ExecuteTime": {
     "end_time": "2024-01-19T02:57:02.812447Z",
     "start_time": "2024-01-19T02:57:02.803220Z"
    }
   },
   "source": [
    "registry = []\n",
    "\n",
    "\n",
    "def register(func):\n",
    "    print(f\"running register({func})\")\n",
    "    registry.append(func)\n",
    "    return func\n",
    "\n",
    "\n",
    "@register\n",
    "def foo1():\n",
    "    print(\"foo1 Function\")\n",
    "\n",
    "\n",
    "@register\n",
    "def foo2():\n",
    "    print(\"foo2 Function\")\n",
    "\n",
    "\n",
    "def foo3():\n",
    "    print(\"foo3 Function\")"
   ],
   "outputs": []
  },
  {
   "cell_type": "code",
   "execution_count": 29,
   "id": "f816d17787220117",
   "metadata": {
    "ExecuteTime": {
     "end_time": "2024-01-19T02:57:04.967515Z",
     "start_time": "2024-01-19T02:57:04.949034Z"
    }
   },
   "source": [
    "print(\"Invoking Register\", registry)"
   ],
   "outputs": []
  },
  {
   "cell_type": "code",
   "execution_count": 30,
   "id": "4342171c7e24d868",
   "metadata": {
    "ExecuteTime": {
     "end_time": "2024-01-19T02:57:09.071422Z",
     "start_time": "2024-01-19T02:57:09.051926Z"
    }
   },
   "source": [
    "print(decorate(target))"
   ],
   "outputs": []
  },
  {
   "cell_type": "code",
   "execution_count": 31,
   "id": "28a90451f2fb7be2",
   "metadata": {
    "ExecuteTime": {
     "end_time": "2024-01-19T02:57:11.801812Z",
     "start_time": "2024-01-19T02:57:11.786170Z"
    }
   },
   "source": [
    "print(register(foo1))"
   ],
   "outputs": []
  },
  {
   "cell_type": "markdown",
   "id": "411b5a6ce01e7cc4",
   "metadata": {},
   "source": [
    "# Note that register runs (twice) before any other function in the module. When register is called, it receives the decorated function object as an argument—\n",
    "\n",
    "for example, <function f1 at 0x100631bf8>."
   ]
  },
  {
   "cell_type": "code",
   "execution_count": 32,
   "id": "12c746d9f4138bfb",
   "metadata": {
    "ExecuteTime": {
     "end_time": "2024-01-19T02:57:18.783984Z",
     "start_time": "2024-01-19T02:57:18.776353Z"
    }
   },
   "source": [
    "for reg in registry:\n",
    "    reg()"
   ],
   "outputs": []
  },
  {
   "cell_type": "code",
   "execution_count": 33,
   "id": "f46672f71a38a830",
   "metadata": {
    "ExecuteTime": {
     "end_time": "2024-01-19T02:57:20.392529Z",
     "start_time": "2024-01-19T02:57:20.386209Z"
    }
   },
   "source": [
    "foo1()"
   ],
   "outputs": []
  },
  {
   "cell_type": "code",
   "execution_count": 34,
   "id": "8c51b670fe4beaaa",
   "metadata": {
    "ExecuteTime": {
     "end_time": "2024-01-19T02:57:21.223220Z",
     "start_time": "2024-01-19T02:57:21.215892Z"
    }
   },
   "source": [
    "registry[1]"
   ],
   "outputs": []
  },
  {
   "cell_type": "code",
   "execution_count": 35,
   "id": "d3cdea77b72136b8",
   "metadata": {
    "ExecuteTime": {
     "end_time": "2024-01-19T02:57:22.094571Z",
     "start_time": "2024-01-19T02:57:22.088629Z"
    }
   },
   "source": [
    "registry[0]()"
   ],
   "outputs": []
  },
  {
   "cell_type": "code",
   "execution_count": 36,
   "id": "1149ca30132ca25",
   "metadata": {
    "ExecuteTime": {
     "end_time": "2024-01-19T02:57:23.994640Z",
     "start_time": "2024-01-19T02:57:23.977557Z"
    }
   },
   "source": [
    "for reg in registry:\n",
    "    reg()"
   ],
   "outputs": []
  },
  {
   "cell_type": "code",
   "execution_count": 40,
   "id": "f5c75c70dd350788",
   "metadata": {
    "ExecuteTime": {
     "end_time": "2024-01-19T02:59:10.623980Z",
     "start_time": "2024-01-19T02:59:10.619246Z"
    }
   },
   "source": [
    "import Register"
   ],
   "outputs": []
  },
  {
   "cell_type": "code",
   "execution_count": 41,
   "id": "1302e0bd41d3dbe9",
   "metadata": {
    "ExecuteTime": {
     "end_time": "2024-01-19T02:59:11.016245Z",
     "start_time": "2024-01-19T02:59:11.011902Z"
    }
   },
   "source": [
    "Register.registry"
   ],
   "outputs": []
  },
  {
   "cell_type": "code",
   "execution_count": 58,
   "id": "2adce0f91c550629",
   "metadata": {
    "ExecuteTime": {
     "end_time": "2024-01-16T06:23:07.884444Z",
     "start_time": "2024-01-16T06:23:07.881987Z"
    }
   },
   "source": [],
   "outputs": []
  },
  {
   "cell_type": "code",
   "execution_count": null,
   "id": "7fe4fddd9831c070",
   "metadata": {},
   "source": [],
   "outputs": []
  },
  {
   "cell_type": "markdown",
   "id": "b3fece3c761cb76",
   "metadata": {},
   "source": [
    "# Closures"
   ]
  },
  {
   "cell_type": "code",
   "execution_count": 89,
   "id": "614f07eebae4244f",
   "metadata": {
    "ExecuteTime": {
     "end_time": "2024-01-16T06:44:29.200746Z",
     "start_time": "2024-01-16T06:44:29.199305Z"
    }
   },
   "source": [
    "class Averager:\n",
    "    \"\"\"\n",
    "    Starter for closures and OOPS\n",
    "    variable with _ has class scope and __ is a private attribute\n",
    "    \"\"\"\n",
    "\n",
    "    def __init__(self):\n",
    "\n",
    "        self._series = []\n",
    "        self.__series1 = []\n",
    "\n",
    "    def __call__(self, val):\n",
    "        self._series.append(val)\n",
    "        self.__series1.append(val)\n",
    "        total = sum(self._series) / len(self._series)\n",
    "\n",
    "        return total"
   ],
   "outputs": []
  },
  {
   "cell_type": "code",
   "execution_count": 90,
   "id": "e389da598ba02fc4",
   "metadata": {
    "ExecuteTime": {
     "end_time": "2024-01-16T06:44:30.132480Z",
     "start_time": "2024-01-16T06:44:30.129348Z"
    }
   },
   "source": [
    "avg = Averager()\n",
    "print(avg(10))\n",
    "print(avg(100))"
   ],
   "outputs": []
  },
  {
   "cell_type": "code",
   "execution_count": 93,
   "id": "14fb0edd0b7ef01",
   "metadata": {
    "ExecuteTime": {
     "end_time": "2024-01-16T06:45:49.908803Z",
     "start_time": "2024-01-16T06:45:49.904557Z"
    }
   },
   "source": [
    "print(avg._series)\n",
    "# So wondering why bother with private static protected and public variables in Java"
   ],
   "outputs": []
  },
  {
   "cell_type": "code",
   "execution_count": 92,
   "id": "291bfa3fa3dd991b",
   "metadata": {
    "ExecuteTime": {
     "end_time": "2024-01-16T06:44:53.647289Z",
     "start_time": "2024-01-16T06:44:53.644858Z"
    }
   },
   "source": [
    "avg.__series1"
   ],
   "outputs": []
  },
  {
   "cell_type": "code",
   "execution_count": 98,
   "id": "3ea1ece6eb1f0cf8",
   "metadata": {
    "ExecuteTime": {
     "end_time": "2024-01-16T06:46:26.354275Z",
     "start_time": "2024-01-16T06:46:26.350105Z"
    }
   },
   "source": [
    "\"\"\"\n",
    "Functional Way\n",
    "Closure\n",
    "\"\"\"\n",
    "\n",
    "\n",
    "def make_average():\n",
    "    series = []\n",
    "\n",
    "    def calculate_average(num):\n",
    "        series.append(num)\n",
    "        total = sum(series) / len(series)\n",
    "        return total\n",
    "\n",
    "    return calculate_average"
   ],
   "outputs": []
  },
  {
   "cell_type": "code",
   "execution_count": 99,
   "id": "8543f6df2667e1b6",
   "metadata": {
    "ExecuteTime": {
     "end_time": "2024-01-16T06:46:27.136691Z",
     "start_time": "2024-01-16T06:46:27.134025Z"
    }
   },
   "source": [
    "avg = make_average()\n",
    "print(avg(10))"
   ],
   "outputs": []
  },
  {
   "cell_type": "code",
   "execution_count": 100,
   "id": "11fe229c8b5b425f",
   "metadata": {
    "ExecuteTime": {
     "end_time": "2024-01-16T06:46:27.714016Z",
     "start_time": "2024-01-16T06:46:27.711105Z"
    }
   },
   "source": [
    "avg(11)"
   ],
   "outputs": []
  },
  {
   "cell_type": "code",
   "execution_count": 101,
   "id": "59437ab54f86811f",
   "metadata": {
    "ExecuteTime": {
     "end_time": "2024-01-16T06:46:28.124297Z",
     "start_time": "2024-01-16T06:46:28.122134Z"
    }
   },
   "source": [
    "avg(12)"
   ],
   "outputs": []
  },
  {
   "cell_type": "code",
   "execution_count": 102,
   "id": "7fb1f694191ce456",
   "metadata": {
    "ExecuteTime": {
     "end_time": "2024-01-16T06:49:24.146451Z",
     "start_time": "2024-01-16T06:49:24.139103Z"
    }
   },
   "source": [
    "avg.__closure__[0].cell_contents"
   ],
   "outputs": []
  },
  {
   "cell_type": "code",
   "execution_count": 114,
   "id": "747e11d5cb461065",
   "metadata": {
    "ExecuteTime": {
     "end_time": "2024-01-16T07:12:31.555163Z",
     "start_time": "2024-01-16T07:12:31.548503Z"
    }
   },
   "source": [
    "avg.__code__.co_freevars"
   ],
   "outputs": []
  },
  {
   "cell_type": "code",
   "execution_count": 7,
   "id": "a21165d2a9bef130",
   "metadata": {
    "ExecuteTime": {
     "end_time": "2024-01-16T07:18:15.985226Z",
     "start_time": "2024-01-16T07:18:15.979601Z"
    }
   },
   "source": [
    "from dis import dis"
   ],
   "outputs": []
  },
  {
   "cell_type": "code",
   "execution_count": 104,
   "id": "83f84601199120df",
   "metadata": {
    "ExecuteTime": {
     "end_time": "2024-01-16T06:50:50.150267Z",
     "start_time": "2024-01-16T06:50:50.142680Z"
    }
   },
   "source": [
    "dis(foo1)"
   ],
   "outputs": []
  },
  {
   "cell_type": "code",
   "execution_count": 106,
   "id": "c6ae7af1632d4751",
   "metadata": {
    "ExecuteTime": {
     "end_time": "2024-01-16T06:54:54.631243Z",
     "start_time": "2024-01-16T06:54:54.628518Z"
    }
   },
   "source": [
    "dis(make_average)"
   ],
   "outputs": []
  },
  {
   "cell_type": "code",
   "execution_count": 42,
   "id": "875b91ecf9161c5e",
   "metadata": {
    "ExecuteTime": {
     "end_time": "2024-01-19T03:00:32.623209Z",
     "start_time": "2024-01-19T03:00:32.616785Z"
    }
   },
   "source": [
    "def generate_parenthesis(n):\n",
    "    series = []\n",
    "\n",
    "    def dfs(left, right, s):\n",
    "        if left + right == 2 * n:\n",
    "            series.append(s)\n",
    "            return\n",
    "\n",
    "        if left < n:\n",
    "            dfs(left + 1, right, s + \"(\")\n",
    "        if right < left:\n",
    "            dfs(left, right + 1, s + \")\")\n",
    "\n",
    "    dfs(0, 0, \"\")\n",
    "    return series"
   ],
   "outputs": []
  },
  {
   "cell_type": "code",
   "execution_count": 43,
   "id": "afe808325b598e28",
   "metadata": {
    "ExecuteTime": {
     "end_time": "2024-01-19T03:00:34.434214Z",
     "start_time": "2024-01-19T03:00:34.431484Z"
    }
   },
   "source": [
    "print(generate_parenthesis(4))"
   ],
   "outputs": []
  },
  {
   "cell_type": "code",
   "execution_count": 109,
   "id": "eb5dce138ec62968",
   "metadata": {
    "ExecuteTime": {
     "end_time": "2024-01-16T07:08:43.916702Z",
     "start_time": "2024-01-16T07:08:43.907857Z"
    }
   },
   "source": [
    "gen = generate_parenthesis(4)"
   ],
   "outputs": []
  },
  {
   "cell_type": "code",
   "execution_count": 14,
   "id": "1ffc6c4350caa905",
   "metadata": {
    "ExecuteTime": {
     "end_time": "2024-01-16T07:19:25.284080Z",
     "start_time": "2024-01-16T07:19:25.278699Z"
    }
   },
   "source": [
    "dis(generate_parenthesis)  # Without Return"
   ],
   "outputs": []
  },
  {
   "cell_type": "code",
   "execution_count": 6,
   "id": "89c28176cb2cdebf",
   "metadata": {
    "ExecuteTime": {
     "end_time": "2024-01-16T07:17:56.081116Z",
     "start_time": "2024-01-16T07:17:51.606512Z"
    }
   },
   "source": [
    "%timeit generate_parenthesis(4)"
   ],
   "outputs": []
  },
  {
   "cell_type": "code",
   "execution_count": 115,
   "id": "abca01a5ac13909b",
   "metadata": {
    "ExecuteTime": {
     "end_time": "2024-01-16T07:12:53.980042Z",
     "start_time": "2024-01-16T07:12:53.972318Z"
    }
   },
   "source": [
    "gen[0].__code__.co_freevars"
   ],
   "outputs": []
  },
  {
   "cell_type": "code",
   "execution_count": 16,
   "id": "2a52c219eff8e4e0",
   "metadata": {
    "ExecuteTime": {
     "end_time": "2024-01-16T07:20:39.967522Z",
     "start_time": "2024-01-16T07:20:39.963957Z"
    }
   },
   "source": [
    "dis(generate_parenthesis)"
   ],
   "outputs": []
  },
  {
   "cell_type": "code",
   "execution_count": null,
   "id": "408592a3f43facaf",
   "metadata": {},
   "source": [],
   "outputs": []
  },
  {
   "cell_type": "markdown",
   "id": "730f3006d64cf496",
   "metadata": {},
   "source": [
    "# Non Locals"
   ]
  },
  {
   "cell_type": "code",
   "execution_count": 17,
   "id": "3f0b4e5e6ff5a746",
   "metadata": {
    "ExecuteTime": {
     "end_time": "2024-01-16T07:28:58.953314Z",
     "start_time": "2024-01-16T07:28:58.942184Z"
    }
   },
   "source": [
    "def calulate_average():\n",
    "    count = 0\n",
    "    total = 0\n",
    "\n",
    "    def averager(val):\n",
    "        nonlocal count, total\n",
    "        count += 1\n",
    "        total += val\n",
    "        return total / count\n",
    "\n",
    "    return averager"
   ],
   "outputs": []
  },
  {
   "cell_type": "code",
   "execution_count": 18,
   "id": "9dcbdc997c5f8589",
   "metadata": {
    "ExecuteTime": {
     "end_time": "2024-01-16T07:30:11.356239Z",
     "start_time": "2024-01-16T07:30:11.344039Z"
    }
   },
   "source": [
    "x = calulate_average()\n",
    "x(10)\n",
    "print(x(11))\n",
    "print(x.__closure__[0].cell_contents)"
   ],
   "outputs": []
  },
  {
   "cell_type": "code",
   "execution_count": 54,
   "id": "7af020fba139f5ae",
   "metadata": {
    "ExecuteTime": {
     "end_time": "2024-01-16T09:55:57.246239Z",
     "start_time": "2024-01-16T09:55:57.239145Z"
    }
   },
   "source": [
    "list1 = [1, 2, 3, 4, 5]\n",
    "list2 = [\"a\", \"b\", \"c\", \"d\"]\n",
    "pairs = [pair for pair in zip(list1, list2)]"
   ],
   "outputs": []
  },
  {
   "cell_type": "code",
   "source": [
    "letters, numbers = zip(*pairs)  # Unzip\n",
    "print(letters, numbers)"
   ],
   "metadata": {
    "collapsed": false,
    "ExecuteTime": {
     "end_time": "2024-01-16T09:56:14.643840Z",
     "start_time": "2024-01-16T09:56:14.634284Z"
    }
   },
   "id": "f35cbf3209c04f1c",
   "execution_count": 55,
   "outputs": []
  },
  {
   "cell_type": "code",
   "source": [
    "def doubler(f):\n",
    "    def g(x):\n",
    "        return 2 * f(x)\n",
    "\n",
    "    return g\n",
    "\n",
    "\n",
    "def f1(x):\n",
    "    return x + 1\n",
    "\n",
    "\n",
    "a = doubler(f1)\n",
    "assert a(4) == 10"
   ],
   "metadata": {
    "collapsed": false,
    "ExecuteTime": {
     "end_time": "2024-01-16T10:00:00.276816Z",
     "start_time": "2024-01-16T10:00:00.267564Z"
    }
   },
   "id": "3cf347397a8b8c47",
   "execution_count": 58,
   "outputs": []
  },
  {
   "cell_type": "code",
   "source": [
    "import time\n",
    "\n",
    "DEFAULT_FMT = \"[{elapsed:0.8f}s] {name}({args}) -> {result}\"\n",
    "\n",
    "\n",
    "def clock(fmt=DEFAULT_FMT):\n",
    "    def decorate(func):\n",
    "        def clocked(*args):\n",
    "            start = time.perf_counter()\n",
    "            _result = func(*args)\n",
    "            elapsed = time.perf_counter() - start\n",
    "            name = func.__name__\n",
    "            args = \",\".join(repr(arg) for arg in args)\n",
    "            result = repr(_result)\n",
    "            print(fmt.format(**locals()))\n",
    "            return _result\n",
    "\n",
    "        return clocked\n",
    "\n",
    "    return decorate"
   ],
   "metadata": {
    "collapsed": false,
    "ExecuteTime": {
     "end_time": "2024-01-19T03:00:47.524520Z",
     "start_time": "2024-01-19T03:00:47.519583Z"
    }
   },
   "id": "703c9159f7ce20b8",
   "execution_count": 44,
   "outputs": []
  },
  {
   "cell_type": "code",
   "source": [
    "@clock()\n",
    "def snooze(seconds):\n",
    "    time.sleep(seconds)\n",
    "\n",
    "\n",
    "for i in range(3):\n",
    "    snooze(0.123)"
   ],
   "metadata": {
    "collapsed": false,
    "ExecuteTime": {
     "end_time": "2024-01-17T07:47:10.003296Z",
     "start_time": "2024-01-17T07:47:09.621348Z"
    }
   },
   "id": "12aa05500e65a8b1",
   "execution_count": 64,
   "outputs": []
  },
  {
   "cell_type": "code",
   "source": [
    "@clock(\"{name}:{elapsed}s\")\n",
    "def snooze_again(seconds):\n",
    "    time.sleep(seconds)\n",
    "\n",
    "\n",
    "for i in range(3):\n",
    "    snooze_again(0.123)"
   ],
   "metadata": {
    "collapsed": false,
    "ExecuteTime": {
     "end_time": "2024-01-17T07:50:33.961715Z",
     "start_time": "2024-01-17T07:50:33.582025Z"
    }
   },
   "id": "c65494ff9a27962b",
   "execution_count": 65,
   "outputs": []
  },
  {
   "cell_type": "code",
   "source": [
    "print(clock(generate_parenthesis(4)))"
   ],
   "metadata": {
    "collapsed": false,
    "ExecuteTime": {
     "end_time": "2024-01-19T03:01:44.130035Z",
     "start_time": "2024-01-19T03:01:44.123201Z"
    }
   },
   "id": "9d33762bd40456b6",
   "execution_count": 46,
   "outputs": []
  },
  {
   "cell_type": "code",
   "source": [
    "import time\n",
    "import functools\n",
    "\n",
    "\n",
    "def clock1(func):\n",
    "    @functools.wraps(func)\n",
    "    def clocked(*args, **kwargs):\n",
    "        t0 = time.perf_counter()\n",
    "        result = func(*args, **kwargs)\n",
    "        elapsed = (time.perf_counter() - t0) * 100000\n",
    "        name = func.__name__\n",
    "        arg_lst = [repr(arg) for arg in args]\n",
    "        arg_lst.extend(f\"{k}={v!r}\" for k, v in kwargs.items())\n",
    "        arg_str = \", \".join(arg_lst)\n",
    "        print(f\"[{elapsed:0.8f}s] {name}({arg_str}) -> {result!r}\")\n",
    "        return result\n",
    "\n",
    "    return clocked"
   ],
   "metadata": {
    "collapsed": false,
    "ExecuteTime": {
     "end_time": "2024-01-19T03:13:51.645472Z",
     "start_time": "2024-01-19T03:13:51.632292Z"
    }
   },
   "id": "392158f3abd7bd38",
   "execution_count": 1,
   "outputs": []
  },
  {
   "cell_type": "code",
   "source": [
    "print(clock1(generate_parenthesis(4)))"
   ],
   "metadata": {
    "collapsed": false,
    "ExecuteTime": {
     "end_time": "2024-01-19T03:05:12.645625Z",
     "start_time": "2024-01-19T03:05:12.632643Z"
    }
   },
   "id": "9724cb653014a905",
   "execution_count": 50,
   "outputs": []
  },
  {
   "cell_type": "code",
   "source": [
    "@clock1\n",
    "def factorial(n):\n",
    "    return 1 if n < 2 else n * factorial(n - 1)"
   ],
   "metadata": {
    "collapsed": false,
    "ExecuteTime": {
     "end_time": "2024-01-19T03:13:56.331174Z",
     "start_time": "2024-01-19T03:13:56.324010Z"
    }
   },
   "id": "84ee1fef8b74dd17",
   "execution_count": 2,
   "outputs": []
  },
  {
   "cell_type": "code",
   "source": [
    "print(factorial(45))"
   ],
   "metadata": {
    "collapsed": false,
    "ExecuteTime": {
     "end_time": "2024-01-19T03:13:57.515157Z",
     "start_time": "2024-01-19T03:13:57.489678Z"
    }
   },
   "id": "a1ab2270ab750a3e",
   "execution_count": 3,
   "outputs": []
  },
  {
   "cell_type": "code",
   "source": [
    "@clock1\n",
    "def generate_parenthesis_with_return(n):\n",
    "    series = []\n",
    "\n",
    "    def dfs(left, right, s):\n",
    "        if left + right == 2 * n:\n",
    "            series.append(s)\n",
    "            return\n",
    "\n",
    "        if left < n:\n",
    "            dfs(left + 1, right, s + \"(\")\n",
    "        if right < left:\n",
    "            dfs(left, right + 1, s + \")\")\n",
    "\n",
    "    dfs(0, 0, \"\")\n",
    "    return series"
   ],
   "metadata": {
    "collapsed": false,
    "ExecuteTime": {
     "end_time": "2024-01-19T03:15:11.976386Z",
     "start_time": "2024-01-19T03:15:11.964709Z"
    }
   },
   "id": "10d3707fbc440ee7",
   "execution_count": 6,
   "outputs": []
  },
  {
   "cell_type": "code",
   "source": [
    "print(generate_parenthesis_with_return(10))"
   ],
   "metadata": {
    "collapsed": false,
    "ExecuteTime": {
     "start_time": "2024-01-19T03:15:12.501852Z"
    }
   },
   "id": "33617a2800a95cd9",
   "execution_count": null,
   "outputs": []
  },
  {
   "cell_type": "code",
   "source": [
    "@clock1\n",
    "def generate_parenthesis_without_return(n):\n",
    "    series = []\n",
    "\n",
    "    def dfs(left, right, s):\n",
    "        if left + right == 2 * n:\n",
    "            series.append(s)\n",
    "\n",
    "        if left < n:\n",
    "            dfs(left + 1, right, s + \"(\")\n",
    "        if right < left:\n",
    "            dfs(left, right + 1, s + \")\")\n",
    "\n",
    "    dfs(0, 0, \"\")\n",
    "    return series"
   ],
   "metadata": {
    "collapsed": false,
    "ExecuteTime": {
     "end_time": "2024-01-19T03:10:13.580484Z",
     "start_time": "2024-01-19T03:10:13.574756Z"
    }
   },
   "id": "7082105079e25e9c",
   "execution_count": 65,
   "outputs": []
  },
  {
   "cell_type": "code",
   "source": [
    "print(generate_parenthesis_without_return(5))"
   ],
   "metadata": {
    "collapsed": false,
    "ExecuteTime": {
     "end_time": "2024-01-19T03:10:14.311274Z",
     "start_time": "2024-01-19T03:10:14.304701Z"
    }
   },
   "id": "eee2bf00fc774731",
   "execution_count": 66,
   "outputs": []
  },
  {
   "cell_type": "code",
   "source": [
    "@clock1\n",
    "def generate_parenthesis_using_yield(n):\n",
    "    def dfs(left, right, s):\n",
    "        if left + right == 2 * n:\n",
    "            yield s\n",
    "        if left < n:\n",
    "            dfs(left + 1, right, s + \"(\")\n",
    "        if right < left:\n",
    "            dfs(left, right + 1, s + \")\")\n",
    "\n",
    "    return list(dfs(0, 0, \"\"))"
   ],
   "metadata": {
    "collapsed": false,
    "ExecuteTime": {
     "end_time": "2024-01-19T03:14:18.810077Z",
     "start_time": "2024-01-19T03:14:18.792545Z"
    }
   },
   "id": "8c43b33fba5c67dd",
   "execution_count": 4,
   "outputs": []
  },
  {
   "cell_type": "code",
   "source": [
    "print(generate_parenthesis_using_yield(3))"
   ],
   "metadata": {
    "collapsed": false,
    "ExecuteTime": {
     "end_time": "2024-01-19T03:14:27.877371Z",
     "start_time": "2024-01-19T03:14:27.861898Z"
    }
   },
   "id": "80c822c2b608658c",
   "execution_count": 5,
   "outputs": []
  },
  {
   "cell_type": "code",
   "source": [
    "from __future__ import annotations\n",
    "\n",
    "\n",
    "def tokenise(text: str) -> list[str]:\n",
    "    return text.upper().split()"
   ],
   "metadata": {
    "collapsed": false
   },
   "id": "96b5fa365345ef47",
   "execution_count": null,
   "outputs": []
  }
 ],
 "metadata": {
  "hide_input": false,
  "kernelspec": {
   "display_name": "Python 3 (ipykernel)",
   "language": "python",
   "name": "python3"
  },
  "language_info": {
   "codemirror_mode": {
    "name": "ipython",
    "version": 3
   },
   "file_extension": ".py",
   "mimetype": "text/x-python",
   "name": "python",
   "nbconvert_exporter": "python",
   "pygments_lexer": "ipython3",
   "version": "3.12.1"
  },
  "toc": {
   "base_numbering": 1,
   "nav_menu": {},
   "number_sections": true,
   "sideBar": true,
   "skip_h1_title": false,
   "title_cell": "Table of Contents",
   "title_sidebar": "Contents",
   "toc_cell": false,
   "toc_position": {},
   "toc_section_display": true,
   "toc_window_display": false
  },
  "varInspector": {
   "cols": {
    "lenName": 16,
    "lenType": 16,
    "lenVar": 40
   },
   "kernels_config": {
    "python": {
     "delete_cmd_postfix": "",
     "delete_cmd_prefix": "del ",
     "library": "var_list.py",
     "varRefreshCmd": "print(var_dic_list())"
    },
    "r": {
     "delete_cmd_postfix": ") ",
     "delete_cmd_prefix": "rm(",
     "library": "var_list.r",
     "varRefreshCmd": "cat(var_dic_list()) "
    }
   },
   "types_to_exclude": [
    "module",
    "function",
    "builtin_function_or_method",
    "instance",
    "_Feature"
   ],
   "window_display": false
  }
 },
 "nbformat": 4,
 "nbformat_minor": 5
}
