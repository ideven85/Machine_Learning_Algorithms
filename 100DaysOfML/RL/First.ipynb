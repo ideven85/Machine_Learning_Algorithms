{
 "cells": [
  {
   "cell_type": "code",
   "execution_count": 3,
   "id": "initial_id",
   "metadata": {
    "collapsed": true,
    "ExecuteTime": {
     "end_time": "2024-02-07T11:32:39.479472Z",
     "start_time": "2024-02-07T11:32:35.709891Z"
    }
   },
   "outputs": [
    {
     "name": "stdout",
     "output_type": "stream",
     "text": [
      "2.02 µs ± 111 ns per loop (mean ± std. dev. of 7 runs, 100,000 loops each)\n",
      "2.68 µs ± 106 ns per loop (mean ± std. dev. of 7 runs, 100,000 loops each)\n"
     ]
    }
   ],
   "source": [
    "from collections import defaultdict\n",
    "import heapq\n",
    "\n",
    "\n",
    "class Solution:\n",
    "    def frequencySort(self, s: str) -> str:\n",
    "        if len(s)==0:\n",
    "            return \"\"\n",
    "        mapping = defaultdict(int)\n",
    "        for e in s:\n",
    "            mapping[e] += 1\n",
    "        mapping = sorted(mapping.items(), key=lambda x: x[1],reverse=True)\n",
    "        output = str()\n",
    "        for key, value in mapping:\n",
    "            output += key*value\n",
    "        return output\n",
    "\n",
    "\n",
    "    \"\"\"\n",
    "\n",
    "\n",
    "class Solution {\n",
    "    public String frequencySort(String s) {\n",
    "        Map<Character, Integer> hm = new HashMap<>();\n",
    "        \n",
    "        for (char c : s.toCharArray()) {\n",
    "            hm.put(c, hm.getOrDefault(c, 0) + 1);\n",
    "        }\n",
    "        \n",
    "        PriorityQueue<Map.Entry<Character, Integer>> pq = new PriorityQueue<>(\n",
    "            (a, b) -> b.getValue() - a.getValue()\n",
    "        );\n",
    "        \n",
    "        pq.addAll(hm.entrySet());\n",
    "        \n",
    "        StringBuilder result = new StringBuilder();\n",
    "        while (!pq.isEmpty()) {\n",
    "            Map.Entry<Character, Integer> entry = pq.poll();\n",
    "            result.append(String.valueOf(entry.getKey()).repeat(entry.getValue()));\n",
    "        }\n",
    "        \n",
    "        return result.toString();\n",
    "    }\n",
    "}\n",
    "\n",
    "\n",
    "    \"\"\"\n",
    "    def frequencySortMemoised(self, s: str) -> str:\n",
    "        #Map<Character,Integer> map = new HashMap<>();\n",
    "\n",
    "        freq = defaultdict(int)\n",
    "\n",
    "        for i in s:\n",
    "            freq[i] += 1\n",
    "\n",
    "        h = []\n",
    "        # Queue<Integer> queue = new PriorityQueue<Integer>((a,b)->b-a);\n",
    "        # for(var m:map.entrySet()){\n",
    "        # queue.push(m.get}\n",
    "        for i in freq:\n",
    "            heapq.heappush(h, [-freq[i], i])\n",
    "        ret = \"\"\n",
    "        #print(h)\n",
    "        while h:\n",
    "            f, ch = heapq.heappop(h)\n",
    "            f = -f\n",
    "            ret += ch * f\n",
    "        return ret\n",
    "\n",
    "\n",
    "a = Solution()\n",
    "%timeit a.frequencySort(\"i love java\")\n",
    "%timeit a.frequencySortMemoised(\"i love java\")"
   ]
  },
  {
   "cell_type": "code",
   "outputs": [],
   "source": [],
   "metadata": {
    "collapsed": false,
    "ExecuteTime": {
     "end_time": "2024-02-07T11:34:15.481021Z",
     "start_time": "2024-02-07T11:34:15.476398Z"
    }
   },
   "id": "d5a99a6bdf55f090",
   "execution_count": 12
  },
  {
   "cell_type": "code",
   "outputs": [
    {
     "name": "stdout",
     "output_type": "stream",
     "text": [
      "2\n"
     ]
    }
   ],
   "source": [],
   "metadata": {
    "collapsed": false,
    "ExecuteTime": {
     "end_time": "2024-02-07T11:34:16.024193Z",
     "start_time": "2024-02-07T11:34:16.021220Z"
    }
   },
   "id": "2690e3262bc4e94b",
   "execution_count": 13
  },
  {
   "cell_type": "code",
   "outputs": [],
   "source": [],
   "metadata": {
    "collapsed": false
   },
   "id": "9c36ddf0d5aa4c1e"
  }
 ],
 "metadata": {
  "kernelspec": {
   "display_name": "Python 3",
   "language": "python",
   "name": "python3"
  },
  "language_info": {
   "codemirror_mode": {
    "name": "ipython",
    "version": 2
   },
   "file_extension": ".py",
   "mimetype": "text/x-python",
   "name": "python",
   "nbconvert_exporter": "python",
   "pygments_lexer": "ipython2",
   "version": "2.7.6"
  }
 },
 "nbformat": 4,
 "nbformat_minor": 5
}
