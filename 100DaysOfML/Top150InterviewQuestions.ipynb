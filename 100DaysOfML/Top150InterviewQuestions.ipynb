{
 "cells": [
  {
   "cell_type": "markdown",
   "source": [
    "You are given an integer array nums. You are initially positioned at the array's first index, and each element in the array represents your maximum jump length at that position.\n",
    "\n",
    "Return true if you can reach the last index, or false otherwise."
   ],
   "metadata": {
    "collapsed": false
   },
   "id": "7090877e6c30f6a3"
  },
  {
   "cell_type": "code",
   "outputs": [
    {
     "name": "stdout",
     "output_type": "stream",
     "text": [
      "True\n"
     ]
    }
   ],
   "source": [
    "from typing import List\n",
    "\n",
    "\n",
    "class Solution:\n",
    "    def canJump(self, nums: List[int]) -> bool:\n",
    "        n = len(nums)\n",
    "        dp = [False for _ in range(n)]\n",
    "        dp[0]=True \n",
    "        jumps=nums[0]\n",
    "        for i in range(1,n):\n",
    "            for j in range(i,i+jumps):\n",
    "                if j>n or nums[j-1]==0:\n",
    "                    break\n",
    "                elif dp[j-1]:\n",
    "                       dp[j]=True\n",
    "            print(dp)\n",
    "        return dp[n-1]\n",
    "    \n",
    "    def canJump2(self, nums: List[int]) -> bool:\n",
    "        reachable = 0\n",
    "        for i in range(len(nums)):\n",
    "            if i > reachable:\n",
    "                return False\n",
    "            reachable = max(reachable,nums[i]+i)\n",
    "        return True\n",
    "sol = Solution()\n",
    "nums = [0]\n",
    "\n",
    "print(sol.canJump(nums))\n",
    "        "
   ],
   "metadata": {
    "collapsed": false,
    "ExecuteTime": {
     "end_time": "2024-01-01T22:16:26.421453Z",
     "start_time": "2024-01-01T22:16:26.417124Z"
    }
   },
   "id": "9f75ffb046a1d71d",
   "execution_count": 58
  },
  {
   "cell_type": "code",
   "outputs": [
    {
     "name": "stdout",
     "output_type": "stream",
     "text": [
      "[True, True, False]\n",
      "[True, True, False]\n",
      "False\n"
     ]
    }
   ],
   "source": [
    "nums1 = [2,0,0]\n",
    "print(sol.canJump(nums1))"
   ],
   "metadata": {
    "collapsed": false,
    "ExecuteTime": {
     "end_time": "2024-01-01T22:14:05.515654Z",
     "start_time": "2024-01-01T22:14:05.510737Z"
    }
   },
   "id": "870991e147b0b61f",
   "execution_count": 56
  },
  {
   "cell_type": "code",
   "outputs": [
    {
     "name": "stdout",
     "output_type": "stream",
     "text": [
      "True\n"
     ]
    }
   ],
   "source": [
    "\n",
    "print(sol.canJump2(nums1))"
   ],
   "metadata": {
    "collapsed": false,
    "ExecuteTime": {
     "end_time": "2024-01-01T22:16:30.587926Z",
     "start_time": "2024-01-01T22:16:30.585384Z"
    }
   },
   "id": "9fb9e0223d13e2ef",
   "execution_count": 59
  },
  {
   "cell_type": "code",
   "outputs": [],
   "source": [],
   "metadata": {
    "collapsed": false
   },
   "id": "680f98bb7e2b0179"
  }
 ],
 "metadata": {
  "kernelspec": {
   "display_name": "Python 3",
   "language": "python",
   "name": "python3"
  },
  "language_info": {
   "codemirror_mode": {
    "name": "ipython",
    "version": 2
   },
   "file_extension": ".py",
   "mimetype": "text/x-python",
   "name": "python",
   "nbconvert_exporter": "python",
   "pygments_lexer": "ipython2",
   "version": "2.7.6"
  }
 },
 "nbformat": 4,
 "nbformat_minor": 5
}
