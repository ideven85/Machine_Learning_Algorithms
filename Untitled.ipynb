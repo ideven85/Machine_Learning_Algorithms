{
 "cells": [
  {
   "cell_type": "code",
   "execution_count": 1,
   "id": "b9d18f7a-4a9b-499a-a73b-b695161241bc",
   "metadata": {
    "execution": {
     "iopub.execute_input": "2025-01-25T18:11:47.611994Z",
     "iopub.status.busy": "2025-01-25T18:11:47.611386Z",
     "iopub.status.idle": "2025-01-25T18:11:47.616753Z",
     "shell.execute_reply": "2025-01-25T18:11:47.615992Z",
     "shell.execute_reply.started": "2025-01-25T18:11:47.611948Z"
    }
   },
   "outputs": [],
   "source": [
    "import os\n"
   ]
  },
  {
   "cell_type": "code",
   "execution_count": 2,
   "id": "5c9cff9d-a1c0-4124-83e4-6231fa190c52",
   "metadata": {
    "execution": {
     "iopub.execute_input": "2025-01-25T18:11:48.458393Z",
     "iopub.status.busy": "2025-01-25T18:11:48.457621Z",
     "iopub.status.idle": "2025-01-25T18:11:49.483121Z",
     "shell.execute_reply": "2025-01-25T18:11:49.482855Z",
     "shell.execute_reply.started": "2025-01-25T18:11:48.458354Z"
    }
   },
   "outputs": [],
   "source": [
    "import spacy\n"
   ]
  },
  {
   "cell_type": "code",
   "execution_count": 3,
   "id": "783e956f-062e-4727-bec2-ed91ca902f19",
   "metadata": {
    "execution": {
     "iopub.execute_input": "2025-01-25T18:11:49.483817Z",
     "iopub.status.busy": "2025-01-25T18:11:49.483706Z",
     "iopub.status.idle": "2025-01-25T18:11:49.768605Z",
     "shell.execute_reply": "2025-01-25T18:11:49.768325Z",
     "shell.execute_reply.started": "2025-01-25T18:11:49.483806Z"
    }
   },
   "outputs": [],
   "source": [
    "nlp = spacy.load('en_core_web_sm')"
   ]
  },
  {
   "cell_type": "code",
   "execution_count": 4,
   "id": "d3b9f5b7-96d4-4e0b-8912-718f5212331b",
   "metadata": {
    "execution": {
     "iopub.execute_input": "2025-01-25T18:11:51.074494Z",
     "iopub.status.busy": "2025-01-25T18:11:51.074011Z",
     "iopub.status.idle": "2025-01-25T18:11:55.662753Z",
     "shell.execute_reply": "2025-01-25T18:11:55.662146Z",
     "shell.execute_reply.started": "2025-01-25T18:11:51.074469Z"
    }
   },
   "outputs": [
    {
     "name": "stdout",
     "output_type": "stream",
     "text": [
      "Collecting en-core-web-sm==3.8.0\n",
      "  Downloading https://github.com/explosion/spacy-models/releases/download/en_core_web_sm-3.8.0/en_core_web_sm-3.8.0-py3-none-any.whl (12.8 MB)\n",
      "\u001b[2K     \u001b[90m━━━━━━━━━━━━━━━━━━━━━━━━━━━━━━━━━━━━━━━━\u001b[0m \u001b[32m12.8/12.8 MB\u001b[0m \u001b[31m27.9 MB/s\u001b[0m eta \u001b[36m0:00:00\u001b[0m \u001b[36m0:00:01\u001b[0m\n",
      "\u001b[38;5;2m✔ Download and installation successful\u001b[0m\n",
      "You can now load the package via spacy.load('en_core_web_sm')\n"
     ]
    }
   ],
   "source": [
    "!python3 -m spacy download en_core_web_sm"
   ]
  },
  {
   "cell_type": "code",
   "execution_count": 5,
   "id": "14b9e4b7-d927-4960-a73c-bbb2269d9149",
   "metadata": {
    "execution": {
     "iopub.execute_input": "2025-01-25T18:11:55.664184Z",
     "iopub.status.busy": "2025-01-25T18:11:55.664027Z",
     "iopub.status.idle": "2025-01-25T18:11:55.666834Z",
     "shell.execute_reply": "2025-01-25T18:11:55.666475Z",
     "shell.execute_reply.started": "2025-01-25T18:11:55.664164Z"
    }
   },
   "outputs": [],
   "source": [
    "text = 'Google was founded by Deven who graduated from IIIT'"
   ]
  },
  {
   "cell_type": "code",
   "execution_count": 6,
   "id": "7f02a13e-fd10-4790-82f3-a40131806599",
   "metadata": {
    "execution": {
     "iopub.execute_input": "2025-01-25T18:11:57.170267Z",
     "iopub.status.busy": "2025-01-25T18:11:57.169783Z",
     "iopub.status.idle": "2025-01-25T18:11:57.187687Z",
     "shell.execute_reply": "2025-01-25T18:11:57.186922Z",
     "shell.execute_reply.started": "2025-01-25T18:11:57.170240Z"
    }
   },
   "outputs": [],
   "source": [
    "doc = nlp(text)"
   ]
  },
  {
   "cell_type": "code",
   "execution_count": 10,
   "id": "0b3430e3-4625-4fe6-8b79-999d8d68dce2",
   "metadata": {},
   "outputs": [
    {
     "name": "stdout",
     "output_type": "stream",
     "text": [
      "0.0\n"
     ]
    }
   ],
   "source": [
    "print(doc.sentiment)"
   ]
  },
  {
   "cell_type": "code",
   "execution_count": 14,
   "id": "b5a6c36a-a286-4682-a192-d5b0d6bb16f0",
   "metadata": {},
   "outputs": [
    {
     "ename": "TypeError",
     "evalue": "Vocab.get_vector() takes exactly one argument (0 given)",
     "output_type": "error",
     "traceback": [
      "\u001b[0;31m---------------------------------------------------------------------------\u001b[0m",
      "\u001b[0;31mTypeError\u001b[0m                                 Traceback (most recent call last)",
      "Cell \u001b[0;32mIn[14], line 1\u001b[0m\n\u001b[0;32m----> 1\u001b[0m \u001b[38;5;28mprint\u001b[39m(\u001b[43mdoc\u001b[49m\u001b[38;5;241;43m.\u001b[39;49m\u001b[43mvocab\u001b[49m\u001b[38;5;241;43m.\u001b[39;49m\u001b[43mget_vector\u001b[49m\u001b[43m(\u001b[49m\u001b[43m)\u001b[49m)\n",
      "\u001b[0;31mTypeError\u001b[0m: Vocab.get_vector() takes exactly one argument (0 given)"
     ]
    }
   ],
   "source": [
    "print(doc.vocab.get_vector())"
   ]
  },
  {
   "cell_type": "code",
   "execution_count": 7,
   "id": "81e29c9e-7203-45f9-9c6d-d04e926b0dea",
   "metadata": {
    "execution": {
     "iopub.execute_input": "2025-01-25T18:12:27.943883Z",
     "iopub.status.busy": "2025-01-25T18:12:27.943350Z",
     "iopub.status.idle": "2025-01-25T18:12:27.949197Z",
     "shell.execute_reply": "2025-01-25T18:12:27.947859Z",
     "shell.execute_reply.started": "2025-01-25T18:12:27.943850Z"
    }
   },
   "outputs": [
    {
     "name": "stderr",
     "output_type": "stream",
     "text": [
      "UsageError: Cell magic `%%chat` not found.\n"
     ]
    }
   ],
   "source": [
    "%%chat -m gpt-4-0613 "
   ]
  },
  {
   "cell_type": "code",
   "execution_count": null,
   "id": "d338682e-b34a-4eca-b22f-1bd61ade63f4",
   "metadata": {},
   "outputs": [],
   "source": []
  }
 ],
 "metadata": {
  "kernelspec": {
   "display_name": "Python 3 (ipykernel)",
   "language": "python",
   "name": "python3"
  },
  "language_info": {
   "codemirror_mode": {
    "name": "ipython",
    "version": 3
   },
   "file_extension": ".py",
   "mimetype": "text/x-python",
   "name": "python",
   "nbconvert_exporter": "python",
   "pygments_lexer": "ipython3",
   "version": "3.12.8"
  }
 },
 "nbformat": 4,
 "nbformat_minor": 5
}
